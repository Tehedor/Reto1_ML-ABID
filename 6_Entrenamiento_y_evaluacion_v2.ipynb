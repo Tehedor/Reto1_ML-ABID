{
 "cells": [
  {
   "cell_type": "markdown",
   "metadata": {},
   "source": [
    "<header style=\"width:100%;position:relative\">\n",
    "  <div style=\"width:80%;float:right;\">\n",
    "    <h1>Challenge Loan Approval Prediction in Pennsylvania</h1>\n",
    "    <h3>Entrenamiento y evaluación version 2</h3>\n",
    "    <h5>Grupo 2</h5>\n",
    "  </div>\n",
    "        <img style=\"width:15%;\" src=\"./images/logo.jpg\" alt=\"UPM\" />\n",
    "</header>"
   ]
  },
  {
   "cell_type": "markdown",
   "metadata": {},
   "source": [
    "# Índice"
   ]
  },
  {
   "cell_type": "markdown",
   "metadata": {},
   "source": [
    "1. [Introdución](#1.-Introduccion)\n",
    "2. [Importar librerias](#2.-Importar-librerias)\n",
    "3. [Variables globales y funciones auxiliares](#3.-Variables-globales-y-funciones-auxiliares)\n",
    "4. [Carga del dataframe](#4.-Carga-del-dataframe)\n",
    "5. [Selección de las características](#5.-Nueva-seleccion-de-las-caracteristicas)\n",
    "6. [Carga de los datos y división en entrenamiento y test](#6.-Carga-de-los-datos-y-division-en-entrenamiento-y-test)\n",
    "7. [Evaluación modelos optimizados](#7.-Evaluacion-modelos-optimizados)\n",
    "    * 7.1 [Clasificador Random Forest](#7.1-Clasificador-Random-Forest)\n",
    "    * 7.2 [Clasificador MLP](#7.2-Clasificador-MLP)\n",
    "    * 7.3 [Clasificador KNN](#7.3-Clasificador-KNN)\n",
    "    * 7.4 [Clasificador GBC](#7.4-Clasificador-GBC)\n",
    "    * 7.5 [Clasificador XGBoost](#7.5-Clasificador-XGBoost)\n",
    "8. [Exportar CSV](#8.-Exportar-CSV)\n",
    "    * 8.1 [Clasificador Random Forest](#8.1-Clasificador-Random-Forest)\n",
    "    * 8.2 [Clasificador MLP](#8.2-Clasificador-MLP)\n",
    "    * 8.3 [Clasificador KNN](#8.3-Clasificador-KNN)\n",
    "    * 8.4 [Clasificador GBC](#8.4-Clasificador-GBC)\n",
    "    * 8.5 [Clasificador XGBoost](#8.5-Clasificador-XGBoost)\n",
    "    * 8.6 [Ensemble de los modelos por votacion](#8.6-Ensemble-de-los-modelos-por-votacion)"
   ]
  },
  {
   "cell_type": "markdown",
   "metadata": {
    "jp-MarkdownHeadingCollapsed": true
   },
   "source": [
    "# 1. Introduccion"
   ]
  },
  {
   "cell_type": "markdown",
   "metadata": {},
   "source": [
    "Este *notebook* se ha creado debido a que, después de entrenar todos los modelos y realizar sus respectivas subidas a Kaggle, nos encontramos estancados sin posibilidad de mejora. Como solución, se modificó la característica *Bank_Categorized_cod* para agrupar los bancos de una manera diferente. Además, a partir de este nuevo *Bank_Categorized_cod*, se aplicó *One Hot Encoding* con el fin de mejorar el rendimiento de los clasificadores.\n",
    "\n",
    "Otra técnica que se modificó fue el uso de la PCA. Como se observó en las conclusiones del preprocesado, al utilizar PCA estábamos perdiendo algo de información. Por ello, en este notebook se optó por no emplearla y, en su lugar, intentar reducir la dimensionalidad de manera manual.\n",
    "\n",
    "Respecto al *notebook* en sí, se da por supuesto el análisis exhaustivo realizado en *5_Entrenamiento_y_evaluacion_modelos.ipynb*, enfocándose en un análisis más directo en este *notebook*. Solamente se ha evaluado la matriz de confusión, el informe de clasificación, la curva de ROC y la AUC score. Además de que se ha evaluado directamente sobre el modelo optimizado.\n",
    "\n",
    "Respecto a optimización de los modelos, se re-ejecutaron al tener distinto preprocesado y nuevas features. Además se re-ajustaron los hiperparámetros del GridSearch de cada modelo a la nueva situación. Además se evaluó solo con un cross validation igual a 3 para reducir los timepos de ejecución. También cabe mencionar que se decidio excluir del análisis LinearSVC por sus malos resultados, y se incluyo XGBoost en su lugar (la cual desconociamos al inicio de este trabajo)."
   ]
  },
  {
   "cell_type": "markdown",
   "metadata": {
    "jp-MarkdownHeadingCollapsed": true
   },
   "source": [
    "# 2. Importar librerias"
   ]
  },
  {
   "cell_type": "code",
   "execution_count": 7,
   "metadata": {
    "vscode": {
     "languageId": "plaintext"
    }
   },
   "outputs": [
    {
     "name": "stdout",
     "output_type": "stream",
     "text": [
      "Todas las librerias fueron correctamente importadas.\n"
     ]
    }
   ],
   "source": [
    "# General import and load data\n",
    "import pandas as pd\n",
    "import numpy as np\n",
    "\n",
    "# Resampling\n",
    "from imblearn.under_sampling import RandomUnderSampler\n",
    "from imblearn.over_sampling import SMOTE\n",
    "\n",
    "# Preprocessing\n",
    "from sklearn.compose import ColumnTransformer\n",
    "from sklearn.decomposition import PCA\n",
    "from sklearn.preprocessing import StandardScaler\n",
    "\n",
    "# Splitting\n",
    "from sklearn.model_selection import train_test_split\n",
    "\n",
    "# Estimators\n",
    "from xgboost import XGBClassifier\n",
    "from sklearn.neural_network import MLPClassifier\n",
    "from sklearn.neighbors import KNeighborsClassifier\n",
    "from sklearn.ensemble import RandomForestClassifier, GradientBoostingClassifier, VotingClassifier\n",
    "\n",
    "# Evaluation\n",
    "from sklearn.metrics import accuracy_score, confusion_matrix, classification_report\n",
    "from sklearn.metrics import make_scorer, f1_score, recall_score, roc_curve, roc_auc_score\n",
    "\n",
    "# Optimization\n",
    "from sklearn.model_selection import GridSearchCV, PredefinedSplit\n",
    "\n",
    "# Visualization\n",
    "import matplotlib.pyplot as plt\n",
    "\n",
    "# Time optimization\n",
    "import time\n",
    "\n",
    "print(\"Todas las librerias fueron correctamente importadas.\")"
   ]
  },
  {
   "cell_type": "markdown",
   "metadata": {
    "jp-MarkdownHeadingCollapsed": true
   },
   "source": [
    "# 3. Variables globales y funciones auxiliares"
   ]
  },
  {
   "cell_type": "markdown",
   "metadata": {},
   "source": [
    "Se fija un seed para todo el documento para fijar la aleatoriedad y así obtener resultados replicables."
   ]
  },
  {
   "cell_type": "code",
   "execution_count": 10,
   "metadata": {},
   "outputs": [],
   "source": [
    "seed = 42"
   ]
  },
  {
   "cell_type": "markdown",
   "metadata": {},
   "source": [
    "Función utilizado para evaluar los distintos umbrales en la curva de ROC."
   ]
  },
  {
   "cell_type": "code",
   "execution_count": 12,
   "metadata": {},
   "outputs": [],
   "source": [
    "def evaluate_threshold(threshold):\n",
    "    print('Sensitivity:', tpr[thresholds > threshold][-1])\n",
    "    print('Recall:', 1 - fpr[thresholds > threshold][-1])"
   ]
  },
  {
   "cell_type": "markdown",
   "metadata": {},
   "source": [
    "Función utilizada para estandarizar los datos en función del caso de preprocesado escogido."
   ]
  },
  {
   "cell_type": "code",
   "execution_count": 14,
   "metadata": {},
   "outputs": [],
   "source": [
    "def standard_data(case, X):\n",
    "    \n",
    "    if case in {1, 3, 5}:\n",
    "        prep = StandardScaler().fit(X)\n",
    "        X_scaled = prep.transform(X)\n",
    "        \n",
    "    elif case in {2, 4, 6}:\n",
    "        prep = ColumnTransformer([\n",
    "            ('numericas', StandardScaler(), numeric_vars)\n",
    "        ], remainder='passthrough').fit(X) \n",
    "        X_scaled = prep.transform(X) \n",
    "        \n",
    "    else:\n",
    "        raise ValueError(\"El valor de 'case' no es válido. Debe estar entre 1 y 6.\")\n",
    "    \n",
    "    return X_scaled, prep"
   ]
  },
  {
   "cell_type": "markdown",
   "metadata": {},
   "source": [
    "Función utilizada para muestrear los datos en función del caso de preprocesado escogido."
   ]
  },
  {
   "cell_type": "code",
   "execution_count": 16,
   "metadata": {},
   "outputs": [],
   "source": [
    "def resample_data(case, X, y, strategy_under, strategy_over, neighbors=5):\n",
    "    \n",
    "    if case in {1, 2}:\n",
    "        ovsamp = SMOTE(sampling_strategy=strategy_over, k_neighbors=neighbors, random_state=seed)\n",
    "        X_resampled, y_resampled = ovsamp.fit_resample(X, y)\n",
    "        \n",
    "    elif case in {3, 4}:\n",
    "        unsamp = RandomUnderSampler(sampling_strategy=strategy_under, random_state=seed)\n",
    "        X_resampled, y_resampled = unsamp.fit_resample(X, y)\n",
    "        \n",
    "    elif case in {5, 6}:\n",
    "        unsamp = RandomUnderSampler(sampling_strategy=strategy_under, random_state=seed)\n",
    "        X_undersampled, y_undersampled = unsamp.fit_resample(X, y)\n",
    "        ovsamp = SMOTE(sampling_strategy=strategy_over, k_neighbors=neighbors, random_state=seed)\n",
    "        X_resampled, y_resampled = ovsamp.fit_resample(X_undersampled, y_undersampled)\n",
    "        \n",
    "    else:\n",
    "        raise ValueError(\"El valor de 'case' no es válido. Debe estar entre 1 y 6.\")\n",
    "    \n",
    "    return X_resampled, y_resampled"
   ]
  },
  {
   "cell_type": "markdown",
   "metadata": {
    "jp-MarkdownHeadingCollapsed": true
   },
   "source": [
    "# 4. Carga del dataframe"
   ]
  },
  {
   "cell_type": "markdown",
   "metadata": {},
   "source": [
    "Se cargan los datos de la ruta *formated/train_exportado.csv*, los cuales son los datos ya procesados por uno de nuestros compañeros."
   ]
  },
  {
   "cell_type": "code",
   "execution_count": 19,
   "metadata": {},
   "outputs": [
    {
     "name": "stdout",
     "output_type": "stream",
     "text": [
      "Datos cargados correctamente\n",
      "\n"
     ]
    }
   ],
   "source": [
    "url = \"formated/train_exportado_v2.csv\"\n",
    "df = pd.read_csv(url)\n",
    "\n",
    "print(\"Datos cargados correctamente\\n\")"
   ]
  },
  {
   "cell_type": "markdown",
   "metadata": {},
   "source": [
    "También cargamos el test que debemos predecir para Kaggle de la ruta *formated/test_exportado.csv*."
   ]
  },
  {
   "cell_type": "code",
   "execution_count": 21,
   "metadata": {},
   "outputs": [
    {
     "name": "stdout",
     "output_type": "stream",
     "text": [
      "Test cargado correctamente\n",
      "\n"
     ]
    }
   ],
   "source": [
    "url = \"formated/test_exportado_v2.csv\"\n",
    "df_test = pd.read_csv(url)\n",
    "\n",
    "print(\"Test cargado correctamente\\n\")"
   ]
  },
  {
   "cell_type": "markdown",
   "metadata": {
    "jp-MarkdownHeadingCollapsed": true
   },
   "source": [
    "# 5. Nueva seleccion de las caracteristicas"
   ]
  },
  {
   "cell_type": "markdown",
   "metadata": {},
   "source": [
    "Al eliminar la PCA se busco reducir la dimensionalidad manualmente. Para ello, se realizaron pruebas rápidas de los resultados tanto en local, observando el informe de clasificación, como sobre Kaggle, viendo el score obtenido.\n",
    "\n",
    "Además se buscó eliminar aquellas características cuya información se encontrará redundada, es decir, durante la limpieza de los datos se crearon nuevas caracteristicas a partir de otras mediante diferentes transformaciones. Esto resultaba que si observabamos la matriz de correlaciones estuviesen muy relacionadas linealmente y que tuviesen una correlación muy similar con respecto *Accept*.\n",
    "\n",
    "En definitiva se eliminaron las siguientes características:\n",
    "* CreateJob: información ya incluida en CreateJob_Binary, en la que nos fijamos solamente si se crea o no empleo y no tanto en la cantidad.\n",
    "* RetainedJob: información ya incluida en RetainedJob_Binary, en la que nos fijamos solamente si se crea o no empleo y no tanto en la cantidad.\n",
    "* Bank_Categorized_cod: información ya incluida tras el One Hot Encoding.\n",
    "* BankState_Categorized_cod: información ya incluida tras el One Hot Encoding.\n",
    "* ApprovalFY_Grouped_cod: no se obtuvo una mejora significativa respecto a la característica base numerica, ApprovalFY.\n",
    "* NoEmp_Grouped_cod: no se obtuvo una mejora significativa respecto a la característica base numerica, NoEmp.\n",
    "* DisbursementGross_Grouped_cod: no se obtuvo una mejora significativa respecto a la característica base numerica, DisbursementGross."
   ]
  },
  {
   "cell_type": "code",
   "execution_count": 24,
   "metadata": {},
   "outputs": [],
   "source": [
    "selected_features = [\n",
    "    # Caracteristicas numericas\n",
    "    'ApprovalFY', 'NoEmp', 'DisbursementGross',\n",
    "\n",
    "    # Caracteristicas categoricas binarias\n",
    "    'NewExist_Binary', 'Franchise_Binary', 'UrbanRural_Binary',\n",
    "    'RevLineCr_Binary', 'LowDoc_Binary', 'CreateJob_Binary',\n",
    "    'RetainedJob_Binary',\n",
    "    \n",
    "    # Características temporales\n",
    "    'ApprovalDate_quarter', 'DisbursementDate_quarter', \n",
    "\n",
    "    # Características relacionadas con Bank tras un One Hot Encoding\n",
    "    'Bank_CAPITAL ONE NATL ASSOC', 'Bank_CITIZENS BANK NATL ASSOC',\n",
    "    'Bank_COMMUNITY CAP. DEVEL CORP', 'Bank_FIFTH THIRD BANK',\n",
    "    'Bank_FIRSTMERIT BANK, N.A.', 'Bank_HAMILTON CNTY DEVEL COMPANY IN',\n",
    "    'Bank_JPMORGAN CHASE BANK NATL ASSOC', 'Bank_KEYBANK NATIONAL ASSOCIATION', \n",
    "    'Bank_PNC BANK, NATIONAL ASSOCIATION', 'Bank_THE HUNTINGTON NATIONAL BANK',\n",
    "    'Bank_U.S. BANK NATIONAL ASSOCIATION', 'Bank_WELLS FARGO BANK NATL ASSOC', \n",
    "    'Bank_Otros',\n",
    "\n",
    "    # Características relacionadas con BankState tras un One Hot Encoding\n",
    "    'BankState_CA', 'BankState_DE', 'BankState_IL', 'BankState_IN',\n",
    "    'BankState_OH', 'BankState_Otros', 'BankState_RI', \n",
    "    'BankState_SD', 'BankState_VA',\n",
    "]"
   ]
  },
  {
   "cell_type": "markdown",
   "metadata": {},
   "source": [
    "De las cuales, numéricas son las siguientes:"
   ]
  },
  {
   "cell_type": "code",
   "execution_count": 26,
   "metadata": {},
   "outputs": [],
   "source": [
    "numeric_vars = ['ApprovalFY', 'NoEmp', 'DisbursementGross']"
   ]
  },
  {
   "cell_type": "markdown",
   "metadata": {
    "jp-MarkdownHeadingCollapsed": true
   },
   "source": [
    "# 6. Carga de los datos y division en entrenamiento y test"
   ]
  },
  {
   "cell_type": "markdown",
   "metadata": {},
   "source": [
    "Cargamos las caracteristicas seleccionadas en la variable X y el objetivo *Accept* en la variable y."
   ]
  },
  {
   "cell_type": "code",
   "execution_count": 29,
   "metadata": {},
   "outputs": [],
   "source": [
    "X = df[selected_features] \n",
    "y = df['Accept'].values"
   ]
  },
  {
   "cell_type": "markdown",
   "metadata": {},
   "source": [
    "Se separa ya en entrenamiento y test para no falsear los datos del test al realizar el balanceo."
   ]
  },
  {
   "cell_type": "code",
   "execution_count": 31,
   "metadata": {},
   "outputs": [],
   "source": [
    "X_train, X_test, y_train, y_test = train_test_split(X, y, test_size=0.2, random_state=seed)"
   ]
  },
  {
   "cell_type": "markdown",
   "metadata": {},
   "source": [
    "A la hora de subir el modelo a Kaggle, ya se nos da dividido el entrenamiento y el test. Por ello, se utilizarán todos los datos tratados como entrenamiento (aunque también se le aplicará el mejor caso de preprocesado para cada modelo)."
   ]
  },
  {
   "cell_type": "code",
   "execution_count": 33,
   "metadata": {},
   "outputs": [],
   "source": [
    "X_train_final = X\n",
    "y_train_final = y\n",
    "\n",
    "X_test_final = df_test[selected_features] "
   ]
  },
  {
   "cell_type": "markdown",
   "metadata": {
    "jp-MarkdownHeadingCollapsed": true
   },
   "source": [
    "# 7. Evaluacion modelos optimizados"
   ]
  },
  {
   "cell_type": "markdown",
   "metadata": {},
   "source": [
    "Como ocurría en el anterior *notebook* se dejan las celdas de optimización en formato *Raw* debido a sus largas duraciones de ejecución."
   ]
  },
  {
   "cell_type": "markdown",
   "metadata": {
    "jp-MarkdownHeadingCollapsed": true
   },
   "source": [
    "## 7.1 Clasificador Random Forest"
   ]
  },
  {
   "cell_type": "markdown",
   "metadata": {
    "jp-MarkdownHeadingCollapsed": true
   },
   "source": [
    "### 7.1.1 Seleccion del caso de preprocesado"
   ]
  },
  {
   "cell_type": "markdown",
   "metadata": {},
   "source": [
    "Seleccion del caso de preprocesado."
   ]
  },
  {
   "cell_type": "code",
   "execution_count": 39,
   "metadata": {},
   "outputs": [],
   "source": [
    "# case - caso de preprocesado seleccionado, valores posibles: 1, 2, 3, 4, 5, 6\n",
    "case = 4"
   ]
  },
  {
   "cell_type": "markdown",
   "metadata": {},
   "source": [
    "Hiperparametros base para cada caso."
   ]
  },
  {
   "cell_type": "code",
   "execution_count": 41,
   "metadata": {},
   "outputs": [],
   "source": [
    "if case in {1, 2}:\n",
    "    strategy_under = 0\n",
    "    strategy_over = 1\n",
    "    neighbors = 5\n",
    "    \n",
    "elif case in {3, 4}:\n",
    "    strategy_under = 0.8\n",
    "    strategy_over = 0\n",
    "    neighbors = 0\n",
    "    \n",
    "elif case in {5, 6}:\n",
    "    strategy_under = 0.25\n",
    "    strategy_over = 0.5\n",
    "    neighbors = 5"
   ]
  },
  {
   "cell_type": "markdown",
   "metadata": {},
   "source": [
    "Se estandarizan los datos en función del caso."
   ]
  },
  {
   "cell_type": "code",
   "execution_count": 43,
   "metadata": {},
   "outputs": [],
   "source": [
    "X_scaled, prep = standard_data(case, X_train)"
   ]
  },
  {
   "cell_type": "markdown",
   "metadata": {},
   "source": [
    "Se muestrean los datos en función del caso."
   ]
  },
  {
   "cell_type": "code",
   "execution_count": 45,
   "metadata": {},
   "outputs": [],
   "source": [
    "X_resampled, y_resampled = resample_data(case, X_scaled, y_train, strategy_under, strategy_over, neighbors)"
   ]
  },
  {
   "cell_type": "markdown",
   "metadata": {},
   "source": [
    "Al igual que se ha realizado distintos preprocesados al entrenamiento, hay que realizarlos al conjunto de test para obtener resultados coherentes."
   ]
  },
  {
   "cell_type": "code",
   "execution_count": 47,
   "metadata": {},
   "outputs": [],
   "source": [
    "X_test_scaled = prep.transform(X_test)"
   ]
  },
  {
   "cell_type": "markdown",
   "metadata": {
    "jp-MarkdownHeadingCollapsed": true
   },
   "source": [
    "### 7.1.2 Optimizacion"
   ]
  },
  {
   "cell_type": "markdown",
   "metadata": {},
   "source": [
    "Se volvió a evaluar la profundidad media de los arboles y vimos que no existía una muestra significativa, por ello el únco hiperparámetro que hacia falta modificar era *max_features*, al haber pasado de las 17 componentes u 11 componentes (dependiendo del caso) tras PCA a las 32 características actuales."
   ]
  },
  {
   "cell_type": "raw",
   "metadata": {
    "vscode": {
     "languageId": "plaintext"
    }
   },
   "source": [
    "optm_Forest = RandomForestClassifier(n_jobs=-1, random_state=seed)\n",
    "\n",
    "param_grid = {\n",
    "    'n_estimators': [150, 200, 250, 300],\n",
    "    'criterion': ['gini', 'entropy', 'log_loss'],\n",
    "    'max_depth': [25, 35],\n",
    "    'min_samples_split': [2, 5],\n",
    "    'min_samples_leaf': [2, 4],\n",
    "    'max_features': [\"sqrt\", 8, 10],\n",
    "    'class_weight': ['balanced', 'balanced_subsample']\n",
    "}\n",
    "\n",
    "grid_search = GridSearchCV(optm_Forest, param_grid=param_grid, scoring=make_scorer(f1_score, average='weighted'), cv=3, n_jobs=-1)\n",
    "\n",
    "inicio = time.time()\n",
    "grid_search.fit(X_resampled, y_resampled)\n",
    "fin = time.time()"
   ]
  },
  {
   "cell_type": "markdown",
   "metadata": {},
   "source": [
    "Se calcula el tiempo que ha tardado en minutos."
   ]
  },
  {
   "cell_type": "raw",
   "metadata": {},
   "source": [
    "tiempo_total = (fin - inicio) / 60\n",
    "print(f\"La celda tardó {tiempo_total} minutos en ejecutarse.\")"
   ]
  },
  {
   "cell_type": "markdown",
   "metadata": {},
   "source": [
    "Se escoge el mejor parámetro y su  precisión asociada."
   ]
  },
  {
   "cell_type": "raw",
   "metadata": {
    "vscode": {
     "languageId": "plaintext"
    }
   },
   "source": [
    "print(\"Mejores parámetros: \", grid_search.best_params_)\n",
    "print(\"Mejor score: \", grid_search.best_score_)"
   ]
  },
  {
   "cell_type": "markdown",
   "metadata": {},
   "source": [
    "Observamos los mejores 10 casos para analizar varias posibilidades."
   ]
  },
  {
   "cell_type": "raw",
   "metadata": {},
   "source": [
    "results_df = pd.DataFrame(grid_search.cv_results_)"
   ]
  },
  {
   "cell_type": "raw",
   "metadata": {},
   "source": [
    "top_10_models = results_df.nlargest(10, \"mean_test_score\")\n",
    "\n",
    "print(\"\\nLos 10 mejores modelos:\")\n",
    "for index, row in top_10_models.iterrows():\n",
    "    print(\"\\nModelo:\")\n",
    "    print(f\"Parámetros: {row['params']}\")\n",
    "    print(f\"Puntuación media de prueba: {row['mean_test_score']}\")"
   ]
  },
  {
   "cell_type": "markdown",
   "metadata": {
    "jp-MarkdownHeadingCollapsed": true
   },
   "source": [
    "### 7.1.3 Entrenamiento y evaluacion con hiperparametros optimizados"
   ]
  },
  {
   "cell_type": "markdown",
   "metadata": {
    "jp-MarkdownHeadingCollapsed": true
   },
   "source": [
    "#### - Definicion y entrenamiento"
   ]
  },
  {
   "cell_type": "markdown",
   "metadata": {},
   "source": [
    "Definimos los mejores parámetros."
   ]
  },
  {
   "cell_type": "code",
   "execution_count": 56,
   "metadata": {
    "vscode": {
     "languageId": "plaintext"
    }
   },
   "outputs": [],
   "source": [
    "params_final_Forest = {\n",
    "    'class_weight': 'balanced_subsample',\n",
    "    'criterion': 'log_loss',\n",
    "    'max_depth': 25,\n",
    "    'max_features': 8,\n",
    "    'min_samples_leaf': 2,\n",
    "    'min_samples_split': 2,\n",
    "    'n_estimators': 200,\n",
    "    'n_jobs': -1,\n",
    "    'random_state': seed\n",
    "}"
   ]
  },
  {
   "cell_type": "markdown",
   "metadata": {},
   "source": [
    "Definimos el modelo desagregando el diccionario."
   ]
  },
  {
   "cell_type": "code",
   "execution_count": 58,
   "metadata": {},
   "outputs": [],
   "source": [
    "final_Forest = RandomForestClassifier(**params_final_Forest)"
   ]
  },
  {
   "cell_type": "markdown",
   "metadata": {},
   "source": [
    "Entrenamos el modelo."
   ]
  },
  {
   "cell_type": "code",
   "execution_count": 60,
   "metadata": {
    "vscode": {
     "languageId": "plaintext"
    }
   },
   "outputs": [],
   "source": [
    "final_Forest.fit(X_resampled, y_resampled)\n",
    "\n",
    "predicted_For_opt = final_Forest.predict(X_test_scaled)\n",
    "expected_For_opt = y_test"
   ]
  },
  {
   "cell_type": "markdown",
   "metadata": {
    "jp-MarkdownHeadingCollapsed": true
   },
   "source": [
    "#### - Matriz de confusion y F-score"
   ]
  },
  {
   "cell_type": "markdown",
   "metadata": {},
   "source": [
    "Se obtiene la matriz de confusión y el informe de clasificación."
   ]
  },
  {
   "cell_type": "code",
   "execution_count": 63,
   "metadata": {},
   "outputs": [
    {
     "name": "stdout",
     "output_type": "stream",
     "text": [
      "[[ 535  215]\n",
      " [1048 2717]]\n"
     ]
    }
   ],
   "source": [
    "print(confusion_matrix(expected_For_opt, predicted_For_opt))"
   ]
  },
  {
   "cell_type": "code",
   "execution_count": 64,
   "metadata": {
    "vscode": {
     "languageId": "plaintext"
    }
   },
   "outputs": [
    {
     "name": "stdout",
     "output_type": "stream",
     "text": [
      "              precision    recall  f1-score   support\n",
      "\n",
      "           0       0.34      0.71      0.46       750\n",
      "           1       0.93      0.72      0.81      3765\n",
      "\n",
      "    accuracy                           0.72      4515\n",
      "   macro avg       0.63      0.72      0.64      4515\n",
      "weighted avg       0.83      0.72      0.75      4515\n",
      "\n"
     ]
    }
   ],
   "source": [
    "print(classification_report(expected_For_opt, predicted_For_opt))"
   ]
  },
  {
   "cell_type": "markdown",
   "metadata": {
    "jp-MarkdownHeadingCollapsed": true
   },
   "source": [
    "#### - ROC y AUC"
   ]
  },
  {
   "cell_type": "markdown",
   "metadata": {},
   "source": [
    "La distribución de probabilidades de los 0s y 1s esta más polarizada permitiendo ajustar mejor el threshold. Además se obtiene una AUC score ligeramente superior a 0.71, pasando de una calificación *D* a una calificación *C*."
   ]
  },
  {
   "cell_type": "code",
   "execution_count": 67,
   "metadata": {
    "vscode": {
     "languageId": "plaintext"
    }
   },
   "outputs": [
    {
     "data": {
      "image/png": "[encoded data removed]",
      "text/plain": [
       "<Figure size 640x480 with 1 Axes>"
      ]
     },
     "metadata": {},
     "output_type": "display_data"
    }
   ],
   "source": [
    "y_pred_prob_Forest = final_Forest.predict_proba(X_test_scaled)[:,1]\n",
    "fpr, tpr, thresholds = roc_curve(y_test, y_pred_prob_Forest)\n",
    "plt.plot(fpr, tpr)\n",
    "plt.xlim([0.0, 1.0])\n",
    "plt.ylim([0.0, 1.0])\n",
    "plt.title('Curva ROC')\n",
    "plt.xlabel('Ratio de FP (1 - Recall)')\n",
    "plt.ylabel('Ratio TP (Sensitivity)')\n",
    "plt.grid(True)\n",
    "plt.show()"
   ]
  },
  {
   "cell_type": "code",
   "execution_count": 68,
   "metadata": {
    "vscode": {
     "languageId": "plaintext"
    }
   },
   "outputs": [
    {
     "data": {
      "text/plain": [
       "array([       inf, 0.99986182, 0.99979485, ..., 0.03557262, 0.03473928,\n",
       "       0.01377344])"
      ]
     },
     "execution_count": 68,
     "metadata": {},
     "output_type": "execute_result"
    }
   ],
   "source": [
    "thresholds"
   ]
  },
  {
   "cell_type": "code",
   "execution_count": 69,
   "metadata": {
    "vscode": {
     "languageId": "plaintext"
    }
   },
   "outputs": [
    {
     "data": {
      "text/plain": [
       "array([<Axes: title={'center': '0'}>, <Axes: title={'center': '1'}>],\n",
       "      dtype=object)"
      ]
     },
     "execution_count": 69,
     "metadata": {},
     "output_type": "execute_result"
    },
    {
     "data": {
      "image/png": "[encoded data removed]",
      "text/plain": [
       "<Figure size 640x480 with 2 Axes>"
      ]
     },
     "metadata": {},
     "output_type": "display_data"
    }
   ],
   "source": [
    "dprob = pd.DataFrame(data = {'probability':y_pred_prob_Forest, 'actual':y_test})\n",
    "dprob.probability.hist(by=dprob.actual, sharex=True, sharey=True)"
   ]
  },
  {
   "cell_type": "code",
   "execution_count": 70,
   "metadata": {
    "vscode": {
     "languageId": "plaintext"
    }
   },
   "outputs": [
    {
     "name": "stdout",
     "output_type": "stream",
     "text": [
      "Sensitivity: 0.9104913678618858\n",
      "Recall: 0.3813333333333333\n"
     ]
    }
   ],
   "source": [
    "op_thres_Random = 0.3\n",
    "\n",
    "evaluate_threshold(op_thres_Random)"
   ]
  },
  {
   "cell_type": "code",
   "execution_count": 71,
   "metadata": {},
   "outputs": [],
   "source": [
    "probs_For_opt = final_Forest.predict_proba(X_test_scaled)[:, 1]  \n",
    "pred_thres_For_opt = (probs_For_opt >= op_thres_Random).astype(int) "
   ]
  },
  {
   "cell_type": "code",
   "execution_count": 72,
   "metadata": {},
   "outputs": [
    {
     "name": "stdout",
     "output_type": "stream",
     "text": [
      "[[ 285  465]\n",
      " [ 337 3428]]\n"
     ]
    }
   ],
   "source": [
    "print(confusion_matrix(expected_For_opt, pred_thres_For_opt))"
   ]
  },
  {
   "cell_type": "code",
   "execution_count": 73,
   "metadata": {},
   "outputs": [
    {
     "name": "stdout",
     "output_type": "stream",
     "text": [
      "              precision    recall  f1-score   support\n",
      "\n",
      "           0       0.46      0.38      0.42       750\n",
      "           1       0.88      0.91      0.90      3765\n",
      "\n",
      "    accuracy                           0.82      4515\n",
      "   macro avg       0.67      0.65      0.66      4515\n",
      "weighted avg       0.81      0.82      0.82      4515\n",
      "\n"
     ]
    }
   ],
   "source": [
    "print(classification_report(expected_For_opt, pred_thres_For_opt))"
   ]
  },
  {
   "cell_type": "code",
   "execution_count": 74,
   "metadata": {
    "vscode": {
     "languageId": "plaintext"
    }
   },
   "outputs": [
    {
     "name": "stdout",
     "output_type": "stream",
     "text": [
      "0.7174900398406374\n"
     ]
    }
   ],
   "source": [
    "print(roc_auc_score(expected_For_opt, predicted_For_opt))"
   ]
  },
  {
   "cell_type": "markdown",
   "metadata": {
    "jp-MarkdownHeadingCollapsed": true
   },
   "source": [
    "## 7.2 Clasificador MLP"
   ]
  },
  {
   "cell_type": "markdown",
   "metadata": {
    "jp-MarkdownHeadingCollapsed": true
   },
   "source": [
    "### 7.2.1 Seleccion del caso de preprocesado"
   ]
  },
  {
   "cell_type": "markdown",
   "metadata": {},
   "source": [
    "Seleccion del caso de preprocesado."
   ]
  },
  {
   "cell_type": "code",
   "execution_count": 78,
   "metadata": {},
   "outputs": [],
   "source": [
    "# case - caso de preprocesado seleccionado, valores posibles: 1, 2, 3, 4, 5, 6\n",
    "case = 6"
   ]
  },
  {
   "cell_type": "markdown",
   "metadata": {},
   "source": [
    "Hiperparametros base para cada caso."
   ]
  },
  {
   "cell_type": "code",
   "execution_count": 80,
   "metadata": {},
   "outputs": [],
   "source": [
    "if case in {1, 2}:\n",
    "    strategy_under = 0\n",
    "    strategy_over = 1\n",
    "    neighbors = 5\n",
    "    \n",
    "elif case in {3, 4}:\n",
    "    strategy_under = 0.8\n",
    "    strategy_over = 0\n",
    "    neighbors = 0\n",
    "    \n",
    "elif case in {5, 6}:\n",
    "    strategy_under = 0.25\n",
    "    strategy_over = 0.5\n",
    "    neighbors = 5"
   ]
  },
  {
   "cell_type": "markdown",
   "metadata": {},
   "source": [
    "Se estandarizan los datos en función del caso."
   ]
  },
  {
   "cell_type": "code",
   "execution_count": 82,
   "metadata": {},
   "outputs": [],
   "source": [
    "X_scaled, prep = standard_data(case, X_train)"
   ]
  },
  {
   "cell_type": "markdown",
   "metadata": {},
   "source": [
    "Se muestrean los datos en función del caso."
   ]
  },
  {
   "cell_type": "code",
   "execution_count": 84,
   "metadata": {},
   "outputs": [],
   "source": [
    "X_resampled, y_resampled = resample_data(case, X_scaled, y_train, strategy_under, strategy_over, neighbors)"
   ]
  },
  {
   "cell_type": "markdown",
   "metadata": {},
   "source": [
    "Al igual que se ha realizado distintos preprocesados al entrenamiento, hay que realizarlos al conjunto de test para obtener resultados coherentes."
   ]
  },
  {
   "cell_type": "code",
   "execution_count": 86,
   "metadata": {},
   "outputs": [],
   "source": [
    "X_test_scaled = prep.transform(X_test)"
   ]
  },
  {
   "cell_type": "markdown",
   "metadata": {
    "jp-MarkdownHeadingCollapsed": true
   },
   "source": [
    "### 7.2.2 Optimizacion"
   ]
  },
  {
   "cell_type": "markdown",
   "metadata": {},
   "source": [
    "No se vio necesario modificar los hiperparámetros de este caso, simplemente se eliminaron algunas posibilidades entre las *hidden_layers* al ver que no terminaban de funcionar en el anterior *notebook*."
   ]
  },
  {
   "cell_type": "raw",
   "metadata": {
    "vscode": {
     "languageId": "plaintext"
    }
   },
   "source": [
    "X_total = np.concatenate([X_resampled, X_test_scaled])\n",
    "y_total = np.concatenate([y_resampled, y_test])\n",
    "\n",
    "fold = np.array([-1] * len(X_resampled) + [0] * len(X_test_scaled))\n",
    "\n",
    "ps = PredefinedSplit(fold)\n",
    "\n",
    "optm_Mlp = MLPClassifier(max_iter=1000, early_stopping=True, validation_fraction=0.15, random_state=seed)\n",
    "                         \n",
    "param_grid = {\n",
    "    'hidden_layer_sizes': [(32, 64, 32), (64, 128, 64), (100, 50, 25), (64, 128, 64, 32)],\n",
    "    'activation': ['relu', 'tanh'],\n",
    "    'solver': ['adam', 'sgd'],\n",
    "    'alpha': [0.0001, 0.001, 0.01],\n",
    "    'batch_size': [200, 400, 600, 'auto'],\n",
    "    'learning_rate': ['constant', 'invscaling', 'adaptive'],\n",
    "    'learning_rate_init': [0.001, 0.01]\n",
    "}\n",
    "\n",
    "grid_search = GridSearchCV(optm_Mlp, param_grid=param_grid, scoring=make_scorer(f1_score, average='weighted'), cv=ps, n_jobs=-1)\n",
    "\n",
    "inicio = time.time()\n",
    "grid_search.fit(X_total, y_total)\n",
    "fin = time.time()"
   ]
  },
  {
   "cell_type": "markdown",
   "metadata": {},
   "source": [
    "Se calcula el tiempo que ha tardado en minutos."
   ]
  },
  {
   "cell_type": "raw",
   "metadata": {},
   "source": [
    "tiempo_total = (fin - inicio) / 60\n",
    "print(f\"La celda tardó {tiempo_total} minutos en ejecutarse.\")"
   ]
  },
  {
   "cell_type": "markdown",
   "metadata": {},
   "source": [
    "Se escoge el mejor parámetro y su  precisión asociada."
   ]
  },
  {
   "cell_type": "raw",
   "metadata": {
    "vscode": {
     "languageId": "plaintext"
    }
   },
   "source": [
    "print(\"Mejores parámetros: \", grid_search.best_params_)\n",
    "print(\"Mejor score: \", grid_search.best_score_)"
   ]
  },
  {
   "cell_type": "markdown",
   "metadata": {},
   "source": [
    "Observamos los mejores 10 casos para analizar varias posibilidades."
   ]
  },
  {
   "cell_type": "raw",
   "metadata": {},
   "source": [
    "results_df = pd.DataFrame(grid_search.cv_results_)"
   ]
  },
  {
   "cell_type": "raw",
   "metadata": {},
   "source": [
    "top_10_models = results_df.nlargest(10, \"mean_test_score\")\n",
    "\n",
    "print(\"\\nLos 10 mejores modelos:\")\n",
    "for index, row in top_10_models.iterrows():\n",
    "    print(\"\\nModelo:\")\n",
    "    print(f\"Parámetros: {row['params']}\")\n",
    "    print(f\"Puntuación media de prueba: {row['mean_test_score']}\")"
   ]
  },
  {
   "cell_type": "markdown",
   "metadata": {
    "jp-MarkdownHeadingCollapsed": true
   },
   "source": [
    "### 7.2.3 Entrenamiento y evaluacion con hiperparametros optimizados"
   ]
  },
  {
   "cell_type": "markdown",
   "metadata": {
    "jp-MarkdownHeadingCollapsed": true
   },
   "source": [
    "#### - Definicion y entrenamiento"
   ]
  },
  {
   "cell_type": "markdown",
   "metadata": {},
   "source": [
    "Definimos los mejores parámetros."
   ]
  },
  {
   "cell_type": "code",
   "execution_count": 95,
   "metadata": {
    "vscode": {
     "languageId": "plaintext"
    }
   },
   "outputs": [],
   "source": [
    "params_final_Mlp = {\n",
    "    'activation': 'tanh', \n",
    "    'alpha': 0.01, \n",
    "    'batch_size': 600,\n",
    "    'hidden_layer_sizes': (100, 50, 25), \n",
    "    'learning_rate': 'constant', \n",
    "    'learning_rate_init': 0.01, \n",
    "    'solver': 'adam',\n",
    "    'max_iter': 1000, \n",
    "    'early_stopping': True, \n",
    "    'validation_fraction': 0.15, \n",
    "    'random_state': seed\n",
    "}"
   ]
  },
  {
   "cell_type": "markdown",
   "metadata": {},
   "source": [
    "Definimos el modelo desagregando el diccionario."
   ]
  },
  {
   "cell_type": "code",
   "execution_count": 97,
   "metadata": {},
   "outputs": [],
   "source": [
    "final_Mlp = MLPClassifier(**params_final_Mlp)"
   ]
  },
  {
   "cell_type": "markdown",
   "metadata": {},
   "source": [
    "Entrenamos el modelo."
   ]
  },
  {
   "cell_type": "code",
   "execution_count": 99,
   "metadata": {
    "vscode": {
     "languageId": "plaintext"
    }
   },
   "outputs": [],
   "source": [
    "final_Mlp.fit(X_resampled, y_resampled)\n",
    "\n",
    "predicted_MLP_opt = final_Mlp.predict(X_test_scaled)\n",
    "expected_MLP_opt = y_test"
   ]
  },
  {
   "cell_type": "markdown",
   "metadata": {
    "jp-MarkdownHeadingCollapsed": true
   },
   "source": [
    "#### - Matriz de confusion y F-score"
   ]
  },
  {
   "cell_type": "markdown",
   "metadata": {},
   "source": [
    "Se obtiene la matriz de confusión y el informe de clasificación."
   ]
  },
  {
   "cell_type": "code",
   "execution_count": 102,
   "metadata": {},
   "outputs": [
    {
     "name": "stdout",
     "output_type": "stream",
     "text": [
      "[[ 330  420]\n",
      " [ 474 3291]]\n"
     ]
    }
   ],
   "source": [
    "print(confusion_matrix(expected_MLP_opt, predicted_MLP_opt))"
   ]
  },
  {
   "cell_type": "code",
   "execution_count": 103,
   "metadata": {
    "vscode": {
     "languageId": "plaintext"
    }
   },
   "outputs": [
    {
     "name": "stdout",
     "output_type": "stream",
     "text": [
      "              precision    recall  f1-score   support\n",
      "\n",
      "           0       0.41      0.44      0.42       750\n",
      "           1       0.89      0.87      0.88      3765\n",
      "\n",
      "    accuracy                           0.80      4515\n",
      "   macro avg       0.65      0.66      0.65      4515\n",
      "weighted avg       0.81      0.80      0.80      4515\n",
      "\n"
     ]
    }
   ],
   "source": [
    "print(classification_report(expected_MLP_opt, predicted_MLP_opt))"
   ]
  },
  {
   "cell_type": "markdown",
   "metadata": {
    "jp-MarkdownHeadingCollapsed": true
   },
   "source": [
    "#### - ROC y AUC"
   ]
  },
  {
   "cell_type": "markdown",
   "metadata": {},
   "source": [
    "La distribución de probabilidades de los 0s y 1s esta más polarizada permitiendo ajustar mejor el threshold. En cambio, la AUC score se mejora de 0.61 a 0.65, pero no se llega al siguiente intervalo de clasificación (es decir, sigue siendo una *D*)."
   ]
  },
  {
   "cell_type": "code",
   "execution_count": 106,
   "metadata": {
    "vscode": {
     "languageId": "plaintext"
    }
   },
   "outputs": [
    {
     "data": {
      "image/png": "[encoded data removed]",
      "text/plain": [
       "<Figure size 640x480 with 1 Axes>"
      ]
     },
     "metadata": {},
     "output_type": "display_data"
    }
   ],
   "source": [
    "y_pred_prob_MLP = final_Mlp.predict_proba(X_test_scaled)[:,1]\n",
    "fpr, tpr, thresholds = roc_curve(y_test, y_pred_prob_MLP)\n",
    "plt.plot(fpr, tpr)\n",
    "plt.xlim([0.0, 1.0])\n",
    "plt.ylim([0.0, 1.0])\n",
    "plt.title('Curva ROC')\n",
    "plt.xlabel('Ratio de FP (1 - Recall)')\n",
    "plt.ylabel('Ratio TP (Sensitivity)')\n",
    "plt.grid(True)\n",
    "plt.show()"
   ]
  },
  {
   "cell_type": "code",
   "execution_count": 107,
   "metadata": {
    "vscode": {
     "languageId": "plaintext"
    }
   },
   "outputs": [
    {
     "data": {
      "text/plain": [
       "array([       inf, 0.99425738, 0.97610623, ..., 0.15548736, 0.15443916,\n",
       "       0.13764927])"
      ]
     },
     "execution_count": 107,
     "metadata": {},
     "output_type": "execute_result"
    }
   ],
   "source": [
    "thresholds"
   ]
  },
  {
   "cell_type": "code",
   "execution_count": 108,
   "metadata": {
    "vscode": {
     "languageId": "plaintext"
    }
   },
   "outputs": [
    {
     "data": {
      "text/plain": [
       "array([<Axes: title={'center': '0'}>, <Axes: title={'center': '1'}>],\n",
       "      dtype=object)"
      ]
     },
     "execution_count": 108,
     "metadata": {},
     "output_type": "execute_result"
    },
    {
     "data": {
      "image/png": "[encoded data removed]",
      "text/plain": [
       "<Figure size 640x480 with 2 Axes>"
      ]
     },
     "metadata": {},
     "output_type": "display_data"
    }
   ],
   "source": [
    "dprob = pd.DataFrame(data = {'probability':y_pred_prob_MLP, 'actual':y_test})\n",
    "dprob.probability.hist(by=dprob.actual, sharex=True, sharey=True)"
   ]
  },
  {
   "cell_type": "code",
   "execution_count": 109,
   "metadata": {
    "vscode": {
     "languageId": "plaintext"
    }
   },
   "outputs": [
    {
     "name": "stdout",
     "output_type": "stream",
     "text": [
      "Sensitivity: 0.9407702523240372\n",
      "Recall: 0.272\n"
     ]
    }
   ],
   "source": [
    "op_thres_MLP = 0.4\n",
    "\n",
    "evaluate_threshold(op_thres_MLP)"
   ]
  },
  {
   "cell_type": "code",
   "execution_count": 110,
   "metadata": {},
   "outputs": [],
   "source": [
    "probs_MLP_opt = final_Forest.predict_proba(X_test_scaled)[:, 1]  \n",
    "pred_thres_MLP_opt = (probs_MLP_opt >= op_thres_MLP).astype(int) "
   ]
  },
  {
   "cell_type": "code",
   "execution_count": 111,
   "metadata": {},
   "outputs": [
    {
     "name": "stdout",
     "output_type": "stream",
     "text": [
      "[[ 434  316]\n",
      " [ 652 3113]]\n"
     ]
    }
   ],
   "source": [
    "print(confusion_matrix(expected_MLP_opt, pred_thres_MLP_opt))"
   ]
  },
  {
   "cell_type": "code",
   "execution_count": 112,
   "metadata": {},
   "outputs": [
    {
     "name": "stdout",
     "output_type": "stream",
     "text": [
      "              precision    recall  f1-score   support\n",
      "\n",
      "           0       0.40      0.58      0.47       750\n",
      "           1       0.91      0.83      0.87      3765\n",
      "\n",
      "    accuracy                           0.79      4515\n",
      "   macro avg       0.65      0.70      0.67      4515\n",
      "weighted avg       0.82      0.79      0.80      4515\n",
      "\n"
     ]
    }
   ],
   "source": [
    "print(classification_report(expected_MLP_opt, pred_thres_MLP_opt))"
   ]
  },
  {
   "cell_type": "code",
   "execution_count": 113,
   "metadata": {
    "vscode": {
     "languageId": "plaintext"
    }
   },
   "outputs": [
    {
     "name": "stdout",
     "output_type": "stream",
     "text": [
      "0.6570517928286852\n"
     ]
    }
   ],
   "source": [
    "print(roc_auc_score(expected_MLP_opt, predicted_MLP_opt))"
   ]
  },
  {
   "cell_type": "markdown",
   "metadata": {
    "jp-MarkdownHeadingCollapsed": true
   },
   "source": [
    "#### - Curva de pérdidas y scores de validación"
   ]
  },
  {
   "cell_type": "markdown",
   "metadata": {},
   "source": [
    "Se observa que se ejecutan muchas menos iteraciones debido al early_stopped. El motivo es que esta converguiendo las perdidas mucho más rapido. Esto supone que las *validation_scores_* sean mucho más variables al estar siendo analizado en menos iteraciones."
   ]
  },
  {
   "cell_type": "code",
   "execution_count": 116,
   "metadata": {},
   "outputs": [
    {
     "data": {
      "image/png": "[encoded data removed]",
      "text/plain": [
       "<Figure size 640x480 with 1 Axes>"
      ]
     },
     "metadata": {},
     "output_type": "display_data"
    }
   ],
   "source": [
    "loss_values = final_Mlp.loss_curve_\n",
    "\n",
    "plt.plot(loss_values)\n",
    "plt.title('Curva de Pérdida del Modelo MLP')\n",
    "plt.xlabel('Iteraciones')\n",
    "plt.ylabel('Pérdida')\n",
    "plt.show()"
   ]
  },
  {
   "cell_type": "code",
   "execution_count": 117,
   "metadata": {},
   "outputs": [
    {
     "data": {
      "image/png": "[encoded data removed]",
      "text/plain": [
       "<Figure size 640x480 with 1 Axes>"
      ]
     },
     "metadata": {},
     "output_type": "display_data"
    }
   ],
   "source": [
    "validation_scores = final_Mlp.validation_scores_\n",
    "\n",
    "plt.plot(validation_scores)\n",
    "plt.title('Puntuaciones de Validación del Modelo MLP')\n",
    "plt.xlabel('Iteraciones')\n",
    "plt.ylabel('Puntuación de Validación')\n",
    "plt.show()"
   ]
  },
  {
   "cell_type": "markdown",
   "metadata": {
    "jp-MarkdownHeadingCollapsed": true
   },
   "source": [
    "## 7.3 Clasificador KNN"
   ]
  },
  {
   "cell_type": "markdown",
   "metadata": {
    "jp-MarkdownHeadingCollapsed": true
   },
   "source": [
    "### 7.3.1 Seleccion del caso de preprocesado"
   ]
  },
  {
   "cell_type": "markdown",
   "metadata": {},
   "source": [
    "Seleccion del caso de preprocesado."
   ]
  },
  {
   "cell_type": "code",
   "execution_count": 121,
   "metadata": {},
   "outputs": [],
   "source": [
    "# case - caso de preprocesado seleccionado, valores posibles: 1, 2, 3, 4, 5, 6\n",
    "case = 4"
   ]
  },
  {
   "cell_type": "markdown",
   "metadata": {},
   "source": [
    "Hiperparametros base para cada caso."
   ]
  },
  {
   "cell_type": "code",
   "execution_count": 123,
   "metadata": {},
   "outputs": [],
   "source": [
    "if case in {1, 2}:\n",
    "    strategy_under = 0\n",
    "    strategy_over = 1\n",
    "    neighbors = 5\n",
    "    \n",
    "elif case in {3, 4}:\n",
    "    strategy_under = 0.8\n",
    "    strategy_over = 0\n",
    "    neighbors = 0\n",
    "    \n",
    "elif case in {5, 6}:\n",
    "    strategy_under = 0.25\n",
    "    strategy_over = 0.5\n",
    "    neighbors = 5"
   ]
  },
  {
   "cell_type": "markdown",
   "metadata": {},
   "source": [
    "Se estandarizan los datos en función del caso."
   ]
  },
  {
   "cell_type": "code",
   "execution_count": 125,
   "metadata": {},
   "outputs": [],
   "source": [
    "X_scaled, prep = standard_data(case, X_train)"
   ]
  },
  {
   "cell_type": "markdown",
   "metadata": {},
   "source": [
    "Se muestrean los datos en función del caso."
   ]
  },
  {
   "cell_type": "code",
   "execution_count": 127,
   "metadata": {},
   "outputs": [],
   "source": [
    "X_resampled, y_resampled = resample_data(case, X_scaled, y_train, strategy_under, strategy_over, neighbors)"
   ]
  },
  {
   "cell_type": "markdown",
   "metadata": {},
   "source": [
    "Al igual que se ha realizado distintos preprocesados al entrenamiento, hay que realizarlos al conjunto de test para obtener resultados coherentes."
   ]
  },
  {
   "cell_type": "code",
   "execution_count": 129,
   "metadata": {},
   "outputs": [],
   "source": [
    "X_test_scaled = prep.transform(X_test)"
   ]
  },
  {
   "cell_type": "markdown",
   "metadata": {
    "jp-MarkdownHeadingCollapsed": true
   },
   "source": [
    "### 7.3.2 Optimización"
   ]
  },
  {
   "cell_type": "markdown",
   "metadata": {},
   "source": [
    "No se vio necesario modificar los hiperparámetros de este caso, simplemente se añadieron más vecinos por si estabamos poniendo un límite inferior muy bajo."
   ]
  },
  {
   "cell_type": "raw",
   "metadata": {
    "vscode": {
     "languageId": "plaintext"
    }
   },
   "source": [
    "optm_KNN = KNeighborsClassifier()\n",
    "\n",
    "param_grid = {\n",
    "    'n_neighbors': [ 5, 8, 10, 11, 13, 15, 17],\n",
    "    'weights':  ['uniform', 'distance'], \n",
    "    'algorithm': ['auto', 'ball_tree', 'kd_tree', 'brute'],\n",
    "    'p': [1, 2, 3],\n",
    "    'leaf_size': [10, 20, 30, 40, 50, 60, 70, 80, 90, 100],\n",
    "    'metric':  ['minkowski', 'euclidean', 'manhattan', 'chebyshev'] \n",
    "}\n",
    "\n",
    "grid_search = GridSearchCV(optm_KNN, param_grid=param_grid, scoring=make_scorer(f1_score, average='weighted'), cv=3, n_jobs=-1)\n",
    "\n",
    "inicio = time.time()\n",
    "grid_search.fit(X_pca, y_resampled)\n",
    "fin = time.time()"
   ]
  },
  {
   "cell_type": "markdown",
   "metadata": {},
   "source": [
    "Se calcula el tiempo que ha tardado en minutos."
   ]
  },
  {
   "cell_type": "raw",
   "metadata": {},
   "source": [
    "tiempo_total = (fin - inicio) / 60\n",
    "print(f\"La celda tardó {tiempo_total} minutos en ejecutarse.\")"
   ]
  },
  {
   "cell_type": "markdown",
   "metadata": {},
   "source": [
    "Se escoge el mejor parámetro y su  precisión asociada."
   ]
  },
  {
   "cell_type": "raw",
   "metadata": {
    "vscode": {
     "languageId": "plaintext"
    }
   },
   "source": [
    "print(\"Mejores parámetros: \", grid_search.best_params_)\n",
    "print(\"Mejor score: \", grid_search.best_score_)"
   ]
  },
  {
   "cell_type": "markdown",
   "metadata": {},
   "source": [
    "Observamos los mejores 10 casos para analizar varias posibilidades."
   ]
  },
  {
   "cell_type": "raw",
   "metadata": {},
   "source": [
    "results_df = pd.DataFrame(grid_search.cv_results_)"
   ]
  },
  {
   "cell_type": "raw",
   "metadata": {},
   "source": [
    "top_10_models = results_df.nlargest(10, \"mean_test_score\")\n",
    "\n",
    "print(\"\\nLos 10 mejores modelos:\")\n",
    "for index, row in top_10_models.iterrows():\n",
    "    print(\"\\nModelo:\")\n",
    "    print(f\"Parámetros: {row['params']}\")\n",
    "    print(f\"Puntuación media de prueba: {row['mean_test_score']}\")"
   ]
  },
  {
   "cell_type": "markdown",
   "metadata": {
    "jp-MarkdownHeadingCollapsed": true
   },
   "source": [
    "### 7.3.3 Entrenamiento y evaluacion con hiperparametros optimizados"
   ]
  },
  {
   "cell_type": "markdown",
   "metadata": {
    "jp-MarkdownHeadingCollapsed": true
   },
   "source": [
    "#### - Definicion y entrenamiento"
   ]
  },
  {
   "cell_type": "markdown",
   "metadata": {},
   "source": [
    "Definimos los mejores parámetros."
   ]
  },
  {
   "cell_type": "code",
   "execution_count": 138,
   "metadata": {
    "vscode": {
     "languageId": "plaintext"
    }
   },
   "outputs": [],
   "source": [
    "params_final_KNN = {\n",
    "    \"n_neighbors\": 17, \n",
    "    \"leaf_size\": 10, \n",
    "    \"metric\": \"minkowski\", \n",
    "    \"p\": 3, \n",
    "    \"weights\": \"uniform\", \n",
    "    \"algorithm\": \"auto\"\n",
    "}"
   ]
  },
  {
   "cell_type": "markdown",
   "metadata": {},
   "source": [
    "Definimos el modelo desagregando el diccionario."
   ]
  },
  {
   "cell_type": "code",
   "execution_count": 140,
   "metadata": {},
   "outputs": [],
   "source": [
    "final_KNN = KNeighborsClassifier(**params_final_KNN)"
   ]
  },
  {
   "cell_type": "markdown",
   "metadata": {},
   "source": [
    "Entrenamos el modelo."
   ]
  },
  {
   "cell_type": "code",
   "execution_count": 142,
   "metadata": {
    "vscode": {
     "languageId": "plaintext"
    }
   },
   "outputs": [],
   "source": [
    "final_KNN.fit(X_resampled, y_resampled)\n",
    "\n",
    "predicted_KNN_opt = final_KNN.predict(X_test_scaled)\n",
    "expected_KNN_opt = y_test"
   ]
  },
  {
   "cell_type": "markdown",
   "metadata": {
    "jp-MarkdownHeadingCollapsed": true
   },
   "source": [
    "#### - Matriz de confusion y F-score"
   ]
  },
  {
   "cell_type": "markdown",
   "metadata": {},
   "source": [
    "Se obtiene la matriz de confusión y el informe de clasificación."
   ]
  },
  {
   "cell_type": "code",
   "execution_count": 145,
   "metadata": {},
   "outputs": [
    {
     "name": "stdout",
     "output_type": "stream",
     "text": [
      "[[ 491  259]\n",
      " [1094 2671]]\n"
     ]
    }
   ],
   "source": [
    "print(confusion_matrix(expected_KNN_opt, predicted_KNN_opt))"
   ]
  },
  {
   "cell_type": "code",
   "execution_count": 146,
   "metadata": {
    "vscode": {
     "languageId": "plaintext"
    }
   },
   "outputs": [
    {
     "name": "stdout",
     "output_type": "stream",
     "text": [
      "              precision    recall  f1-score   support\n",
      "\n",
      "           0       0.31      0.65      0.42       750\n",
      "           1       0.91      0.71      0.80      3765\n",
      "\n",
      "    accuracy                           0.70      4515\n",
      "   macro avg       0.61      0.68      0.61      4515\n",
      "weighted avg       0.81      0.70      0.74      4515\n",
      "\n"
     ]
    }
   ],
   "source": [
    "print(classification_report(expected_KNN_opt, predicted_KNN_opt))"
   ]
  },
  {
   "cell_type": "markdown",
   "metadata": {
    "jp-MarkdownHeadingCollapsed": true
   },
   "source": [
    "#### - ROC y AUC"
   ]
  },
  {
   "cell_type": "markdown",
   "metadata": {},
   "source": [
    "La distribución de probabilidades de los 0s y 1s esta más polarizada permitiendo ajustar mejor el threshold. Además se obtiene una AUC score ligeramente superior, aunque de mismo valor de clasificación, una *D*."
   ]
  },
  {
   "cell_type": "code",
   "execution_count": 149,
   "metadata": {
    "vscode": {
     "languageId": "plaintext"
    }
   },
   "outputs": [
    {
     "data": {
      "image/png": "[encoded data removed]",
      "text/plain": [
       "<Figure size 640x480 with 1 Axes>"
      ]
     },
     "metadata": {},
     "output_type": "display_data"
    }
   ],
   "source": [
    "y_pred_prob_KNN = final_KNN.predict_proba(X_test_scaled)[:,1]\n",
    "fpr, tpr, thresholds = roc_curve(y_test, y_pred_prob_KNN)\n",
    "plt.plot(fpr, tpr)\n",
    "plt.xlim([0.0, 1.0])\n",
    "plt.ylim([0.0, 1.0])\n",
    "plt.title('Curva ROC')\n",
    "plt.xlabel('Ratio de FP (1 - Recall)')\n",
    "plt.ylabel('Ratio TP (Sensitivity)')\n",
    "plt.grid(True)\n",
    "plt.show()"
   ]
  },
  {
   "cell_type": "code",
   "execution_count": 150,
   "metadata": {
    "vscode": {
     "languageId": "plaintext"
    }
   },
   "outputs": [
    {
     "data": {
      "text/plain": [
       "array([       inf, 1.        , 0.94117647, 0.88235294, 0.82352941,\n",
       "       0.76470588, 0.70588235, 0.64705882, 0.58823529, 0.52941176,\n",
       "       0.47058824, 0.41176471, 0.35294118, 0.29411765, 0.23529412,\n",
       "       0.17647059, 0.11764706, 0.05882353, 0.        ])"
      ]
     },
     "execution_count": 150,
     "metadata": {},
     "output_type": "execute_result"
    }
   ],
   "source": [
    "thresholds"
   ]
  },
  {
   "cell_type": "code",
   "execution_count": 151,
   "metadata": {
    "vscode": {
     "languageId": "plaintext"
    }
   },
   "outputs": [
    {
     "data": {
      "text/plain": [
       "array([<Axes: title={'center': '0'}>, <Axes: title={'center': '1'}>],\n",
       "      dtype=object)"
      ]
     },
     "execution_count": 151,
     "metadata": {},
     "output_type": "execute_result"
    },
    {
     "data": {
      "image/png": "[encoded data removed]",
      "text/plain": [
       "<Figure size 640x480 with 2 Axes>"
      ]
     },
     "metadata": {},
     "output_type": "display_data"
    }
   ],
   "source": [
    "dprob = pd.DataFrame(data = {'probability':y_pred_prob_KNN, 'actual':y_test})\n",
    "dprob.probability.hist(by=dprob.actual, sharex=True, sharey=True)"
   ]
  },
  {
   "cell_type": "code",
   "execution_count": 152,
   "metadata": {
    "vscode": {
     "languageId": "plaintext"
    }
   },
   "outputs": [
    {
     "name": "stdout",
     "output_type": "stream",
     "text": [
      "Sensitivity: 0.8241699867197875\n",
      "Recall: 0.46799999999999997\n"
     ]
    }
   ],
   "source": [
    "op_thres_KNN = 0.4\n",
    "\n",
    "evaluate_threshold(op_thres_KNN)"
   ]
  },
  {
   "cell_type": "code",
   "execution_count": 153,
   "metadata": {},
   "outputs": [],
   "source": [
    "probs_KNN_opt = final_KNN.predict_proba(X_test_scaled)[:, 1]  \n",
    "pred_thres_KNN_opt = (probs_KNN_opt >= op_thres_KNN).astype(int) "
   ]
  },
  {
   "cell_type": "code",
   "execution_count": 154,
   "metadata": {},
   "outputs": [
    {
     "name": "stdout",
     "output_type": "stream",
     "text": [
      "[[ 351  399]\n",
      " [ 662 3103]]\n"
     ]
    }
   ],
   "source": [
    "print(confusion_matrix(expected_KNN_opt, pred_thres_KNN_opt))"
   ]
  },
  {
   "cell_type": "code",
   "execution_count": 155,
   "metadata": {},
   "outputs": [
    {
     "name": "stdout",
     "output_type": "stream",
     "text": [
      "              precision    recall  f1-score   support\n",
      "\n",
      "           0       0.35      0.47      0.40       750\n",
      "           1       0.89      0.82      0.85      3765\n",
      "\n",
      "    accuracy                           0.77      4515\n",
      "   macro avg       0.62      0.65      0.63      4515\n",
      "weighted avg       0.80      0.77      0.78      4515\n",
      "\n"
     ]
    }
   ],
   "source": [
    "print(classification_report(expected_KNN_opt, pred_thres_KNN_opt))"
   ]
  },
  {
   "cell_type": "code",
   "execution_count": 156,
   "metadata": {
    "vscode": {
     "languageId": "plaintext"
    }
   },
   "outputs": [
    {
     "name": "stdout",
     "output_type": "stream",
     "text": [
      "0.6820478087649403\n"
     ]
    }
   ],
   "source": [
    "print(roc_auc_score(expected_KNN_opt, predicted_KNN_opt))"
   ]
  },
  {
   "cell_type": "markdown",
   "metadata": {
    "jp-MarkdownHeadingCollapsed": true
   },
   "source": [
    "## 7.4 Clasificador GBC"
   ]
  },
  {
   "cell_type": "markdown",
   "metadata": {
    "jp-MarkdownHeadingCollapsed": true
   },
   "source": [
    "### 7.4.1 Seleccion del caso de preprocesado"
   ]
  },
  {
   "cell_type": "markdown",
   "metadata": {},
   "source": [
    "Seleccion del caso de preprocesado."
   ]
  },
  {
   "cell_type": "code",
   "execution_count": 160,
   "metadata": {},
   "outputs": [],
   "source": [
    "# case - caso de preprocesado seleccionado, valores posibles: 1, 2, 3, 4, 5, 6\n",
    "case = 4"
   ]
  },
  {
   "cell_type": "markdown",
   "metadata": {},
   "source": [
    "Hiperparametros base para cada caso."
   ]
  },
  {
   "cell_type": "code",
   "execution_count": 162,
   "metadata": {},
   "outputs": [],
   "source": [
    "if case in {1, 2}:\n",
    "    strategy_under = 0\n",
    "    strategy_over = 1\n",
    "    neighbors = 5\n",
    "    \n",
    "elif case in {3, 4}:\n",
    "    strategy_under = 0.8\n",
    "    strategy_over = 0\n",
    "    neighbors = 0\n",
    "    \n",
    "elif case in {5, 6}:\n",
    "    strategy_under = 0.25\n",
    "    strategy_over = 0.5\n",
    "    neighbors = 5"
   ]
  },
  {
   "cell_type": "markdown",
   "metadata": {},
   "source": [
    "Se estandarizan los datos en función del caso."
   ]
  },
  {
   "cell_type": "code",
   "execution_count": 164,
   "metadata": {},
   "outputs": [],
   "source": [
    "X_scaled, prep = standard_data(case, X_train)"
   ]
  },
  {
   "cell_type": "markdown",
   "metadata": {},
   "source": [
    "Se muestrean los datos en función del caso."
   ]
  },
  {
   "cell_type": "code",
   "execution_count": 166,
   "metadata": {},
   "outputs": [],
   "source": [
    "X_resampled, y_resampled = resample_data(case, X_scaled, y_train, strategy_under, strategy_over, neighbors)"
   ]
  },
  {
   "cell_type": "code",
   "execution_count": 167,
   "metadata": {},
   "outputs": [],
   "source": [
    "X_test_scaled = prep.transform(X_test)"
   ]
  },
  {
   "cell_type": "markdown",
   "metadata": {
    "jp-MarkdownHeadingCollapsed": true
   },
   "source": [
    "### 7.4.2 Optimizacion"
   ]
  },
  {
   "cell_type": "markdown",
   "metadata": {},
   "source": [
    "No se vio necesario modificar los hiperparámetros de este caso."
   ]
  },
  {
   "cell_type": "raw",
   "metadata": {
    "vscode": {
     "languageId": "plaintext"
    }
   },
   "source": [
    "optm_GBC = GradientBoostingClassifier(random_state=seed)\n",
    "\n",
    "param_grid = {\n",
    "    'n_estimators': [100, 200, 300],     \n",
    "    'learning_rate': [0.01, 0.05, 0.1], \n",
    "    'max_depth': [3, 5],        \n",
    "    'min_samples_split': [2, 5],    \n",
    "    'min_samples_leaf': [2, 4],  \n",
    "    'subsample': [0.8, 1.0],            \n",
    "    'max_features': ['sqrt', 8],     \n",
    "    'criterion' : ['friedman_mse', 'squared_error'],\n",
    "    'min_impurity_decrease': [0.0, 0.01, 0.1],\n",
    "}\n",
    "\n",
    "grid_search = GridSearchCV(optm_GBC , param_grid=param_grid, scoring=make_scorer(f1_score, average='weighted'), cv=3, n_jobs=-1)\n",
    "\n",
    "inicio = time.time()\n",
    "grid_search.fit(X_pca, y_resampled)\n",
    "fin = time.time()"
   ]
  },
  {
   "cell_type": "markdown",
   "metadata": {},
   "source": [
    "Se calcula el tiempo que ha tardado en minutos."
   ]
  },
  {
   "cell_type": "raw",
   "metadata": {},
   "source": [
    "tiempo_total = (fin - inicio) / 60\n",
    "print(f\"La celda tardó {tiempo_total} minutos en ejecutarse.\")"
   ]
  },
  {
   "cell_type": "markdown",
   "metadata": {},
   "source": [
    "Se escoge el mejor parámetro y su  precisión asociada."
   ]
  },
  {
   "cell_type": "raw",
   "metadata": {
    "vscode": {
     "languageId": "plaintext"
    }
   },
   "source": [
    "print(\"Mejores parámetros: \", grid_search.best_params_)\n",
    "print(\"Mejor score: \", grid_search.best_score_)"
   ]
  },
  {
   "cell_type": "markdown",
   "metadata": {},
   "source": [
    "Observamos los mejores 10 casos para analizar varias posibilidades."
   ]
  },
  {
   "cell_type": "raw",
   "metadata": {},
   "source": [
    "results_df = pd.DataFrame(grid_search.cv_results_)"
   ]
  },
  {
   "cell_type": "raw",
   "metadata": {},
   "source": [
    "top_10_models = results_df.nlargest(10, \"mean_test_score\")\n",
    "\n",
    "print(\"\\nLos 10 mejores modelos:\")\n",
    "for index, row in top_10_models.iterrows():\n",
    "    print(\"\\nModelo:\")\n",
    "    print(f\"Parámetros: {row['params']}\")\n",
    "    print(f\"Puntuación media de prueba: {row['mean_test_score']}\")"
   ]
  },
  {
   "cell_type": "markdown",
   "metadata": {
    "jp-MarkdownHeadingCollapsed": true
   },
   "source": [
    "### 7.4.3 Entrenamiento y evaluacion con hiperparametros optimizados"
   ]
  },
  {
   "cell_type": "markdown",
   "metadata": {
    "jp-MarkdownHeadingCollapsed": true
   },
   "source": [
    "#### - Definicion"
   ]
  },
  {
   "cell_type": "markdown",
   "metadata": {},
   "source": [
    "Definimos los mejores parámetros."
   ]
  },
  {
   "cell_type": "code",
   "execution_count": 176,
   "metadata": {
    "vscode": {
     "languageId": "plaintext"
    }
   },
   "outputs": [],
   "source": [
    "params_final_GBC = {\n",
    "    'criterion': 'squared_error',\n",
    "    'max_depth': 5,\n",
    "    'max_features': 8,\n",
    "    'min_impurity_decrease': 0.0,\n",
    "    'min_samples_leaf': 2,\n",
    "    'min_samples_split': 5,\n",
    "    'n_estimators': 300,\n",
    "    'subsample': 1,\n",
    "    'random_state': seed\n",
    "}"
   ]
  },
  {
   "cell_type": "markdown",
   "metadata": {},
   "source": [
    "Definimos el modelo desagregando el diccionario."
   ]
  },
  {
   "cell_type": "code",
   "execution_count": 178,
   "metadata": {},
   "outputs": [],
   "source": [
    "final_GBC = GradientBoostingClassifier(**params_final_GBC)"
   ]
  },
  {
   "cell_type": "markdown",
   "metadata": {},
   "source": [
    "Entrenamos el modelo."
   ]
  },
  {
   "cell_type": "code",
   "execution_count": 180,
   "metadata": {
    "vscode": {
     "languageId": "plaintext"
    }
   },
   "outputs": [],
   "source": [
    "final_GBC.fit(X_resampled, y_resampled)\n",
    "\n",
    "predicted_GBC_opt = final_GBC.predict(X_test_scaled)\n",
    "expected_GBC_opt = y_test"
   ]
  },
  {
   "cell_type": "markdown",
   "metadata": {
    "jp-MarkdownHeadingCollapsed": true
   },
   "source": [
    "#### - Matriz de confusion y F-score"
   ]
  },
  {
   "cell_type": "markdown",
   "metadata": {},
   "source": [
    "Se obtiene la matriz de confusión y el informe de clasificación."
   ]
  },
  {
   "cell_type": "code",
   "execution_count": 183,
   "metadata": {},
   "outputs": [
    {
     "name": "stdout",
     "output_type": "stream",
     "text": [
      "[[ 523  227]\n",
      " [ 994 2771]]\n"
     ]
    }
   ],
   "source": [
    "print(confusion_matrix(expected_GBC_opt, predicted_GBC_opt))"
   ]
  },
  {
   "cell_type": "code",
   "execution_count": 184,
   "metadata": {
    "vscode": {
     "languageId": "plaintext"
    }
   },
   "outputs": [
    {
     "name": "stdout",
     "output_type": "stream",
     "text": [
      "              precision    recall  f1-score   support\n",
      "\n",
      "           0       0.34      0.70      0.46       750\n",
      "           1       0.92      0.74      0.82      3765\n",
      "\n",
      "    accuracy                           0.73      4515\n",
      "   macro avg       0.63      0.72      0.64      4515\n",
      "weighted avg       0.83      0.73      0.76      4515\n",
      "\n"
     ]
    }
   ],
   "source": [
    "print(classification_report(expected_GBC_opt, predicted_GBC_opt))"
   ]
  },
  {
   "cell_type": "markdown",
   "metadata": {
    "jp-MarkdownHeadingCollapsed": true
   },
   "source": [
    "#### - ROC y AUC"
   ]
  },
  {
   "cell_type": "markdown",
   "metadata": {},
   "source": [
    "La distribución de probabilidades de los 0s y 1s esta más polarizada permitiendo ajustar mejor el threshold. Además se obtiene una AUC score ligeramente superior, aunque suficiente como para aumentar el valor de clasificación, a una *C*."
   ]
  },
  {
   "cell_type": "code",
   "execution_count": 187,
   "metadata": {
    "vscode": {
     "languageId": "plaintext"
    }
   },
   "outputs": [
    {
     "data": {
      "image/png": "[encoded data removed]",
      "text/plain": [
       "<Figure size 640x480 with 1 Axes>"
      ]
     },
     "metadata": {},
     "output_type": "display_data"
    }
   ],
   "source": [
    "y_pred_prob_GBC = final_GBC.predict_proba(X_test_scaled)[:,1]\n",
    "fpr, tpr, thresholds = roc_curve(y_test, y_pred_prob_GBC)\n",
    "plt.plot(fpr, tpr)\n",
    "plt.xlim([0.0, 1.0])\n",
    "plt.ylim([0.0, 1.0])\n",
    "plt.title('Curva ROC')\n",
    "plt.xlabel('Ratio de FP (1 - Recall)')\n",
    "plt.ylabel('Ratio TP (Sensitivity)')\n",
    "plt.grid(True)\n",
    "plt.show()"
   ]
  },
  {
   "cell_type": "code",
   "execution_count": 188,
   "metadata": {
    "vscode": {
     "languageId": "plaintext"
    }
   },
   "outputs": [
    {
     "data": {
      "text/plain": [
       "array([       inf, 0.99969896, 0.98541557, ..., 0.02112195, 0.02051061,\n",
       "       0.00311123])"
      ]
     },
     "execution_count": 188,
     "metadata": {},
     "output_type": "execute_result"
    }
   ],
   "source": [
    "thresholds"
   ]
  },
  {
   "cell_type": "code",
   "execution_count": 189,
   "metadata": {
    "vscode": {
     "languageId": "plaintext"
    }
   },
   "outputs": [
    {
     "data": {
      "text/plain": [
       "array([<Axes: title={'center': '0'}>, <Axes: title={'center': '1'}>],\n",
       "      dtype=object)"
      ]
     },
     "execution_count": 189,
     "metadata": {},
     "output_type": "execute_result"
    },
    {
     "data": {
      "image/png": "[encoded data removed]",
      "text/plain": [
       "<Figure size 640x480 with 2 Axes>"
      ]
     },
     "metadata": {},
     "output_type": "display_data"
    }
   ],
   "source": [
    "dprob = pd.DataFrame(data = {'probability':y_pred_prob_GBC, 'actual':y_test})\n",
    "dprob.probability.hist(by=dprob.actual, sharex=True, sharey=True)"
   ]
  },
  {
   "cell_type": "code",
   "execution_count": 190,
   "metadata": {
    "vscode": {
     "languageId": "plaintext"
    }
   },
   "outputs": [
    {
     "name": "stdout",
     "output_type": "stream",
     "text": [
      "Sensitivity: 0.8284196547144754\n",
      "Recall: 0.556\n"
     ]
    }
   ],
   "source": [
    "op_thres_GBC = 0.4\n",
    "\n",
    "evaluate_threshold(op_thres_GBC)"
   ]
  },
  {
   "cell_type": "code",
   "execution_count": 191,
   "metadata": {},
   "outputs": [],
   "source": [
    "probs_GBC_opt = final_GBC.predict_proba(X_test_scaled)[:, 1]  \n",
    "pred_thres_GBC_opt = (probs_GBC_opt >= op_thres_GBC).astype(int) "
   ]
  },
  {
   "cell_type": "code",
   "execution_count": 192,
   "metadata": {},
   "outputs": [
    {
     "name": "stdout",
     "output_type": "stream",
     "text": [
      "[[ 417  333]\n",
      " [ 641 3124]]\n"
     ]
    }
   ],
   "source": [
    "print(confusion_matrix(expected_GBC_opt, pred_thres_GBC_opt))"
   ]
  },
  {
   "cell_type": "code",
   "execution_count": 193,
   "metadata": {},
   "outputs": [
    {
     "name": "stdout",
     "output_type": "stream",
     "text": [
      "              precision    recall  f1-score   support\n",
      "\n",
      "           0       0.39      0.56      0.46       750\n",
      "           1       0.90      0.83      0.87      3765\n",
      "\n",
      "    accuracy                           0.78      4515\n",
      "   macro avg       0.65      0.69      0.66      4515\n",
      "weighted avg       0.82      0.78      0.80      4515\n",
      "\n"
     ]
    }
   ],
   "source": [
    "print(classification_report(expected_GBC_opt, pred_thres_GBC_opt))"
   ]
  },
  {
   "cell_type": "code",
   "execution_count": 194,
   "metadata": {
    "scrolled": true,
    "vscode": {
     "languageId": "plaintext"
    }
   },
   "outputs": [
    {
     "name": "stdout",
     "output_type": "stream",
     "text": [
      "0.7166613545816733\n"
     ]
    }
   ],
   "source": [
    "print(roc_auc_score(expected_GBC_opt, predicted_GBC_opt))"
   ]
  },
  {
   "cell_type": "markdown",
   "metadata": {
    "jp-MarkdownHeadingCollapsed": true
   },
   "source": [
    "## 7.5 Clasificador XGBoost"
   ]
  },
  {
   "cell_type": "markdown",
   "metadata": {
    "jp-MarkdownHeadingCollapsed": true
   },
   "source": [
    "### 7.5.1 Seleccion del caso de preprocesado"
   ]
  },
  {
   "cell_type": "markdown",
   "metadata": {},
   "source": [
    "Seleccion del caso de preprocesado."
   ]
  },
  {
   "cell_type": "code",
   "execution_count": 198,
   "metadata": {},
   "outputs": [],
   "source": [
    "# case - caso de preprocesado seleccionado, valores posibles: 1, 2, 3, 4, 5, 6\n",
    "case = 4"
   ]
  },
  {
   "cell_type": "markdown",
   "metadata": {},
   "source": [
    "Hiperparametros base para cada caso."
   ]
  },
  {
   "cell_type": "code",
   "execution_count": 200,
   "metadata": {},
   "outputs": [],
   "source": [
    "if case in {1, 2}:\n",
    "    strategy_under = 0\n",
    "    strategy_over = 1\n",
    "    neighbors = 5\n",
    "    \n",
    "elif case in {3, 4}:\n",
    "    strategy_under = 0.8\n",
    "    strategy_over = 0\n",
    "    neighbors = 0\n",
    "    \n",
    "elif case in {5, 6}:\n",
    "    strategy_under = 0.25\n",
    "    strategy_over = 0.5\n",
    "    neighbors = 5"
   ]
  },
  {
   "cell_type": "markdown",
   "metadata": {},
   "source": [
    "Se estandarizan los datos en función del caso."
   ]
  },
  {
   "cell_type": "code",
   "execution_count": 202,
   "metadata": {},
   "outputs": [],
   "source": [
    "X_scaled, prep = standard_data(case, X_train)"
   ]
  },
  {
   "cell_type": "markdown",
   "metadata": {},
   "source": [
    "Se muestrean los datos en función del caso."
   ]
  },
  {
   "cell_type": "code",
   "execution_count": 204,
   "metadata": {},
   "outputs": [],
   "source": [
    "X_resampled, y_resampled = resample_data(case, X_scaled, y_train, strategy_under, strategy_over, neighbors)"
   ]
  },
  {
   "cell_type": "code",
   "execution_count": 205,
   "metadata": {},
   "outputs": [],
   "source": [
    "X_test_scaled = prep.transform(X_test)"
   ]
  },
  {
   "cell_type": "markdown",
   "metadata": {
    "jp-MarkdownHeadingCollapsed": true
   },
   "source": [
    "### 7.5.2 Optimizacion"
   ]
  },
  {
   "cell_type": "markdown",
   "metadata": {},
   "source": [
    "No se vio necesario modificar los hiperparámetros de este caso."
   ]
  },
  {
   "cell_type": "raw",
   "metadata": {
    "vscode": {
     "languageId": "plaintext"
    }
   },
   "source": [
    "optm_XG = XGBClassifier(\n",
    "    objective='binary:logistic',\n",
    "    eval_metric='aucpr',\n",
    "    random_state=seed\n",
    ")\n",
    "\n",
    "param_grid = {\n",
    "    'max_depth': [3, 5, 7],\n",
    "    'eta': [0.05, 0.1, 0.2, 0.3],\n",
    "    'n_estimators': [100, 150, 200, 250, 300],\n",
    "    'subsample': [0.6, 0.8, 1.0],\n",
    "    'colsample_bytree': [0.8, 1.0],\n",
    "    'scale_pos_weight': [0.6, 0.8, 1]\n",
    "}\n",
    "\n",
    "grid_search = GridSearchCV(optm_XG, param_grid=param_grid, scoring=make_scorer(f1_score, average='weighted'), cv=3, n_jobs=-1)\n",
    "\n",
    "inicio = time.time()\n",
    "grid_search.fit(X_pca, y_resampled)\n",
    "fin = time.time()"
   ]
  },
  {
   "cell_type": "markdown",
   "metadata": {},
   "source": [
    "Se calcula el tiempo que ha tardado en minutos."
   ]
  },
  {
   "cell_type": "raw",
   "metadata": {},
   "source": [
    "tiempo_total = (fin - inicio) / 60\n",
    "print(f\"La celda tardó {tiempo_total} minutos en ejecutarse.\")"
   ]
  },
  {
   "cell_type": "markdown",
   "metadata": {},
   "source": [
    "Se escoge el mejor parámetro y su  precisión asociada."
   ]
  },
  {
   "cell_type": "raw",
   "metadata": {
    "vscode": {
     "languageId": "plaintext"
    }
   },
   "source": [
    "print(\"Mejores parámetros: \", grid_search.best_params_)\n",
    "print(\"Mejor score: \", grid_search.best_score_)"
   ]
  },
  {
   "cell_type": "markdown",
   "metadata": {},
   "source": [
    "Observamos los mejores 10 casos para analizar varias posibilidades."
   ]
  },
  {
   "cell_type": "raw",
   "metadata": {},
   "source": [
    "results_df = pd.DataFrame(grid_search.cv_results_)"
   ]
  },
  {
   "cell_type": "raw",
   "metadata": {},
   "source": [
    "top_10_models = results_df.nlargest(10, \"mean_test_score\")\n",
    "\n",
    "print(\"\\nLos 10 mejores modelos:\")\n",
    "for index, row in top_10_models.iterrows():\n",
    "    print(\"\\nModelo:\")\n",
    "    print(f\"Parámetros: {row['params']}\")\n",
    "    print(f\"Puntuación media de prueba: {row['mean_test_score']}\")"
   ]
  },
  {
   "cell_type": "markdown",
   "metadata": {
    "jp-MarkdownHeadingCollapsed": true
   },
   "source": [
    "### 7.5.3 Entrenamiento y evaluacion con hiperparametros optimizados"
   ]
  },
  {
   "cell_type": "markdown",
   "metadata": {},
   "source": [
    "#### - Definicion"
   ]
  },
  {
   "cell_type": "markdown",
   "metadata": {},
   "source": [
    "Definimos los mejores parámetros."
   ]
  },
  {
   "cell_type": "code",
   "execution_count": 2660,
   "metadata": {
    "vscode": {
     "languageId": "plaintext"
    }
   },
   "outputs": [],
   "source": [
    "params_final_XG = {\n",
    "    'objective': 'binary:logistic',\n",
    "    'eval_metric': 'aucpr',\n",
    "    'max_depth': 3,\n",
    "    'eta': 0.2,\n",
    "    'n_estimators': 200,\n",
    "    'subsample': 1.0,\n",
    "    'scale_pos_weight': 1,\n",
    "    'random_state': seed\n",
    "}"
   ]
  },
  {
   "cell_type": "markdown",
   "metadata": {},
   "source": [
    "Definimos el modelo desagregando el diccionario."
   ]
  },
  {
   "cell_type": "code",
   "execution_count": 2663,
   "metadata": {},
   "outputs": [],
   "source": [
    "final_XG = XGBClassifier(**params_final_XG)"
   ]
  },
  {
   "cell_type": "markdown",
   "metadata": {},
   "source": [
    "Entrenamos el modelo."
   ]
  },
  {
   "cell_type": "code",
   "execution_count": 2573,
   "metadata": {
    "vscode": {
     "languageId": "plaintext"
    }
   },
   "outputs": [],
   "source": [
    "final_XG.fit(X_resampled, y_resampled)\n",
    "\n",
    "predicted_XG_opt = final_XG.predict(X_test_scaled)\n",
    "expected_XG_opt = y_test"
   ]
  },
  {
   "cell_type": "markdown",
   "metadata": {
    "jp-MarkdownHeadingCollapsed": true
   },
   "source": [
    "#### - Matriz de confusion y F-score"
   ]
  },
  {
   "cell_type": "markdown",
   "metadata": {},
   "source": [
    "Se obtiene la matriz de confusión y el informe de clasificación."
   ]
  },
  {
   "cell_type": "code",
   "execution_count": 2576,
   "metadata": {},
   "outputs": [
    {
     "name": "stdout",
     "output_type": "stream",
     "text": [
      "[[ 523  227]\n",
      " [ 994 2771]]\n"
     ]
    }
   ],
   "source": [
    "print(confusion_matrix(expected_GBC_opt, predicted_GBC_opt))"
   ]
  },
  {
   "cell_type": "code",
   "execution_count": 2577,
   "metadata": {
    "vscode": {
     "languageId": "plaintext"
    }
   },
   "outputs": [
    {
     "name": "stdout",
     "output_type": "stream",
     "text": [
      "              precision    recall  f1-score   support\n",
      "\n",
      "           0       0.34      0.70      0.46       750\n",
      "           1       0.92      0.74      0.82      3765\n",
      "\n",
      "    accuracy                           0.73      4515\n",
      "   macro avg       0.63      0.72      0.64      4515\n",
      "weighted avg       0.83      0.73      0.76      4515\n",
      "\n"
     ]
    }
   ],
   "source": [
    "print(classification_report(expected_GBC_opt, predicted_GBC_opt))"
   ]
  },
  {
   "cell_type": "markdown",
   "metadata": {
    "jp-MarkdownHeadingCollapsed": true
   },
   "source": [
    "#### - ROC y AUC"
   ]
  },
  {
   "cell_type": "markdown",
   "metadata": {},
   "source": [
    "Se puede ajustar bien el threshold debido a tener un buen f1 score en 0s por defecto, permitiendo reducir dicho valor para intentar aumentar el accuracy. Respecto al AUC score se obtiene un valor de 0.71, es decir, una calificación *C*."
   ]
  },
  {
   "cell_type": "code",
   "execution_count": 2580,
   "metadata": {
    "vscode": {
     "languageId": "plaintext"
    }
   },
   "outputs": [
    {
     "data": {
      "image/png": "[encoded data removed]",
      "text/plain": [
       "<Figure size 640x480 with 1 Axes>"
      ]
     },
     "metadata": {},
     "output_type": "display_data"
    }
   ],
   "source": [
    "y_pred_prob_XG = final_XG.predict_proba(X_test_scaled)[:,1]\n",
    "fpr, tpr, thresholds = roc_curve(y_test, y_pred_prob_XG)\n",
    "plt.plot(fpr, tpr)\n",
    "plt.xlim([0.0, 1.0])\n",
    "plt.ylim([0.0, 1.0])\n",
    "plt.title('Curva ROC')\n",
    "plt.xlabel('Ratio de FP (1 - Recall)')\n",
    "plt.ylabel('Ratio TP (Sensitivity)')\n",
    "plt.grid(True)\n",
    "plt.show()"
   ]
  },
  {
   "cell_type": "code",
   "execution_count": 2581,
   "metadata": {
    "vscode": {
     "languageId": "plaintext"
    }
   },
   "outputs": [
    {
     "data": {
      "text/plain": [
       "array([       inf, 0.9999144 , 0.9726599 , ..., 0.01708872, 0.01654997,\n",
       "       0.0033459 ], dtype=float32)"
      ]
     },
     "execution_count": 2581,
     "metadata": {},
     "output_type": "execute_result"
    }
   ],
   "source": [
    "thresholds"
   ]
  },
  {
   "cell_type": "code",
   "execution_count": 2582,
   "metadata": {
    "vscode": {
     "languageId": "plaintext"
    }
   },
   "outputs": [
    {
     "data": {
      "text/plain": [
       "array([<Axes: title={'center': '0'}>, <Axes: title={'center': '1'}>],\n",
       "      dtype=object)"
      ]
     },
     "execution_count": 2582,
     "metadata": {},
     "output_type": "execute_result"
    },
    {
     "data": {
      "image/png": "[encoded data removed]",
      "text/plain": [
       "<Figure size 640x480 with 2 Axes>"
      ]
     },
     "metadata": {},
     "output_type": "display_data"
    }
   ],
   "source": [
    "dprob = pd.DataFrame(data = {'probability':y_pred_prob_XG, 'actual':y_test})\n",
    "dprob.probability.hist(by=dprob.actual, sharex=True, sharey=True)"
   ]
  },
  {
   "cell_type": "code",
   "execution_count": 2583,
   "metadata": {
    "vscode": {
     "languageId": "plaintext"
    }
   },
   "outputs": [
    {
     "name": "stdout",
     "output_type": "stream",
     "text": [
      "Sensitivity: 0.8228419654714475\n",
      "Recall: 0.5573333333333333\n"
     ]
    }
   ],
   "source": [
    "op_thres_XG = 0.3\n",
    "\n",
    "evaluate_threshold(op_thres_XG)"
   ]
  },
  {
   "cell_type": "code",
   "execution_count": 2584,
   "metadata": {},
   "outputs": [],
   "source": [
    "probs_XG_opt = final_XG.predict_proba(X_test_scaled)[:, 1]  \n",
    "pred_thres_XG_opt = (probs_XG_opt >= op_thres_XG).astype(int) "
   ]
  },
  {
   "cell_type": "code",
   "execution_count": 2585,
   "metadata": {},
   "outputs": [
    {
     "name": "stdout",
     "output_type": "stream",
     "text": [
      "[[ 418  332]\n",
      " [ 666 3099]]\n"
     ]
    }
   ],
   "source": [
    "print(confusion_matrix(expected_XG_opt, pred_thres_XG_opt))"
   ]
  },
  {
   "cell_type": "code",
   "execution_count": 2586,
   "metadata": {},
   "outputs": [
    {
     "name": "stdout",
     "output_type": "stream",
     "text": [
      "              precision    recall  f1-score   support\n",
      "\n",
      "           0       0.39      0.56      0.46       750\n",
      "           1       0.90      0.82      0.86      3765\n",
      "\n",
      "    accuracy                           0.78      4515\n",
      "   macro avg       0.64      0.69      0.66      4515\n",
      "weighted avg       0.82      0.78      0.79      4515\n",
      "\n"
     ]
    }
   ],
   "source": [
    "print(classification_report(expected_XG_opt, pred_thres_XG_opt))"
   ]
  },
  {
   "cell_type": "code",
   "execution_count": 232,
   "metadata": {
    "vscode": {
     "languageId": "plaintext"
    }
   },
   "outputs": [
    {
     "name": "stdout",
     "output_type": "stream",
     "text": [
      "0.7163957503320053\n"
     ]
    }
   ],
   "source": [
    "print(roc_auc_score(expected_XG_opt, predicted_XG_opt))"
   ]
  },
  {
   "cell_type": "markdown",
   "metadata": {},
   "source": [
    "# 8. Exportar CSV"
   ]
  },
  {
   "cell_type": "markdown",
   "metadata": {
    "jp-MarkdownHeadingCollapsed": true
   },
   "source": [
    "## 8.1 Clasificador Random Forest"
   ]
  },
  {
   "cell_type": "markdown",
   "metadata": {
    "jp-MarkdownHeadingCollapsed": true
   },
   "source": [
    "### 8.1.1 Seleccion del caso de preprocesado"
   ]
  },
  {
   "cell_type": "markdown",
   "metadata": {},
   "source": [
    "Seleccion del caso de preprocesado."
   ]
  },
  {
   "cell_type": "code",
   "execution_count": 1420,
   "metadata": {},
   "outputs": [],
   "source": [
    "# case - caso de preprocesado seleccionado, valores posibles: 1, 2, 3, 4, 5, 6\n",
    "case = 4"
   ]
  },
  {
   "cell_type": "markdown",
   "metadata": {},
   "source": [
    "Hiperparametros base para cada caso."
   ]
  },
  {
   "cell_type": "code",
   "execution_count": 1423,
   "metadata": {},
   "outputs": [],
   "source": [
    "if case in {1, 2}:\n",
    "    strategy_under = 0\n",
    "    strategy_over = 1\n",
    "    neighbors = 5\n",
    "    \n",
    "elif case in {3, 4}:\n",
    "    strategy_under = 0.6\n",
    "    strategy_over = 0\n",
    "    neighbors = 0\n",
    "    \n",
    "elif case in {5, 6}:\n",
    "    strategy_under = 0.25\n",
    "    strategy_over = 0.5\n",
    "    neighbors = 5"
   ]
  },
  {
   "cell_type": "markdown",
   "metadata": {},
   "source": [
    "Se estandarizan los datos en función del caso."
   ]
  },
  {
   "cell_type": "code",
   "execution_count": 1426,
   "metadata": {},
   "outputs": [],
   "source": [
    "X_scaled_final, prep_final = standard_data(case, X_train_final)"
   ]
  },
  {
   "cell_type": "markdown",
   "metadata": {},
   "source": [
    "Se muestrean los datos en función del caso."
   ]
  },
  {
   "cell_type": "code",
   "execution_count": 1429,
   "metadata": {},
   "outputs": [],
   "source": [
    "X_resampled_final, y_resampled_final = resample_data(case, X_scaled_final, y_train_final, strategy_under, strategy_over, neighbors)"
   ]
  },
  {
   "cell_type": "markdown",
   "metadata": {},
   "source": [
    "Se preprocesa el conjunto de test."
   ]
  },
  {
   "cell_type": "code",
   "execution_count": 1432,
   "metadata": {},
   "outputs": [],
   "source": [
    "X_test_scaled_final = prep_final.transform(X_test_final)"
   ]
  },
  {
   "cell_type": "markdown",
   "metadata": {
    "jp-MarkdownHeadingCollapsed": true
   },
   "source": [
    "### 8.1.2 Entrenamiento y exportacion de las predicciones"
   ]
  },
  {
   "cell_type": "markdown",
   "metadata": {},
   "source": [
    "Se entrena con los nuevos valores de train y test, y se modifica el umbral de probabilidades. En un principio, el valor del umbral era el de la variable *op_thres_Random*, pero se decidió finalmente que el valor del umbral fueran valores numéricos para que fuera más sencillo hacer diversas pruebas en Kaggle."
   ]
  },
  {
   "cell_type": "code",
   "execution_count": 1436,
   "metadata": {},
   "outputs": [],
   "source": [
    "final_Forest.fit(X_resampled_final, y_resampled_final)\n",
    "\n",
    "probs_For_final = final_Forest.predict_proba(X_test_scaled_final)[:, 1]  \n",
    "pred_thres_For_final = (probs_For_final >= 0.55).astype(int) "
   ]
  },
  {
   "cell_type": "markdown",
   "metadata": {},
   "source": [
    "Se crea un *dataframe* con las predicciones obtenidas con su correspondiente *id*."
   ]
  },
  {
   "cell_type": "code",
   "execution_count": 1438,
   "metadata": {},
   "outputs": [],
   "source": [
    "df_accept_Random = pd.DataFrame(pred_thres_For_final, columns=['Accept'])"
   ]
  },
  {
   "cell_type": "code",
   "execution_count": 1439,
   "metadata": {},
   "outputs": [],
   "source": [
    "df_id = df_test['id'].reset_index(drop=True)"
   ]
  },
  {
   "cell_type": "code",
   "execution_count": 1440,
   "metadata": {},
   "outputs": [],
   "source": [
    "df_final_Random = pd.concat([df_id, df_accept_Random], axis=1)"
   ]
  },
  {
   "cell_type": "markdown",
   "metadata": {},
   "source": [
    "Mostramos los resultados obtenidos para tener una idea de la proporción de 1s y 0s de Kaggle."
   ]
  },
  {
   "cell_type": "code",
   "execution_count": 1442,
   "metadata": {},
   "outputs": [
    {
     "data": {
      "text/plain": [
       "Accept\n",
       "1    1737\n",
       "0    1547\n",
       "Name: count, dtype: int64"
      ]
     },
     "execution_count": 1442,
     "metadata": {},
     "output_type": "execute_result"
    }
   ],
   "source": [
    "df_final_Random['Accept'].value_counts()"
   ]
  },
  {
   "cell_type": "markdown",
   "metadata": {},
   "source": [
    "Se transforma el *dataframe* a un archivo *CSV*."
   ]
  },
  {
   "cell_type": "code",
   "execution_count": 1449,
   "metadata": {},
   "outputs": [],
   "source": [
    "df_final_Random.to_csv('./submit/random_v2.csv', index=False)"
   ]
  },
  {
   "cell_type": "markdown",
   "metadata": {
    "jp-MarkdownHeadingCollapsed": true
   },
   "source": [
    "## 8.2 Clasificador MLP"
   ]
  },
  {
   "cell_type": "markdown",
   "metadata": {
    "jp-MarkdownHeadingCollapsed": true
   },
   "source": [
    "### 8.2.1 Seleccion del caso de preprocesado"
   ]
  },
  {
   "cell_type": "markdown",
   "metadata": {},
   "source": [
    "Seleccion del caso de preprocesado."
   ]
  },
  {
   "cell_type": "code",
   "execution_count": 1300,
   "metadata": {},
   "outputs": [],
   "source": [
    "# case - caso de preprocesado seleccionado, valores posibles: 1, 2, 3, 4, 5, 6\n",
    "case = 4"
   ]
  },
  {
   "cell_type": "markdown",
   "metadata": {},
   "source": [
    "Hiperparametros base para cada caso."
   ]
  },
  {
   "cell_type": "code",
   "execution_count": 1303,
   "metadata": {},
   "outputs": [],
   "source": [
    "if case in {1, 2}:\n",
    "    strategy_under = 0\n",
    "    strategy_over = 1\n",
    "    neighbors = 5\n",
    "    \n",
    "elif case in {3, 4}:\n",
    "    strategy_under = 0.8\n",
    "    strategy_over = 0\n",
    "    neighbors = 0\n",
    "    \n",
    "elif case in {5, 6}:\n",
    "    strategy_under = 0.25\n",
    "    strategy_over = 0.5\n",
    "    neighbors = 5"
   ]
  },
  {
   "cell_type": "markdown",
   "metadata": {},
   "source": [
    "Se estandarizan los datos en función del caso."
   ]
  },
  {
   "cell_type": "code",
   "execution_count": 1306,
   "metadata": {},
   "outputs": [],
   "source": [
    "X_scaled_final, prep_final = standard_data(case, X_train_final)"
   ]
  },
  {
   "cell_type": "markdown",
   "metadata": {},
   "source": [
    "Se muestrean los datos en función del caso."
   ]
  },
  {
   "cell_type": "code",
   "execution_count": 1309,
   "metadata": {},
   "outputs": [],
   "source": [
    "X_resampled_final, y_resampled_final = resample_data(case, X_scaled_final, y_train_final, strategy_under, strategy_over, neighbors)"
   ]
  },
  {
   "cell_type": "markdown",
   "metadata": {},
   "source": [
    "Se preprocesa el conjunto de test."
   ]
  },
  {
   "cell_type": "code",
   "execution_count": 1312,
   "metadata": {},
   "outputs": [],
   "source": [
    "X_test_scaled_final = prep_final.transform(X_test_final)"
   ]
  },
  {
   "cell_type": "markdown",
   "metadata": {
    "jp-MarkdownHeadingCollapsed": true
   },
   "source": [
    "### 8.2.2 Entrenamiento y exportacion de las predicciones"
   ]
  },
  {
   "cell_type": "markdown",
   "metadata": {},
   "source": [
    "Se entrena con los nuevos valores de train y test, y se modifica el umbral de probabilidades."
   ]
  },
  {
   "cell_type": "code",
   "execution_count": 1336,
   "metadata": {},
   "outputs": [],
   "source": [
    "final_Mlp.fit(X_resampled_final, y_resampled_final)\n",
    "\n",
    "probs_Mlp_final = final_Mlp.predict_proba(X_test_scaled_final)[:, 1]  \n",
    "pred_thres_Mlp_final = (probs_Mlp_final >= 0.55).astype(int) "
   ]
  },
  {
   "cell_type": "markdown",
   "metadata": {},
   "source": [
    "Se crea un *dataframe* con las predicciones obtenidas con su correspondiente *id*."
   ]
  },
  {
   "cell_type": "code",
   "execution_count": 1338,
   "metadata": {},
   "outputs": [],
   "source": [
    "df_accept_Mlp = pd.DataFrame(pred_thres_Mlp_final, columns=['Accept'])"
   ]
  },
  {
   "cell_type": "code",
   "execution_count": 1339,
   "metadata": {},
   "outputs": [],
   "source": [
    "df_id = df_test['id'].reset_index(drop=True)"
   ]
  },
  {
   "cell_type": "code",
   "execution_count": 1340,
   "metadata": {},
   "outputs": [],
   "source": [
    "df_final_Mlp = pd.concat([df_id, df_accept_Mlp], axis=1)"
   ]
  },
  {
   "cell_type": "markdown",
   "metadata": {},
   "source": [
    "Mostramos los resultados obtenidos para tener una idea de la proporción de 1s y 0s de Kaggle."
   ]
  },
  {
   "cell_type": "code",
   "execution_count": 1342,
   "metadata": {},
   "outputs": [
    {
     "data": {
      "text/plain": [
       "Accept\n",
       "0    1883\n",
       "1    1401\n",
       "Name: count, dtype: int64"
      ]
     },
     "execution_count": 1342,
     "metadata": {},
     "output_type": "execute_result"
    }
   ],
   "source": [
    "df_final_Mlp['Accept'].value_counts()"
   ]
  },
  {
   "cell_type": "markdown",
   "metadata": {},
   "source": [
    "Comprobamos la curva de pérdidas y los scores de validación."
   ]
  },
  {
   "cell_type": "code",
   "execution_count": 1349,
   "metadata": {},
   "outputs": [
    {
     "data": {
      "image/png": "[encoded data removed]",
      "text/plain": [
       "<Figure size 640x480 with 1 Axes>"
      ]
     },
     "metadata": {},
     "output_type": "display_data"
    }
   ],
   "source": [
    "loss_values = final_Mlp.loss_curve_\n",
    "\n",
    "plt.plot(loss_values)\n",
    "plt.title('Curva de Pérdida del Modelo MLP')\n",
    "plt.xlabel('Iteraciones')\n",
    "plt.ylabel('Pérdida')\n",
    "plt.show()"
   ]
  },
  {
   "cell_type": "code",
   "execution_count": 1351,
   "metadata": {},
   "outputs": [
    {
     "data": {
      "image/png": "[encoded data removed]",
      "text/plain": [
       "<Figure size 640x480 with 1 Axes>"
      ]
     },
     "metadata": {},
     "output_type": "display_data"
    }
   ],
   "source": [
    "validation_scores = final_Mlp.validation_scores_\n",
    "\n",
    "plt.plot(validation_scores)\n",
    "plt.title('Puntuaciones de Validación del Modelo MLP')\n",
    "plt.xlabel('Iteraciones')\n",
    "plt.ylabel('Puntuación de Validación')\n",
    "plt.show()"
   ]
  },
  {
   "cell_type": "markdown",
   "metadata": {},
   "source": [
    "Se transforma el *dataframe* a un archivo *CSV*."
   ]
  },
  {
   "cell_type": "code",
   "execution_count": 1354,
   "metadata": {},
   "outputs": [],
   "source": [
    "df_final_Mlp.to_csv('./submit/mlp_v2.csv', index=False)"
   ]
  },
  {
   "cell_type": "markdown",
   "metadata": {
    "jp-MarkdownHeadingCollapsed": true
   },
   "source": [
    "## 8.3 Clasificador KNN"
   ]
  },
  {
   "cell_type": "markdown",
   "metadata": {
    "jp-MarkdownHeadingCollapsed": true
   },
   "source": [
    "### 8.3.1 Seleccion del caso de preprocesado"
   ]
  },
  {
   "cell_type": "markdown",
   "metadata": {},
   "source": [
    "Seleccion del caso de preprocesado."
   ]
  },
  {
   "cell_type": "code",
   "execution_count": 1793,
   "metadata": {},
   "outputs": [],
   "source": [
    "# case - caso de preprocesado seleccionado, valores posibles: 1, 2, 3, 4, 5, 6\n",
    "case = 4"
   ]
  },
  {
   "cell_type": "markdown",
   "metadata": {},
   "source": [
    "Hiperparametros base para cada caso."
   ]
  },
  {
   "cell_type": "code",
   "execution_count": 1796,
   "metadata": {},
   "outputs": [],
   "source": [
    "if case in {1, 2}:\n",
    "    strategy_under = 0\n",
    "    strategy_over = 1\n",
    "    neighbors = 5\n",
    "    \n",
    "elif case in {3, 4}:\n",
    "    strategy_under = 0.8\n",
    "    strategy_over = 0\n",
    "    neighbors = 0\n",
    "    \n",
    "elif case in {5, 6}:\n",
    "    strategy_under = 0.25\n",
    "    strategy_over = 0.5\n",
    "    neighbors = 5"
   ]
  },
  {
   "cell_type": "markdown",
   "metadata": {},
   "source": [
    "Se estandarizan los datos en función del caso."
   ]
  },
  {
   "cell_type": "code",
   "execution_count": 1799,
   "metadata": {},
   "outputs": [],
   "source": [
    "X_scaled_final, prep_final = standard_data(case, X_train_final)"
   ]
  },
  {
   "cell_type": "markdown",
   "metadata": {},
   "source": [
    "Se muestrean los datos en función del caso."
   ]
  },
  {
   "cell_type": "code",
   "execution_count": 1802,
   "metadata": {},
   "outputs": [],
   "source": [
    "X_resampled_final, y_resampled_final = resample_data(case, X_scaled_final, y_train_final, strategy_under, strategy_over, neighbors)"
   ]
  },
  {
   "cell_type": "markdown",
   "metadata": {},
   "source": [
    "Se preprocesa el conjunto de test."
   ]
  },
  {
   "cell_type": "code",
   "execution_count": 1805,
   "metadata": {},
   "outputs": [],
   "source": [
    "X_test_scaled_final = prep_final.transform(X_test_final)"
   ]
  },
  {
   "cell_type": "markdown",
   "metadata": {
    "jp-MarkdownHeadingCollapsed": true
   },
   "source": [
    "### 8.3.2 Entrenamiento y exportacion de las predicciones"
   ]
  },
  {
   "cell_type": "markdown",
   "metadata": {},
   "source": [
    "Se entrena con los nuevos valores de train y test."
   ]
  },
  {
   "cell_type": "code",
   "execution_count": 1839,
   "metadata": {},
   "outputs": [],
   "source": [
    "final_KNN.fit(X_resampled_final, y_resampled_final)\n",
    "\n",
    "probs_KNN_final = final_KNN.predict_proba(X_test_scaled_final)[:, 1]  \n",
    "pred_thres_KNN_final = (probs_KNN_final >= 0.5).astype(int) "
   ]
  },
  {
   "cell_type": "markdown",
   "metadata": {},
   "source": [
    "Se crea un *dataframe* con las predicciones obtenidas con su correspondiente *id*."
   ]
  },
  {
   "cell_type": "code",
   "execution_count": 1841,
   "metadata": {},
   "outputs": [],
   "source": [
    "df_accept_KNN = pd.DataFrame(pred_thres_KNN_final, columns=['Accept'])"
   ]
  },
  {
   "cell_type": "code",
   "execution_count": 1842,
   "metadata": {},
   "outputs": [],
   "source": [
    "df_id = df_test['id'].reset_index(drop=True)"
   ]
  },
  {
   "cell_type": "code",
   "execution_count": 1843,
   "metadata": {},
   "outputs": [],
   "source": [
    "df_final_KNN = pd.concat([df_id, df_accept_KNN], axis=1)"
   ]
  },
  {
   "cell_type": "markdown",
   "metadata": {},
   "source": [
    "Mostramos los resultados obtenidos para tener una idea de la proporción de 1s y 0s de Kaggle."
   ]
  },
  {
   "cell_type": "code",
   "execution_count": 1845,
   "metadata": {},
   "outputs": [
    {
     "data": {
      "text/plain": [
       "Accept\n",
       "1    2023\n",
       "0    1261\n",
       "Name: count, dtype: int64"
      ]
     },
     "execution_count": 1845,
     "metadata": {},
     "output_type": "execute_result"
    }
   ],
   "source": [
    "df_final_KNN['Accept'].value_counts()"
   ]
  },
  {
   "cell_type": "markdown",
   "metadata": {},
   "source": [
    "Se transforma el *dataframe* a un archivo *CSV*."
   ]
  },
  {
   "cell_type": "code",
   "execution_count": 1847,
   "metadata": {},
   "outputs": [],
   "source": [
    "df_final_KNN.to_csv('./submit/knn_v2.csv', index=False)"
   ]
  },
  {
   "cell_type": "markdown",
   "metadata": {
    "jp-MarkdownHeadingCollapsed": true
   },
   "source": [
    "## 8.4 Clasificador GBC"
   ]
  },
  {
   "cell_type": "markdown",
   "metadata": {
    "jp-MarkdownHeadingCollapsed": true
   },
   "source": [
    "### 8.4.1 Seleccion del caso de preprocesado"
   ]
  },
  {
   "cell_type": "markdown",
   "metadata": {},
   "source": [
    "Seleccion del caso de preprocesado."
   ]
  },
  {
   "cell_type": "code",
   "execution_count": 2149,
   "metadata": {},
   "outputs": [],
   "source": [
    "# case - caso de preprocesado seleccionado, valores posibles: 1, 2, 3, 4, 5, 6\n",
    "case = 4"
   ]
  },
  {
   "cell_type": "markdown",
   "metadata": {},
   "source": [
    "Hiperparametros base para cada caso."
   ]
  },
  {
   "cell_type": "code",
   "execution_count": 2152,
   "metadata": {},
   "outputs": [],
   "source": [
    "if case in {1, 2}:\n",
    "    strategy_under = 0\n",
    "    strategy_over = 1\n",
    "    neighbors = 5\n",
    "    \n",
    "elif case in {3, 4}:\n",
    "    strategy_under = 0.8\n",
    "    strategy_over = 0\n",
    "    neighbors = 0\n",
    "    \n",
    "elif case in {5, 6}:\n",
    "    strategy_under = 0.25\n",
    "    strategy_over = 0.5\n",
    "    neighbors = 5"
   ]
  },
  {
   "cell_type": "markdown",
   "metadata": {},
   "source": [
    "Se estandarizan los datos en función del caso."
   ]
  },
  {
   "cell_type": "code",
   "execution_count": 2155,
   "metadata": {},
   "outputs": [],
   "source": [
    "X_scaled_final, prep_final = standard_data(case, X_train_final)"
   ]
  },
  {
   "cell_type": "markdown",
   "metadata": {},
   "source": [
    "Se muestrean los datos en función del caso."
   ]
  },
  {
   "cell_type": "code",
   "execution_count": 2158,
   "metadata": {},
   "outputs": [],
   "source": [
    "X_resampled_final, y_resampled_final = resample_data(case, X_scaled_final, y_train_final, strategy_under, strategy_over, neighbors)"
   ]
  },
  {
   "cell_type": "markdown",
   "metadata": {},
   "source": [
    "Se preprocesa el conjunto de test."
   ]
  },
  {
   "cell_type": "code",
   "execution_count": 2161,
   "metadata": {},
   "outputs": [],
   "source": [
    "X_test_scaled_final = prep_final.transform(X_test_final)"
   ]
  },
  {
   "cell_type": "markdown",
   "metadata": {
    "jp-MarkdownHeadingCollapsed": true
   },
   "source": [
    "### 8.4.2 Entrenamiento y exportacion de las predicciones"
   ]
  },
  {
   "cell_type": "markdown",
   "metadata": {},
   "source": [
    "Se entrena con los nuevos valores de train y test, y se modifica el umbral de probabilidades."
   ]
  },
  {
   "cell_type": "code",
   "execution_count": 2180,
   "metadata": {},
   "outputs": [],
   "source": [
    "final_GBC.fit(X_resampled_final, y_resampled_final)\n",
    "\n",
    "probs_GBC_final = final_GBC.predict_proba(X_test_scaled_final)[:, 1]  \n",
    "pred_thres_GBC_final = (probs_GBC_final >= 0.5).astype(int) "
   ]
  },
  {
   "cell_type": "markdown",
   "metadata": {},
   "source": [
    "Se crea un *dataframe* con las predicciones obtenidas con su correspondiente *id*."
   ]
  },
  {
   "cell_type": "code",
   "execution_count": 2182,
   "metadata": {},
   "outputs": [],
   "source": [
    "df_accept_GBC = pd.DataFrame(pred_thres_GBC_final, columns=['Accept'])"
   ]
  },
  {
   "cell_type": "code",
   "execution_count": 2183,
   "metadata": {},
   "outputs": [],
   "source": [
    "df_id = df_test['id'].reset_index(drop=True)"
   ]
  },
  {
   "cell_type": "code",
   "execution_count": 2184,
   "metadata": {},
   "outputs": [],
   "source": [
    "df_final_GBC = pd.concat([df_id, df_accept_GBC], axis=1)"
   ]
  },
  {
   "cell_type": "markdown",
   "metadata": {},
   "source": [
    "Mostramos los resultados obtenidos para tener una idea de la proporción de 1s y 0s de Kaggle."
   ]
  },
  {
   "cell_type": "code",
   "execution_count": 2186,
   "metadata": {},
   "outputs": [
    {
     "data": {
      "text/plain": [
       "Accept\n",
       "1    1799\n",
       "0    1485\n",
       "Name: count, dtype: int64"
      ]
     },
     "execution_count": 2186,
     "metadata": {},
     "output_type": "execute_result"
    }
   ],
   "source": [
    "df_final_GBC['Accept'].value_counts()"
   ]
  },
  {
   "cell_type": "markdown",
   "metadata": {},
   "source": [
    "Se transforma el *dataframe* a un archivo *CSV*."
   ]
  },
  {
   "cell_type": "code",
   "execution_count": 2188,
   "metadata": {},
   "outputs": [],
   "source": [
    "df_final_GBC.to_csv('./submit/gbc_v2.csv', index=False)"
   ]
  },
  {
   "cell_type": "markdown",
   "metadata": {},
   "source": [
    "## 8.5 Clasificador XGBoost"
   ]
  },
  {
   "cell_type": "markdown",
   "metadata": {
    "jp-MarkdownHeadingCollapsed": true
   },
   "source": [
    "### 8.5.1 Seleccion del caso de preprocesado"
   ]
  },
  {
   "cell_type": "markdown",
   "metadata": {},
   "source": [
    "Seleccion del caso de preprocesado."
   ]
  },
  {
   "cell_type": "code",
   "execution_count": 2665,
   "metadata": {},
   "outputs": [],
   "source": [
    "# case - caso de preprocesado seleccionado, valores posibles: 1, 2, 3, 4, 5, 6\n",
    "case = 4"
   ]
  },
  {
   "cell_type": "markdown",
   "metadata": {},
   "source": [
    "Hiperparametros base para cada caso."
   ]
  },
  {
   "cell_type": "code",
   "execution_count": 2668,
   "metadata": {},
   "outputs": [],
   "source": [
    "if case in {1, 2}:\n",
    "    strategy_under = 0\n",
    "    strategy_over = 1\n",
    "    neighbors = 5\n",
    "    \n",
    "elif case in {3, 4}:\n",
    "    strategy_under = 0.8\n",
    "    strategy_over = 0\n",
    "    neighbors = 0\n",
    "    \n",
    "elif case in {5, 6}:\n",
    "    strategy_under = 0.25\n",
    "    strategy_over = 0.5\n",
    "    neighbors = 5"
   ]
  },
  {
   "cell_type": "markdown",
   "metadata": {},
   "source": [
    "Se estandarizan los datos en función del caso."
   ]
  },
  {
   "cell_type": "code",
   "execution_count": 2670,
   "metadata": {},
   "outputs": [],
   "source": [
    "X_scaled_final, prep_final = standard_data(case, X_train_final)"
   ]
  },
  {
   "cell_type": "markdown",
   "metadata": {},
   "source": [
    "Se muestrean los datos en función del caso."
   ]
  },
  {
   "cell_type": "code",
   "execution_count": 2674,
   "metadata": {},
   "outputs": [],
   "source": [
    "X_resampled_final, y_resampled_final = resample_data(case, X_scaled_final, y_train_final, strategy_under, strategy_over, neighbors)"
   ]
  },
  {
   "cell_type": "markdown",
   "metadata": {},
   "source": [
    "Se preprocesa el conjunto de test."
   ]
  },
  {
   "cell_type": "code",
   "execution_count": 2677,
   "metadata": {},
   "outputs": [],
   "source": [
    "X_test_scaled_final = prep_final.transform(X_test_final)"
   ]
  },
  {
   "cell_type": "markdown",
   "metadata": {
    "jp-MarkdownHeadingCollapsed": true
   },
   "source": [
    "### 8.5.2 Entrenamiento y exportacion de las predicciones"
   ]
  },
  {
   "cell_type": "markdown",
   "metadata": {},
   "source": [
    "Se entrena con los nuevos valores de train y test."
   ]
  },
  {
   "cell_type": "code",
   "execution_count": 2681,
   "metadata": {},
   "outputs": [],
   "source": [
    "final_XG.fit(X_resampled_final, y_resampled_final)\n",
    "\n",
    "probs_XG_final = final_XG.predict_proba(X_test_scaled_final)[:, 1]  \n",
    "pred_thres_XG_final = (probs_XG_final >= 0.55).astype(int) "
   ]
  },
  {
   "cell_type": "markdown",
   "metadata": {},
   "source": [
    "Se crea un *dataframe* con las predicciones obtenidas con su correspondiente *id*."
   ]
  },
  {
   "cell_type": "code",
   "execution_count": 2684,
   "metadata": {},
   "outputs": [],
   "source": [
    "df_accept_XG = pd.DataFrame(pred_thres_XG_final, columns=['Accept'])"
   ]
  },
  {
   "cell_type": "code",
   "execution_count": 2686,
   "metadata": {},
   "outputs": [],
   "source": [
    "df_id = df_test['id'].reset_index(drop=True)"
   ]
  },
  {
   "cell_type": "code",
   "execution_count": 2688,
   "metadata": {},
   "outputs": [],
   "source": [
    "df_final_XG = pd.concat([df_id, df_accept_XG], axis=1)"
   ]
  },
  {
   "cell_type": "markdown",
   "metadata": {},
   "source": [
    "Mostramos los resultados obtenidos para tener una idea de la proporción de 1s y 0s de Kaggle."
   ]
  },
  {
   "cell_type": "code",
   "execution_count": 2691,
   "metadata": {},
   "outputs": [
    {
     "data": {
      "text/plain": [
       "Accept\n",
       "1    1952\n",
       "0    1332\n",
       "Name: count, dtype: int64"
      ]
     },
     "execution_count": 2691,
     "metadata": {},
     "output_type": "execute_result"
    }
   ],
   "source": [
    "df_final_XG['Accept'].value_counts()"
   ]
  },
  {
   "cell_type": "markdown",
   "metadata": {},
   "source": [
    "Se transforma el *dataframe* a un archivo *CSV*."
   ]
  },
  {
   "cell_type": "code",
   "execution_count": 2694,
   "metadata": {},
   "outputs": [],
   "source": [
    "df_final_XG.to_csv('./submit/xg.csv', index=False)"
   ]
  },
  {
   "cell_type": "markdown",
   "metadata": {
    "jp-MarkdownHeadingCollapsed": true
   },
   "source": [
    "## 8.6 Ensemble de los modelos por votacion"
   ]
  },
  {
   "cell_type": "markdown",
   "metadata": {
    "jp-MarkdownHeadingCollapsed": true
   },
   "source": [
    "### 8.6.1 Seleccion del caso de preprocesado"
   ]
  },
  {
   "cell_type": "markdown",
   "metadata": {},
   "source": [
    "Seleccion del caso de preprocesado."
   ]
  },
  {
   "cell_type": "code",
   "execution_count": 3014,
   "metadata": {},
   "outputs": [],
   "source": [
    "# case - caso de preprocesado seleccionado, valores posibles: 1, 2, 3, 4, 5, 6\n",
    "case = 4"
   ]
  },
  {
   "cell_type": "markdown",
   "metadata": {},
   "source": [
    "Hiperparametros base para cada caso."
   ]
  },
  {
   "cell_type": "code",
   "execution_count": 3017,
   "metadata": {},
   "outputs": [],
   "source": [
    "if case in {1, 2}:\n",
    "    strategy_under = 0\n",
    "    strategy_over = 1\n",
    "    neighbors = 5\n",
    "    \n",
    "elif case in {3, 4}:\n",
    "    strategy_under = 0.8\n",
    "    strategy_over = 0\n",
    "    neighbors = 0\n",
    "    \n",
    "elif case in {5, 6}:\n",
    "    strategy_under = 0.25\n",
    "    strategy_over = 0.5\n",
    "    neighbors = 5"
   ]
  },
  {
   "cell_type": "markdown",
   "metadata": {},
   "source": [
    "Se estandarizan los datos en función del caso."
   ]
  },
  {
   "cell_type": "code",
   "execution_count": 3020,
   "metadata": {},
   "outputs": [],
   "source": [
    "X_scaled_final, prep_final = standard_data(case, X_train_final)"
   ]
  },
  {
   "cell_type": "markdown",
   "metadata": {},
   "source": [
    "Se muestrean los datos en función del caso."
   ]
  },
  {
   "cell_type": "code",
   "execution_count": 3023,
   "metadata": {},
   "outputs": [],
   "source": [
    "X_resampled_final, y_resampled_final = resample_data(case, X_scaled_final, y_train_final, strategy_under, strategy_over, neighbors)"
   ]
  },
  {
   "cell_type": "markdown",
   "metadata": {},
   "source": [
    "Se preprocesa el conjunto de test."
   ]
  },
  {
   "cell_type": "code",
   "execution_count": 3026,
   "metadata": {},
   "outputs": [],
   "source": [
    "X_test_scaled_final = prep_final.transform(X_test_final)"
   ]
  },
  {
   "cell_type": "markdown",
   "metadata": {
    "jp-MarkdownHeadingCollapsed": true
   },
   "source": [
    "### 8.6.2 Entrenamiento y exportacion de las predicciones"
   ]
  },
  {
   "cell_type": "markdown",
   "metadata": {},
   "source": [
    "Se entrena con los nuevos valores de train y test. Se ha decidido no incluir en el ensemble el clasificador LinearSVC por sus malos resultados."
   ]
  },
  {
   "cell_type": "code",
   "execution_count": 3077,
   "metadata": {},
   "outputs": [],
   "source": [
    "voting_clf = VotingClassifier( \n",
    "    estimators=[\n",
    "        ('RF', final_Forest),\n",
    "        ('GBC', final_GBC),\n",
    "        ('XG', final_XG),\n",
    "    ],\n",
    "    voting='soft',\n",
    "    weights=[2, 1, 3],\n",
    "    n_jobs=-1\n",
    ")"
   ]
  },
  {
   "cell_type": "code",
   "execution_count": 3079,
   "metadata": {},
   "outputs": [],
   "source": [
    "voting_clf.fit(X_resampled_final, y_resampled_final)\n",
    "\n",
    "probs_Vote_final = voting_clf.predict_proba(X_test_scaled_final)[:, 1]  \n",
    "pred_thres_Vote_final = (probs_Vote_final >= 0.45).astype(int) "
   ]
  },
  {
   "cell_type": "markdown",
   "metadata": {},
   "source": [
    "Se crea un *dataframe* con las predicciones obtenidas con su correspondiente *id*."
   ]
  },
  {
   "cell_type": "code",
   "execution_count": 3081,
   "metadata": {},
   "outputs": [],
   "source": [
    "df_accept_vote = pd.DataFrame(pred_thres_Vote_final, columns=['Accept'])"
   ]
  },
  {
   "cell_type": "code",
   "execution_count": 3082,
   "metadata": {},
   "outputs": [],
   "source": [
    "df_id = df_test['id'].reset_index(drop=True)"
   ]
  },
  {
   "cell_type": "code",
   "execution_count": 3083,
   "metadata": {},
   "outputs": [],
   "source": [
    "df_final_vote = pd.concat([df_id, df_accept_vote], axis=1)"
   ]
  },
  {
   "cell_type": "markdown",
   "metadata": {},
   "source": [
    "Mostramos los resultados obtenidos para tener una idea de la proporción de 1s y 0s de Kaggle."
   ]
  },
  {
   "cell_type": "code",
   "execution_count": 3085,
   "metadata": {},
   "outputs": [
    {
     "data": {
      "text/plain": [
       "Accept\n",
       "1    1961\n",
       "0    1323\n",
       "Name: count, dtype: int64"
      ]
     },
     "execution_count": 3085,
     "metadata": {},
     "output_type": "execute_result"
    }
   ],
   "source": [
    "df_final_vote['Accept'].value_counts()"
   ]
  },
  {
   "cell_type": "markdown",
   "metadata": {},
   "source": [
    "Se transforma el *dataframe* a un archivo *CSV*."
   ]
  },
  {
   "cell_type": "code",
   "execution_count": 3092,
   "metadata": {},
   "outputs": [],
   "source": [
    "df_final_vote.to_csv('./submit/vote_v2.csv', index=False)"
   ]
  }
 ],
 "metadata": {
  "kernelspec": {
   "display_name": "Python 3 (ipykernel)",
   "language": "python",
   "name": "python3"
  },
  "language_info": {
   "codemirror_mode": {
    "name": "ipython",
    "version": 3
   },
   "file_extension": ".py",
   "mimetype": "text/x-python",
   "name": "python",
   "nbconvert_exporter": "python",
   "pygments_lexer": "ipython3",
   "version": "3.12.7"
  }
 },
 "nbformat": 4,
 "nbformat_minor": 4
}
