{
 "cells": [
  {
   "cell_type": "markdown",
   "metadata": {},
   "source": [
    "<header style=\"width:100%;position:relative\">\n",
    "  <div style=\"width:80%;float:right;\">\n",
    "    <h1>Challenge Loan Approval Prediction in Pennsylvania</h1>\n",
    "    <h3>Entrenamiento y evaluación de los modelos</h3>\n",
    "    <h5>Grupo 2</h5>\n",
    "  </div>\n",
    "        <img style=\"width:15%;\" src=\"./images/logo.jpg\" alt=\"UPM\" />\n",
    "</header>"
   ]
  },
  {
   "cell_type": "markdown",
   "metadata": {},
   "source": [
    "# Índice"
   ]
  },
  {
   "cell_type": "markdown",
   "metadata": {},
   "source": [
    "1. [Importar librerias](#1.-Importar-librerias)\n",
    "2. [Variables globales y funciones auxiliares](#2.-Variables-globales-y-funciones-auxiliares)\n",
    "3. [Carga del dataframe](#3.-Carga-del-dataframe)\n",
    "4. [Selección de las características](#4.-Seleccion-de-las-caracteristicas)\n",
    "5. [Carga de los datos y división en entrenamiento y test](#5.-Carga-de-los-datos-y-division-en-entrenamiento-y-test)\n",
    "6. [Modelos seleccionados](#6.-Modelos-seleccionados)\n",
    "    * 6.1 [Introducción](#6.1-Introduccion)\n",
    "    * 6.2 [Clasificador Random Forest](#6.2-Clasificador-Random-Forest)\n",
    "    * 6.3 [Clasificador MLP](#6.3-Clasificador-MLP)\n",
    "    * 6.4 [Clasificador KNN](#6.4-Clasificador-KNN)\n",
    "    * 6.5 [Clasificador GBC](#6.5-Clasificador-GBC)\n",
    "    * 6.6 [Clasificador LinearSVC](#6.6-Clasificador-LinearSVC)\n",
    "7. [Exportar CSV](#7.-Exportar-CSV)\n",
    "    * 7.1 [Clasificador Random Forest](#7.1-Clasificador-Random-Forest)\n",
    "    * 7.2 [Clasificador MLP](#7.2-Clasificador-MLP)\n",
    "    * 7.3 [Clasificador KNN](#7.3-Clasificador-KNN)\n",
    "    * 7.4 [Clasificador GBC](#7.4-Clasificador-GBC)\n",
    "    * 7.5 [Clasificador LinearSVC](#7.5-Clasificador-LinearSVC)"
   ]
  },
  {
   "cell_type": "markdown",
   "metadata": {},
   "source": [
    "# 1. Importar librerias"
   ]
  },
  {
   "cell_type": "code",
   "execution_count": 5,
   "metadata": {
    "vscode": {
     "languageId": "plaintext"
    }
   },
   "outputs": [
    {
     "name": "stdout",
     "output_type": "stream",
     "text": [
      "Todas las librerias fueron correctamente importadas.\n"
     ]
    }
   ],
   "source": [
    "# General import and load data\n",
    "import pandas as pd\n",
    "import numpy as np\n",
    "\n",
    "# Resampling\n",
    "from imblearn.under_sampling import RandomUnderSampler\n",
    "from imblearn.over_sampling import SMOTE\n",
    "\n",
    "# Preprocessing\n",
    "from sklearn.compose import ColumnTransformer\n",
    "from sklearn.decomposition import PCA\n",
    "from sklearn.preprocessing import StandardScaler\n",
    "\n",
    "# Splitting\n",
    "from sklearn.model_selection import train_test_split\n",
    "\n",
    "# Estimators\n",
    "from sklearn.svm import LinearSVC\n",
    "from sklearn.neural_network import MLPClassifier\n",
    "from sklearn.neighbors import KNeighborsClassifier\n",
    "from sklearn.ensemble import RandomForestClassifier, GradientBoostingClassifier, VotingClassifier\n",
    "\n",
    "# Evaluation\n",
    "from sklearn.metrics import accuracy_score, confusion_matrix, classification_report\n",
    "from sklearn.metrics import make_scorer, f1_score, recall_score, roc_curve, roc_auc_score\n",
    "\n",
    "# Optimization\n",
    "from sklearn.model_selection import GridSearchCV, PredefinedSplit\n",
    "\n",
    "# Visualization\n",
    "import matplotlib.pyplot as plt\n",
    "\n",
    "# Time optimization\n",
    "import time\n",
    "\n",
    "print(\"Todas las librerias fueron correctamente importadas.\")"
   ]
  },
  {
   "cell_type": "markdown",
   "metadata": {
    "jp-MarkdownHeadingCollapsed": true
   },
   "source": [
    "# 2. Variables globales y funciones auxiliares"
   ]
  },
  {
   "cell_type": "markdown",
   "metadata": {},
   "source": [
    "Se fija un seed para todo el documento para fijar la aleatoriedad y así obtener resultados replicables."
   ]
  },
  {
   "cell_type": "code",
   "execution_count": 8,
   "metadata": {},
   "outputs": [],
   "source": [
    "seed = 42"
   ]
  },
  {
   "cell_type": "markdown",
   "metadata": {},
   "source": [
    "Función utilizado para evaluar los distintos umbrales en la curva de ROC."
   ]
  },
  {
   "cell_type": "code",
   "execution_count": 10,
   "metadata": {},
   "outputs": [],
   "source": [
    "def evaluate_threshold(threshold):\n",
    "    print('Sensitivity:', tpr[thresholds > threshold][-1])\n",
    "    print('Recall:', 1 - fpr[thresholds > threshold][-1])"
   ]
  },
  {
   "cell_type": "markdown",
   "metadata": {},
   "source": [
    "Función utilizada para estandarizar los datos en función del caso de preprocesado escogido."
   ]
  },
  {
   "cell_type": "code",
   "execution_count": 12,
   "metadata": {},
   "outputs": [],
   "source": [
    "def standard_data(case, X):\n",
    "    \n",
    "    if case in {1, 3, 5}:\n",
    "        prep = StandardScaler().fit(X)\n",
    "        X_scaled = prep.transform(X)\n",
    "        \n",
    "    elif case in {2, 4, 6}:\n",
    "        prep = ColumnTransformer([\n",
    "            ('numericas', StandardScaler(), numeric_vars)\n",
    "        ], remainder='passthrough').fit(X) \n",
    "        X_scaled = prep.transform(X) \n",
    "        \n",
    "    else:\n",
    "        raise ValueError(\"El valor de 'case' no es válido. Debe estar entre 1 y 6.\")\n",
    "    \n",
    "    return X_scaled, prep"
   ]
  },
  {
   "cell_type": "markdown",
   "metadata": {},
   "source": [
    "Función utilizada para muestrear los datos en función del caso de preprocesado escogido."
   ]
  },
  {
   "cell_type": "code",
   "execution_count": 14,
   "metadata": {},
   "outputs": [],
   "source": [
    "def resample_data(case, X, y, strategy_under, strategy_over, neighbors=5):\n",
    "    \n",
    "    if case in {1, 2}:\n",
    "        ovsamp = SMOTE(sampling_strategy=strategy_over, k_neighbors=neighbors, random_state=seed)\n",
    "        X_resampled, y_resampled = ovsamp.fit_resample(X, y)\n",
    "        \n",
    "    elif case in {3, 4}:\n",
    "        unsamp = RandomUnderSampler(sampling_strategy=strategy_under, random_state=seed)\n",
    "        X_resampled, y_resampled = unsamp.fit_resample(X, y)\n",
    "        \n",
    "    elif case in {5, 6}:\n",
    "        unsamp = RandomUnderSampler(sampling_strategy=strategy_under, random_state=seed)\n",
    "        X_undersampled, y_undersampled = unsamp.fit_resample(X, y)\n",
    "        ovsamp = SMOTE(sampling_strategy=strategy_over, k_neighbors=neighbors, random_state=seed)\n",
    "        X_resampled, y_resampled = ovsamp.fit_resample(X_undersampled, y_undersampled)\n",
    "        \n",
    "    else:\n",
    "        raise ValueError(\"El valor de 'case' no es válido. Debe estar entre 1 y 6.\")\n",
    "    \n",
    "    return X_resampled, y_resampled"
   ]
  },
  {
   "cell_type": "markdown",
   "metadata": {
    "jp-MarkdownHeadingCollapsed": true
   },
   "source": [
    "# 3. Carga del dataframe"
   ]
  },
  {
   "cell_type": "markdown",
   "metadata": {},
   "source": [
    "Se cargan los datos de la ruta *formated/train_exportado.csv*, los cuales son los datos ya procesados por uno de nuestros compañeros."
   ]
  },
  {
   "cell_type": "code",
   "execution_count": 17,
   "metadata": {},
   "outputs": [
    {
     "name": "stdout",
     "output_type": "stream",
     "text": [
      "Datos cargados correctamente\n",
      "\n"
     ]
    }
   ],
   "source": [
    "url = \"formated/train_exportado.csv\"\n",
    "df = pd.read_csv(url)\n",
    "\n",
    "print(\"Datos cargados correctamente\\n\")"
   ]
  },
  {
   "cell_type": "markdown",
   "metadata": {},
   "source": [
    "También cargamos el test que debemos predecir para Kaggle de la ruta *formated/test_exportado.csv*."
   ]
  },
  {
   "cell_type": "code",
   "execution_count": 19,
   "metadata": {},
   "outputs": [
    {
     "name": "stdout",
     "output_type": "stream",
     "text": [
      "Test cargado correctamente\n",
      "\n"
     ]
    }
   ],
   "source": [
    "url = \"formated/test_exportado.csv\"\n",
    "df_test = pd.read_csv(url)\n",
    "\n",
    "print(\"Test cargado correctamente\\n\")"
   ]
  },
  {
   "cell_type": "markdown",
   "metadata": {
    "jp-MarkdownHeadingCollapsed": true
   },
   "source": [
    "# 4. Seleccion de las caracteristicas"
   ]
  },
  {
   "cell_type": "markdown",
   "metadata": {},
   "source": [
    "Se seleccionan todas las características a excepción de las categoricas sin codificadar, al ya tener la misma információn codificada."
   ]
  },
  {
   "cell_type": "code",
   "execution_count": 22,
   "metadata": {},
   "outputs": [],
   "source": [
    "selected_features = [\n",
    "    # Caracteristicas numericas\n",
    "    'ApprovalFY', 'NoEmp', 'CreateJob', 'RetainedJob', 'DisbursementGross',\n",
    "\n",
    "    # Caracteristicas categoricas binarias\n",
    "    'NewExist_Binary', 'Franchise_Binary', 'UrbanRural_Binary',\n",
    "    'RevLineCr_Binary', 'LowDoc_Binary', 'CreateJob_Binary',\n",
    "    'RetainedJob_Binary',\n",
    "\n",
    "    # Caracteristicas categoricas codificadas\n",
    "    'Bank_Categorized_cod', 'BankState_Categorized_cod',\n",
    "    'ApprovalFY_Grouped_cod', 'NoEmp_Grouped_cod', \n",
    "    'DisbursementGross_Grouped_cod',\n",
    "\n",
    "     # Time-related features\n",
    "    'ApprovalDate_quarter', 'DisbursementDate_quarter',\n",
    "\n",
    "    # Caracteristicas relacionadas con BankState_Categorized tras un One Hot Encoding\n",
    "    'BankState_DE', 'BankState_IL', 'BankState_OH', \n",
    "    'BankState_Otros', 'BankState_RI'\n",
    "]"
   ]
  },
  {
   "cell_type": "markdown",
   "metadata": {},
   "source": [
    "De las cuales, numéricas son las siguientes:"
   ]
  },
  {
   "cell_type": "code",
   "execution_count": 24,
   "metadata": {},
   "outputs": [],
   "source": [
    "numeric_vars = ['ApprovalFY', 'NoEmp', 'CreateJob', 'RetainedJob', 'DisbursementGross']"
   ]
  },
  {
   "cell_type": "markdown",
   "metadata": {
    "jp-MarkdownHeadingCollapsed": true
   },
   "source": [
    "# 5. Carga de los datos y division en entrenamiento y test"
   ]
  },
  {
   "cell_type": "markdown",
   "metadata": {},
   "source": [
    "Cargamos las caracteristicas seleccionadas en la variable X y el objetivo *Accept* en la variable y."
   ]
  },
  {
   "cell_type": "code",
   "execution_count": 27,
   "metadata": {},
   "outputs": [],
   "source": [
    "X = df[selected_features] \n",
    "y = df['Accept'].values"
   ]
  },
  {
   "cell_type": "markdown",
   "metadata": {},
   "source": [
    "Se separa ya en entrenamiento y test para no falsear los datos del test al realizar el balanceo."
   ]
  },
  {
   "cell_type": "code",
   "execution_count": 29,
   "metadata": {},
   "outputs": [],
   "source": [
    "X_train, X_test, y_train, y_test = train_test_split(X, y, test_size=0.2, random_state=seed)"
   ]
  },
  {
   "cell_type": "markdown",
   "metadata": {},
   "source": [
    "A la hora de subir el modelo a Kaggle, ya se nos da dividido el entrenamiento y el test. Por ello, se utilizarán todos los datos tratados como entrenamiento (aunque también se le aplicará el mejor caso de preprocesado para cada modelo)."
   ]
  },
  {
   "cell_type": "code",
   "execution_count": 31,
   "metadata": {},
   "outputs": [],
   "source": [
    "X_train_final = X\n",
    "y_train_final = y\n",
    "\n",
    "X_test_final = df_test[selected_features] "
   ]
  },
  {
   "cell_type": "markdown",
   "metadata": {},
   "source": [
    "# 6. Modelos seleccionados"
   ]
  },
  {
   "cell_type": "markdown",
   "metadata": {
    "jp-MarkdownHeadingCollapsed": true
   },
   "source": [
    "## 6.1 Introduccion"
   ]
  },
  {
   "cell_type": "markdown",
   "metadata": {},
   "source": [
    "En el anterior notebook se evaluaron 10 modelos tanto por F1 score como por ROC-AUC score. Los resultados de mayor a menor de los modelos respecto a la F1-Score fueron los siguientes:\n",
    "* Random Forest: 0.867449\n",
    "* MLP: 0.811513\n",
    "* DecisionTree: 0.790538\n",
    "* KNN: 0.767966\n",
    "* LinearSVC: 0.664541\n",
    "* LogReg: 0.663316\n",
    "* SVC_sigmoid: 0.617281\n",
    "* GaussianNB: 0.568654\n",
    "* SVC_poly: 0.526099\n",
    "* SVC_rbf: 0.411304\n",
    "\n",
    "En cambio, los resultados de mayor a menor de los modelos respecto a la ROC-AUC Score fueron los siguientes:\n",
    "* Random Forest: 0.934825\n",
    "* MLP: 0.884770\n",
    "* KNN: 0.874725\n",
    "* DecisionTree: 0.795805\n",
    "* LinearSVC: 0.715244\n",
    "* LogReg: 0.715162\n",
    "* GaussianNB: 0.705878\n",
    "* SVC_rbf: 0.692410\n",
    "* SVC_poly: 0.658396\n",
    "* SVC_sigmoid: 0.556961"
   ]
  },
  {
   "cell_type": "markdown",
   "metadata": {},
   "source": [
    "Se decidió entrenar y optimizar los hiperparámetros de cuatro modelos. Los modelos escogidos fueron Random Forest, MLP, KNN y LinearSVC, es decir, los cuatro primeros tanto por F1-score como por ROC-AUC score (se ha excluido Decision Tree por ya estar probando un clasificador basado en árbol de decisión, y en un principio mejor)."
   ]
  },
  {
   "cell_type": "markdown",
   "metadata": {
    "jp-MarkdownHeadingCollapsed": true
   },
   "source": [
    "## 6.2 Clasificador Random Forest"
   ]
  },
  {
   "cell_type": "markdown",
   "metadata": {
    "jp-MarkdownHeadingCollapsed": true
   },
   "source": [
    "### 6.2.1 Seleccion del caso de preprocesado"
   ]
  },
  {
   "cell_type": "markdown",
   "metadata": {},
   "source": [
    "Seleccion del caso de preprocesado."
   ]
  },
  {
   "cell_type": "code",
   "execution_count": 39,
   "metadata": {},
   "outputs": [],
   "source": [
    "# case - caso de preprocesado seleccionado, valores posibles: 1, 2, 3, 4, 5, 6\n",
    "case = 4"
   ]
  },
  {
   "cell_type": "markdown",
   "metadata": {},
   "source": [
    "Hiperparametros base para cada caso."
   ]
  },
  {
   "cell_type": "code",
   "execution_count": 41,
   "metadata": {},
   "outputs": [],
   "source": [
    "if case in {1, 2}:\n",
    "    strategy_under = 0\n",
    "    strategy_over = 1\n",
    "    neighbors = 5\n",
    "    \n",
    "elif case in {3, 4}:\n",
    "    strategy_under = 0.8\n",
    "    strategy_over = 0\n",
    "    neighbors = 0\n",
    "    \n",
    "elif case in {5, 6}:\n",
    "    strategy_under = 0.25\n",
    "    strategy_over = 0.5\n",
    "    neighbors = 5"
   ]
  },
  {
   "cell_type": "markdown",
   "metadata": {},
   "source": [
    "Se estandarizan los datos en función del caso."
   ]
  },
  {
   "cell_type": "code",
   "execution_count": 43,
   "metadata": {},
   "outputs": [],
   "source": [
    "X_scaled, prep = standard_data(case, X_train)"
   ]
  },
  {
   "cell_type": "markdown",
   "metadata": {},
   "source": [
    "Se muestrean los datos en función del caso."
   ]
  },
  {
   "cell_type": "code",
   "execution_count": 45,
   "metadata": {},
   "outputs": [],
   "source": [
    "X_resampled, y_resampled = resample_data(case, X_scaled, y_train, strategy_under, strategy_over, neighbors)"
   ]
  },
  {
   "cell_type": "markdown",
   "metadata": {},
   "source": [
    "Se reducen las dimensionalidades mediante un *PCA*."
   ]
  },
  {
   "cell_type": "code",
   "execution_count": 47,
   "metadata": {},
   "outputs": [],
   "source": [
    "pca = PCA()\n",
    "X_pca_full = pca.fit_transform(X_resampled)\n",
    "\n",
    "cumulative_variance_ratio = np.cumsum(pca.explained_variance_ratio_)\n",
    "n_comp = np.argmax(cumulative_variance_ratio >= 0.95) + 1\n",
    "X_pca = X_pca_full[:, :n_comp]"
   ]
  },
  {
   "cell_type": "markdown",
   "metadata": {},
   "source": [
    "Al igual que se ha realizado distintos preprocesados al entrenamiento, hay que realizarlos al conjunto de test para obtener resultados coherentes.\n",
    "\n",
    "No es necesario realizar las tecnicas de muestreo ya que eso son técnicas para balancear nuestro conjunto de entrenamiento. Solamente es necesario realizar la misma estandarización de las características y aplicar la misma reducción de dimensionalidad."
   ]
  },
  {
   "cell_type": "code",
   "execution_count": 49,
   "metadata": {},
   "outputs": [],
   "source": [
    "X_test_scaled = prep.transform(X_test)\n",
    "X_test_pca_full = pca.transform(X_test_scaled)\n",
    "X_test_pca = X_test_pca_full[:, :n_comp]"
   ]
  },
  {
   "cell_type": "markdown",
   "metadata": {
    "jp-MarkdownHeadingCollapsed": true
   },
   "source": [
    "### 6.2.2 Definicion"
   ]
  },
  {
   "cell_type": "markdown",
   "metadata": {},
   "source": [
    "Definimos el modelo con los hiperparámetros *random_state* fijado y *class_weigth* balanceado. También se escoje *n_jobs* con valor -1 para utilizar todos los procesadores."
   ]
  },
  {
   "cell_type": "code",
   "execution_count": 52,
   "metadata": {
    "vscode": {
     "languageId": "plaintext"
    }
   },
   "outputs": [],
   "source": [
    "model_Forest = RandomForestClassifier(class_weight=\"balanced\", n_jobs=-1, random_state=seed)"
   ]
  },
  {
   "cell_type": "markdown",
   "metadata": {
    "jp-MarkdownHeadingCollapsed": true
   },
   "source": [
    "### 6.2.3 Entrenamiento y evaluacion"
   ]
  },
  {
   "cell_type": "markdown",
   "metadata": {},
   "source": [
    "Entrenamos el modelo y comprobamos su exactitud."
   ]
  },
  {
   "cell_type": "code",
   "execution_count": 55,
   "metadata": {
    "vscode": {
     "languageId": "plaintext"
    }
   },
   "outputs": [],
   "source": [
    "model_Forest.fit(X_pca, y_resampled)\n",
    "\n",
    "predicted_Forest = model_Forest.predict(X_test_pca)\n",
    "expected_Forest = y_test"
   ]
  },
  {
   "cell_type": "code",
   "execution_count": 56,
   "metadata": {
    "scrolled": true,
    "vscode": {
     "languageId": "plaintext"
    }
   },
   "outputs": [
    {
     "data": {
      "text/plain": [
       "0.7339977851605759"
      ]
     },
     "execution_count": 56,
     "metadata": {},
     "output_type": "execute_result"
    }
   ],
   "source": [
    "accuracy_score(expected_Forest, predicted_Forest)"
   ]
  },
  {
   "cell_type": "markdown",
   "metadata": {
    "jp-MarkdownHeadingCollapsed": true
   },
   "source": [
    "### 6.2.4 Null accuracy"
   ]
  },
  {
   "cell_type": "markdown",
   "metadata": {},
   "source": [
    "Ahora se va a evaluar si  el modelo siempre predice la clase más frecuente."
   ]
  },
  {
   "cell_type": "code",
   "execution_count": 59,
   "metadata": {
    "vscode": {
     "languageId": "plaintext"
    }
   },
   "outputs": [
    {
     "data": {
      "text/plain": [
       "1    3765\n",
       "0     750\n",
       "Name: count, dtype: int64"
      ]
     },
     "execution_count": 59,
     "metadata": {},
     "output_type": "execute_result"
    }
   ],
   "source": [
    "s_y_test = pd.Series(y_test)\n",
    "s_y_test.value_counts()"
   ]
  },
  {
   "cell_type": "code",
   "execution_count": 60,
   "metadata": {
    "vscode": {
     "languageId": "plaintext"
    }
   },
   "outputs": [
    {
     "data": {
      "text/plain": [
       "0.8338870431893688"
      ]
     },
     "execution_count": 60,
     "metadata": {},
     "output_type": "execute_result"
    }
   ],
   "source": [
    "y_test.mean()"
   ]
  },
  {
   "cell_type": "code",
   "execution_count": 61,
   "metadata": {
    "vscode": {
     "languageId": "plaintext"
    }
   },
   "outputs": [
    {
     "data": {
      "text/plain": [
       "0.1661129568106312"
      ]
     },
     "execution_count": 61,
     "metadata": {},
     "output_type": "execute_result"
    }
   ],
   "source": [
    "1 - y_test.mean() "
   ]
  },
  {
   "cell_type": "code",
   "execution_count": 62,
   "metadata": {},
   "outputs": [
    {
     "data": {
      "text/plain": [
       "0.8338870431893688"
      ]
     },
     "execution_count": 62,
     "metadata": {},
     "output_type": "execute_result"
    }
   ],
   "source": [
    "max(y_test.mean(), 1 - y_test.mean())"
   ]
  },
  {
   "cell_type": "code",
   "execution_count": 63,
   "metadata": {
    "vscode": {
     "languageId": "plaintext"
    }
   },
   "outputs": [
    {
     "data": {
      "text/plain": [
       "1    0.833887\n",
       "Name: count, dtype: float64"
      ]
     },
     "execution_count": 63,
     "metadata": {},
     "output_type": "execute_result"
    }
   ],
   "source": [
    "s_y_test.value_counts().head(1) / len(y_test)"
   ]
  },
  {
   "cell_type": "markdown",
   "metadata": {},
   "source": [
    "Nuestra exactitud es de 0.733, la cual es peor que la *null accuracy*, es decir, ahora mismo no tenemos un buen modelo ya que se predecirían un mayor número de resultados en el caso de siempre predecir la clase mayoritaria."
   ]
  },
  {
   "cell_type": "markdown",
   "metadata": {
    "jp-MarkdownHeadingCollapsed": true
   },
   "source": [
    "### 6.2.5 Matriz de confusion y F-score"
   ]
  },
  {
   "cell_type": "markdown",
   "metadata": {},
   "source": [
    "Se muestra la matriz de confusión y el informe de clasificación."
   ]
  },
  {
   "cell_type": "code",
   "execution_count": 67,
   "metadata": {
    "vscode": {
     "languageId": "plaintext"
    }
   },
   "outputs": [
    {
     "name": "stdout",
     "output_type": "stream",
     "text": [
      "[[ 443  307]\n",
      " [ 894 2871]]\n"
     ]
    }
   ],
   "source": [
    "print(confusion_matrix(expected_Forest, predicted_Forest))"
   ]
  },
  {
   "cell_type": "code",
   "execution_count": 68,
   "metadata": {
    "vscode": {
     "languageId": "plaintext"
    }
   },
   "outputs": [
    {
     "name": "stdout",
     "output_type": "stream",
     "text": [
      "              precision    recall  f1-score   support\n",
      "\n",
      "           0       0.33      0.59      0.42       750\n",
      "           1       0.90      0.76      0.83      3765\n",
      "\n",
      "    accuracy                           0.73      4515\n",
      "   macro avg       0.62      0.68      0.63      4515\n",
      "weighted avg       0.81      0.73      0.76      4515\n",
      "\n"
     ]
    }
   ],
   "source": [
    "print(classification_report(expected_Forest, predicted_Forest))"
   ]
  },
  {
   "cell_type": "markdown",
   "metadata": {},
   "source": [
    "Se observa lo que hemos estado comentando durante todo el documento, tenemos un f1-score del 0.83 para los 1s mientras que estamos obteniendo un 0.42 para los 0s"
   ]
  },
  {
   "cell_type": "markdown",
   "metadata": {
    "jp-MarkdownHeadingCollapsed": true
   },
   "source": [
    "### 6.2.6 ROC y AUC"
   ]
  },
  {
   "cell_type": "markdown",
   "metadata": {},
   "source": [
    "Evaluamos la ROC-AUC score. Para ello representamos primero la curva de ROC."
   ]
  },
  {
   "cell_type": "code",
   "execution_count": 72,
   "metadata": {
    "vscode": {
     "languageId": "plaintext"
    }
   },
   "outputs": [
    {
     "data": {
      "image/png": "[encoded data removed]",
      "text/plain": [
       "<Figure size 640x480 with 1 Axes>"
      ]
     },
     "metadata": {},
     "output_type": "display_data"
    }
   ],
   "source": [
    "y_pred_prob_Forest = model_Forest.predict_proba(X_test_pca)[:,1]\n",
    "fpr, tpr, thresholds = roc_curve(y_test, y_pred_prob_Forest)\n",
    "plt.plot(fpr, tpr)\n",
    "plt.xlim([0.0, 1.0])\n",
    "plt.ylim([0.0, 1.0])\n",
    "plt.title('Curva ROC')\n",
    "plt.xlabel('Ratio de FP (1 - Recall)')\n",
    "plt.ylabel('Ratio TP (Sensitivity)')\n",
    "plt.grid(True)\n",
    "plt.show()"
   ]
  },
  {
   "cell_type": "markdown",
   "metadata": {},
   "source": [
    "Y mostramos sus thresholds."
   ]
  },
  {
   "cell_type": "code",
   "execution_count": 74,
   "metadata": {
    "vscode": {
     "languageId": "plaintext"
    }
   },
   "outputs": [
    {
     "data": {
      "text/plain": [
       "array([       inf, 1.        , 0.99      , 0.98      , 0.97      ,\n",
       "       0.96      , 0.95      , 0.94      , 0.93      , 0.92      ,\n",
       "       0.91      , 0.9       , 0.89      , 0.88      , 0.87      ,\n",
       "       0.86      , 0.85      , 0.84      , 0.83      , 0.82285741,\n",
       "       0.82      , 0.81285741, 0.81      , 0.80444477, 0.8       ,\n",
       "       0.79      , 0.78      , 0.77174295, 0.77      , 0.75      ,\n",
       "       0.74717085, 0.74      , 0.73285741, 0.73      , 0.72      ,\n",
       "       0.71666696, 0.71      , 0.70447303, 0.7       , 0.69      ,\n",
       "       0.68      , 0.67137947, 0.67      , 0.66888954, 0.66      ,\n",
       "       0.65285741, 0.65      , 0.64615416, 0.64      , 0.63      ,\n",
       "       0.62444477, 0.62      , 0.61      , 0.60102576, 0.6       ,\n",
       "       0.59615416, 0.59      , 0.58444477, 0.58      , 0.57494895,\n",
       "       0.57      , 0.56494895, 0.56      , 0.55      , 0.54330738,\n",
       "       0.54166685, 0.54      , 0.53      , 0.52      , 0.51375031,\n",
       "       0.51      , 0.50912118, 0.50721869, 0.5       , 0.49347856,\n",
       "       0.49      , 0.48285741, 0.48      , 0.47      , 0.46689249,\n",
       "       0.46230875, 0.46      , 0.45901157, 0.45      , 0.44      ,\n",
       "       0.43545487, 0.43167662, 0.43      , 0.42375031, 0.42      ,\n",
       "       0.41      , 0.40545487, 0.4       , 0.39285741, 0.39      ,\n",
       "       0.38226577, 0.38      , 0.37444477, 0.37365337, 0.37175666,\n",
       "       0.37      , 0.36666696, 0.36330309, 0.36      , 0.35653728,\n",
       "       0.35285741, 0.35034017, 0.35      , 0.34      , 0.33730218,\n",
       "       0.33444477, 0.33      , 0.32      , 0.31444477, 0.31      ,\n",
       "       0.3       , 0.29444477, 0.29      , 0.28137947, 0.28      ,\n",
       "       0.27      , 0.26302341, 0.26      , 0.2560538 , 0.25210548,\n",
       "       0.25      , 0.24444477, 0.24      , 0.23      , 0.22414064,\n",
       "       0.22      , 0.21      , 0.2       , 0.19615416, 0.19444477,\n",
       "       0.19      , 0.18170152, 0.18      , 0.17444477, 0.17210548,\n",
       "       0.17      , 0.16      , 0.15      , 0.14285741, 0.14      ,\n",
       "       0.13203999, 0.13      , 0.12      , 0.1170591 , 0.11      ,\n",
       "       0.1       , 0.09      , 0.08      , 0.07861795, 0.07210548,\n",
       "       0.07      , 0.06      , 0.05861795, 0.05      , 0.04      ,\n",
       "       0.03      , 0.01      , 0.        ])"
      ]
     },
     "execution_count": 74,
     "metadata": {},
     "output_type": "execute_result"
    }
   ],
   "source": [
    "thresholds"
   ]
  },
  {
   "cell_type": "markdown",
   "metadata": {},
   "source": [
    "Sorprendentemente, el modelo muestra un mejor rendimiento del esperado, aunque se aboserva la situación con los 0s al aumentar más rápido el eje *x* respecto al eje *y*."
   ]
  },
  {
   "cell_type": "markdown",
   "metadata": {},
   "source": [
    "La siguiente gráfica muestra las probabilidades de predicción en función de los umbrales."
   ]
  },
  {
   "cell_type": "code",
   "execution_count": 77,
   "metadata": {
    "vscode": {
     "languageId": "plaintext"
    }
   },
   "outputs": [
    {
     "data": {
      "text/plain": [
       "array([<Axes: title={'center': '0'}>, <Axes: title={'center': '1'}>],\n",
       "      dtype=object)"
      ]
     },
     "execution_count": 77,
     "metadata": {},
     "output_type": "execute_result"
    },
    {
     "data": {
      "image/png": "[encoded data removed]",
      "text/plain": [
       "<Figure size 640x480 with 2 Axes>"
      ]
     },
     "metadata": {},
     "output_type": "display_data"
    }
   ],
   "source": [
    "dprob = pd.DataFrame(data = {'probability':y_pred_prob_Forest, 'actual':y_test})\n",
    "dprob.probability.hist(by=dprob.actual, sharex=True, sharey=True)"
   ]
  },
  {
   "cell_type": "markdown",
   "metadata": {},
   "source": [
    "Se muestra que los mejores resultados para ambas clases se obtiene con el *threshold* igual a 0.75."
   ]
  },
  {
   "cell_type": "code",
   "execution_count": 79,
   "metadata": {
    "vscode": {
     "languageId": "plaintext"
    }
   },
   "outputs": [
    {
     "name": "stdout",
     "output_type": "stream",
     "text": [
      "Sensitivity: 0.8523240371845949\n",
      "Recall: 0.45599999999999996\n"
     ]
    }
   ],
   "source": [
    "best_thres_Random = 0.4\n",
    "\n",
    "evaluate_threshold(best_thres_Random)"
   ]
  },
  {
   "cell_type": "markdown",
   "metadata": {},
   "source": [
    "Con este valor se obtienen los siguientes resultados. Primero se recalculan las predicciones."
   ]
  },
  {
   "cell_type": "code",
   "execution_count": 81,
   "metadata": {},
   "outputs": [],
   "source": [
    "probs_Forest = model_Forest.predict_proba(X_test_pca)[:, 1]  \n",
    "pred_thres_Forest = (probs_Forest >= best_thres_Random).astype(int) "
   ]
  },
  {
   "cell_type": "markdown",
   "metadata": {},
   "source": [
    "Se evalua la matriz de confusión."
   ]
  },
  {
   "cell_type": "code",
   "execution_count": 83,
   "metadata": {},
   "outputs": [
    {
     "name": "stdout",
     "output_type": "stream",
     "text": [
      "[[ 329  421]\n",
      " [ 535 3230]]\n"
     ]
    }
   ],
   "source": [
    "print(confusion_matrix(expected_Forest, pred_thres_Forest))"
   ]
  },
  {
   "cell_type": "markdown",
   "metadata": {},
   "source": [
    "Y también se analiza el informe de la clasificación."
   ]
  },
  {
   "cell_type": "code",
   "execution_count": 85,
   "metadata": {},
   "outputs": [
    {
     "name": "stdout",
     "output_type": "stream",
     "text": [
      "              precision    recall  f1-score   support\n",
      "\n",
      "           0       0.38      0.44      0.41       750\n",
      "           1       0.88      0.86      0.87      3765\n",
      "\n",
      "    accuracy                           0.79      4515\n",
      "   macro avg       0.63      0.65      0.64      4515\n",
      "weighted avg       0.80      0.79      0.79      4515\n",
      "\n"
     ]
    }
   ],
   "source": [
    "print(classification_report(expected_Forest, pred_thres_Forest))"
   ]
  },
  {
   "cell_type": "markdown",
   "metadata": {},
   "source": [
    "Es decir, se obtiene una mejora significatica de la exactitud, a costa de empeorar 0.01 en la f1-score de los 0s."
   ]
  },
  {
   "cell_type": "markdown",
   "metadata": {},
   "source": [
    "Finalmente se calcula el valor de AUC."
   ]
  },
  {
   "cell_type": "code",
   "execution_count": 88,
   "metadata": {
    "vscode": {
     "languageId": "plaintext"
    }
   },
   "outputs": [
    {
     "name": "stdout",
     "output_type": "stream",
     "text": [
      "0.6766082337317396\n"
     ]
    }
   ],
   "source": [
    "print(roc_auc_score(expected_Forest, predicted_Forest))"
   ]
  },
  {
   "cell_type": "markdown",
   "metadata": {},
   "source": [
    "Se ha obtenido un valor entre 0.6 y 0.7, es decir, el modelo se considerá como pobre o *D*."
   ]
  },
  {
   "cell_type": "markdown",
   "metadata": {
    "jp-MarkdownHeadingCollapsed": true
   },
   "source": [
    "### 6.2.7 Optimizacion"
   ]
  },
  {
   "cell_type": "markdown",
   "metadata": {},
   "source": [
    "Antes de nada, observamos cuales son los parámetros de nuestro modelo."
   ]
  },
  {
   "cell_type": "code",
   "execution_count": 92,
   "metadata": {
    "vscode": {
     "languageId": "plaintext"
    }
   },
   "outputs": [
    {
     "data": {
      "text/plain": [
       "{'bootstrap': True,\n",
       " 'ccp_alpha': 0.0,\n",
       " 'class_weight': 'balanced',\n",
       " 'criterion': 'gini',\n",
       " 'max_depth': None,\n",
       " 'max_features': 'sqrt',\n",
       " 'max_leaf_nodes': None,\n",
       " 'max_samples': None,\n",
       " 'min_impurity_decrease': 0.0,\n",
       " 'min_samples_leaf': 1,\n",
       " 'min_samples_split': 2,\n",
       " 'min_weight_fraction_leaf': 0.0,\n",
       " 'monotonic_cst': None,\n",
       " 'n_estimators': 100,\n",
       " 'n_jobs': -1,\n",
       " 'oob_score': False,\n",
       " 'random_state': 42,\n",
       " 'verbose': 0,\n",
       " 'warm_start': False}"
      ]
     },
     "execution_count": 92,
     "metadata": {},
     "output_type": "execute_result"
    }
   ],
   "source": [
    "model_Forest.get_params()"
   ]
  },
  {
   "cell_type": "markdown",
   "metadata": {},
   "source": [
    "También creemos que es interesante saber la profundidad media de nuestro modelo Random Forest, para así poder estimar mejor rango de valores en este apartado."
   ]
  },
  {
   "cell_type": "code",
   "execution_count": 94,
   "metadata": {},
   "outputs": [
    {
     "name": "stdout",
     "output_type": "stream",
     "text": [
      "Profundidad media de los árboles: 29.21\n"
     ]
    }
   ],
   "source": [
    "arboles_decision = model_Forest.estimators_\n",
    "\n",
    "profundidades = [arbol.tree_.max_depth for arbol in arboles_decision]\n",
    "profundidad_media = np.mean(profundidades)\n",
    "\n",
    "print(f\"Profundidad media de los árboles: {profundidad_media}\")"
   ]
  },
  {
   "cell_type": "markdown",
   "metadata": {},
   "source": [
    "Ahora seleccionamos los hiperparámetros a evaluar mediante un GridSearchCV. Como se evalua mediante un *cross validation*, siempre escogeremos los casos 3 o 4 de preprocesado para falsear menos los datos. Además, se ha añadido la librería *time* para saber el tiempo que tardo en realizar la busqueda de mejores parámetros.\n",
    "\n",
    "Estos hiperparámetros son:\n",
    "* n_estimator: número de árboles.\n",
    "* criterion: función para medir la calidad de una partición.\n",
    "* max_depth: máxima profundidad de cada árbol.\n",
    "* min_samples_split: número de muestras mínimas para dividir un nodo interno.\n",
    "* min_samples_leaf: número de muestras mínimas de un nodo hoja.\n",
    "* max_features: número de características a tener en cuenta a la hora de buscar la mejor división.\n",
    "* class_weight: pesos asignados a las clases."
   ]
  },
  {
   "cell_type": "raw",
   "metadata": {
    "vscode": {
     "languageId": "plaintext"
    }
   },
   "source": [
    "optm_Forest = RandomForestClassifier(n_jobs=-1, random_state=seed)\n",
    "\n",
    "param_grid = {\n",
    "    'n_estimators': [150, 200, 250, 300],\n",
    "    'criterion': ['gini', 'entropy', 'log_loss'],\n",
    "    'max_depth': [25, 35],\n",
    "    'min_samples_split': [2, 5, 10],\n",
    "    'min_samples_leaf': [2, 4],\n",
    "    'max_features': [4, 10, 14],\n",
    "    'class_weight': ['balanced', 'balanced_subsample']\n",
    "}\n",
    "\n",
    "grid_search = GridSearchCV(optm_Forest, param_grid=param_grid, scoring=make_scorer(f1_score, average='weighted'), n_jobs=-1)\n",
    "\n",
    "inicio = time.time()\n",
    "grid_search.fit(X_pca, y_resampled)\n",
    "fin = time.time()"
   ]
  },
  {
   "cell_type": "markdown",
   "metadata": {},
   "source": [
    "Se calcula el tiempo que ha tardado en minutos."
   ]
  },
  {
   "cell_type": "raw",
   "metadata": {},
   "source": [
    "tiempo_total = (fin - inicio) / 60\n",
    "print(f\"La celda tardó {tiempo_total} minutos en ejecutarse.\")"
   ]
  },
  {
   "cell_type": "markdown",
   "metadata": {},
   "source": [
    "Se escoge el mejor parámetro y su  precisión asociada."
   ]
  },
  {
   "cell_type": "raw",
   "metadata": {
    "vscode": {
     "languageId": "plaintext"
    }
   },
   "source": [
    "print(\"Mejores parámetros: \", grid_search.best_params_)\n",
    "print(\"Mejor score: \", grid_search.best_score_)"
   ]
  },
  {
   "cell_type": "markdown",
   "metadata": {},
   "source": [
    "Observamos los mejores 10 casos para analizar varias posibilidades."
   ]
  },
  {
   "cell_type": "raw",
   "metadata": {},
   "source": [
    "results_df = pd.DataFrame(grid_search.cv_results_)"
   ]
  },
  {
   "cell_type": "raw",
   "metadata": {},
   "source": [
    "top_10_models = results_df.nlargest(10, \"mean_test_score\")\n",
    "\n",
    "print(\"\\nLos 10 mejores modelos:\")\n",
    "for index, row in top_10_models.iterrows():\n",
    "    print(\"\\nModelo:\")\n",
    "    print(f\"Parámetros: {row['params']}\")\n",
    "    print(f\"Puntuación media de prueba: {row['mean_test_score']}\")"
   ]
  },
  {
   "cell_type": "markdown",
   "metadata": {
    "jp-MarkdownHeadingCollapsed": true
   },
   "source": [
    "### 6.2.8 Entramiento y evaluacion con hiperparametros optimizados"
   ]
  },
  {
   "cell_type": "markdown",
   "metadata": {
    "jp-MarkdownHeadingCollapsed": true
   },
   "source": [
    "#### - Definicion"
   ]
  },
  {
   "cell_type": "markdown",
   "metadata": {},
   "source": [
    "Definimos los mejores parámetros (no se define con *grid_search.best_params_* para probar varias opciones de forma sencilla)."
   ]
  },
  {
   "cell_type": "code",
   "execution_count": 102,
   "metadata": {
    "vscode": {
     "languageId": "plaintext"
    }
   },
   "outputs": [],
   "source": [
    "params_final_Forest = {\n",
    "    'class_weight': 'balanced_subsample',\n",
    "    'max_depth': 25,\n",
    "    'max_features': 4,\n",
    "    'min_samples_leaf': 4,\n",
    "    'min_samples_split': 2,\n",
    "    'n_estimators': 300,\n",
    "    'n_jobs': -1,\n",
    "    'random_state': seed\n",
    "}"
   ]
  },
  {
   "cell_type": "markdown",
   "metadata": {},
   "source": [
    "Definimos el modelo desagregando el diccionario."
   ]
  },
  {
   "cell_type": "code",
   "execution_count": 104,
   "metadata": {},
   "outputs": [],
   "source": [
    "final_Forest = RandomForestClassifier(**params_final_Forest)"
   ]
  },
  {
   "cell_type": "markdown",
   "metadata": {
    "jp-MarkdownHeadingCollapsed": true
   },
   "source": [
    "#### - Entrenamiento y evaluacion"
   ]
  },
  {
   "cell_type": "markdown",
   "metadata": {},
   "source": [
    "Entrenamos el modelo y comprobamos su exactitud."
   ]
  },
  {
   "cell_type": "code",
   "execution_count": 107,
   "metadata": {
    "vscode": {
     "languageId": "plaintext"
    }
   },
   "outputs": [],
   "source": [
    "final_Forest.fit(X_pca, y_resampled)\n",
    "\n",
    "predicted_For_opt = final_Forest.predict(X_test_pca)\n",
    "expected_For_opt = y_test"
   ]
  },
  {
   "cell_type": "code",
   "execution_count": 108,
   "metadata": {
    "vscode": {
     "languageId": "plaintext"
    }
   },
   "outputs": [
    {
     "data": {
      "text/plain": [
       "0.7260243632336656"
      ]
     },
     "execution_count": 108,
     "metadata": {},
     "output_type": "execute_result"
    }
   ],
   "source": [
    "accuracy_score(expected_For_opt, predicted_For_opt)"
   ]
  },
  {
   "cell_type": "markdown",
   "metadata": {
    "jp-MarkdownHeadingCollapsed": true
   },
   "source": [
    "#### - Null accuracy"
   ]
  },
  {
   "cell_type": "markdown",
   "metadata": {},
   "source": [
    "La accuracy es similar a la anterior. Además, sigue siendo peor que la *null accuracy*."
   ]
  },
  {
   "cell_type": "markdown",
   "metadata": {
    "jp-MarkdownHeadingCollapsed": true
   },
   "source": [
    "#### - Matriz de confusion y F-score"
   ]
  },
  {
   "cell_type": "markdown",
   "metadata": {},
   "source": [
    "La matriz de confusión y el informe de clasificación también es muy similar."
   ]
  },
  {
   "cell_type": "code",
   "execution_count": 113,
   "metadata": {},
   "outputs": [
    {
     "name": "stdout",
     "output_type": "stream",
     "text": [
      "[[ 467  283]\n",
      " [ 954 2811]]\n"
     ]
    }
   ],
   "source": [
    "print(confusion_matrix(expected_For_opt, predicted_For_opt))"
   ]
  },
  {
   "cell_type": "code",
   "execution_count": 114,
   "metadata": {
    "vscode": {
     "languageId": "plaintext"
    }
   },
   "outputs": [
    {
     "name": "stdout",
     "output_type": "stream",
     "text": [
      "              precision    recall  f1-score   support\n",
      "\n",
      "           0       0.33      0.62      0.43       750\n",
      "           1       0.91      0.75      0.82      3765\n",
      "\n",
      "    accuracy                           0.73      4515\n",
      "   macro avg       0.62      0.68      0.62      4515\n",
      "weighted avg       0.81      0.73      0.75      4515\n",
      "\n"
     ]
    }
   ],
   "source": [
    "print(classification_report(expected_For_opt, predicted_For_opt))"
   ]
  },
  {
   "cell_type": "markdown",
   "metadata": {
    "jp-MarkdownHeadingCollapsed": true
   },
   "source": [
    "#### - ROC y AUC"
   ]
  },
  {
   "cell_type": "markdown",
   "metadata": {},
   "source": [
    "Se calcula el ROC y se reajusta el umbral de probabilidad."
   ]
  },
  {
   "cell_type": "code",
   "execution_count": 117,
   "metadata": {
    "vscode": {
     "languageId": "plaintext"
    }
   },
   "outputs": [
    {
     "data": {
      "image/png": "[encoded data removed]",
      "text/plain": [
       "<Figure size 640x480 with 1 Axes>"
      ]
     },
     "metadata": {},
     "output_type": "display_data"
    }
   ],
   "source": [
    "y_pred_prob_Forest = final_Forest.predict_proba(X_test_pca)[:,1]\n",
    "fpr, tpr, thresholds = roc_curve(y_test, y_pred_prob_Forest)\n",
    "plt.plot(fpr, tpr)\n",
    "plt.xlim([0.0, 1.0])\n",
    "plt.ylim([0.0, 1.0])\n",
    "plt.title('Curva ROC')\n",
    "plt.xlabel('Ratio de FP (1 - Recall)')\n",
    "plt.ylabel('Ratio TP (Sensitivity)')\n",
    "plt.grid(True)\n",
    "plt.show()"
   ]
  },
  {
   "cell_type": "code",
   "execution_count": 118,
   "metadata": {
    "vscode": {
     "languageId": "plaintext"
    }
   },
   "outputs": [
    {
     "data": {
      "text/plain": [
       "array([       inf, 0.99637653, 0.97221666, ..., 0.03552526, 0.02568752,\n",
       "       0.01293869])"
      ]
     },
     "execution_count": 118,
     "metadata": {},
     "output_type": "execute_result"
    }
   ],
   "source": [
    "thresholds"
   ]
  },
  {
   "cell_type": "code",
   "execution_count": 119,
   "metadata": {
    "vscode": {
     "languageId": "plaintext"
    }
   },
   "outputs": [
    {
     "data": {
      "text/plain": [
       "array([<Axes: title={'center': '0'}>, <Axes: title={'center': '1'}>],\n",
       "      dtype=object)"
      ]
     },
     "execution_count": 119,
     "metadata": {},
     "output_type": "execute_result"
    },
    {
     "data": {
      "image/png": "[encoded data removed]",
      "text/plain": [
       "<Figure size 640x480 with 2 Axes>"
      ]
     },
     "metadata": {},
     "output_type": "display_data"
    }
   ],
   "source": [
    "dprob = pd.DataFrame(data = {'probability':y_pred_prob_Forest, 'actual':y_test})\n",
    "dprob.probability.hist(by=dprob.actual, sharex=True, sharey=True)"
   ]
  },
  {
   "cell_type": "code",
   "execution_count": 120,
   "metadata": {
    "vscode": {
     "languageId": "plaintext"
    }
   },
   "outputs": [
    {
     "name": "stdout",
     "output_type": "stream",
     "text": [
      "Sensitivity: 0.8889774236387782\n",
      "Recall: 0.396\n"
     ]
    }
   ],
   "source": [
    "op_thres_Random = 0.35\n",
    "\n",
    "evaluate_threshold(op_thres_Random)"
   ]
  },
  {
   "cell_type": "code",
   "execution_count": 121,
   "metadata": {},
   "outputs": [],
   "source": [
    "probs_For_opt = final_Forest.predict_proba(X_test_pca)[:, 1]  \n",
    "pred_thres_For_opt = (probs_For_opt >= op_thres_Random).astype(int) "
   ]
  },
  {
   "cell_type": "code",
   "execution_count": 122,
   "metadata": {},
   "outputs": [
    {
     "name": "stdout",
     "output_type": "stream",
     "text": [
      "[[ 297  453]\n",
      " [ 417 3348]]\n"
     ]
    }
   ],
   "source": [
    "print(confusion_matrix(expected_For_opt, pred_thres_For_opt))"
   ]
  },
  {
   "cell_type": "code",
   "execution_count": 123,
   "metadata": {},
   "outputs": [
    {
     "name": "stdout",
     "output_type": "stream",
     "text": [
      "              precision    recall  f1-score   support\n",
      "\n",
      "           0       0.42      0.40      0.41       750\n",
      "           1       0.88      0.89      0.89      3765\n",
      "\n",
      "    accuracy                           0.81      4515\n",
      "   macro avg       0.65      0.64      0.65      4515\n",
      "weighted avg       0.80      0.81      0.81      4515\n",
      "\n"
     ]
    }
   ],
   "source": [
    "print(classification_report(expected_For_opt, pred_thres_For_opt))"
   ]
  },
  {
   "cell_type": "markdown",
   "metadata": {},
   "source": [
    "Se obtiene la misma accuracy aunque mejora la *f1 score* en los 0s."
   ]
  },
  {
   "cell_type": "markdown",
   "metadata": {},
   "source": [
    "Se calcula la AUC score."
   ]
  },
  {
   "cell_type": "code",
   "execution_count": 126,
   "metadata": {
    "vscode": {
     "languageId": "plaintext"
    }
   },
   "outputs": [
    {
     "name": "stdout",
     "output_type": "stream",
     "text": [
      "0.6846401062416999\n"
     ]
    }
   ],
   "source": [
    "print(roc_auc_score(expected_For_opt, predicted_For_opt))"
   ]
  },
  {
   "cell_type": "markdown",
   "metadata": {},
   "source": [
    "También ha tenido una pequeña mejora, pero sigue en el mismo intervalo. Es decir, sigue siendo un modelo *D*."
   ]
  },
  {
   "cell_type": "markdown",
   "metadata": {
    "jp-MarkdownHeadingCollapsed": true
   },
   "source": [
    "### 6.2.9 Conclusiones"
   ]
  },
  {
   "cell_type": "markdown",
   "metadata": {},
   "source": [
    "A continuación se muestra los resultados de los modelos optimizados y sin optimizar. Cabe recalcar que se probaron otros cuatro conjuntos de hiperparámetros para la mayoria de los casos de preprocesado, pero se acabó considerando absurdo porque mejoraba o empeoraba 0.01 en diversos valores."
   ]
  },
  {
   "cell_type": "markdown",
   "metadata": {},
   "source": [
    "Caso X: accuracy - f1 score 0s - aux score - accuracy y f1 score 0s (threshold)\n",
    "\n",
    "Caso 1: \n",
    "* Normal:      0.78 - 0.35 - 0.612 - 0.75 y 0,38 (0.6)\n",
    "* Optimizado:  0.78 - 0.40 - 0.642 - 0.78 y 0.40 (0.5)\n",
    "\n",
    "Caso 2: \n",
    "* Normal:      0.78 - 0.38 - 0.627 - 0.75 y 0,40 (0.6)\n",
    "* Optimizado:  0.77 - 0.40 - 0.645 - 0.77 y 0.40 (0.5)\n",
    "\n",
    "Caso 3:\n",
    "* Normal:      0.72 - 0.41 - 0.666 - 0.78 y 0,41 (0.4)\n",
    "* Optimizado:  0.72 - 0.43 - 0.689 - 0.80 y 0.40 (0.35)\n",
    "\n",
    "Caso 4: \n",
    "* Normal:      0.73 - 0.42 - 0.676 - 0.79 y 0,41 (0.4)\n",
    "* Optimizado:  0.73 - 0.43 - 0.684 - 0.81 y 0.41 (0.35)\n",
    "\n",
    "Caso 5: \n",
    "* Normal:      0.80 - 0.34 - 0.602 - 0.78 y 0,37 (0.6)\n",
    "* Optimizado:  0.79 - 0.38 - 0.632 - 0.77 y 0.40 (0.55)\n",
    "\n",
    "Caso 6: \n",
    "* Normal:      0.81 - 0.37 - 0.619 - 0.78 y 0,39 (0.6)\n",
    "* Optimizado:  0.78 - 0.40 - 0.684 - 0.76 y 0.41 (0.55)\n",
    "\n",
    "Caso 3-2 (undersampling = 0.6): \n",
    "* Normal:      0.77 - 0.40 - 0.664 - 0.78 y 0,41 (0.4)\n",
    "* Optimizado:  0.72 - 0.43 - 0.689 - 0.79 y 0.40 (0.4)\n",
    "\n",
    "Caso 4-2 (undersampling = 0.6):\n",
    "* Normal:      0.78 - 0.42 - 0.664 - 0.80 y 0,40 (0.45)\n",
    "* Optimizado:  0.75 - 0.42 - 0.670 - 0.80 y 0.42 (0.4)\n",
    "\n",
    "Caso 5-2 (undersampling = 0.6 y oversampling = 0.8): \n",
    "* Normal:      0.75 - 0.40 - 0.651 - 0.80 y 0,39 (0.4)\n",
    "* Optimizado:  0.74 - 0.42 - 0.672 - 0.79 y 0.41 (0.55)\n",
    "\n",
    "Caso 6-2 (undersampling = 0.6 y oversampling = 0.8): \n",
    "* Normal:      0.75 - 0.41 - 0.659 - 0.78 y 0,41 (0.45)\n",
    "* Optimizado:  0.74 - 0.43 - 0.676 - 0.81 y 0.39 (0.35)"
   ]
  },
  {
   "cell_type": "markdown",
   "metadata": {},
   "source": [
    "Se observa que para este modelo todos son valores muy similares. Por ello se probará primero a la hora de subirlo con el caso mejor (el cuatro) pero también se realizarán pruebas sobre Kaggle con el resto."
   ]
  },
  {
   "cell_type": "markdown",
   "metadata": {
    "jp-MarkdownHeadingCollapsed": true
   },
   "source": [
    "## 6.3 Clasificador MLP"
   ]
  },
  {
   "cell_type": "markdown",
   "metadata": {
    "jp-MarkdownHeadingCollapsed": true
   },
   "source": [
    "### 6.3.1 Seleccion del caso de preprocesado"
   ]
  },
  {
   "cell_type": "markdown",
   "metadata": {},
   "source": [
    "Seleccion del caso de preprocesado."
   ]
  },
  {
   "cell_type": "code",
   "execution_count": 135,
   "metadata": {},
   "outputs": [],
   "source": [
    "# case - caso de preprocesado seleccionado, valores posibles: 1, 2, 3, 4, 5, 6\n",
    "case = 6"
   ]
  },
  {
   "cell_type": "markdown",
   "metadata": {},
   "source": [
    "Hiperparametros base para cada caso."
   ]
  },
  {
   "cell_type": "code",
   "execution_count": 137,
   "metadata": {},
   "outputs": [],
   "source": [
    "if case in {1, 2}:\n",
    "    strategy_under = 0\n",
    "    strategy_over = 1\n",
    "    neighbors = 5\n",
    "    \n",
    "elif case in {3, 4}:\n",
    "    strategy_under = 0.8\n",
    "    strategy_over = 0\n",
    "    neighbors = 0\n",
    "    \n",
    "elif case in {5, 6}:\n",
    "    strategy_under = 0.25\n",
    "    strategy_over = 0.5\n",
    "    neighbors = 5"
   ]
  },
  {
   "cell_type": "markdown",
   "metadata": {},
   "source": [
    "Se estandarizan los datos en función del caso."
   ]
  },
  {
   "cell_type": "code",
   "execution_count": 139,
   "metadata": {},
   "outputs": [],
   "source": [
    "X_scaled, prep = standard_data(case, X_train)"
   ]
  },
  {
   "cell_type": "markdown",
   "metadata": {},
   "source": [
    "Se muestrean los datos en función del caso."
   ]
  },
  {
   "cell_type": "code",
   "execution_count": 141,
   "metadata": {},
   "outputs": [],
   "source": [
    "X_resampled, y_resampled = resample_data(case, X_scaled, y_train, strategy_under, strategy_over, neighbors)"
   ]
  },
  {
   "cell_type": "markdown",
   "metadata": {},
   "source": [
    "Se reducen las dimensionalidades mediante un *PCA*."
   ]
  },
  {
   "cell_type": "code",
   "execution_count": 143,
   "metadata": {},
   "outputs": [],
   "source": [
    "pca = PCA()\n",
    "X_pca_full = pca.fit_transform(X_resampled)\n",
    "\n",
    "cumulative_variance_ratio = np.cumsum(pca.explained_variance_ratio_)\n",
    "n_comp = np.argmax(cumulative_variance_ratio >= 0.95) + 1\n",
    "X_pca = X_pca_full[:, :n_comp]"
   ]
  },
  {
   "cell_type": "markdown",
   "metadata": {},
   "source": [
    "Al igual que se ha realizado distintos preprocesados al entrenamiento, hay que realizarlos al conjunto de test para obtener resultados coherentes.\n",
    "\n",
    "No es necesario realizar las tecnicas de muestreo ya que eso son técnicas para balancear nuestro conjunto de entrenamiento. Solamente es necesario realizar la misma estandarización de las características y aplicar la misma reducción de dimensionalidad."
   ]
  },
  {
   "cell_type": "code",
   "execution_count": 145,
   "metadata": {},
   "outputs": [],
   "source": [
    "X_test_scaled = prep.transform(X_test)\n",
    "X_test_pca_full = pca.transform(X_test_scaled)\n",
    "X_test_pca = X_test_pca_full[:, :n_comp]"
   ]
  },
  {
   "cell_type": "markdown",
   "metadata": {
    "jp-MarkdownHeadingCollapsed": true
   },
   "source": [
    "### 6.3.2 Definicion"
   ]
  },
  {
   "cell_type": "markdown",
   "metadata": {},
   "source": [
    "Definimos el modelo con los hiperparámetros *random_state* fijado y *max_iter* con valor 1000. También se escoje *hidden_layer_sizes* con los mismos valores que en el notebook de evaluación de los modelos."
   ]
  },
  {
   "cell_type": "code",
   "execution_count": 148,
   "metadata": {
    "vscode": {
     "languageId": "plaintext"
    }
   },
   "outputs": [],
   "source": [
    "model_Mlp = MLPClassifier(hidden_layer_sizes=(100, 50), max_iter=1000, random_state=seed)"
   ]
  },
  {
   "cell_type": "markdown",
   "metadata": {
    "jp-MarkdownHeadingCollapsed": true
   },
   "source": [
    "### 6.3.3 Entrenamiento y evaluacion"
   ]
  },
  {
   "cell_type": "markdown",
   "metadata": {},
   "source": [
    "Entrenamos el modelo y comprobamos su exactitud."
   ]
  },
  {
   "cell_type": "code",
   "execution_count": 151,
   "metadata": {
    "vscode": {
     "languageId": "plaintext"
    }
   },
   "outputs": [],
   "source": [
    "model_Mlp.fit(X_pca, y_resampled)\n",
    "\n",
    "predicted_Mlp = model_Mlp.predict(X_test_pca)\n",
    "expected_Mlp = y_test"
   ]
  },
  {
   "cell_type": "code",
   "execution_count": 152,
   "metadata": {
    "vscode": {
     "languageId": "plaintext"
    }
   },
   "outputs": [
    {
     "data": {
      "text/plain": [
       "0.7723145071982281"
      ]
     },
     "execution_count": 152,
     "metadata": {},
     "output_type": "execute_result"
    }
   ],
   "source": [
    "accuracy_score(expected_Mlp, predicted_Mlp)"
   ]
  },
  {
   "cell_type": "markdown",
   "metadata": {
    "jp-MarkdownHeadingCollapsed": true
   },
   "source": [
    "### 6.3.4 Null accuracy"
   ]
  },
  {
   "cell_type": "markdown",
   "metadata": {},
   "source": [
    "Nuestra exactitud es de 0.772, la cual es peor que la *null accuracy*, es decir, ahora mismo no tenemos un buen modelo ya que se predecirían un mayor número de resultados en el caso de siempre predecir la clase mayoritaria."
   ]
  },
  {
   "cell_type": "markdown",
   "metadata": {
    "jp-MarkdownHeadingCollapsed": true
   },
   "source": [
    "### 6.3.5 Matriz de confusion y F-score"
   ]
  },
  {
   "cell_type": "markdown",
   "metadata": {},
   "source": [
    "Se muestra la matriz de confusión y el informe de clasificación."
   ]
  },
  {
   "cell_type": "code",
   "execution_count": 157,
   "metadata": {
    "vscode": {
     "languageId": "plaintext"
    }
   },
   "outputs": [
    {
     "name": "stdout",
     "output_type": "stream",
     "text": [
      "[[ 287  463]\n",
      " [ 565 3200]]\n"
     ]
    }
   ],
   "source": [
    "print(confusion_matrix(expected_Mlp, predicted_Mlp))"
   ]
  },
  {
   "cell_type": "code",
   "execution_count": 158,
   "metadata": {
    "vscode": {
     "languageId": "plaintext"
    }
   },
   "outputs": [
    {
     "name": "stdout",
     "output_type": "stream",
     "text": [
      "              precision    recall  f1-score   support\n",
      "\n",
      "           0       0.34      0.38      0.36       750\n",
      "           1       0.87      0.85      0.86      3765\n",
      "\n",
      "    accuracy                           0.77      4515\n",
      "   macro avg       0.61      0.62      0.61      4515\n",
      "weighted avg       0.78      0.77      0.78      4515\n",
      "\n"
     ]
    }
   ],
   "source": [
    "print(classification_report(expected_Mlp, predicted_Mlp))"
   ]
  },
  {
   "cell_type": "markdown",
   "metadata": {},
   "source": [
    "Se observa lo que hemos estado comentando durante todo el documento, tenemos un f1-score del 0.86 para los 1s mientras que estamos obteniendo un 0.36 para los 0s."
   ]
  },
  {
   "cell_type": "markdown",
   "metadata": {
    "jp-MarkdownHeadingCollapsed": true
   },
   "source": [
    "### 6.3.6 ROC y AUC"
   ]
  },
  {
   "cell_type": "markdown",
   "metadata": {},
   "source": [
    "Evaluamos la ROC-AUC score. Para ello representamos primero la curva de ROC."
   ]
  },
  {
   "cell_type": "code",
   "execution_count": 162,
   "metadata": {
    "vscode": {
     "languageId": "plaintext"
    }
   },
   "outputs": [
    {
     "data": {
      "image/png": "[encoded data removed]",
      "text/plain": [
       "<Figure size 640x480 with 1 Axes>"
      ]
     },
     "metadata": {},
     "output_type": "display_data"
    }
   ],
   "source": [
    "y_pred_prob_Mlp = model_Mlp.predict_proba(X_test_pca)[:,1]\n",
    "fpr, tpr, thresholds = roc_curve(y_test, y_pred_prob_Mlp)\n",
    "plt.plot(fpr, tpr)\n",
    "plt.xlim([0.0, 1.0])\n",
    "plt.ylim([0.0, 1.0])\n",
    "plt.title('Curva ROC')\n",
    "plt.xlabel('Ratio de FP (1 - Recall)')\n",
    "plt.ylabel('Ratio TP (Sensitivity)')\n",
    "plt.grid(True)\n",
    "plt.show()"
   ]
  },
  {
   "cell_type": "markdown",
   "metadata": {},
   "source": [
    "Y mostramos sus thresholds."
   ]
  },
  {
   "cell_type": "code",
   "execution_count": 164,
   "metadata": {
    "vscode": {
     "languageId": "plaintext"
    }
   },
   "outputs": [
    {
     "data": {
      "text/plain": [
       "array([           inf, 1.00000000e+00, 9.99999994e-01, ...,\n",
       "       2.86136810e-03, 2.39364231e-03, 6.63029908e-06])"
      ]
     },
     "execution_count": 164,
     "metadata": {},
     "output_type": "execute_result"
    }
   ],
   "source": [
    "thresholds"
   ]
  },
  {
   "cell_type": "markdown",
   "metadata": {},
   "source": [
    "La siguiente gráfica muestra las probabilidades de predicción en función de los umbrales."
   ]
  },
  {
   "cell_type": "code",
   "execution_count": 166,
   "metadata": {
    "vscode": {
     "languageId": "plaintext"
    }
   },
   "outputs": [
    {
     "data": {
      "text/plain": [
       "array([<Axes: title={'center': '0'}>, <Axes: title={'center': '1'}>],\n",
       "      dtype=object)"
      ]
     },
     "execution_count": 166,
     "metadata": {},
     "output_type": "execute_result"
    },
    {
     "data": {
      "image/png": "[encoded data removed]",
      "text/plain": [
       "<Figure size 640x480 with 2 Axes>"
      ]
     },
     "metadata": {},
     "output_type": "display_data"
    }
   ],
   "source": [
    "dprob = pd.DataFrame(data = {'probability':y_pred_prob_Mlp, 'actual':y_test})\n",
    "dprob.probability.hist(by=dprob.actual, sharex=True, sharey=True)"
   ]
  },
  {
   "cell_type": "markdown",
   "metadata": {},
   "source": [
    "Se muestra unos resultados muy balanceados en el 0s excepto cuando su threshold es 1, mientras que en el caso de los 1s mantiene una tendencia ascendente."
   ]
  },
  {
   "cell_type": "code",
   "execution_count": 168,
   "metadata": {
    "vscode": {
     "languageId": "plaintext"
    }
   },
   "outputs": [
    {
     "name": "stdout",
     "output_type": "stream",
     "text": [
      "Sensitivity: 0.8892430278884462\n",
      "Recall: 0.30000000000000004\n"
     ]
    }
   ],
   "source": [
    "best_thres_Mlp = 0.4\n",
    "\n",
    "evaluate_threshold(best_thres_Mlp)"
   ]
  },
  {
   "cell_type": "markdown",
   "metadata": {},
   "source": [
    "Con este valor se obtienen los siguientes resultados. Primero se recalculan las predicciones."
   ]
  },
  {
   "cell_type": "code",
   "execution_count": 170,
   "metadata": {},
   "outputs": [],
   "source": [
    "probs_Mlp = model_Mlp.predict_proba(X_test_pca)[:, 1]  \n",
    "pred_thres_Mlp = (probs_Mlp >= best_thres_Mlp).astype(int) "
   ]
  },
  {
   "cell_type": "markdown",
   "metadata": {},
   "source": [
    "Se evalua la matriz de confusión."
   ]
  },
  {
   "cell_type": "code",
   "execution_count": 172,
   "metadata": {},
   "outputs": [
    {
     "name": "stdout",
     "output_type": "stream",
     "text": [
      "[[ 225  525]\n",
      " [ 416 3349]]\n"
     ]
    }
   ],
   "source": [
    "print(confusion_matrix(expected_Mlp, pred_thres_Mlp))"
   ]
  },
  {
   "cell_type": "markdown",
   "metadata": {},
   "source": [
    "Y también se analiza el informe de la clasificación."
   ]
  },
  {
   "cell_type": "code",
   "execution_count": 174,
   "metadata": {},
   "outputs": [
    {
     "name": "stdout",
     "output_type": "stream",
     "text": [
      "              precision    recall  f1-score   support\n",
      "\n",
      "           0       0.35      0.30      0.32       750\n",
      "           1       0.86      0.89      0.88      3765\n",
      "\n",
      "    accuracy                           0.79      4515\n",
      "   macro avg       0.61      0.59      0.60      4515\n",
      "weighted avg       0.78      0.79      0.78      4515\n",
      "\n"
     ]
    }
   ],
   "source": [
    "print(classification_report(expected_Mlp, pred_thres_Mlp))"
   ]
  },
  {
   "cell_type": "markdown",
   "metadata": {},
   "source": [
    "Es decir, se empeora la exactitud a cambio de mejorar la f1-score de los 0s."
   ]
  },
  {
   "cell_type": "markdown",
   "metadata": {},
   "source": [
    "Finalmente se calcula el valor de AUC."
   ]
  },
  {
   "cell_type": "code",
   "execution_count": 177,
   "metadata": {
    "vscode": {
     "languageId": "plaintext"
    }
   },
   "outputs": [
    {
     "name": "stdout",
     "output_type": "stream",
     "text": [
      "0.6163001328021249\n"
     ]
    }
   ],
   "source": [
    "print(roc_auc_score(expected_Mlp, predicted_Mlp))"
   ]
  },
  {
   "cell_type": "markdown",
   "metadata": {},
   "source": [
    "Se ha obtenido un valor entre 0.6 y 0.7, es decir, el modelo se considerá como pobre o *D*."
   ]
  },
  {
   "cell_type": "markdown",
   "metadata": {
    "jp-MarkdownHeadingCollapsed": true
   },
   "source": [
    "### 6.3.7 Optimizacion"
   ]
  },
  {
   "cell_type": "markdown",
   "metadata": {},
   "source": [
    "Antes de nada, observamos cuales son los parámetros de nuestro modelo."
   ]
  },
  {
   "cell_type": "code",
   "execution_count": 181,
   "metadata": {
    "vscode": {
     "languageId": "plaintext"
    }
   },
   "outputs": [
    {
     "data": {
      "text/plain": [
       "{'activation': 'relu',\n",
       " 'alpha': 0.0001,\n",
       " 'batch_size': 'auto',\n",
       " 'beta_1': 0.9,\n",
       " 'beta_2': 0.999,\n",
       " 'early_stopping': False,\n",
       " 'epsilon': 1e-08,\n",
       " 'hidden_layer_sizes': (100, 50),\n",
       " 'learning_rate': 'constant',\n",
       " 'learning_rate_init': 0.001,\n",
       " 'max_fun': 15000,\n",
       " 'max_iter': 1000,\n",
       " 'momentum': 0.9,\n",
       " 'n_iter_no_change': 10,\n",
       " 'nesterovs_momentum': True,\n",
       " 'power_t': 0.5,\n",
       " 'random_state': 42,\n",
       " 'shuffle': True,\n",
       " 'solver': 'adam',\n",
       " 'tol': 0.0001,\n",
       " 'validation_fraction': 0.1,\n",
       " 'verbose': False,\n",
       " 'warm_start': False}"
      ]
     },
     "execution_count": 181,
     "metadata": {},
     "output_type": "execute_result"
    }
   ],
   "source": [
    "model_Mlp.get_params()"
   ]
  },
  {
   "cell_type": "markdown",
   "metadata": {},
   "source": [
    "Para que el entrenamiento sea realista debemos activar el hiperparámetro *early_stopping* para que se detenga cuando el score de validación no está mejorando, independientemente del número de iteraciones introducidas. Adenás, con ello se dividirán nuestros datos por defecto en 90% entrenamiento y 10% validación. En el caso de querer aumentar más este porcentaje deberemos modificar el hiperparámetro *validation_fraction*."
   ]
  },
  {
   "cell_type": "markdown",
   "metadata": {},
   "source": [
    "Al entrenar el modelo de esta forma será estrictamente necesario fijarnos en los atributos *loss_curve_* y *validation_scores_* del modelo, los cuales deberán tener una tendencia decreciente y creciente respectivamente."
   ]
  },
  {
   "cell_type": "markdown",
   "metadata": {},
   "source": [
    "Ahora seleccionamos los hiperparámetros a evaluar mediante un GridSearchCV. Como la cantidad de registros es muy importante para las capas ocultas del MLP, se ha creado un PredefinedSplit para fijar los datos de entrenamiento y los de test.\n",
    "\n",
    "Estos hiperparámetros son:\n",
    "* hidden_layer_sizes: número de neuronas de cada capa oculta.\n",
    "* activation: función de activación de las capas ocultas.\n",
    "* solver: solver utilizado para la optimización de los pesos.\n",
    "* alpha: fuerza del término de regularización L2.\n",
    "* batch_size: tamaño de los minibatches para los optimizadores estocásticos.\n",
    "* learning_rate: programa de la tasa de aprendizaje para la actualización de pesos.\n",
    "* learning_rate_init: learning rate inicial."
   ]
  },
  {
   "cell_type": "raw",
   "metadata": {
    "vscode": {
     "languageId": "plaintext"
    }
   },
   "source": [
    "X_total = np.concatenate([X_pca, X_test_pca])\n",
    "y_total = np.concatenate([y_resampled, y_test])\n",
    "\n",
    "fold = np.array([-1] * len(X_sel) + [0] * len(X_test_pca))\n",
    "\n",
    "ps = PredefinedSplit(fold)\n",
    "\n",
    "optm_Mlp = MLPClassifier(max_iter=1000, early_stopping=True, validation_fraction=0.15, random_state=seed)\n",
    "                         \n",
    "param_grid = {\n",
    "    'hidden_layer_sizes': [(32, 64, 32), (64, 128, 64), (100, 50, 25), (32, 64, 32, 8), (64, 128, 64, 32)],\n",
    "    'activation': ['relu', 'tanh'],\n",
    "    'solver': ['adam', 'sgd'],\n",
    "    'alpha': [0.0001, 0.001, 0.01],\n",
    "    'batch_size': [200, 400, 600, 'auto']\n",
    "    'learning_rate': ['constant', 'invscaling', 'adaptive'],\n",
    "    'learning_rate_init': [0.0001, 0.001, 0.01]\n",
    "}\n",
    "\n",
    "grid_search = GridSearchCV(optm_Mlp, param_grid=param_grid, scoring=make_scorer(f1_score, average='weighted'), cv=ps, n_jobs=-1)\n",
    "\n",
    "inicio = time.time()\n",
    "grid_search.fit(X_total, y_total)\n",
    "fin = time.time()"
   ]
  },
  {
   "cell_type": "markdown",
   "metadata": {},
   "source": [
    "Se calcula el tiempo que ha tardado en minutos."
   ]
  },
  {
   "cell_type": "raw",
   "metadata": {},
   "source": [
    "tiempo_total = (fin - inicio) / 60\n",
    "print(f\"La celda tardó {tiempo_total} minutos en ejecutarse.\")"
   ]
  },
  {
   "cell_type": "markdown",
   "metadata": {},
   "source": [
    "Se escoge el mejor parámetro y su  precisión asociada."
   ]
  },
  {
   "cell_type": "raw",
   "metadata": {
    "vscode": {
     "languageId": "plaintext"
    }
   },
   "source": [
    "print(\"Mejores parámetros: \", grid_search.best_params_)\n",
    "print(\"Mejor score: \", grid_search.best_score_)"
   ]
  },
  {
   "cell_type": "markdown",
   "metadata": {},
   "source": [
    "Observamos los mejores 10 casos para analizar varias posibilidades."
   ]
  },
  {
   "cell_type": "raw",
   "metadata": {},
   "source": [
    "results_df = pd.DataFrame(grid_search.cv_results_)"
   ]
  },
  {
   "cell_type": "raw",
   "metadata": {},
   "source": [
    "top_10_models = results_df.nlargest(10, \"mean_test_score\")\n",
    "\n",
    "print(\"\\nLos 10 mejores modelos:\")\n",
    "for index, row in top_10_models.iterrows():\n",
    "    print(\"\\nModelo:\")\n",
    "    print(f\"Parámetros: {row['params']}\")\n",
    "    print(f\"Puntuación media de prueba: {row['mean_test_score']}\")"
   ]
  },
  {
   "cell_type": "markdown",
   "metadata": {
    "jp-MarkdownHeadingCollapsed": true
   },
   "source": [
    "### 6.3.8 Entramiento y evaluacion con hiperparametros optimizados"
   ]
  },
  {
   "cell_type": "markdown",
   "metadata": {
    "jp-MarkdownHeadingCollapsed": true
   },
   "source": [
    "#### - Definicion"
   ]
  },
  {
   "cell_type": "markdown",
   "metadata": {},
   "source": [
    "Definimos los mejores parámetros (no se define con *grid_search.best_params_* para probar varias opciones de forma sencilla)."
   ]
  },
  {
   "cell_type": "code",
   "execution_count": 191,
   "metadata": {
    "vscode": {
     "languageId": "plaintext"
    }
   },
   "outputs": [],
   "source": [
    "params_final_Mlp = {\n",
    "    'activation': 'relu', \n",
    "    'alpha': 0.01, \n",
    "    'batch_size': 400,\n",
    "    'hidden_layer_sizes': (128, 64, 32), \n",
    "    'learning_rate': 'constant', \n",
    "    'learning_rate_init': 0.01, \n",
    "    'solver': 'sgd',\n",
    "    'max_iter': 1000, \n",
    "    'early_stopping': True, \n",
    "    'validation_fraction': 0.15, \n",
    "    'random_state': seed\n",
    "}"
   ]
  },
  {
   "cell_type": "markdown",
   "metadata": {},
   "source": [
    "Definimos el modelo desagregando el diccionario."
   ]
  },
  {
   "cell_type": "code",
   "execution_count": 193,
   "metadata": {},
   "outputs": [],
   "source": [
    "final_Mlp = MLPClassifier(**params_final_Mlp)"
   ]
  },
  {
   "cell_type": "markdown",
   "metadata": {
    "jp-MarkdownHeadingCollapsed": true
   },
   "source": [
    "#### - Entrenamiento y evaluacion"
   ]
  },
  {
   "cell_type": "markdown",
   "metadata": {},
   "source": [
    "Entrenamos el modelo y realizamos la predicción."
   ]
  },
  {
   "cell_type": "code",
   "execution_count": 196,
   "metadata": {
    "vscode": {
     "languageId": "plaintext"
    }
   },
   "outputs": [],
   "source": [
    "final_Mlp.fit(X_pca, y_resampled)\n",
    "\n",
    "predicted_Mlp_opt = final_Mlp.predict(X_test_pca)\n",
    "expected_Mlp_opt = y_test"
   ]
  },
  {
   "cell_type": "markdown",
   "metadata": {},
   "source": [
    "Evaluamos la metrica obtenida."
   ]
  },
  {
   "cell_type": "code",
   "execution_count": 198,
   "metadata": {
    "vscode": {
     "languageId": "plaintext"
    }
   },
   "outputs": [
    {
     "data": {
      "text/plain": [
       "0.8062015503875969"
      ]
     },
     "execution_count": 198,
     "metadata": {},
     "output_type": "execute_result"
    }
   ],
   "source": [
    "accuracy_score(expected_Mlp_opt, predicted_Mlp_opt)"
   ]
  },
  {
   "cell_type": "markdown",
   "metadata": {
    "jp-MarkdownHeadingCollapsed": true
   },
   "source": [
    "#### - Null accurcy"
   ]
  },
  {
   "cell_type": "markdown",
   "metadata": {},
   "source": [
    "La accuracy es similar a la anterior. Además, sigue siendo peor que la *null accuracy*."
   ]
  },
  {
   "cell_type": "markdown",
   "metadata": {
    "jp-MarkdownHeadingCollapsed": true
   },
   "source": [
    "#### - Matriz de confusion y F-score"
   ]
  },
  {
   "cell_type": "markdown",
   "metadata": {},
   "source": [
    "La matriz de confusión y el informe de clasificación también es muy similar."
   ]
  },
  {
   "cell_type": "code",
   "execution_count": 203,
   "metadata": {},
   "outputs": [
    {
     "name": "stdout",
     "output_type": "stream",
     "text": [
      "[[ 286  464]\n",
      " [ 411 3354]]\n"
     ]
    }
   ],
   "source": [
    "print(confusion_matrix(expected_Mlp_opt, predicted_Mlp_opt))"
   ]
  },
  {
   "cell_type": "code",
   "execution_count": 204,
   "metadata": {
    "vscode": {
     "languageId": "plaintext"
    }
   },
   "outputs": [
    {
     "name": "stdout",
     "output_type": "stream",
     "text": [
      "              precision    recall  f1-score   support\n",
      "\n",
      "           0       0.41      0.38      0.40       750\n",
      "           1       0.88      0.89      0.88      3765\n",
      "\n",
      "    accuracy                           0.81      4515\n",
      "   macro avg       0.64      0.64      0.64      4515\n",
      "weighted avg       0.80      0.81      0.80      4515\n",
      "\n"
     ]
    }
   ],
   "source": [
    "print(classification_report(expected_Mlp_opt, predicted_Mlp_opt))"
   ]
  },
  {
   "cell_type": "markdown",
   "metadata": {
    "jp-MarkdownHeadingCollapsed": true
   },
   "source": [
    "#### - ROC y AUC"
   ]
  },
  {
   "cell_type": "markdown",
   "metadata": {},
   "source": [
    "Se calcula el ROC y se reajusta el umbral de probabilidad."
   ]
  },
  {
   "cell_type": "code",
   "execution_count": 207,
   "metadata": {
    "vscode": {
     "languageId": "plaintext"
    }
   },
   "outputs": [
    {
     "data": {
      "image/png": "[encoded data removed]",
      "text/plain": [
       "<Figure size 640x480 with 1 Axes>"
      ]
     },
     "metadata": {},
     "output_type": "display_data"
    }
   ],
   "source": [
    "y_pred_prob_Mlp = final_Mlp.predict_proba(X_test_pca)[:,1]\n",
    "fpr, tpr, thresholds = roc_curve(y_test, y_pred_prob_Mlp)\n",
    "plt.plot(fpr, tpr)\n",
    "plt.xlim([0.0, 1.0])\n",
    "plt.ylim([0.0, 1.0])\n",
    "plt.title('Curva ROC')\n",
    "plt.xlabel('Ratio de FP (1 - Recall)')\n",
    "plt.ylabel('Ratio TP (Sensitivity)')\n",
    "plt.grid(True)\n",
    "plt.show()"
   ]
  },
  {
   "cell_type": "code",
   "execution_count": 208,
   "metadata": {
    "vscode": {
     "languageId": "plaintext"
    }
   },
   "outputs": [
    {
     "data": {
      "text/plain": [
       "array([       inf, 0.99999992, 0.96794146, ..., 0.19869326, 0.19383376,\n",
       "       0.15203112])"
      ]
     },
     "execution_count": 208,
     "metadata": {},
     "output_type": "execute_result"
    }
   ],
   "source": [
    "thresholds"
   ]
  },
  {
   "cell_type": "code",
   "execution_count": 209,
   "metadata": {
    "vscode": {
     "languageId": "plaintext"
    }
   },
   "outputs": [
    {
     "data": {
      "text/plain": [
       "array([<Axes: title={'center': '0'}>, <Axes: title={'center': '1'}>],\n",
       "      dtype=object)"
      ]
     },
     "execution_count": 209,
     "metadata": {},
     "output_type": "execute_result"
    },
    {
     "data": {
      "image/png": "[encoded data removed]",
      "text/plain": [
       "<Figure size 640x480 with 2 Axes>"
      ]
     },
     "metadata": {},
     "output_type": "display_data"
    }
   ],
   "source": [
    "dprob = pd.DataFrame(data = {'probability':y_pred_prob_Mlp, 'actual':y_test})\n",
    "dprob.probability.hist(by=dprob.actual, sharex=True, sharey=True)"
   ]
  },
  {
   "cell_type": "code",
   "execution_count": 210,
   "metadata": {
    "vscode": {
     "languageId": "plaintext"
    }
   },
   "outputs": [
    {
     "name": "stdout",
     "output_type": "stream",
     "text": [
      "Sensitivity: 0.950066401062417\n",
      "Recall: 0.17600000000000005\n"
     ]
    }
   ],
   "source": [
    "op_thres_Mlp = 0.4\n",
    "\n",
    "evaluate_threshold(op_thres_Mlp)"
   ]
  },
  {
   "cell_type": "code",
   "execution_count": 211,
   "metadata": {},
   "outputs": [],
   "source": [
    "probs_Mlp_opt = final_Mlp.predict_proba(X_test_pca)[:, 1]  \n",
    "pred_thres_Mlp_opt = (probs_Mlp_opt >= op_thres_Mlp).astype(int) "
   ]
  },
  {
   "cell_type": "code",
   "execution_count": 212,
   "metadata": {},
   "outputs": [
    {
     "name": "stdout",
     "output_type": "stream",
     "text": [
      "[[ 131  619]\n",
      " [ 188 3577]]\n"
     ]
    }
   ],
   "source": [
    "print(confusion_matrix(expected_Mlp_opt, pred_thres_Mlp_opt))"
   ]
  },
  {
   "cell_type": "code",
   "execution_count": 213,
   "metadata": {},
   "outputs": [
    {
     "name": "stdout",
     "output_type": "stream",
     "text": [
      "              precision    recall  f1-score   support\n",
      "\n",
      "           0       0.41      0.17      0.25       750\n",
      "           1       0.85      0.95      0.90      3765\n",
      "\n",
      "    accuracy                           0.82      4515\n",
      "   macro avg       0.63      0.56      0.57      4515\n",
      "weighted avg       0.78      0.82      0.79      4515\n",
      "\n"
     ]
    }
   ],
   "source": [
    "print(classification_report(expected_Mlp_opt, pred_thres_Mlp_opt))"
   ]
  },
  {
   "cell_type": "markdown",
   "metadata": {},
   "source": [
    "Se obtiene la misma accuracy aunque mejora la *f1 score* en los 0s."
   ]
  },
  {
   "cell_type": "markdown",
   "metadata": {},
   "source": [
    "Se calcula la AUC score."
   ]
  },
  {
   "cell_type": "code",
   "execution_count": 216,
   "metadata": {
    "vscode": {
     "languageId": "plaintext"
    }
   },
   "outputs": [
    {
     "name": "stdout",
     "output_type": "stream",
     "text": [
      "0.6360849933598938\n"
     ]
    }
   ],
   "source": [
    "print(roc_auc_score(expected_Mlp_opt, predicted_Mlp_opt))"
   ]
  },
  {
   "cell_type": "markdown",
   "metadata": {},
   "source": [
    "También ha tenido una pequeña mejora, pero sigue en el mismo intervalo. Es decir, sigue siendo un modelo *D*."
   ]
  },
  {
   "cell_type": "markdown",
   "metadata": {
    "jp-MarkdownHeadingCollapsed": true
   },
   "source": [
    "#### - Curva de pérdidas y scores de validación"
   ]
  },
  {
   "cell_type": "code",
   "execution_count": 219,
   "metadata": {},
   "outputs": [
    {
     "data": {
      "image/png": "[encoded data removed]",
      "text/plain": [
       "<Figure size 640x480 with 1 Axes>"
      ]
     },
     "metadata": {},
     "output_type": "display_data"
    }
   ],
   "source": [
    "loss_values = final_Mlp.loss_curve_\n",
    "\n",
    "plt.plot(loss_values)\n",
    "plt.title('Curva de Pérdida del Modelo MLP')\n",
    "plt.xlabel('Iteraciones')\n",
    "plt.ylabel('Pérdida')\n",
    "plt.show()"
   ]
  },
  {
   "cell_type": "code",
   "execution_count": 220,
   "metadata": {},
   "outputs": [
    {
     "data": {
      "image/png": "[encoded data removed]",
      "text/plain": [
       "<Figure size 640x480 with 1 Axes>"
      ]
     },
     "metadata": {},
     "output_type": "display_data"
    }
   ],
   "source": [
    "validation_scores = final_Mlp.validation_scores_\n",
    "\n",
    "plt.plot(validation_scores)\n",
    "plt.title('Puntuaciones de Validación del Modelo MLP')\n",
    "plt.xlabel('Iteraciones')\n",
    "plt.ylabel('Puntuación de Validación')\n",
    "plt.show()"
   ]
  },
  {
   "cell_type": "markdown",
   "metadata": {},
   "source": [
    "Observamos que la curva sigue la tendencia descendente, en cambio los scores de validación son muy oscilantes y realizan muy pocas iteraciones antes de producirse el *early_stop*."
   ]
  },
  {
   "cell_type": "markdown",
   "metadata": {
    "jp-MarkdownHeadingCollapsed": true
   },
   "source": [
    "### 6.3.9 Conclusiones"
   ]
  },
  {
   "cell_type": "markdown",
   "metadata": {},
   "source": [
    "A continuación se muestra los resultados de los modelos optimizados y sin optimizar. Cabe recalcar que se probaron otros cuatro conjuntos de parametros en la mayoria de los casos, pero se acabó considerando absurdo porque mejoraba o empeoraba 0.01 en diversos valores"
   ]
  },
  {
   "cell_type": "markdown",
   "metadata": {},
   "source": [
    "Caso X: accuracy - f1 score 0s - aux score - accuracy y f1 score 0s (threshold)\n",
    "\n",
    "Caso 1: \n",
    "* Normal:      0.77 - 0.36 - 0.616 - 0.75 y 0,38 (0.6)\n",
    "* Optimizado:  0.71 - 0.40 - 0.661 - 0.75 y 0.40 (0.4)\n",
    "\n",
    "Caso 2: \n",
    "* Normal:      0.76 - 0.36 - 0.615 - 0.73 y 0,36 (0.6)\n",
    "* Optimizado:  0.71 - 0.42 - 0.678 - 0.75 y 0.41 (0.4)\n",
    "\n",
    "Caso 3:\n",
    "* Normal:      0.69 - 0.41 - 0.668 - 0.73 y 0,41 (0.4)\n",
    "* Optimizado:  0.73 - 0.42 - 0.678 - 0.79 y 0.39 (0.4)\n",
    "\n",
    "Caso 4: \n",
    "* Normal:      0.69 - 0.38 - 0.646 - 0.72 y 0,38 (0.4)\n",
    "* Optimizado:  0.72 - 0.40 - 0.655 - 0.78 y 0.39 (0.4)\n",
    "\n",
    "Caso 5: \n",
    "* Normal:      0.75 - 0.39 - 0.643 - 0.72 y 0,39 (0.6)\n",
    "* Optimizado:  0.77 - 0.41 - 0.657 - 0.81 y 0.38 (0.4)\n",
    "\n",
    "Caso 6: \n",
    "* Normal:      0.75 - 0.36 - 0.616 - 0.73 y 0,37 (0.6)\n",
    "* Optimizado:  0.81 - 0.40 - 0.636 - 0.76 y 0.43 (0.6)\n",
    "\n",
    "Caso 3-2 (undersampling = 0.6): \n",
    "* Normal:      0.69 - 0.36 - 0.621 - 0.71 y 0,36 (0.4)\n",
    "* Optimizado:  0.78 - 0.42 - 0.655 - 0.75 y 0.43 (0.55)\n",
    "\n",
    "Caso 4-2 (undersampling = 0.6):\n",
    "* Normal:      0.79 - 0.39 - 0.640 - 0.77 y 0,37 (0.4)\n",
    "* Optimizado:  0.76 - 0.42 - 0.664 - 0.81 y 0.37 (0.4)\n",
    "\n",
    "Caso 5-2 (undersampling = 0.6 y oversampling = 0.8): \n",
    "* Normal:      0.68 - 0.35 - 0.618 - 0.70 y 0,35 (0.4)\n",
    "* Optimizado:  0.74 - 0.44 - 0.688 - 0.79 y 0.43 (0.4)\n",
    "\n",
    "Caso 6-2 (undersampling = 0.6 y oversampling = 0.8): \n",
    "* Normal:      0.71 - 0.40 - 0.658 - 0.75 y 0,39 (0.4)\n",
    "* Optimizado:  0.74 - 0.43 - 0.682 - 0.79 y 0.41 (0.4)"
   ]
  },
  {
   "cell_type": "markdown",
   "metadata": {},
   "source": [
    "Se observa que para este modelo todos son valores muy similares. Por ello se probará primero a la hora de subirlo con el caso mejor (el sexto) pero también se realizarán pruebas sobre Kaggle con el resto."
   ]
  },
  {
   "cell_type": "markdown",
   "metadata": {
    "jp-MarkdownHeadingCollapsed": true
   },
   "source": [
    "## 6.4 Clasificador KNN"
   ]
  },
  {
   "cell_type": "markdown",
   "metadata": {
    "jp-MarkdownHeadingCollapsed": true
   },
   "source": [
    "### 6.4.1 Seleccion del caso de preprocesado"
   ]
  },
  {
   "cell_type": "markdown",
   "metadata": {},
   "source": [
    "Seleccion del caso de preprocesado."
   ]
  },
  {
   "cell_type": "code",
   "execution_count": 229,
   "metadata": {},
   "outputs": [],
   "source": [
    "# case - caso de preprocesado seleccionado, valores posibles: 1, 2, 3, 4, 5, 6\n",
    "case = 4"
   ]
  },
  {
   "cell_type": "markdown",
   "metadata": {},
   "source": [
    "Hiperparametros base para cada caso."
   ]
  },
  {
   "cell_type": "code",
   "execution_count": 231,
   "metadata": {},
   "outputs": [],
   "source": [
    "if case in {1, 2}:\n",
    "    strategy_under = 0\n",
    "    strategy_over = 1\n",
    "    neighbors = 5\n",
    "    \n",
    "elif case in {3, 4}:\n",
    "    strategy_under = 0.8\n",
    "    strategy_over = 0\n",
    "    neighbors = 0\n",
    "    \n",
    "elif case in {5, 6}:\n",
    "    strategy_under = 0.25\n",
    "    strategy_over = 0.5\n",
    "    neighbors = 5"
   ]
  },
  {
   "cell_type": "markdown",
   "metadata": {},
   "source": [
    "Se estandarizan los datos en función del caso."
   ]
  },
  {
   "cell_type": "code",
   "execution_count": 233,
   "metadata": {},
   "outputs": [],
   "source": [
    "X_scaled, prep = standard_data(case, X_train)"
   ]
  },
  {
   "cell_type": "markdown",
   "metadata": {},
   "source": [
    "Se muestrean los datos en función del caso."
   ]
  },
  {
   "cell_type": "code",
   "execution_count": 235,
   "metadata": {},
   "outputs": [],
   "source": [
    "X_resampled, y_resampled = resample_data(case, X_scaled, y_train, strategy_under, strategy_over, neighbors)"
   ]
  },
  {
   "cell_type": "markdown",
   "metadata": {},
   "source": [
    "Se reducen las dimensionalidades mediante un *PCA*."
   ]
  },
  {
   "cell_type": "code",
   "execution_count": 237,
   "metadata": {},
   "outputs": [],
   "source": [
    "pca = PCA()\n",
    "X_pca_full = pca.fit_transform(X_resampled)\n",
    "\n",
    "cumulative_variance_ratio = np.cumsum(pca.explained_variance_ratio_)\n",
    "n_comp = np.argmax(cumulative_variance_ratio >= 0.95) + 1\n",
    "X_pca = X_pca_full[:, :n_comp]"
   ]
  },
  {
   "cell_type": "markdown",
   "metadata": {},
   "source": [
    "Al igual que se ha realizado distintos preprocesados al entrenamiento, hay que realizarlos al conjunto de test para obtener resultados coherentes.\n",
    "\n",
    "No es necesario realizar las tecnicas de muestreo ya que eso son técnicas para balancear nuestro conjunto de entrenamiento. Solamente es necesario realizar la misma estandarización de las características y aplicar la misma reducción de dimensionalidad."
   ]
  },
  {
   "cell_type": "code",
   "execution_count": 239,
   "metadata": {},
   "outputs": [],
   "source": [
    "X_test_scaled = prep.transform(X_test)\n",
    "X_test_pca_full = pca.transform(X_test_scaled)\n",
    "X_test_pca = X_test_pca_full[:, :n_comp]"
   ]
  },
  {
   "cell_type": "markdown",
   "metadata": {
    "jp-MarkdownHeadingCollapsed": true
   },
   "source": [
    "### 6.4.2 Definicion"
   ]
  },
  {
   "cell_type": "markdown",
   "metadata": {},
   "source": [
    "Definimos el modelo básico."
   ]
  },
  {
   "cell_type": "code",
   "execution_count": 242,
   "metadata": {
    "vscode": {
     "languageId": "plaintext"
    }
   },
   "outputs": [],
   "source": [
    "model_KNN = KNeighborsClassifier()"
   ]
  },
  {
   "cell_type": "markdown",
   "metadata": {
    "jp-MarkdownHeadingCollapsed": true
   },
   "source": [
    "### 6.4.3 Entrenamiento y evaluacion"
   ]
  },
  {
   "cell_type": "markdown",
   "metadata": {},
   "source": [
    "Entrenamos el modelo y comprobamos su exactitud."
   ]
  },
  {
   "cell_type": "code",
   "execution_count": 245,
   "metadata": {
    "vscode": {
     "languageId": "plaintext"
    }
   },
   "outputs": [],
   "source": [
    "model_KNN.fit(X_pca, y_resampled)\n",
    "\n",
    "predicted_KNN = model_KNN.predict(X_test_pca)\n",
    "expected_KNN = y_test"
   ]
  },
  {
   "cell_type": "code",
   "execution_count": 246,
   "metadata": {
    "vscode": {
     "languageId": "plaintext"
    }
   },
   "outputs": [
    {
     "data": {
      "text/plain": [
       "0.6801771871539314"
      ]
     },
     "execution_count": 246,
     "metadata": {},
     "output_type": "execute_result"
    }
   ],
   "source": [
    "accuracy_score(expected_KNN, predicted_KNN)"
   ]
  },
  {
   "cell_type": "markdown",
   "metadata": {
    "jp-MarkdownHeadingCollapsed": true
   },
   "source": [
    "### 6.4.4 Null accuracy"
   ]
  },
  {
   "cell_type": "markdown",
   "metadata": {},
   "source": [
    "Nuestra exactitud es de 0.6801, la cual es peor que la *null accuracy*, es decir, ahora mismo no tenemos un buen modelo ya que se predecirían un mayor número de resultados en el caso de siempre predecir la clase mayoritaria."
   ]
  },
  {
   "cell_type": "markdown",
   "metadata": {
    "jp-MarkdownHeadingCollapsed": true
   },
   "source": [
    "### 6.4.5 Matriz de confusion y F-score"
   ]
  },
  {
   "cell_type": "markdown",
   "metadata": {},
   "source": [
    "Se muestra la matriz de confusión y el informe de clasificación."
   ]
  },
  {
   "cell_type": "code",
   "execution_count": 251,
   "metadata": {
    "vscode": {
     "languageId": "plaintext"
    }
   },
   "outputs": [
    {
     "name": "stdout",
     "output_type": "stream",
     "text": [
      "[[ 464  286]\n",
      " [1158 2607]]\n"
     ]
    }
   ],
   "source": [
    "print(confusion_matrix(expected_KNN, predicted_KNN))"
   ]
  },
  {
   "cell_type": "code",
   "execution_count": 252,
   "metadata": {
    "vscode": {
     "languageId": "plaintext"
    }
   },
   "outputs": [
    {
     "name": "stdout",
     "output_type": "stream",
     "text": [
      "              precision    recall  f1-score   support\n",
      "\n",
      "           0       0.29      0.62      0.39       750\n",
      "           1       0.90      0.69      0.78      3765\n",
      "\n",
      "    accuracy                           0.68      4515\n",
      "   macro avg       0.59      0.66      0.59      4515\n",
      "weighted avg       0.80      0.68      0.72      4515\n",
      "\n"
     ]
    }
   ],
   "source": [
    "print(classification_report(expected_KNN, predicted_KNN))"
   ]
  },
  {
   "cell_type": "markdown",
   "metadata": {},
   "source": [
    "Se observa lo que hemos estado comentando durante todo el documento, tenemos un f1-score del 0.78 para los 1s mientras que estamos obteniendo un 0.39 para los 0s."
   ]
  },
  {
   "cell_type": "markdown",
   "metadata": {
    "jp-MarkdownHeadingCollapsed": true
   },
   "source": [
    "### 6.4.6 ROC y AUC"
   ]
  },
  {
   "cell_type": "markdown",
   "metadata": {},
   "source": [
    "Evaluamos la ROC-AUC score. Para ello representamos primero la curva de ROC."
   ]
  },
  {
   "cell_type": "code",
   "execution_count": 256,
   "metadata": {
    "vscode": {
     "languageId": "plaintext"
    }
   },
   "outputs": [
    {
     "data": {
      "image/png": "[encoded data removed]",
      "text/plain": [
       "<Figure size 640x480 with 1 Axes>"
      ]
     },
     "metadata": {},
     "output_type": "display_data"
    }
   ],
   "source": [
    "y_pred_prob_KNN = model_KNN.predict_proba(X_test_pca)[:,1]\n",
    "fpr, tpr, thresholds = roc_curve(y_test, y_pred_prob_KNN)\n",
    "plt.plot(fpr, tpr)\n",
    "plt.xlim([0.0, 1.0])\n",
    "plt.ylim([0.0, 1.0])\n",
    "plt.title('Curva ROC')\n",
    "plt.xlabel('Ratio de FP (1 - Recall)')\n",
    "plt.ylabel('Ratio TP (Sensitivity)')\n",
    "plt.grid(True)\n",
    "plt.show()"
   ]
  },
  {
   "cell_type": "markdown",
   "metadata": {},
   "source": [
    "Y mostramos sus thresholds."
   ]
  },
  {
   "cell_type": "code",
   "execution_count": 258,
   "metadata": {
    "vscode": {
     "languageId": "plaintext"
    }
   },
   "outputs": [
    {
     "data": {
      "text/plain": [
       "array([inf, 1. , 0.8, 0.6, 0.4, 0.2, 0. ])"
      ]
     },
     "execution_count": 258,
     "metadata": {},
     "output_type": "execute_result"
    }
   ],
   "source": [
    "thresholds"
   ]
  },
  {
   "cell_type": "markdown",
   "metadata": {},
   "source": [
    "La siguiente gráfica muestra las probabilidades de predicción en función de los umbrales."
   ]
  },
  {
   "cell_type": "code",
   "execution_count": 260,
   "metadata": {
    "vscode": {
     "languageId": "plaintext"
    }
   },
   "outputs": [
    {
     "data": {
      "text/plain": [
       "array([<Axes: title={'center': '0'}>, <Axes: title={'center': '1'}>],\n",
       "      dtype=object)"
      ]
     },
     "execution_count": 260,
     "metadata": {},
     "output_type": "execute_result"
    },
    {
     "data": {
      "image/png": "[encoded data removed]",
      "text/plain": [
       "<Figure size 640x480 with 2 Axes>"
      ]
     },
     "metadata": {},
     "output_type": "display_data"
    }
   ],
   "source": [
    "dprob = pd.DataFrame(data = {'probability':y_pred_prob_KNN, 'actual':y_test})\n",
    "dprob.probability.hist(by=dprob.actual, sharex=True, sharey=True)"
   ]
  },
  {
   "cell_type": "markdown",
   "metadata": {},
   "source": [
    "Se muestra unos resultados muy balanceados en el 0s excepto cuando su threshold es 1, mientras que en el caso de los 1s mantiene una tendencia ascendente."
   ]
  },
  {
   "cell_type": "code",
   "execution_count": 262,
   "metadata": {
    "vscode": {
     "languageId": "plaintext"
    }
   },
   "outputs": [
    {
     "name": "stdout",
     "output_type": "stream",
     "text": [
      "Sensitivity: 0.4743691899070385\n",
      "Recall: 0.836\n"
     ]
    }
   ],
   "source": [
    "best_thres_KNN = 0.6\n",
    "\n",
    "evaluate_threshold(best_thres_KNN)"
   ]
  },
  {
   "cell_type": "markdown",
   "metadata": {},
   "source": [
    "Con este valor se obtienen los siguientes resultados. Primero se recalculan las predicciones."
   ]
  },
  {
   "cell_type": "code",
   "execution_count": 264,
   "metadata": {},
   "outputs": [],
   "source": [
    "probs_KNN = model_KNN.predict_proba(X_test_pca)[:, 1]  \n",
    "pred_thres_KNN = (probs_KNN >= best_thres_KNN).astype(int) "
   ]
  },
  {
   "cell_type": "markdown",
   "metadata": {},
   "source": [
    "Se evalua la matriz de confusión."
   ]
  },
  {
   "cell_type": "code",
   "execution_count": 266,
   "metadata": {},
   "outputs": [
    {
     "name": "stdout",
     "output_type": "stream",
     "text": [
      "[[ 464  286]\n",
      " [1158 2607]]\n"
     ]
    }
   ],
   "source": [
    "print(confusion_matrix(expected_KNN, pred_thres_KNN))"
   ]
  },
  {
   "cell_type": "markdown",
   "metadata": {},
   "source": [
    "Y también se analiza el informe de la clasificación."
   ]
  },
  {
   "cell_type": "code",
   "execution_count": 268,
   "metadata": {},
   "outputs": [
    {
     "name": "stdout",
     "output_type": "stream",
     "text": [
      "              precision    recall  f1-score   support\n",
      "\n",
      "           0       0.29      0.62      0.39       750\n",
      "           1       0.90      0.69      0.78      3765\n",
      "\n",
      "    accuracy                           0.68      4515\n",
      "   macro avg       0.59      0.66      0.59      4515\n",
      "weighted avg       0.80      0.68      0.72      4515\n",
      "\n"
     ]
    }
   ],
   "source": [
    "print(classification_report(expected_KNN, pred_thres_KNN))"
   ]
  },
  {
   "cell_type": "markdown",
   "metadata": {},
   "source": [
    "Como se puede observar no hay cambios respecto a no utilizar threshold, ya que nuestro mejor caso era con el umbral igual a 0.5, es decir, el valor por defecto."
   ]
  },
  {
   "cell_type": "markdown",
   "metadata": {},
   "source": [
    "Finalmente se calcula el valor de AUC."
   ]
  },
  {
   "cell_type": "code",
   "execution_count": 271,
   "metadata": {
    "vscode": {
     "languageId": "plaintext"
    }
   },
   "outputs": [
    {
     "name": "stdout",
     "output_type": "stream",
     "text": [
      "0.6555484727755645\n"
     ]
    }
   ],
   "source": [
    "print(roc_auc_score(expected_KNN, predicted_KNN))"
   ]
  },
  {
   "cell_type": "markdown",
   "metadata": {},
   "source": [
    "Se ha obtenido un valor entre 0.6 y 0.7, es decir, el modelo se considerá como pobre o *D*."
   ]
  },
  {
   "cell_type": "markdown",
   "metadata": {
    "jp-MarkdownHeadingCollapsed": true
   },
   "source": [
    "### 6.4.7 Optimizacion"
   ]
  },
  {
   "cell_type": "markdown",
   "metadata": {},
   "source": [
    "Antes de nada, observamos cuales son los parámetros de nuestro modelo."
   ]
  },
  {
   "cell_type": "code",
   "execution_count": 275,
   "metadata": {
    "vscode": {
     "languageId": "plaintext"
    }
   },
   "outputs": [
    {
     "data": {
      "text/plain": [
       "{'algorithm': 'auto',\n",
       " 'leaf_size': 30,\n",
       " 'metric': 'minkowski',\n",
       " 'metric_params': None,\n",
       " 'n_jobs': None,\n",
       " 'n_neighbors': 5,\n",
       " 'p': 2,\n",
       " 'weights': 'uniform'}"
      ]
     },
     "execution_count": 275,
     "metadata": {},
     "output_type": "execute_result"
    }
   ],
   "source": [
    "model_KNN.get_params()"
   ]
  },
  {
   "cell_type": "markdown",
   "metadata": {},
   "source": [
    "Ahora seleccionamos los hiperparámetros a evaluar mediante un GridSearchCV. Como se evalua mediante un *cross validation*, siempre escogeremos los casos 3 o 4 de preprocesado para falsear menos los datos.\n",
    "\n",
    "Estos hiperparámetros son:\n",
    "* n_neighbors: representa el número de vecinos a considerar en el modelo KNN\n",
    "* weights: define cómo se ponderan los vecinos al calcular la predicción.\n",
    "* algorithm: define el algoritmo utilizado para encontrar los vecinos más cercanos\n",
    "* p: representa el parámetro de la distancia de Minkowski.\n",
    "* leaf_size: valores más bajos pueden hacer la búsqueda más precisa pero más lenta.\n",
    "* metric: define la métrica de distancia utilizada"
   ]
  },
  {
   "cell_type": "raw",
   "metadata": {
    "vscode": {
     "languageId": "plaintext"
    }
   },
   "source": [
    "# Definir los hiperparámetros a probar\n",
    "param_grid = {\n",
    "    'n_neighbors': [ 11, 13, 15, 17, 19, 20],  # Valores de n_neighbors\n",
    "    'weights':  ['uniform', 'distance'],  # Pesos de vecinos\n",
    "    'algorithm': ['auto', 'ball_tree', 'kd_tree', 'brute'],  # Algoritmos de búsqueda\n",
    "    'p': [1, 2, 3],  # Distancia Manhattan (1) o Euclidiana (2)\n",
    "    'leaf_size': [10, 20, 30, 40, 50, 60, 70, 80, 90, 100],  # Tamaño de hoja\n",
    "    'metric':  ['minkowski', 'euclidean', 'manhattan', 'chebyshev']  # Métricas\n",
    "}\n",
    "\n",
    "# Definir los métodos de evaluación con average='weighted'\n",
    "scorers = {\n",
    "    'f1': make_scorer(f1_score, average='weighted'),\n",
    "    'accuracy': make_scorer(accuracy_score),\n",
    "    'recall': make_scorer(recall_score, average='weighted', zero_division=0)\n",
    "}\n",
    "\n",
    "# Aplicar GridSearchCV, se refitea con la mejor métrica ('accuracy' en este caso)\n",
    "grid_search_KNN = GridSearchCV(\n",
    "    KNeighborsClassifier(),\n",
    "    param_grid,\n",
    "    cv=5,\n",
    "    n_jobs=-1,\n",
    "    scoring=scorers,\n",
    "    refit='f1',\n",
    "    verbose=1\n",
    ")\n",
    "\n",
    "inicio = time.time()\n",
    "grid_search_KNN.fit(X_pca, y_resampled)\n",
    "fin = time.time()\n",
    "\n",
    "# Mostrar los mejores parámetros encontrados\n",
    "print(\"Mejores parámetros encontrados:\", grid_search_KNN.best_params_)\n",
    "\n",
    "# Convertir los resultados en un DataFrame\n",
    "results = pd.DataFrame(grid_search_KNN.cv_results_)\n",
    "\n",
    "# Ordenar por cada métrica y mostrar los 5 mejores modelos\n",
    "for metric in ['mean_test_f1', 'mean_test_accuracy', 'mean_test_recall']:\n",
    "    print(f\"\\nTop 5 modelos según {metric}:\")\n",
    "    sorted_results = results.sort_values(by=metric, ascending=False)\n",
    "    \n",
    "    for mean_score, std_score, params in zip(\n",
    "        sorted_results[metric].head(5),\n",
    "        sorted_results[f\"std_test_{metric.split('_')[-1]}\"].head(5),\n",
    "        sorted_results[\"params\"].head(5)\n",
    "    ):\n",
    "        print(f\"{mean_score:.3f} (+/-{std_score * 2:.3f}) para {params}\")"
   ]
  },
  {
   "cell_type": "markdown",
   "metadata": {},
   "source": [
    "Se calcula el tiempo que ha tardado en minutos."
   ]
  },
  {
   "cell_type": "raw",
   "metadata": {},
   "source": [
    "tiempo_total = (fin - inicio) / 60\n",
    "print(f\"La celda tardó {tiempo_total} minutos en ejecutarse.\")"
   ]
  },
  {
   "cell_type": "markdown",
   "metadata": {
    "jp-MarkdownHeadingCollapsed": true
   },
   "source": [
    "### 6.4.8 Entramiento y evaluacion con hiperparametros optimizados"
   ]
  },
  {
   "cell_type": "markdown",
   "metadata": {
    "jp-MarkdownHeadingCollapsed": true
   },
   "source": [
    "#### - Definicion"
   ]
  },
  {
   "cell_type": "markdown",
   "metadata": {},
   "source": [
    "Definimos los mejores parámetros (no se define con *grid_search.best_params_* para probar varias opciones de forma sencilla)."
   ]
  },
  {
   "cell_type": "code",
   "execution_count": 281,
   "metadata": {
    "vscode": {
     "languageId": "plaintext"
    }
   },
   "outputs": [],
   "source": [
    "params_final_KNN = {\n",
    "    \"n_neighbors\": 11, \n",
    "    \"leaf_size\": 30, \n",
    "    \"metric\": \"minkowski\", \n",
    "    \"p\": 1, \n",
    "    \"weights\": \"uniform\", \n",
    "    \"algorithm\": \"auto\"\n",
    "}"
   ]
  },
  {
   "cell_type": "markdown",
   "metadata": {},
   "source": [
    "Definimos el modelo desagregando el diccionario."
   ]
  },
  {
   "cell_type": "code",
   "execution_count": 283,
   "metadata": {},
   "outputs": [],
   "source": [
    "final_KNN = KNeighborsClassifier(**params_final_KNN)"
   ]
  },
  {
   "cell_type": "markdown",
   "metadata": {
    "jp-MarkdownHeadingCollapsed": true
   },
   "source": [
    "#### - Entrenamiento y evaluacion"
   ]
  },
  {
   "cell_type": "markdown",
   "metadata": {},
   "source": [
    "Entrenamos el modelo y realizamos la predicción."
   ]
  },
  {
   "cell_type": "code",
   "execution_count": 286,
   "metadata": {
    "vscode": {
     "languageId": "plaintext"
    }
   },
   "outputs": [],
   "source": [
    "final_KNN.fit(X_pca, y_resampled)\n",
    "\n",
    "predicted_KNN_opt = final_KNN.predict(X_test_pca)\n",
    "expected_KNN_opt = y_test"
   ]
  },
  {
   "cell_type": "markdown",
   "metadata": {},
   "source": [
    "Evaluamos la metrica obtenida."
   ]
  },
  {
   "cell_type": "code",
   "execution_count": 288,
   "metadata": {
    "vscode": {
     "languageId": "plaintext"
    }
   },
   "outputs": [
    {
     "data": {
      "text/plain": [
       "0.697452934662237"
      ]
     },
     "execution_count": 288,
     "metadata": {},
     "output_type": "execute_result"
    }
   ],
   "source": [
    "accuracy_score(expected_KNN_opt, predicted_KNN_opt)"
   ]
  },
  {
   "cell_type": "markdown",
   "metadata": {
    "jp-MarkdownHeadingCollapsed": true
   },
   "source": [
    "#### - Matriz de confusion y F-score"
   ]
  },
  {
   "cell_type": "markdown",
   "metadata": {},
   "source": [
    "La matriz de confusión y el informe de clasificación también es muy similar."
   ]
  },
  {
   "cell_type": "code",
   "execution_count": 291,
   "metadata": {},
   "outputs": [
    {
     "name": "stdout",
     "output_type": "stream",
     "text": [
      "[[ 494  256]\n",
      " [1110 2655]]\n"
     ]
    }
   ],
   "source": [
    "print(confusion_matrix(expected_KNN_opt, predicted_KNN_opt))"
   ]
  },
  {
   "cell_type": "code",
   "execution_count": 292,
   "metadata": {
    "vscode": {
     "languageId": "plaintext"
    }
   },
   "outputs": [
    {
     "name": "stdout",
     "output_type": "stream",
     "text": [
      "              precision    recall  f1-score   support\n",
      "\n",
      "           0       0.31      0.66      0.42       750\n",
      "           1       0.91      0.71      0.80      3765\n",
      "\n",
      "    accuracy                           0.70      4515\n",
      "   macro avg       0.61      0.68      0.61      4515\n",
      "weighted avg       0.81      0.70      0.73      4515\n",
      "\n"
     ]
    }
   ],
   "source": [
    "print(classification_report(expected_KNN_opt, predicted_KNN_opt))"
   ]
  },
  {
   "cell_type": "markdown",
   "metadata": {
    "jp-MarkdownHeadingCollapsed": true
   },
   "source": [
    "#### - ROC y AUC"
   ]
  },
  {
   "cell_type": "markdown",
   "metadata": {},
   "source": [
    "Cómo se ha visto antes el mejor threshold será 0.5, así que no se realiza este apartado."
   ]
  },
  {
   "cell_type": "markdown",
   "metadata": {
    "jp-MarkdownHeadingCollapsed": true
   },
   "source": [
    "### 6.4.9 Conclusiones"
   ]
  },
  {
   "cell_type": "markdown",
   "metadata": {},
   "source": [
    "A continuación se muestra los resultados de los modelos optimizados y sin optimizar. Cabe recalcar que se probaron otros cuatro conjuntos de hiperparámetros para la mayoria de los casos de preprocesado, pero se acabó considerando absurdo porque mejoraba o empeoraba 0.01 en diversos valores."
   ]
  },
  {
   "cell_type": "markdown",
   "metadata": {},
   "source": [
    "Caso 1 : \n",
    "\n",
    "              precision    recall  f1-score   support\n",
    "\n",
    "           0       0.27      0.64      0.38       750\n",
    "           1       0.90      0.65      0.76      3765\n",
    "\n",
    "    accuracy                           0.65      4515\n",
    "\n",
    "Caso 2 : \n",
    "\n",
    "              precision    recall  f1-score   support\n",
    "\n",
    "           0       0.27      0.59      0.37       750\n",
    "           1       0.89      0.69      0.78      3765\n",
    "\n",
    "    accuracy                           0.67      4515\n",
    "\n",
    "Caso 3 : \n",
    "\n",
    "              precision    recall  f1-score   support\n",
    "\n",
    "           0       0.30      0.66      0.41       750\n",
    "           1       0.91      0.69      0.79      3765\n",
    "\n",
    "    accuracy                           0.69      4515\n",
    "\n",
    "Caso 4 : \n",
    "\n",
    "              precision    recall  f1-score   support\n",
    "\n",
    "           0       0.31      0.66      0.42       750\n",
    "           1       0.91      0.71      0.80      3765\n",
    "\n",
    "    accuracy                           0.70      4515\n",
    "\n",
    "Caso 5 : \n",
    "\n",
    "              precision    recall  f1-score   support\n",
    "\n",
    "           0       0.31      0.47      0.38       750\n",
    "           1       0.88      0.80      0.84      3765\n",
    "\n",
    "    accuracy                           0.74      4515\n",
    "\n",
    "Caso 6 : \n",
    "\n",
    "              precision    recall  f1-score   support\n",
    "\n",
    "           0       0.33      0.45      0.38       750\n",
    "           1       0.88      0.82      0.85      3765\n",
    "\n",
    "    accuracy                           0.76      "
   ]
  },
  {
   "cell_type": "markdown",
   "metadata": {},
   "source": [
    "En nuestro caso el mejor caso es el 6 o el 4 si nos fijamos en el f1 score de los 0s."
   ]
  },
  {
   "cell_type": "markdown",
   "metadata": {
    "jp-MarkdownHeadingCollapsed": true
   },
   "source": [
    "## 6.5 Clasificador GBC"
   ]
  },
  {
   "cell_type": "markdown",
   "metadata": {
    "jp-MarkdownHeadingCollapsed": true
   },
   "source": [
    "### 6.5.1 Seleccion del caso de preprocesado"
   ]
  },
  {
   "cell_type": "markdown",
   "metadata": {},
   "source": [
    "Seleccion del caso de preprocesado."
   ]
  },
  {
   "cell_type": "code",
   "execution_count": 302,
   "metadata": {},
   "outputs": [],
   "source": [
    "# case - caso de preprocesado seleccionado, valores posibles: 1, 2, 3, 4, 5, 6\n",
    "case = 4"
   ]
  },
  {
   "cell_type": "markdown",
   "metadata": {},
   "source": [
    "Hiperparametros base para cada caso."
   ]
  },
  {
   "cell_type": "code",
   "execution_count": 304,
   "metadata": {},
   "outputs": [],
   "source": [
    "if case in {1, 2}:\n",
    "    strategy_under = 0\n",
    "    strategy_over = 1\n",
    "    neighbors = 5\n",
    "    \n",
    "elif case in {3, 4}:\n",
    "    strategy_under = 0.8\n",
    "    strategy_over = 0\n",
    "    neighbors = 0\n",
    "    \n",
    "elif case in {5, 6}:\n",
    "    strategy_under = 0.25\n",
    "    strategy_over = 0.5\n",
    "    neighbors = 5"
   ]
  },
  {
   "cell_type": "markdown",
   "metadata": {},
   "source": [
    "Se estandarizan los datos en función del caso."
   ]
  },
  {
   "cell_type": "code",
   "execution_count": 306,
   "metadata": {},
   "outputs": [],
   "source": [
    "X_scaled, prep = standard_data(case, X_train)"
   ]
  },
  {
   "cell_type": "markdown",
   "metadata": {},
   "source": [
    "Se muestrean los datos en función del caso."
   ]
  },
  {
   "cell_type": "code",
   "execution_count": 308,
   "metadata": {},
   "outputs": [],
   "source": [
    "X_resampled, y_resampled = resample_data(case, X_scaled, y_train, strategy_under, strategy_over, neighbors)"
   ]
  },
  {
   "cell_type": "markdown",
   "metadata": {},
   "source": [
    "Se reducen las dimensionalidades mediante un *PCA*."
   ]
  },
  {
   "cell_type": "code",
   "execution_count": 310,
   "metadata": {},
   "outputs": [],
   "source": [
    "pca = PCA()\n",
    "X_pca_full = pca.fit_transform(X_resampled)\n",
    "\n",
    "cumulative_variance_ratio = np.cumsum(pca.explained_variance_ratio_)\n",
    "n_comp = np.argmax(cumulative_variance_ratio >= 0.95) + 1\n",
    "X_pca = X_pca_full[:, :n_comp]"
   ]
  },
  {
   "cell_type": "markdown",
   "metadata": {},
   "source": [
    "Al igual que se ha realizado distintos preprocesados al entrenamiento, hay que realizarlos al conjunto de test para obtener resultados coherentes.\n",
    "\n",
    "No es necesario realizar las tecnicas de muestreo ya que eso son técnicas para balancear nuestro conjunto de entrenamiento. Solamente es necesario realizar la misma estandarización de las características y aplicar la misma reducción de dimensionalidad."
   ]
  },
  {
   "cell_type": "code",
   "execution_count": 312,
   "metadata": {},
   "outputs": [],
   "source": [
    "X_test_scaled = prep.transform(X_test)\n",
    "X_test_pca_full = pca.transform(X_test_scaled)\n",
    "X_test_pca = X_test_pca_full[:, :n_comp]"
   ]
  },
  {
   "cell_type": "markdown",
   "metadata": {
    "jp-MarkdownHeadingCollapsed": true
   },
   "source": [
    "### 6.5.2 Definicion"
   ]
  },
  {
   "cell_type": "markdown",
   "metadata": {},
   "source": [
    "Definimos el modelo básico."
   ]
  },
  {
   "cell_type": "code",
   "execution_count": 315,
   "metadata": {
    "vscode": {
     "languageId": "plaintext"
    }
   },
   "outputs": [],
   "source": [
    "model_GBC = GradientBoostingClassifier()"
   ]
  },
  {
   "cell_type": "markdown",
   "metadata": {
    "jp-MarkdownHeadingCollapsed": true
   },
   "source": [
    "### 6.5.3 Entrenamiento y evaluacion"
   ]
  },
  {
   "cell_type": "markdown",
   "metadata": {},
   "source": [
    "Entrenamos el modelo y comprobamos su exactitud."
   ]
  },
  {
   "cell_type": "code",
   "execution_count": 318,
   "metadata": {
    "vscode": {
     "languageId": "plaintext"
    }
   },
   "outputs": [],
   "source": [
    "model_GBC.fit(X_pca, y_resampled)\n",
    "\n",
    "predicted_GBC = model_GBC.predict(X_test_pca)\n",
    "expected_GBC = y_test"
   ]
  },
  {
   "cell_type": "code",
   "execution_count": 319,
   "metadata": {
    "scrolled": true,
    "vscode": {
     "languageId": "plaintext"
    }
   },
   "outputs": [
    {
     "data": {
      "text/plain": [
       "0.7335548172757476"
      ]
     },
     "execution_count": 319,
     "metadata": {},
     "output_type": "execute_result"
    }
   ],
   "source": [
    "accuracy_score(expected_GBC, predicted_GBC)"
   ]
  },
  {
   "cell_type": "markdown",
   "metadata": {
    "jp-MarkdownHeadingCollapsed": true
   },
   "source": [
    "### 6.5.4 Null accuracy"
   ]
  },
  {
   "cell_type": "markdown",
   "metadata": {},
   "source": [
    "Nuestra exactitud es de 0.7333, la cual es peor que la null accuracy, es decir, ahora mismo no tenemos un buen modelo ya que se predecirían un mayor número de resultados en el caso de siempre predecir la clase mayoritaria."
   ]
  },
  {
   "cell_type": "markdown",
   "metadata": {
    "jp-MarkdownHeadingCollapsed": true
   },
   "source": [
    "### 6.5.5 Matriz de confusion y F-score"
   ]
  },
  {
   "cell_type": "markdown",
   "metadata": {},
   "source": [
    "Se muestra la matriz de confusión y el informe de clasificación."
   ]
  },
  {
   "cell_type": "code",
   "execution_count": 324,
   "metadata": {
    "vscode": {
     "languageId": "plaintext"
    }
   },
   "outputs": [
    {
     "name": "stdout",
     "output_type": "stream",
     "text": [
      "[[ 469  281]\n",
      " [ 922 2843]]\n"
     ]
    }
   ],
   "source": [
    "print(confusion_matrix(expected_GBC, predicted_GBC))"
   ]
  },
  {
   "cell_type": "code",
   "execution_count": 325,
   "metadata": {
    "vscode": {
     "languageId": "plaintext"
    }
   },
   "outputs": [
    {
     "name": "stdout",
     "output_type": "stream",
     "text": [
      "              precision    recall  f1-score   support\n",
      "\n",
      "           0       0.34      0.63      0.44       750\n",
      "           1       0.91      0.76      0.83      3765\n",
      "\n",
      "    accuracy                           0.73      4515\n",
      "   macro avg       0.62      0.69      0.63      4515\n",
      "weighted avg       0.81      0.73      0.76      4515\n",
      "\n"
     ]
    }
   ],
   "source": [
    "print(classification_report(expected_GBC, predicted_GBC))"
   ]
  },
  {
   "cell_type": "markdown",
   "metadata": {},
   "source": [
    "Se observa lo que hemos estado comentando durante todo el documento, tenemos un f1-score del 0.44 para los 1s mientras que estamos obteniendo un 0.73 para los 0s."
   ]
  },
  {
   "cell_type": "markdown",
   "metadata": {
    "jp-MarkdownHeadingCollapsed": true
   },
   "source": [
    "### 6.5.6 ROC y AUC"
   ]
  },
  {
   "cell_type": "markdown",
   "metadata": {},
   "source": [
    "Evaluamos la ROC-AUC score. Para ello representamos primero la curva de ROC."
   ]
  },
  {
   "cell_type": "code",
   "execution_count": 329,
   "metadata": {
    "vscode": {
     "languageId": "plaintext"
    }
   },
   "outputs": [
    {
     "data": {
      "image/png": "[encoded data removed]",
      "text/plain": [
       "<Figure size 640x480 with 1 Axes>"
      ]
     },
     "metadata": {},
     "output_type": "display_data"
    }
   ],
   "source": [
    "y_pred_prob_GBC = model_GBC.predict_proba(X_test_pca)[:,1]\n",
    "fpr, tpr, thresholds = roc_curve(y_test, y_pred_prob_GBC)\n",
    "plt.plot(fpr, tpr)\n",
    "plt.xlim([0.0, 1.0])\n",
    "plt.ylim([0.0, 1.0])\n",
    "plt.title('Curva ROC')\n",
    "plt.xlabel('Ratio de FP (1 - Recall)')\n",
    "plt.ylabel('Ratio TP (Sensitivity)')\n",
    "plt.grid(True)\n",
    "plt.show()"
   ]
  },
  {
   "cell_type": "markdown",
   "metadata": {},
   "source": [
    "Y mostramos sus thresholds."
   ]
  },
  {
   "cell_type": "code",
   "execution_count": 331,
   "metadata": {
    "vscode": {
     "languageId": "plaintext"
    }
   },
   "outputs": [
    {
     "data": {
      "text/plain": [
       "array([       inf, 0.93443982, 0.92544964, ..., 0.15745434, 0.15019824,\n",
       "       0.02745799])"
      ]
     },
     "execution_count": 331,
     "metadata": {},
     "output_type": "execute_result"
    }
   ],
   "source": [
    "thresholds"
   ]
  },
  {
   "cell_type": "markdown",
   "metadata": {},
   "source": [
    "La siguiente gráfica muestra las probabilidades de predicción en función de los umbrales."
   ]
  },
  {
   "cell_type": "code",
   "execution_count": 333,
   "metadata": {
    "vscode": {
     "languageId": "plaintext"
    }
   },
   "outputs": [
    {
     "data": {
      "text/plain": [
       "array([<Axes: title={'center': '0'}>, <Axes: title={'center': '1'}>],\n",
       "      dtype=object)"
      ]
     },
     "execution_count": 333,
     "metadata": {},
     "output_type": "execute_result"
    },
    {
     "data": {
      "image/png": "[encoded data removed]",
      "text/plain": [
       "<Figure size 640x480 with 2 Axes>"
      ]
     },
     "metadata": {},
     "output_type": "display_data"
    }
   ],
   "source": [
    "dprob = pd.DataFrame(data = {'probability':y_pred_prob_GBC, 'actual':y_test})\n",
    "dprob.probability.hist(by=dprob.actual, sharex=True, sharey=True)"
   ]
  },
  {
   "cell_type": "markdown",
   "metadata": {},
   "source": [
    "Se muestra que los mejores resultados para ambas clases se obtiene con el *threshold* igual a 0.75."
   ]
  },
  {
   "cell_type": "code",
   "execution_count": 335,
   "metadata": {
    "vscode": {
     "languageId": "plaintext"
    }
   },
   "outputs": [
    {
     "name": "stdout",
     "output_type": "stream",
     "text": [
      "Sensitivity: 0.8682602921646746\n",
      "Recall: 0.4106666666666666\n"
     ]
    }
   ],
   "source": [
    "best_thres_GBC = 0.4\n",
    "\n",
    "evaluate_threshold(best_thres_GBC)"
   ]
  },
  {
   "cell_type": "markdown",
   "metadata": {},
   "source": [
    "Con este valor se obtienen los siguientes resultados. Primero se recalculan las predicciones."
   ]
  },
  {
   "cell_type": "code",
   "execution_count": 337,
   "metadata": {},
   "outputs": [],
   "source": [
    "probs_GBC = model_GBC.predict_proba(X_test_pca)[:, 1]  \n",
    "pred_thres_GBC = (probs_GBC >= best_thres_GBC).astype(int) "
   ]
  },
  {
   "cell_type": "markdown",
   "metadata": {},
   "source": [
    "Se evalua la matriz de confusión."
   ]
  },
  {
   "cell_type": "code",
   "execution_count": 339,
   "metadata": {},
   "outputs": [
    {
     "name": "stdout",
     "output_type": "stream",
     "text": [
      "[[ 308  442]\n",
      " [ 496 3269]]\n"
     ]
    }
   ],
   "source": [
    "print(confusion_matrix(expected_GBC, pred_thres_GBC))"
   ]
  },
  {
   "cell_type": "markdown",
   "metadata": {},
   "source": [
    "Y también se analiza el informe de la clasificación."
   ]
  },
  {
   "cell_type": "code",
   "execution_count": 341,
   "metadata": {},
   "outputs": [
    {
     "name": "stdout",
     "output_type": "stream",
     "text": [
      "              precision    recall  f1-score   support\n",
      "\n",
      "           0       0.38      0.41      0.40       750\n",
      "           1       0.88      0.87      0.87      3765\n",
      "\n",
      "    accuracy                           0.79      4515\n",
      "   macro avg       0.63      0.64      0.64      4515\n",
      "weighted avg       0.80      0.79      0.80      4515\n",
      "\n"
     ]
    }
   ],
   "source": [
    "print(classification_report(expected_GBC, pred_thres_GBC))"
   ]
  },
  {
   "cell_type": "markdown",
   "metadata": {},
   "source": [
    "Como se puede observar se obtiene una mejora significante en accuracy y f1-score en 1 a cambio de perder f1-score en 0s"
   ]
  },
  {
   "cell_type": "markdown",
   "metadata": {},
   "source": [
    "Finalmente se calcula el valor de AUC."
   ]
  },
  {
   "cell_type": "code",
   "execution_count": 344,
   "metadata": {
    "vscode": {
     "languageId": "plaintext"
    }
   },
   "outputs": [
    {
     "name": "stdout",
     "output_type": "stream",
     "text": [
      "0.6902231075697212\n"
     ]
    }
   ],
   "source": [
    "print(roc_auc_score(expected_GBC, predicted_GBC))"
   ]
  },
  {
   "cell_type": "markdown",
   "metadata": {},
   "source": [
    "Se ha obtenido un valor entre 0.6 y 0.7, es decir, el modelo se considerá como pobre o *D*."
   ]
  },
  {
   "cell_type": "markdown",
   "metadata": {
    "jp-MarkdownHeadingCollapsed": true
   },
   "source": [
    "### 6.5.7 Optimizacion"
   ]
  },
  {
   "cell_type": "markdown",
   "metadata": {},
   "source": [
    "Antes de nada, observamos cuales son los parámetros de nuestro modelo."
   ]
  },
  {
   "cell_type": "code",
   "execution_count": 348,
   "metadata": {
    "vscode": {
     "languageId": "plaintext"
    }
   },
   "outputs": [
    {
     "data": {
      "text/plain": [
       "{'ccp_alpha': 0.0,\n",
       " 'criterion': 'friedman_mse',\n",
       " 'init': None,\n",
       " 'learning_rate': 0.1,\n",
       " 'loss': 'log_loss',\n",
       " 'max_depth': 3,\n",
       " 'max_features': None,\n",
       " 'max_leaf_nodes': None,\n",
       " 'min_impurity_decrease': 0.0,\n",
       " 'min_samples_leaf': 1,\n",
       " 'min_samples_split': 2,\n",
       " 'min_weight_fraction_leaf': 0.0,\n",
       " 'n_estimators': 100,\n",
       " 'n_iter_no_change': None,\n",
       " 'random_state': None,\n",
       " 'subsample': 1.0,\n",
       " 'tol': 0.0001,\n",
       " 'validation_fraction': 0.1,\n",
       " 'verbose': 0,\n",
       " 'warm_start': False}"
      ]
     },
     "execution_count": 348,
     "metadata": {},
     "output_type": "execute_result"
    }
   ],
   "source": [
    "model_GBC.get_params()"
   ]
  },
  {
   "cell_type": "markdown",
   "metadata": {},
   "source": [
    "Ahora seleccionamos los hiperparámetros a evaluar mediante un GridSearchCV. Como se evalua mediante un cross validation, siempre escogeremos los casos 3 o 4 de preprocesado para falsear menos los datos.\n",
    "\n",
    "Estos son los hiperparámetros más importantes:\n",
    "* learning_rate: Controla la contribución de cada árbol para evitar sobreajuste.ç\n",
    "* n_estimators: Número de árboles en el modelo, afectando la capacidad de aprendizaje.\n",
    "* max_depth: Profundidad máxima de los árboles, evitando sobreajuste o subajuste.\n",
    "* min_samples_split: Mínimo de muestras necesarias para dividir un nodo, regulando la complejidad.\n",
    "* min_samples_leaf: Mínimo de muestras en una hoja para evitar divisiones insignificantes.\n",
    "* subsample: Proporción de datos usados en cada iteración, reduciendo varianza.\n",
    "* loss: Función de pérdida optimizada (ej. log_loss para clasificación)."
   ]
  },
  {
   "cell_type": "raw",
   "metadata": {
    "vscode": {
     "languageId": "plaintext"
    }
   },
   "source": [
    "# Definir los hiperparámetros a probar\n",
    "param_grid = {\n",
    "    'criterion' : ['friedman_mse', 'squared_error' ],\n",
    "    'n_estimators': [50, 100],  # Número de árboles\n",
    "    'max_depth': [3],  # Profundidad máxima del árbol\n",
    "    'subsample': [0.8, 1.0],  # Submuestreo para reducir overfitting\n",
    "    'min_samples_split': [2],  # Mínimo de muestras para dividir un nodo\n",
    "    'min_samples_leaf': [1],  # Mínimo de muestras en una hoja\n",
    "    'max_features': ['auto', 'sqrt', 'log2', None],  # Diferentes opciones para max_features\n",
    "    'min_impurity_decrease': [0.0, 0.01, 0.1],  # Control de impurezas para divisiones\n",
    "    'ccp_alpha': [0.0, 0.01, 0.1],  # Poda de árboles\n",
    "    'validation_fraction': [0.1, 0.2],  # Fracción para validación en entrenamiento\n",
    "    'n_iter_no_change': [None, 10, 20],  # Iteraciones sin cambio antes de detenerse\n",
    "}\n",
    "\n",
    "# Definir los métodos de evaluación con average='weighted'\n",
    "scorers = {\n",
    "    'f1': make_scorer(f1_score, average='weighted'),\n",
    "    'accuracy': make_scorer(accuracy_score),\n",
    "    'recall': make_scorer(recall_score, average='weighted', zero_division=0)\n",
    "}\n",
    "\n",
    "# Aplicar GridSearchCV, se optimiza según F1-score\n",
    "grid_search_GB = GridSearchCV(\n",
    "    GradientBoostingClassifier(),\n",
    "    param_grid,\n",
    "    cv=5,\n",
    "    n_jobs=-1,\n",
    "    scoring=scorers,\n",
    "    refit='f1',\n",
    "    verbose=1\n",
    ")\n",
    "\n",
    "inicio = time.time()\n",
    "grid_search_GB.fit(X_pca, y_resampled)\n",
    "fin = time.time()\n",
    "\n",
    "# Mostrar los mejores parámetros encontrados\n",
    "print(\"Mejores parámetros encontrados:\", grid_search_GB.best_params_)\n",
    "\n",
    "# Convertir los resultados en un DataFrame\n",
    "results = pd.DataFrame(grid_search_GB.cv_results_)\n",
    "\n",
    "# Ordenar por cada métrica y mostrar los 5 mejores modelos\n",
    "for metric in ['mean_test_f1', 'mean_test_accuracy', 'mean_test_recall']:\n",
    "    print(f\"\\nTop 5 modelos según {metric}:\")\n",
    "    sorted_results = results.sort_values(by=metric, ascending=False)\n",
    "\n",
    "    for mean_score, std_score, params in zip(\n",
    "        sorted_results[metric].head(5),\n",
    "        sorted_results[f\"std_test_{metric.split('_')[-1]}\"].head(5),\n",
    "        sorted_results[\"params\"].head(5)\n",
    "    ):\n",
    "        print(f\"{mean_score:.3f} (+/-{std_score * 2:.3f}) para {params}\")"
   ]
  },
  {
   "cell_type": "markdown",
   "metadata": {},
   "source": [
    "Se calcula el tiempo que ha tardado en minutos."
   ]
  },
  {
   "cell_type": "raw",
   "metadata": {},
   "source": [
    "tiempo_total = (fin - inicio) / 60\n",
    "print(f\"La celda tardó {tiempo_total} minutos en ejecutarse.\")"
   ]
  },
  {
   "cell_type": "markdown",
   "metadata": {
    "jp-MarkdownHeadingCollapsed": true
   },
   "source": [
    "### 6.5.8 Entramiento y evaluacion con hiperparametros optimizados"
   ]
  },
  {
   "cell_type": "markdown",
   "metadata": {
    "jp-MarkdownHeadingCollapsed": true
   },
   "source": [
    "#### - Definicion"
   ]
  },
  {
   "cell_type": "markdown",
   "metadata": {},
   "source": [
    "Definimos los mejores parámetros (no se define con *grid_search.best_params_* para probar varias opciones de forma sencilla)."
   ]
  },
  {
   "cell_type": "code",
   "execution_count": 354,
   "metadata": {
    "vscode": {
     "languageId": "plaintext"
    }
   },
   "outputs": [],
   "source": [
    "params_final_GBC = {\n",
    "    'ccp_alpha': 0.0,\n",
    "    'criterion': 'friedman_mse',\n",
    "    'max_depth': 3,\n",
    "    'max_features': None,\n",
    "    'min_impurity_decrease': 0.01,\n",
    "    'min_samples_leaf': 1,\n",
    "    'min_samples_split': 2,\n",
    "    'n_estimators': 100,\n",
    "    'n_iter_no_change': None,\n",
    "    'subsample': 0.8,\n",
    "    'validation_fraction': 0.2,\n",
    "    'random_state': seed\n",
    "}"
   ]
  },
  {
   "cell_type": "markdown",
   "metadata": {},
   "source": [
    "Definimos el modelo desagregando el diccionario."
   ]
  },
  {
   "cell_type": "code",
   "execution_count": 356,
   "metadata": {},
   "outputs": [],
   "source": [
    "final_GBC = GradientBoostingClassifier(**params_final_GBC)"
   ]
  },
  {
   "cell_type": "markdown",
   "metadata": {
    "jp-MarkdownHeadingCollapsed": true
   },
   "source": [
    "#### - Entrenamiento y evaluacion"
   ]
  },
  {
   "cell_type": "markdown",
   "metadata": {},
   "source": [
    "Entrenamos el modelo y comprobamos su exactitud."
   ]
  },
  {
   "cell_type": "code",
   "execution_count": 359,
   "metadata": {
    "vscode": {
     "languageId": "plaintext"
    }
   },
   "outputs": [],
   "source": [
    "final_GBC.fit(X_pca, y_resampled)\n",
    "\n",
    "predicted_GBC_opt = final_GBC.predict(X_test_pca)\n",
    "expected_GBC_opt = y_test"
   ]
  },
  {
   "cell_type": "code",
   "execution_count": 360,
   "metadata": {
    "vscode": {
     "languageId": "plaintext"
    }
   },
   "outputs": [
    {
     "data": {
      "text/plain": [
       "0.7348837209302326"
      ]
     },
     "execution_count": 360,
     "metadata": {},
     "output_type": "execute_result"
    }
   ],
   "source": [
    "accuracy_score(expected_GBC_opt, predicted_GBC_opt)"
   ]
  },
  {
   "cell_type": "markdown",
   "metadata": {
    "jp-MarkdownHeadingCollapsed": true
   },
   "source": [
    "#### - Matriz de confusion y F-score"
   ]
  },
  {
   "cell_type": "markdown",
   "metadata": {},
   "source": [
    "La matriz de confusión y el informe de clasificación también es muy similar."
   ]
  },
  {
   "cell_type": "code",
   "execution_count": 363,
   "metadata": {},
   "outputs": [
    {
     "name": "stdout",
     "output_type": "stream",
     "text": [
      "[[ 467  283]\n",
      " [ 914 2851]]\n"
     ]
    }
   ],
   "source": [
    "print(confusion_matrix(expected_GBC_opt, predicted_GBC_opt))"
   ]
  },
  {
   "cell_type": "code",
   "execution_count": 364,
   "metadata": {
    "vscode": {
     "languageId": "plaintext"
    }
   },
   "outputs": [
    {
     "name": "stdout",
     "output_type": "stream",
     "text": [
      "              precision    recall  f1-score   support\n",
      "\n",
      "           0       0.34      0.62      0.44       750\n",
      "           1       0.91      0.76      0.83      3765\n",
      "\n",
      "    accuracy                           0.73      4515\n",
      "   macro avg       0.62      0.69      0.63      4515\n",
      "weighted avg       0.81      0.73      0.76      4515\n",
      "\n"
     ]
    }
   ],
   "source": [
    "print(classification_report(expected_GBC_opt, predicted_GBC_opt))"
   ]
  },
  {
   "cell_type": "markdown",
   "metadata": {
    "jp-MarkdownHeadingCollapsed": true
   },
   "source": [
    "### 6.5.9 Conclusiones"
   ]
  },
  {
   "cell_type": "markdown",
   "metadata": {},
   "source": [
    "A continuación se muestra los resultados de los modelos optimizados y sin optimizar. Cabe recalcar que se probaron otros cuatro conjuntos de hiperparámetros para la mayoria de los casos de preprocesado, pero se acabó considerando absurdo porque mejoraba o empeoraba 0.01 en diversos valores."
   ]
  },
  {
   "cell_type": "markdown",
   "metadata": {},
   "source": [
    "Caso 1 : \n",
    "\n",
    "              precision    recall  f1-score   support\n",
    "\n",
    "           0       0.31      0.65      0.42       750\n",
    "           1       0.91      0.71      0.80      3765\n",
    "\n",
    "    accuracy                           0.70      4515\n",
    "\n",
    "Caso 2 : \n",
    "\n",
    "              precision    recall  f1-score   support\n",
    "\n",
    "           0       0.32      0.66      0.43       750\n",
    "           1       0.91      0.71      0.80      3765\n",
    "\n",
    "    accuracy                           0.71      4515\n",
    "\n",
    "Caso 3 : \n",
    "\n",
    "              precision    recall  f1-score   support\n",
    "\n",
    "           0       0.34      0.64      0.44       750\n",
    "           1       0.91      0.75      0.82      3765\n",
    "\n",
    "    accuracy                           0.73      4515\n",
    "\n",
    "Caso 4 : \n",
    "\n",
    "              precision    recall  f1-score   support\n",
    "\n",
    "           0       0.34      0.62      0.44       750\n",
    "           1       0.91      0.76      0.83      3765\n",
    "\n",
    "    accuracy                           0.73      4515\n",
    "\n",
    "Caso 5 : \n",
    "\n",
    "              precision    recall  f1-score   support\n",
    "\n",
    "           0       0.39      0.38      0.39       750\n",
    "           1       0.88      0.88      0.88      3765\n",
    "\n",
    "    accuracy                           0.80      4515\n",
    "\n",
    "Caso 6 : \n",
    "\n",
    "              precision    recall  f1-score   support\n",
    "\n",
    "           0       0.41      0.41      0.41       750\n",
    "           1       0.88      0.88      0.88      3765\n",
    "\n",
    "    accuracy                           0.80      4515"
   ]
  },
  {
   "cell_type": "markdown",
   "metadata": {},
   "source": [
    "En nuestro caso el mejor caso es el 6 o el 4 si nos fijamos en el f1 score de los 0s."
   ]
  },
  {
   "cell_type": "markdown",
   "metadata": {
    "jp-MarkdownHeadingCollapsed": true
   },
   "source": [
    "## 6.6 Clasificador LinearSVC"
   ]
  },
  {
   "cell_type": "markdown",
   "metadata": {
    "jp-MarkdownHeadingCollapsed": true
   },
   "source": [
    "### 6.6.1 Seleccion del caso de preprocesado"
   ]
  },
  {
   "cell_type": "markdown",
   "metadata": {},
   "source": [
    "Seleccion del caso de preprocesado."
   ]
  },
  {
   "cell_type": "code",
   "execution_count": 372,
   "metadata": {},
   "outputs": [],
   "source": [
    "# case - caso de preprocesado seleccionado, valores posibles: 1, 2, 3, 4, 5, 6\n",
    "case = 3"
   ]
  },
  {
   "cell_type": "markdown",
   "metadata": {},
   "source": [
    "Hiperparametros base para cada caso."
   ]
  },
  {
   "cell_type": "code",
   "execution_count": 374,
   "metadata": {},
   "outputs": [],
   "source": [
    "if case in {1, 2}:\n",
    "    strategy_under = 0\n",
    "    strategy_over = 1\n",
    "    neighbors = 5\n",
    "    \n",
    "elif case in {3, 4}:\n",
    "    strategy_under = 0.8\n",
    "    strategy_over = 0\n",
    "    neighbors = 0\n",
    "    \n",
    "elif case in {5, 6}:\n",
    "    strategy_under = 0.25\n",
    "    strategy_over = 0.5\n",
    "    neighbors = 5"
   ]
  },
  {
   "cell_type": "markdown",
   "metadata": {},
   "source": [
    "Se estandarizan los datos en función del caso."
   ]
  },
  {
   "cell_type": "code",
   "execution_count": 376,
   "metadata": {},
   "outputs": [],
   "source": [
    "X_scaled, prep = standard_data(case, X_train)"
   ]
  },
  {
   "cell_type": "markdown",
   "metadata": {},
   "source": [
    "Se muestrean los datos en función del caso."
   ]
  },
  {
   "cell_type": "code",
   "execution_count": 378,
   "metadata": {},
   "outputs": [],
   "source": [
    "X_resampled, y_resampled = resample_data(case, X_scaled, y_train, strategy_under, strategy_over, neighbors)"
   ]
  },
  {
   "cell_type": "markdown",
   "metadata": {},
   "source": [
    "Se reducen las dimensionalidades mediante un *PCA*."
   ]
  },
  {
   "cell_type": "code",
   "execution_count": 380,
   "metadata": {},
   "outputs": [],
   "source": [
    "pca = PCA()\n",
    "X_pca_full = pca.fit_transform(X_resampled)\n",
    "\n",
    "cumulative_variance_ratio = np.cumsum(pca.explained_variance_ratio_)\n",
    "n_comp = np.argmax(cumulative_variance_ratio >= 0.95) + 1\n",
    "X_pca = X_pca_full[:, :n_comp]"
   ]
  },
  {
   "cell_type": "markdown",
   "metadata": {},
   "source": [
    "Al igual que se ha realizado distintos preprocesados al entrenamiento, hay que realizarlos al conjunto de test para obtener resultados coherentes.\n",
    "\n",
    "No es necesario realizar las tecnicas de muestreo ya que eso son técnicas para balancear nuestro conjunto de entrenamiento. Solamente es necesario realizar la misma estandarización de las características y aplicar la misma reducción de dimensionalidad."
   ]
  },
  {
   "cell_type": "code",
   "execution_count": 382,
   "metadata": {},
   "outputs": [],
   "source": [
    "X_test_scaled = prep.transform(X_test)\n",
    "X_test_pca_full = pca.transform(X_test_scaled)\n",
    "X_test_pca = X_test_pca_full[:, :n_comp]"
   ]
  },
  {
   "cell_type": "markdown",
   "metadata": {
    "jp-MarkdownHeadingCollapsed": true
   },
   "source": [
    "### 6.6.2 Definicion"
   ]
  },
  {
   "cell_type": "markdown",
   "metadata": {},
   "source": [
    "Definimos el modelo básico."
   ]
  },
  {
   "cell_type": "code",
   "execution_count": 385,
   "metadata": {
    "vscode": {
     "languageId": "plaintext"
    }
   },
   "outputs": [],
   "source": [
    "model_SVC = LinearSVC()"
   ]
  },
  {
   "cell_type": "markdown",
   "metadata": {
    "jp-MarkdownHeadingCollapsed": true
   },
   "source": [
    "### 6.6.3 Entrenamiento y evaluacion"
   ]
  },
  {
   "cell_type": "markdown",
   "metadata": {},
   "source": [
    "Entrenamos el modelo y comprobamos su exactitud."
   ]
  },
  {
   "cell_type": "code",
   "execution_count": 388,
   "metadata": {
    "vscode": {
     "languageId": "plaintext"
    }
   },
   "outputs": [],
   "source": [
    "model_SVC.fit(X_pca, y_resampled)\n",
    "\n",
    "predicted_SVC = model_SVC.predict(X_test_pca)\n",
    "expected_SVC = y_test"
   ]
  },
  {
   "cell_type": "code",
   "execution_count": 389,
   "metadata": {
    "scrolled": true,
    "vscode": {
     "languageId": "plaintext"
    }
   },
   "outputs": [
    {
     "data": {
      "text/plain": [
       "0.7204872646733111"
      ]
     },
     "execution_count": 389,
     "metadata": {},
     "output_type": "execute_result"
    }
   ],
   "source": [
    "accuracy_score(expected_SVC, predicted_SVC)"
   ]
  },
  {
   "cell_type": "markdown",
   "metadata": {
    "jp-MarkdownHeadingCollapsed": true
   },
   "source": [
    "### 6.6.4 Null accuracy"
   ]
  },
  {
   "cell_type": "markdown",
   "metadata": {},
   "source": [
    "Nuestra exactitud es de 0.7204, la cual es peor que la null accuracy, es decir, ahora mismo no tenemos un buen modelo ya que se predecirían un mayor número de resultados en el caso de siempre predecir la clase mayoritaria."
   ]
  },
  {
   "cell_type": "markdown",
   "metadata": {
    "jp-MarkdownHeadingCollapsed": true
   },
   "source": [
    "### 6.6.5 Matriz de confusion y F-score"
   ]
  },
  {
   "cell_type": "markdown",
   "metadata": {},
   "source": [
    "Se muestra la matriz de confusión y el informe de clasificación."
   ]
  },
  {
   "cell_type": "code",
   "execution_count": 394,
   "metadata": {
    "vscode": {
     "languageId": "plaintext"
    }
   },
   "outputs": [
    {
     "name": "stdout",
     "output_type": "stream",
     "text": [
      "[[ 469  281]\n",
      " [ 922 2843]]\n"
     ]
    }
   ],
   "source": [
    "print(confusion_matrix(expected_GBC, predicted_GBC))"
   ]
  },
  {
   "cell_type": "code",
   "execution_count": 395,
   "metadata": {
    "vscode": {
     "languageId": "plaintext"
    }
   },
   "outputs": [
    {
     "name": "stdout",
     "output_type": "stream",
     "text": [
      "              precision    recall  f1-score   support\n",
      "\n",
      "           0       0.34      0.63      0.44       750\n",
      "           1       0.91      0.76      0.83      3765\n",
      "\n",
      "    accuracy                           0.73      4515\n",
      "   macro avg       0.62      0.69      0.63      4515\n",
      "weighted avg       0.81      0.73      0.76      4515\n",
      "\n"
     ]
    }
   ],
   "source": [
    "print(classification_report(expected_GBC, predicted_GBC))"
   ]
  },
  {
   "cell_type": "markdown",
   "metadata": {},
   "source": [
    "Se observa lo que hemos estado comentando durante todo el documento, tenemos un f1-score del 0.82 para los 1s mientras que estamos obteniendo un 0.39 para los 0s."
   ]
  },
  {
   "cell_type": "markdown",
   "metadata": {
    "jp-MarkdownHeadingCollapsed": true
   },
   "source": [
    "### 6.6.6 ROC y AUC"
   ]
  },
  {
   "cell_type": "markdown",
   "metadata": {},
   "source": [
    "No es posible calcular la curva de ROC ya que no existe la función *predict_proba* para este modelo."
   ]
  },
  {
   "cell_type": "markdown",
   "metadata": {},
   "source": [
    "Se calcula el valor de AUC."
   ]
  },
  {
   "cell_type": "code",
   "execution_count": 400,
   "metadata": {
    "vscode": {
     "languageId": "plaintext"
    }
   },
   "outputs": [
    {
     "name": "stdout",
     "output_type": "stream",
     "text": [
      "0.6508897742363877\n"
     ]
    }
   ],
   "source": [
    "print(roc_auc_score(expected_SVC, predicted_SVC))"
   ]
  },
  {
   "cell_type": "markdown",
   "metadata": {},
   "source": [
    "Se ha obtenido un valor entre 0.6 y 0.7, es decir, el modelo se considerá como pobre o *D*."
   ]
  },
  {
   "cell_type": "markdown",
   "metadata": {
    "jp-MarkdownHeadingCollapsed": true
   },
   "source": [
    "### 6.6.7 Optimizacion"
   ]
  },
  {
   "cell_type": "markdown",
   "metadata": {},
   "source": [
    "Antes de nada, observamos cuales son los parámetros de nuestro modelo."
   ]
  },
  {
   "cell_type": "code",
   "execution_count": 404,
   "metadata": {
    "vscode": {
     "languageId": "plaintext"
    }
   },
   "outputs": [
    {
     "data": {
      "text/plain": [
       "{'C': 1.0,\n",
       " 'class_weight': None,\n",
       " 'dual': 'auto',\n",
       " 'fit_intercept': True,\n",
       " 'intercept_scaling': 1,\n",
       " 'loss': 'squared_hinge',\n",
       " 'max_iter': 1000,\n",
       " 'multi_class': 'ovr',\n",
       " 'penalty': 'l2',\n",
       " 'random_state': None,\n",
       " 'tol': 0.0001,\n",
       " 'verbose': 0}"
      ]
     },
     "execution_count": 404,
     "metadata": {},
     "output_type": "execute_result"
    }
   ],
   "source": [
    "model_SVC.get_params()"
   ]
  },
  {
   "cell_type": "markdown",
   "metadata": {},
   "source": [
    "Ahora seleccionamos los hiperparámetros a evaluar mediante un GridSearchCV. Como se evalua mediante un cross validation, siempre escogeremos los casos 3 o 4 de preprocesado para falsear menos los datos.\n",
    "\n",
    "Estos son los hiperparámetros más importantes:\n",
    "* C: controla la regularización; valores altos reducen el margen de error pero pueden causar sobreajuste.\n",
    "* loss: función de pérdida utilizada.\n",
    "* penalty: tipo de regularización aplicada.\n",
    "* max_iter: número máximo de iteraciones para la convergencia del algoritmo.\n",
    "* tol: tolerancia para la optimización.\n",
    "* multi_class: estrategia para clasificación multiclase."
   ]
  },
  {
   "cell_type": "raw",
   "metadata": {
    "vscode": {
     "languageId": "plaintext"
    }
   },
   "source": [
    "# Definir los hiperparámetros a probar para LinearSVC\n",
    "param_grid = {\n",
    "    'C': [0.01, 0.1, 1, 10, 100],  # Parámetro de regularización\n",
    "    'penalty': ['l2'],  # Regularización L2 (si usas \"l1\" puede ser poco estable para LinearSVC)\n",
    "    'loss': ['squared_hinge'],  # Tipo de pérdida\n",
    "    'dual': [True, False],  # Dualidad en la formulación del problema\n",
    "    'tol': [1e-4, 1e-3, 1e-2],  # Tolerancia para la optimización\n",
    "    'max_iter': [1000, 2000, 3000],  # Número máximo de iteraciones\n",
    "    'intercept_scaling': [0.1, 1, 10],  # Ajuste de la escala del término de intersección\n",
    "    'class_weight': [None, 'balanced'],  # Ajuste de los pesos de las clases (útil para clases desbalanceadas)\n",
    "    'random_state': [42]  # Establecer una semilla para la aleatoriedad\n",
    "}\n",
    "\n",
    "# Definir los métodos de evaluación con average='weighted'\n",
    "scorers = {\n",
    "    'f1': make_scorer(f1_score, average='weighted'),\n",
    "    'accuracy': make_scorer(accuracy_score),\n",
    "    'recall': make_scorer(recall_score, average='weighted', zero_division=0)\n",
    "}\n",
    "\n",
    "# Aplicar GridSearchCV con LinearSVC, se refitea con la mejor métrica ('f1' en este caso)\n",
    "grid_search_SVC = GridSearchCV(\n",
    "    LinearSVC(),\n",
    "    param_grid,\n",
    "    cv=10,\n",
    "    n_jobs=-1,\n",
    "    scoring=scorers,\n",
    "    refit='f1',\n",
    "    verbose=1\n",
    ")\n",
    "\n",
    "inicio = time.time()\n",
    "grid_search_SVC.fit(X_pca, y_resampled)\n",
    "fin = time.time()\n",
    "\n",
    "# Mostrar los mejores parámetros encontrados\n",
    "print(\"Mejores parámetros encontrados:\", grid_search_SVC.best_params_)\n",
    "\n",
    "# Convertir los resultados en un DataFrame\n",
    "results = pd.DataFrame(grid_search_SVC.cv_results_)\n",
    "\n",
    "# Ordenar por cada métrica y mostrar los 5 mejores modelos\n",
    "for metric in ['mean_test_f1', 'mean_test_accuracy', 'mean_test_recall']:\n",
    "    print(f\"\\nTop 5 modelos según {metric}:\")\n",
    "    sorted_results = results.sort_values(by=metric, ascending=False)\n",
    "    \n",
    "    for mean_score, std_score, params in zip(\n",
    "        sorted_results[metric].head(5),\n",
    "        sorted_results[f\"std_test_{metric.split('_')[-1]}\"].head(5),\n",
    "        sorted_results[\"params\"].head(5)\n",
    "    ):\n",
    "        print(f\"{mean_score:.3f} (+/-{std_score * 2:.3f}) para {params}\")\n"
   ]
  },
  {
   "cell_type": "markdown",
   "metadata": {},
   "source": [
    "Se calcula el tiempo que ha tardado en minutos."
   ]
  },
  {
   "cell_type": "raw",
   "metadata": {},
   "source": [
    "tiempo_total = (fin - inicio) / 60\n",
    "print(f\"La celda tardó {tiempo_total} minutos en ejecutarse.\")"
   ]
  },
  {
   "cell_type": "markdown",
   "metadata": {
    "jp-MarkdownHeadingCollapsed": true
   },
   "source": [
    "### 6.5.8 Entramiento y evaluacion con hiperparametros optimizados"
   ]
  },
  {
   "cell_type": "markdown",
   "metadata": {
    "jp-MarkdownHeadingCollapsed": true
   },
   "source": [
    "#### - Definicion"
   ]
  },
  {
   "cell_type": "markdown",
   "metadata": {},
   "source": [
    "Definimos los mejores parámetros (no se define con *grid_search.best_params_* para probar varias opciones de forma sencilla)."
   ]
  },
  {
   "cell_type": "code",
   "execution_count": 410,
   "metadata": {
    "vscode": {
     "languageId": "plaintext"
    }
   },
   "outputs": [],
   "source": [
    "params_final_SVC = {\n",
    "    'C': 0.01,\n",
    "    'class_weight': 'balanced',\n",
    "    'dual': True,\n",
    "    'intercept_scaling': 1,\n",
    "    'loss': 'squared_hinge',\n",
    "    'max_iter': 100000,\n",
    "    'penalty': 'l2',\n",
    "    'tol': 0.0000001,\n",
    "    'random_state': seed\n",
    "}"
   ]
  },
  {
   "cell_type": "markdown",
   "metadata": {},
   "source": [
    "Definimos el modelo desagregando el diccionario."
   ]
  },
  {
   "cell_type": "code",
   "execution_count": 412,
   "metadata": {},
   "outputs": [],
   "source": [
    "final_SVC  = LinearSVC(**params_final_SVC)"
   ]
  },
  {
   "cell_type": "markdown",
   "metadata": {
    "jp-MarkdownHeadingCollapsed": true
   },
   "source": [
    "#### - Entrenamiento y evaluacion"
   ]
  },
  {
   "cell_type": "markdown",
   "metadata": {},
   "source": [
    "Entrenamos el modelo y comprobamos su exactitud."
   ]
  },
  {
   "cell_type": "code",
   "execution_count": 415,
   "metadata": {
    "vscode": {
     "languageId": "plaintext"
    }
   },
   "outputs": [],
   "source": [
    "final_SVC.fit(X_pca, y_resampled)\n",
    "\n",
    "predicted_SVC_opt = final_SVC.predict(X_test_pca)\n",
    "expected_SVC_opt = y_test"
   ]
  },
  {
   "cell_type": "code",
   "execution_count": 416,
   "metadata": {
    "vscode": {
     "languageId": "plaintext"
    }
   },
   "outputs": [
    {
     "data": {
      "text/plain": [
       "0.6682170542635659"
      ]
     },
     "execution_count": 416,
     "metadata": {},
     "output_type": "execute_result"
    }
   ],
   "source": [
    "accuracy_score(expected_SVC_opt, predicted_SVC_opt)"
   ]
  },
  {
   "cell_type": "markdown",
   "metadata": {
    "jp-MarkdownHeadingCollapsed": true
   },
   "source": [
    "#### - Matriz de confusion y F-score"
   ]
  },
  {
   "cell_type": "markdown",
   "metadata": {},
   "source": [
    "La matriz de confusión y el informe de clasificación también es muy similar."
   ]
  },
  {
   "cell_type": "code",
   "execution_count": 419,
   "metadata": {},
   "outputs": [
    {
     "name": "stdout",
     "output_type": "stream",
     "text": [
      "[[ 484  266]\n",
      " [1232 2533]]\n"
     ]
    }
   ],
   "source": [
    "print(confusion_matrix(expected_SVC_opt, predicted_SVC_opt))\n"
   ]
  },
  {
   "cell_type": "code",
   "execution_count": 420,
   "metadata": {
    "vscode": {
     "languageId": "plaintext"
    }
   },
   "outputs": [
    {
     "name": "stdout",
     "output_type": "stream",
     "text": [
      "              precision    recall  f1-score   support\n",
      "\n",
      "           0       0.28      0.65      0.39       750\n",
      "           1       0.90      0.67      0.77      3765\n",
      "\n",
      "    accuracy                           0.67      4515\n",
      "   macro avg       0.59      0.66      0.58      4515\n",
      "weighted avg       0.80      0.67      0.71      4515\n",
      "\n"
     ]
    }
   ],
   "source": [
    "print(classification_report(expected_SVC_opt, predicted_SVC_opt))"
   ]
  },
  {
   "cell_type": "markdown",
   "metadata": {
    "jp-MarkdownHeadingCollapsed": true
   },
   "source": [
    "#### - ROC y AUC"
   ]
  },
  {
   "cell_type": "markdown",
   "metadata": {},
   "source": [
    "Como ya se ha mencionado, no es posible calcular la curva de ROC por lo que calculamos directamente el score de AUC."
   ]
  },
  {
   "cell_type": "code",
   "execution_count": 423,
   "metadata": {},
   "outputs": [
    {
     "name": "stdout",
     "output_type": "stream",
     "text": [
      "0.6590544488711819\n"
     ]
    }
   ],
   "source": [
    "print(roc_auc_score(expected_SVC_opt, predicted_SVC_opt))"
   ]
  },
  {
   "cell_type": "markdown",
   "metadata": {
    "jp-MarkdownHeadingCollapsed": true
   },
   "source": [
    "### 6.5.9 Conclusiones"
   ]
  },
  {
   "cell_type": "markdown",
   "metadata": {},
   "source": [
    "A continuación se muestra los resultados de los modelos optimizados y sin optimizar. Cabe recalcar que se probaron otros cuatro conjuntos de hiperparámetros para la mayoria de los casos de preprocesado, pero se acabó considerando absurdo porque mejoraba o empeoraba 0.01 en diversos valores."
   ]
  },
  {
   "cell_type": "markdown",
   "metadata": {},
   "source": [
    "Caso 1 : \n",
    "\n",
    "              precision    recall  f1-score   support\n",
    "\n",
    "           0       0.28      0.63      0.39       750\n",
    "           1       0.90      0.67      0.77      3765\n",
    "\n",
    "    accuracy                           0.67      4515\n",
    "\n",
    "Caso 2 : \n",
    "\n",
    "              precision    recall  f1-score   support\n",
    "\n",
    "           0       0.26      0.68      0.38       750\n",
    "           1       0.91      0.62      0.73      3765\n",
    "\n",
    "    accuracy                           0.63      4515\n",
    "\n",
    "Caso 3 : \n",
    "\n",
    "              precision    recall  f1-score   support\n",
    "\n",
    "           0       0.28      0.65      0.39       750\n",
    "           1       0.90      0.67      0.77      3765\n",
    "\n",
    "    accuracy                           0.67      4515\n",
    "\n",
    "Caso 4 : \n",
    "\n",
    "              precision    recall  f1-score   support\n",
    "\n",
    "           0       0.26      0.68      0.38       750\n",
    "           1       0.91      0.62      0.73      3765\n",
    "\n",
    "    accuracy                           0.63      4515\n",
    "\n",
    "Caso 5 : \n",
    "\n",
    "              precision    recall  f1-score   support\n",
    "\n",
    "           0       0.28      0.64      0.39       750\n",
    "           1       0.90      0.67      0.77      3765\n",
    "\n",
    "    accuracy                           0.67      4515\n",
    "\n",
    "Caso 6 : \n",
    "\n",
    "              precision    recall  f1-score   support\n",
    "\n",
    "           0       0.26      0.69      0.38       750\n",
    "           1       0.91      0.62      0.74      3765\n",
    "\n",
    "    accuracy                           0.63      4515   "
   ]
  },
  {
   "cell_type": "markdown",
   "metadata": {},
   "source": [
    "La mayoria de los casos dan resultados similares"
   ]
  },
  {
   "cell_type": "markdown",
   "metadata": {},
   "source": [
    "# 7. Exportar CSV"
   ]
  },
  {
   "cell_type": "markdown",
   "metadata": {
    "jp-MarkdownHeadingCollapsed": true
   },
   "source": [
    "## 7.1 Clasificador Random Forest"
   ]
  },
  {
   "cell_type": "markdown",
   "metadata": {
    "jp-MarkdownHeadingCollapsed": true
   },
   "source": [
    "### 7.1.1 Seleccion del caso de preprocesado"
   ]
  },
  {
   "cell_type": "markdown",
   "metadata": {},
   "source": [
    "Seleccion del caso de preprocesado."
   ]
  },
  {
   "cell_type": "code",
   "execution_count": 432,
   "metadata": {},
   "outputs": [],
   "source": [
    "# case - caso de preprocesado seleccionado, valores posibles: 1, 2, 3, 4, 5, 6\n",
    "case = 4"
   ]
  },
  {
   "cell_type": "markdown",
   "metadata": {},
   "source": [
    "Hiperparametros base para cada caso."
   ]
  },
  {
   "cell_type": "code",
   "execution_count": 434,
   "metadata": {},
   "outputs": [],
   "source": [
    "if case in {1, 2}:\n",
    "    strategy_under = 0\n",
    "    strategy_over = 1\n",
    "    neighbors = 5\n",
    "    \n",
    "elif case in {3, 4}:\n",
    "    strategy_under = 0.6\n",
    "    strategy_over = 0\n",
    "    neighbors = 0\n",
    "    \n",
    "elif case in {5, 6}:\n",
    "    strategy_under = 0.25\n",
    "    strategy_over = 0.5\n",
    "    neighbors = 5"
   ]
  },
  {
   "cell_type": "markdown",
   "metadata": {},
   "source": [
    "Se estandarizan los datos en función del caso."
   ]
  },
  {
   "cell_type": "code",
   "execution_count": 436,
   "metadata": {},
   "outputs": [],
   "source": [
    "X_scaled_final, prep_final = standard_data(case, X_train_final)"
   ]
  },
  {
   "cell_type": "markdown",
   "metadata": {},
   "source": [
    "Se muestrean los datos en función del caso."
   ]
  },
  {
   "cell_type": "code",
   "execution_count": 438,
   "metadata": {},
   "outputs": [],
   "source": [
    "X_resampled_final, y_resampled_final = resample_data(case, X_scaled_final, y_train_final, strategy_under, strategy_over, neighbors)"
   ]
  },
  {
   "cell_type": "markdown",
   "metadata": {},
   "source": [
    "Se reducen las dimensionalidades mediante un *PCA*."
   ]
  },
  {
   "cell_type": "code",
   "execution_count": 440,
   "metadata": {},
   "outputs": [],
   "source": [
    "pca_final = PCA()\n",
    "X_pca_full_final = pca_final.fit_transform(X_resampled_final)\n",
    "\n",
    "cumulative_variance_ratio_final = np.cumsum(pca_final.explained_variance_ratio_)\n",
    "n_comp_final = np.argmax(cumulative_variance_ratio_final >= 0.95) + 1\n",
    "X_pca_final = X_pca_full_final[:, :n_comp_final]"
   ]
  },
  {
   "cell_type": "markdown",
   "metadata": {},
   "source": [
    "Se preprocesa el conjunto de test."
   ]
  },
  {
   "cell_type": "code",
   "execution_count": 442,
   "metadata": {},
   "outputs": [],
   "source": [
    "X_test_scaled_final = prep_final.transform(X_test_final)\n",
    "X_test_pca_full_final = pca_final.transform(X_test_scaled_final)\n",
    "X_test_pca_final = X_test_pca_full_final[:, :n_comp_final]"
   ]
  },
  {
   "cell_type": "markdown",
   "metadata": {
    "jp-MarkdownHeadingCollapsed": true
   },
   "source": [
    "### 7.1.2 Entrenamiento y exportacion de las predicciones"
   ]
  },
  {
   "cell_type": "markdown",
   "metadata": {},
   "source": [
    "Se entrena con los nuevos valores de train y test, y se modifica el umbral de probabilidades. En un principio, el valor del umbral era el de la variable *op_thres_Random*, pero se decidió finalmente que el valor del umbral fueran valores numéricos para que fuera más sencillo hacer diversas pruebas en Kaggle."
   ]
  },
  {
   "cell_type": "code",
   "execution_count": 445,
   "metadata": {},
   "outputs": [],
   "source": [
    "final_Forest.fit(X_pca_final, y_resampled_final)\n",
    "\n",
    "probs_For_final = final_Forest.predict_proba(X_test_pca_final)[:, 1]  \n",
    "pred_thres_For_final = (probs_For_final >= 0.5).astype(int) "
   ]
  },
  {
   "cell_type": "markdown",
   "metadata": {},
   "source": [
    "Se crea un *dataframe* con las predicciones obtenidas con su correspondiente *id*."
   ]
  },
  {
   "cell_type": "code",
   "execution_count": 447,
   "metadata": {},
   "outputs": [],
   "source": [
    "df_accept_Random = pd.DataFrame(pred_thres_For_final, columns=['Accept'])"
   ]
  },
  {
   "cell_type": "code",
   "execution_count": 448,
   "metadata": {},
   "outputs": [],
   "source": [
    "df_id = df_test['id'].reset_index(drop=True)"
   ]
  },
  {
   "cell_type": "code",
   "execution_count": 449,
   "metadata": {},
   "outputs": [],
   "source": [
    "df_final_Random = pd.concat([df_id, df_accept_Random], axis=1)"
   ]
  },
  {
   "cell_type": "markdown",
   "metadata": {},
   "source": [
    "Mostramos los resultados obtenidos para tener una idea de la proporción de 1s y 0s de Kaggle."
   ]
  },
  {
   "cell_type": "code",
   "execution_count": 451,
   "metadata": {},
   "outputs": [
    {
     "data": {
      "text/plain": [
       "Accept\n",
       "1    1992\n",
       "0    1292\n",
       "Name: count, dtype: int64"
      ]
     },
     "execution_count": 451,
     "metadata": {},
     "output_type": "execute_result"
    }
   ],
   "source": [
    "df_final_Random['Accept'].value_counts()"
   ]
  },
  {
   "cell_type": "markdown",
   "metadata": {},
   "source": [
    "Se transforma el *dataframe* a un archivo *CSV*."
   ]
  },
  {
   "cell_type": "code",
   "execution_count": 453,
   "metadata": {},
   "outputs": [],
   "source": [
    "df_final_Random.to_csv('./submit/random.csv', index=False)"
   ]
  },
  {
   "cell_type": "markdown",
   "metadata": {
    "jp-MarkdownHeadingCollapsed": true
   },
   "source": [
    "## 7.2 Clasificador MLP"
   ]
  },
  {
   "cell_type": "markdown",
   "metadata": {
    "jp-MarkdownHeadingCollapsed": true
   },
   "source": [
    "### 7.2.1 Seleccion del caso de preprocesado"
   ]
  },
  {
   "cell_type": "markdown",
   "metadata": {},
   "source": [
    "Seleccion del caso de preprocesado."
   ]
  },
  {
   "cell_type": "code",
   "execution_count": 1007,
   "metadata": {},
   "outputs": [],
   "source": [
    "# case - caso de preprocesado seleccionado, valores posibles: 1, 2, 3, 4, 5, 6\n",
    "case = 6"
   ]
  },
  {
   "cell_type": "markdown",
   "metadata": {},
   "source": [
    "Hiperparametros base para cada caso."
   ]
  },
  {
   "cell_type": "code",
   "execution_count": 1010,
   "metadata": {},
   "outputs": [],
   "source": [
    "if case in {1, 2}:\n",
    "    strategy_under = 0\n",
    "    strategy_over = 1\n",
    "    neighbors = 5\n",
    "    \n",
    "elif case in {3, 4}:\n",
    "    strategy_under = 0.8\n",
    "    strategy_over = 0\n",
    "    neighbors = 0\n",
    "    \n",
    "elif case in {5, 6}:\n",
    "    strategy_under = 0.4\n",
    "    strategy_over = 0.6\n",
    "    neighbors = 10"
   ]
  },
  {
   "cell_type": "markdown",
   "metadata": {},
   "source": [
    "Se estandarizan los datos en función del caso."
   ]
  },
  {
   "cell_type": "code",
   "execution_count": 1013,
   "metadata": {},
   "outputs": [],
   "source": [
    "X_scaled_final, prep_final = standard_data(case, X_train_final)"
   ]
  },
  {
   "cell_type": "markdown",
   "metadata": {},
   "source": [
    "Se muestrean los datos en función del caso."
   ]
  },
  {
   "cell_type": "code",
   "execution_count": 1016,
   "metadata": {},
   "outputs": [],
   "source": [
    "X_resampled_final, y_resampled_final = resample_data(case, X_scaled_final, y_train_final, strategy_under, strategy_over, neighbors)"
   ]
  },
  {
   "cell_type": "markdown",
   "metadata": {},
   "source": [
    "Se reducen las dimensionalidades mediante un *PCA*."
   ]
  },
  {
   "cell_type": "code",
   "execution_count": 1019,
   "metadata": {},
   "outputs": [],
   "source": [
    "pca_final = PCA()\n",
    "X_pca_full_final = pca_final.fit_transform(X_resampled_final)\n",
    "\n",
    "cumulative_variance_ratio_final = np.cumsum(pca_final.explained_variance_ratio_)\n",
    "n_comp_final = np.argmax(cumulative_variance_ratio_final >= 0.95) + 1\n",
    "X_pca_final = X_pca_full_final[:, :n_comp_final]"
   ]
  },
  {
   "cell_type": "markdown",
   "metadata": {},
   "source": [
    "Se preprocesa el conjunto de test."
   ]
  },
  {
   "cell_type": "code",
   "execution_count": 1022,
   "metadata": {},
   "outputs": [],
   "source": [
    "X_test_scaled_final = prep_final.transform(X_test_final)\n",
    "X_test_pca_full_final = pca_final.transform(X_test_scaled_final)\n",
    "X_test_pca_final = X_test_pca_full_final[:, :n_comp_final]"
   ]
  },
  {
   "cell_type": "markdown",
   "metadata": {
    "jp-MarkdownHeadingCollapsed": true
   },
   "source": [
    "### 7.2.2 Entrenamiento y exportacion de las predicciones"
   ]
  },
  {
   "cell_type": "markdown",
   "metadata": {},
   "source": [
    "Se entrena con los nuevos valores de train y test, y se modifica el umbral de probabilidades."
   ]
  },
  {
   "cell_type": "code",
   "execution_count": 1026,
   "metadata": {},
   "outputs": [],
   "source": [
    "final_Mlp.fit(X_pca_final, y_resampled_final)\n",
    "\n",
    "probs_Mlp_final = final_Mlp.predict_proba(X_test_pca_final)[:, 1]  \n",
    "pred_thres_Mlp_final = (probs_Mlp_final >= 0.6).astype(int) "
   ]
  },
  {
   "cell_type": "markdown",
   "metadata": {},
   "source": [
    "Se crea un *dataframe* con las predicciones obtenidas con su correspondiente *id*."
   ]
  },
  {
   "cell_type": "code",
   "execution_count": 1028,
   "metadata": {},
   "outputs": [],
   "source": [
    "df_accept_Mlp = pd.DataFrame(pred_thres_Mlp_final, columns=['Accept'])"
   ]
  },
  {
   "cell_type": "code",
   "execution_count": 1029,
   "metadata": {},
   "outputs": [],
   "source": [
    "df_id = df_test['id'].reset_index(drop=True)"
   ]
  },
  {
   "cell_type": "code",
   "execution_count": 1030,
   "metadata": {},
   "outputs": [],
   "source": [
    "df_final_Mlp = pd.concat([df_id, df_accept_Mlp], axis=1)"
   ]
  },
  {
   "cell_type": "markdown",
   "metadata": {},
   "source": [
    "Mostramos los resultados obtenidos para tener una idea de la proporción de 1s y 0s de Kaggle."
   ]
  },
  {
   "cell_type": "code",
   "execution_count": 1032,
   "metadata": {},
   "outputs": [
    {
     "data": {
      "text/plain": [
       "Accept\n",
       "1    1712\n",
       "0    1572\n",
       "Name: count, dtype: int64"
      ]
     },
     "execution_count": 1032,
     "metadata": {},
     "output_type": "execute_result"
    }
   ],
   "source": [
    "df_final_Mlp['Accept'].value_counts()"
   ]
  },
  {
   "cell_type": "markdown",
   "metadata": {},
   "source": [
    "Comprobamos la curva de pérdidas y los scores de validación."
   ]
  },
  {
   "cell_type": "code",
   "execution_count": 1034,
   "metadata": {},
   "outputs": [
    {
     "data": {
      "image/png": "[encoded data removed]",
      "text/plain": [
       "<Figure size 640x480 with 1 Axes>"
      ]
     },
     "metadata": {},
     "output_type": "display_data"
    }
   ],
   "source": [
    "loss_values = final_Mlp.loss_curve_\n",
    "\n",
    "plt.plot(loss_values)\n",
    "plt.title('Curva de Pérdida del Modelo MLP')\n",
    "plt.xlabel('Iteraciones')\n",
    "plt.ylabel('Pérdida')\n",
    "plt.show()"
   ]
  },
  {
   "cell_type": "code",
   "execution_count": 1035,
   "metadata": {},
   "outputs": [
    {
     "data": {
      "image/png": "[encoded data removed]",
      "text/plain": [
       "<Figure size 640x480 with 1 Axes>"
      ]
     },
     "metadata": {},
     "output_type": "display_data"
    }
   ],
   "source": [
    "validation_scores = final_Mlp.validation_scores_\n",
    "\n",
    "plt.plot(validation_scores)\n",
    "plt.title('Puntuaciones de Validación del Modelo MLP')\n",
    "plt.xlabel('Iteraciones')\n",
    "plt.ylabel('Puntuación de Validación')\n",
    "plt.show()"
   ]
  },
  {
   "cell_type": "markdown",
   "metadata": {},
   "source": [
    "Se transforma el *dataframe* a un archivo *CSV*."
   ]
  },
  {
   "cell_type": "code",
   "execution_count": 1037,
   "metadata": {},
   "outputs": [],
   "source": [
    "df_final_Mlp.to_csv('./submit/mlp.csv', index=False)"
   ]
  },
  {
   "cell_type": "markdown",
   "metadata": {
    "jp-MarkdownHeadingCollapsed": true
   },
   "source": [
    "## 7.3 Clasificador KNN"
   ]
  },
  {
   "cell_type": "markdown",
   "metadata": {
    "jp-MarkdownHeadingCollapsed": true
   },
   "source": [
    "### 7.3.1 Seleccion del caso de preprocesado"
   ]
  },
  {
   "cell_type": "markdown",
   "metadata": {},
   "source": [
    "Seleccion del caso de preprocesado."
   ]
  },
  {
   "cell_type": "code",
   "execution_count": 485,
   "metadata": {},
   "outputs": [],
   "source": [
    "# case - caso de preprocesado seleccionado, valores posibles: 1, 2, 3, 4, 5, 6\n",
    "case = 4"
   ]
  },
  {
   "cell_type": "markdown",
   "metadata": {},
   "source": [
    "Hiperparametros base para cada caso."
   ]
  },
  {
   "cell_type": "code",
   "execution_count": 487,
   "metadata": {},
   "outputs": [],
   "source": [
    "if case in {1, 2}:\n",
    "    strategy_under = 0\n",
    "    strategy_over = 1\n",
    "    neighbors = 5\n",
    "    \n",
    "elif case in {3, 4}:\n",
    "    strategy_under = 0.6\n",
    "    strategy_over = 0\n",
    "    neighbors = 0\n",
    "    \n",
    "elif case in {5, 6}:\n",
    "    strategy_under = 0.25\n",
    "    strategy_over = 0.5\n",
    "    neighbors = 5"
   ]
  },
  {
   "cell_type": "markdown",
   "metadata": {},
   "source": [
    "Se estandarizan los datos en función del caso."
   ]
  },
  {
   "cell_type": "code",
   "execution_count": 489,
   "metadata": {},
   "outputs": [],
   "source": [
    "X_scaled_final, prep_final = standard_data(case, X_train_final)"
   ]
  },
  {
   "cell_type": "markdown",
   "metadata": {},
   "source": [
    "Se muestrean los datos en función del caso."
   ]
  },
  {
   "cell_type": "code",
   "execution_count": 491,
   "metadata": {},
   "outputs": [],
   "source": [
    "X_resampled_final, y_resampled_final = resample_data(case, X_scaled_final, y_train_final, strategy_under, strategy_over, neighbors)"
   ]
  },
  {
   "cell_type": "markdown",
   "metadata": {},
   "source": [
    "Se reducen las dimensionalidades mediante un *PCA*."
   ]
  },
  {
   "cell_type": "code",
   "execution_count": 493,
   "metadata": {},
   "outputs": [],
   "source": [
    "pca_final = PCA()\n",
    "X_pca_full_final = pca_final.fit_transform(X_resampled_final)\n",
    "\n",
    "cumulative_variance_ratio_final = np.cumsum(pca_final.explained_variance_ratio_)\n",
    "n_comp_final = np.argmax(cumulative_variance_ratio_final >= 0.95) + 1\n",
    "X_pca_final = X_pca_full_final[:, :n_comp_final]"
   ]
  },
  {
   "cell_type": "markdown",
   "metadata": {},
   "source": [
    "Se preprocesa el conjunto de test."
   ]
  },
  {
   "cell_type": "code",
   "execution_count": 495,
   "metadata": {},
   "outputs": [],
   "source": [
    "X_test_scaled_final = prep_final.transform(X_test_final)\n",
    "X_test_pca_full_final = pca_final.transform(X_test_scaled_final)\n",
    "X_test_pca_final = X_test_pca_full_final[:, :n_comp_final]"
   ]
  },
  {
   "cell_type": "markdown",
   "metadata": {
    "jp-MarkdownHeadingCollapsed": true
   },
   "source": [
    "### 7.3.2 Entrenamiento y exportacion de las predicciones"
   ]
  },
  {
   "cell_type": "markdown",
   "metadata": {},
   "source": [
    "Se entrena con los nuevos valores de train y test."
   ]
  },
  {
   "cell_type": "code",
   "execution_count": 498,
   "metadata": {},
   "outputs": [],
   "source": [
    "final_KNN.fit(X_pca_final, y_resampled_final)\n",
    "\n",
    "probs_KNN_final = final_KNN.predict_proba(X_test_pca_final)[:, 1]  \n",
    "pred_thres_KNN_final = (probs_KNN_final >= 0.5).astype(int) "
   ]
  },
  {
   "cell_type": "markdown",
   "metadata": {},
   "source": [
    "Se crea un *dataframe* con las predicciones obtenidas con su correspondiente *id*."
   ]
  },
  {
   "cell_type": "code",
   "execution_count": 500,
   "metadata": {},
   "outputs": [],
   "source": [
    "df_accept_KNN = pd.DataFrame(pred_thres_KNN_final, columns=['Accept'])"
   ]
  },
  {
   "cell_type": "code",
   "execution_count": 501,
   "metadata": {},
   "outputs": [],
   "source": [
    "df_id = df_test['id'].reset_index(drop=True)"
   ]
  },
  {
   "cell_type": "code",
   "execution_count": 502,
   "metadata": {},
   "outputs": [],
   "source": [
    "df_final_KNN = pd.concat([df_id, df_accept_KNN], axis=1)"
   ]
  },
  {
   "cell_type": "markdown",
   "metadata": {},
   "source": [
    "Mostramos los resultados obtenidos para tener una idea de la proporción de 1s y 0s de Kaggle."
   ]
  },
  {
   "cell_type": "code",
   "execution_count": 504,
   "metadata": {},
   "outputs": [
    {
     "data": {
      "text/plain": [
       "Accept\n",
       "1    2074\n",
       "0    1210\n",
       "Name: count, dtype: int64"
      ]
     },
     "execution_count": 504,
     "metadata": {},
     "output_type": "execute_result"
    }
   ],
   "source": [
    "df_final_KNN['Accept'].value_counts()"
   ]
  },
  {
   "cell_type": "markdown",
   "metadata": {},
   "source": [
    "Se transforma el *dataframe* a un archivo *CSV*."
   ]
  },
  {
   "cell_type": "code",
   "execution_count": 506,
   "metadata": {},
   "outputs": [],
   "source": [
    "df_final_Random.to_csv('./submit/knn.csv', index=False)"
   ]
  },
  {
   "cell_type": "markdown",
   "metadata": {
    "jp-MarkdownHeadingCollapsed": true
   },
   "source": [
    "## 7.4 Clasificador GBC"
   ]
  },
  {
   "cell_type": "markdown",
   "metadata": {
    "jp-MarkdownHeadingCollapsed": true
   },
   "source": [
    "### 7.4.1 Seleccion del caso de preprocesado"
   ]
  },
  {
   "cell_type": "markdown",
   "metadata": {},
   "source": [
    "Seleccion del caso de preprocesado."
   ]
  },
  {
   "cell_type": "code",
   "execution_count": 510,
   "metadata": {},
   "outputs": [],
   "source": [
    "# case - caso de preprocesado seleccionado, valores posibles: 1, 2, 3, 4, 5, 6\n",
    "case = 4"
   ]
  },
  {
   "cell_type": "markdown",
   "metadata": {},
   "source": [
    "Hiperparametros base para cada caso."
   ]
  },
  {
   "cell_type": "code",
   "execution_count": 512,
   "metadata": {},
   "outputs": [],
   "source": [
    "if case in {1, 2}:\n",
    "    strategy_under = 0\n",
    "    strategy_over = 1\n",
    "    neighbors = 5\n",
    "    \n",
    "elif case in {3, 4}:\n",
    "    strategy_under = 0.6\n",
    "    strategy_over = 0\n",
    "    neighbors = 0\n",
    "    \n",
    "elif case in {5, 6}:\n",
    "    strategy_under = 0.25\n",
    "    strategy_over = 0.5\n",
    "    neighbors = 5"
   ]
  },
  {
   "cell_type": "markdown",
   "metadata": {},
   "source": [
    "Se estandarizan los datos en función del caso."
   ]
  },
  {
   "cell_type": "code",
   "execution_count": 514,
   "metadata": {},
   "outputs": [],
   "source": [
    "X_scaled_final, prep_final = standard_data(case, X_train_final)"
   ]
  },
  {
   "cell_type": "markdown",
   "metadata": {},
   "source": [
    "Se muestrean los datos en función del caso."
   ]
  },
  {
   "cell_type": "code",
   "execution_count": 516,
   "metadata": {},
   "outputs": [],
   "source": [
    "X_resampled_final, y_resampled_final = resample_data(case, X_scaled_final, y_train_final, strategy_under, strategy_over, neighbors)"
   ]
  },
  {
   "cell_type": "markdown",
   "metadata": {},
   "source": [
    "Se reducen las dimensionalidades mediante un *PCA*."
   ]
  },
  {
   "cell_type": "code",
   "execution_count": 518,
   "metadata": {},
   "outputs": [],
   "source": [
    "pca_final = PCA()\n",
    "X_pca_full_final = pca_final.fit_transform(X_resampled_final)\n",
    "\n",
    "cumulative_variance_ratio_final = np.cumsum(pca_final.explained_variance_ratio_)\n",
    "n_comp_final = np.argmax(cumulative_variance_ratio_final >= 0.95) + 1\n",
    "X_pca_final = X_pca_full_final[:, :n_comp_final]"
   ]
  },
  {
   "cell_type": "markdown",
   "metadata": {},
   "source": [
    "Se preprocesa el conjunto de test."
   ]
  },
  {
   "cell_type": "code",
   "execution_count": 520,
   "metadata": {},
   "outputs": [],
   "source": [
    "X_test_scaled_final = prep_final.transform(X_test_final)\n",
    "X_test_pca_full_final = pca_final.transform(X_test_scaled_final)\n",
    "X_test_pca_final = X_test_pca_full_final[:, :n_comp_final]"
   ]
  },
  {
   "cell_type": "markdown",
   "metadata": {
    "jp-MarkdownHeadingCollapsed": true
   },
   "source": [
    "### 7.4.2 Entrenamiento y exportacion de las predicciones"
   ]
  },
  {
   "cell_type": "markdown",
   "metadata": {},
   "source": [
    "Se entrena con los nuevos valores de train y test, y se modifica el umbral de probabilidades."
   ]
  },
  {
   "cell_type": "code",
   "execution_count": 523,
   "metadata": {},
   "outputs": [],
   "source": [
    "final_GBC.fit(X_pca_final, y_resampled_final)\n",
    "\n",
    "probs_GBC_final = final_GBC.predict_proba(X_test_pca_final)[:, 1]  \n",
    "pred_thres_GBC_final = (probs_GBC_final >= 0.5).astype(int) "
   ]
  },
  {
   "cell_type": "markdown",
   "metadata": {},
   "source": [
    "Se crea un *dataframe* con las predicciones obtenidas con su correspondiente *id*."
   ]
  },
  {
   "cell_type": "code",
   "execution_count": 525,
   "metadata": {},
   "outputs": [],
   "source": [
    "df_accept_GBC = pd.DataFrame(pred_thres_GBC_final, columns=['Accept'])"
   ]
  },
  {
   "cell_type": "code",
   "execution_count": 526,
   "metadata": {},
   "outputs": [],
   "source": [
    "df_id = df_test['id'].reset_index(drop=True)"
   ]
  },
  {
   "cell_type": "code",
   "execution_count": 527,
   "metadata": {},
   "outputs": [],
   "source": [
    "df_final_GBC = pd.concat([df_id, df_accept_GBC], axis=1)"
   ]
  },
  {
   "cell_type": "markdown",
   "metadata": {},
   "source": [
    "Mostramos los resultados obtenidos para tener una idea de la proporción de 1s y 0s de Kaggle."
   ]
  },
  {
   "cell_type": "code",
   "execution_count": 529,
   "metadata": {},
   "outputs": [
    {
     "data": {
      "text/plain": [
       "Accept\n",
       "1    2200\n",
       "0    1084\n",
       "Name: count, dtype: int64"
      ]
     },
     "execution_count": 529,
     "metadata": {},
     "output_type": "execute_result"
    }
   ],
   "source": [
    "df_final_GBC['Accept'].value_counts()"
   ]
  },
  {
   "cell_type": "markdown",
   "metadata": {},
   "source": [
    "Se transforma el *dataframe* a un archivo *CSV*."
   ]
  },
  {
   "cell_type": "code",
   "execution_count": 531,
   "metadata": {},
   "outputs": [],
   "source": [
    "df_final_GBC.to_csv('./submit/gbc.csv', index=False)"
   ]
  },
  {
   "cell_type": "markdown",
   "metadata": {
    "jp-MarkdownHeadingCollapsed": true
   },
   "source": [
    "## 7.5 Clasificador LinearSVC"
   ]
  },
  {
   "cell_type": "markdown",
   "metadata": {
    "jp-MarkdownHeadingCollapsed": true
   },
   "source": [
    "### 7.5.1 Seleccion del caso de preprocesado"
   ]
  },
  {
   "cell_type": "markdown",
   "metadata": {},
   "source": [
    "Seleccion del caso de preprocesado."
   ]
  },
  {
   "cell_type": "code",
   "execution_count": 535,
   "metadata": {},
   "outputs": [],
   "source": [
    "# case - caso de preprocesado seleccionado, valores posibles: 1, 2, 3, 4, 5, 6\n",
    "case = 4"
   ]
  },
  {
   "cell_type": "markdown",
   "metadata": {},
   "source": [
    "Hiperparametros base para cada caso."
   ]
  },
  {
   "cell_type": "code",
   "execution_count": 537,
   "metadata": {},
   "outputs": [],
   "source": [
    "if case in {1, 2}:\n",
    "    strategy_under = 0\n",
    "    strategy_over = 1\n",
    "    neighbors = 5\n",
    "    \n",
    "elif case in {3, 4}:\n",
    "    strategy_under = 0.6\n",
    "    strategy_over = 0\n",
    "    neighbors = 0\n",
    "    \n",
    "elif case in {5, 6}:\n",
    "    strategy_under = 0.25\n",
    "    strategy_over = 0.5\n",
    "    neighbors = 5"
   ]
  },
  {
   "cell_type": "markdown",
   "metadata": {},
   "source": [
    "Se estandarizan los datos en función del caso."
   ]
  },
  {
   "cell_type": "code",
   "execution_count": 539,
   "metadata": {},
   "outputs": [],
   "source": [
    "X_scaled_final, prep_final = standard_data(case, X_train_final)"
   ]
  },
  {
   "cell_type": "markdown",
   "metadata": {},
   "source": [
    "Se muestrean los datos en función del caso."
   ]
  },
  {
   "cell_type": "code",
   "execution_count": 541,
   "metadata": {},
   "outputs": [],
   "source": [
    "X_resampled_final, y_resampled_final = resample_data(case, X_scaled_final, y_train_final, strategy_under, strategy_over, neighbors)"
   ]
  },
  {
   "cell_type": "markdown",
   "metadata": {},
   "source": [
    "Se reducen las dimensionalidades mediante un *PCA*."
   ]
  },
  {
   "cell_type": "code",
   "execution_count": 543,
   "metadata": {},
   "outputs": [],
   "source": [
    "pca_final = PCA()\n",
    "X_pca_full_final = pca_final.fit_transform(X_resampled_final)\n",
    "\n",
    "cumulative_variance_ratio_final = np.cumsum(pca_final.explained_variance_ratio_)\n",
    "n_comp_final = np.argmax(cumulative_variance_ratio_final >= 0.95) + 1\n",
    "X_pca_final = X_pca_full_final[:, :n_comp_final]"
   ]
  },
  {
   "cell_type": "markdown",
   "metadata": {},
   "source": [
    "Se preprocesa el conjunto de test."
   ]
  },
  {
   "cell_type": "code",
   "execution_count": 545,
   "metadata": {},
   "outputs": [],
   "source": [
    "X_test_scaled_final = prep_final.transform(X_test_final)\n",
    "X_test_pca_full_final = pca_final.transform(X_test_scaled_final)\n",
    "X_test_pca_final = X_test_pca_full_final[:, :n_comp_final]"
   ]
  },
  {
   "cell_type": "markdown",
   "metadata": {
    "jp-MarkdownHeadingCollapsed": true
   },
   "source": [
    "### 7.5.2 Entrenamiento y exportacion de las predicciones"
   ]
  },
  {
   "cell_type": "markdown",
   "metadata": {},
   "source": [
    "Se entrena con los nuevos valores de train y test."
   ]
  },
  {
   "cell_type": "code",
   "execution_count": 548,
   "metadata": {},
   "outputs": [],
   "source": [
    "final_SVC.fit(X_pca_final, y_resampled_final)\n",
    "\n",
    "pred_thres_SVC_final = final_SVC.predict(X_test_pca_final) "
   ]
  },
  {
   "cell_type": "markdown",
   "metadata": {},
   "source": [
    "Se crea un *dataframe* con las predicciones obtenidas con su correspondiente *id*."
   ]
  },
  {
   "cell_type": "code",
   "execution_count": 550,
   "metadata": {},
   "outputs": [],
   "source": [
    "df_accept_SVC = pd.DataFrame(pred_thres_SVC_final, columns=['Accept'])"
   ]
  },
  {
   "cell_type": "code",
   "execution_count": 551,
   "metadata": {},
   "outputs": [],
   "source": [
    "df_id = df_test['id'].reset_index(drop=True)"
   ]
  },
  {
   "cell_type": "code",
   "execution_count": 552,
   "metadata": {},
   "outputs": [],
   "source": [
    "df_final_SVC = pd.concat([df_id, df_accept_SVC], axis=1)"
   ]
  },
  {
   "cell_type": "markdown",
   "metadata": {},
   "source": [
    "Mostramos los resultados obtenidos para tener una idea de la proporción de 1s y 0s de Kaggle."
   ]
  },
  {
   "cell_type": "code",
   "execution_count": 554,
   "metadata": {},
   "outputs": [
    {
     "data": {
      "text/plain": [
       "Accept\n",
       "0    1806\n",
       "1    1478\n",
       "Name: count, dtype: int64"
      ]
     },
     "execution_count": 554,
     "metadata": {},
     "output_type": "execute_result"
    }
   ],
   "source": [
    "df_final_SVC['Accept'].value_counts()"
   ]
  },
  {
   "cell_type": "markdown",
   "metadata": {},
   "source": [
    "Se transforma el *dataframe* a un archivo *CSV*."
   ]
  },
  {
   "cell_type": "code",
   "execution_count": 556,
   "metadata": {},
   "outputs": [],
   "source": [
    "df_final_SVC.to_csv('./submit/sbc.csv', index=False)"
   ]
  },
  {
   "cell_type": "markdown",
   "metadata": {},
   "source": [
    "## 7.6 Ensemble de los modelos por votacion"
   ]
  },
  {
   "cell_type": "markdown",
   "metadata": {},
   "source": [
    "### 7.6.1 Seleccion del caso de preprocesado"
   ]
  },
  {
   "cell_type": "markdown",
   "metadata": {},
   "source": [
    "Seleccion del caso de preprocesado."
   ]
  },
  {
   "cell_type": "code",
   "execution_count": 1559,
   "metadata": {},
   "outputs": [],
   "source": [
    "# case - caso de preprocesado seleccionado, valores posibles: 1, 2, 3, 4, 5, 6\n",
    "case = 6"
   ]
  },
  {
   "cell_type": "markdown",
   "metadata": {},
   "source": [
    "Hiperparametros base para cada caso."
   ]
  },
  {
   "cell_type": "code",
   "execution_count": 1562,
   "metadata": {},
   "outputs": [],
   "source": [
    "if case in {1, 2}:\n",
    "    strategy_under = 0\n",
    "    strategy_over = 1\n",
    "    neighbors = 5\n",
    "    \n",
    "elif case in {3, 4}:\n",
    "    strategy_under = 0.6\n",
    "    strategy_over = 0\n",
    "    neighbors = 0\n",
    "    \n",
    "elif case in {5, 6}:\n",
    "    strategy_under = 0.4\n",
    "    strategy_over = 0.8\n",
    "    neighbors = 10"
   ]
  },
  {
   "cell_type": "markdown",
   "metadata": {},
   "source": [
    "Se estandarizan los datos en función del caso."
   ]
  },
  {
   "cell_type": "code",
   "execution_count": 1565,
   "metadata": {},
   "outputs": [],
   "source": [
    "X_scaled_final, prep_final = standard_data(case, X_train_final)"
   ]
  },
  {
   "cell_type": "markdown",
   "metadata": {},
   "source": [
    "Se muestrean los datos en función del caso."
   ]
  },
  {
   "cell_type": "code",
   "execution_count": 1568,
   "metadata": {},
   "outputs": [],
   "source": [
    "X_resampled_final, y_resampled_final = resample_data(case, X_scaled_final, y_train_final, strategy_under, strategy_over, neighbors)"
   ]
  },
  {
   "cell_type": "markdown",
   "metadata": {},
   "source": [
    "Se reducen las dimensionalidades mediante un *PCA*."
   ]
  },
  {
   "cell_type": "code",
   "execution_count": 1571,
   "metadata": {},
   "outputs": [],
   "source": [
    "pca_final = PCA()\n",
    "X_pca_full_final = pca_final.fit_transform(X_resampled_final)\n",
    "\n",
    "cumulative_variance_ratio_final = np.cumsum(pca_final.explained_variance_ratio_)\n",
    "n_comp_final = np.argmax(cumulative_variance_ratio_final >= 0.95) + 1\n",
    "X_pca_final = X_pca_full_final[:, :n_comp_final]"
   ]
  },
  {
   "cell_type": "markdown",
   "metadata": {},
   "source": [
    "Se preprocesa el conjunto de test."
   ]
  },
  {
   "cell_type": "code",
   "execution_count": 1574,
   "metadata": {},
   "outputs": [],
   "source": [
    "X_test_scaled_final = prep_final.transform(X_test_final)\n",
    "X_test_pca_full_final = pca_final.transform(X_test_scaled_final)\n",
    "X_test_pca_final = X_test_pca_full_final[:, :n_comp_final]"
   ]
  },
  {
   "cell_type": "markdown",
   "metadata": {},
   "source": [
    "### 7.6.2 Entrenamiento y exportacion de las predicciones"
   ]
  },
  {
   "cell_type": "markdown",
   "metadata": {},
   "source": [
    "Se entrena con los nuevos valores de train y test. Se ha decidido no incluir en el ensemble el clasificador LinearSVC por sus malos resultados."
   ]
  },
  {
   "cell_type": "code",
   "execution_count": 1578,
   "metadata": {},
   "outputs": [],
   "source": [
    "voting_clf = VotingClassifier( \n",
    "    estimators=[\n",
    "        ('RF', final_Forest),\n",
    "        ('MLP', final_Mlp),\n",
    "        ('KNN', final_KNN),\n",
    "        ('GBC', final_GBC)\n",
    "    ],\n",
    "    voting='soft',\n",
    "    weights=[3, 4, 1, 3],\n",
    "    n_jobs=-1\n",
    ")"
   ]
  },
  {
   "cell_type": "code",
   "execution_count": 1580,
   "metadata": {},
   "outputs": [],
   "source": [
    "voting_clf.fit(X_pca_final, y_resampled_final)\n",
    "\n",
    "\n",
    "probs_Vote_final = voting_clf.predict_proba(X_test_pca_final)[:, 1]  \n",
    "pred_thres_Vote_final = (probs_Vote_final >= 0.6).astype(int) "
   ]
  },
  {
   "cell_type": "markdown",
   "metadata": {},
   "source": [
    "Se crea un *dataframe* con las predicciones obtenidas con su correspondiente *id*."
   ]
  },
  {
   "cell_type": "code",
   "execution_count": 1582,
   "metadata": {},
   "outputs": [],
   "source": [
    "df_accept_vote = pd.DataFrame(pred_thres_Vote_final, columns=['Accept'])"
   ]
  },
  {
   "cell_type": "code",
   "execution_count": 1583,
   "metadata": {},
   "outputs": [],
   "source": [
    "df_id = df_test['id'].reset_index(drop=True)"
   ]
  },
  {
   "cell_type": "code",
   "execution_count": 1584,
   "metadata": {},
   "outputs": [],
   "source": [
    "df_final_vote = pd.concat([df_id, df_accept_vote], axis=1)"
   ]
  },
  {
   "cell_type": "markdown",
   "metadata": {},
   "source": [
    "Mostramos los resultados obtenidos para tener una idea de la proporción de 1s y 0s de Kaggle."
   ]
  },
  {
   "cell_type": "code",
   "execution_count": 1586,
   "metadata": {},
   "outputs": [
    {
     "data": {
      "text/plain": [
       "Accept\n",
       "0    1737\n",
       "1    1547\n",
       "Name: count, dtype: int64"
      ]
     },
     "execution_count": 1586,
     "metadata": {},
     "output_type": "execute_result"
    }
   ],
   "source": [
    "df_final_vote['Accept'].value_counts()"
   ]
  },
  {
   "cell_type": "markdown",
   "metadata": {},
   "source": [
    "Se transforma el *dataframe* a un archivo *CSV*."
   ]
  },
  {
   "cell_type": "code",
   "execution_count": 1588,
   "metadata": {},
   "outputs": [],
   "source": [
    "df_final_vote.to_csv('./submit/vote.csv', index=False)"
   ]
  }
 ],
 "metadata": {
  "kernelspec": {
   "display_name": "Python 3 (ipykernel)",
   "language": "python",
   "name": "python3"
  },
  "language_info": {
   "codemirror_mode": {
    "name": "ipython",
    "version": 3
   },
   "file_extension": ".py",
   "mimetype": "text/x-python",
   "name": "python",
   "nbconvert_exporter": "python",
   "pygments_lexer": "ipython3",
   "version": "3.12.7"
  }
 },
 "nbformat": 4,
 "nbformat_minor": 4
}
