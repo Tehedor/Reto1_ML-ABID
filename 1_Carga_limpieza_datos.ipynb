{
 "cells": [
  {
   "cell_type": "markdown",
   "metadata": {},
   "source": [
    "<header style=\"width:100%;position:relative\">\n",
    "  <div style=\"width:80%;float:right;\">\n",
    "    <h1>Challenge Loan Approval Prediction in Pennsylvania</h1>\n",
    "    <h3>Carga y limpieza de los datos</h3>\n",
    "    <h5>Grupo 2</h5>\n",
    "  </div>\n",
    "        <img style=\"width:15%;\" src=\"./images/logo.jpg\" alt=\"UPM\" />\n",
    "</header>\n"
   ]
  },
  {
   "cell_type": "markdown",
   "metadata": {},
   "source": [
    "# Índice"
   ]
  },
  {
   "cell_type": "markdown",
   "metadata": {},
   "source": [
    "1. [Importar librerias](#1.-Importar-librerias)  \n",
    "2. [Funciones auxiliares](#2.-Funciones-auxiliares)  \n",
    "3. [Carga del Dataset](#3.-Carga-del-Dataset)  \n",
    "4. [Limpieza de los datos](#4.-Limpieza-de-los-datos)  \n",
    "   * 4.1 [Estudio de las columnas](##4.1-Estudio-de-las-columnas)\n",
    "   * 4.2 [Tratamiento de los duplicados y de los nulos](##4.2-Tratamiento-de-los-duplicados-y-de-los-nulos)\n",
    "   * 4.3 [Tratamiento de las variables categóricas](##4.3-Tratamiento-de-las-variables-categoricas)\n",
    "      * 4.3.1 [Tratamiento de las variables categóricas binarias](###4.3.1-Tratamiento-de-las-variables-categoricas-binarias)\n",
    "      * 4.3.2 [Tratamiento de las variables categóricas no binarias](###4.3.2-Tratamiento-de-las-variables-categoricas-no-binarias)\n",
    "5. [Correlacion](#5.-Correlacion)  \n",
    "6. [Codificacion One-Hot](#6.-Codificacion-One-Hot)  \n",
    "7. [Create Test](#7.-Create-Test)  \n",
    "8. [Exportar CSV](#8.-Exportar-CSV)\n",
    "9. [Referencias](#9.-Referencias)\n"
   ]
  },
  {
   "cell_type": "markdown",
   "metadata": {},
   "source": [
    "# 1. Importar librerias"
   ]
  },
  {
   "cell_type": "code",
   "execution_count": null,
   "metadata": {},
   "outputs": [],
   "source": [
    "import pandas as pd\n",
    "import numpy as np\n",
    "\n",
    "from datetime import datetime\n",
    "\n",
    "import matplotlib.pyplot as plt\n",
    "import seaborn as sns"
   ]
  },
  {
   "cell_type": "markdown",
   "metadata": {},
   "source": [
    "# 2. Funciones auxiliares"
   ]
  },
  {
   "cell_type": "code",
   "execution_count": null,
   "metadata": {},
   "outputs": [],
   "source": [
    "def extract_month(date, mode=0):\n",
    "    if pd.isna(date):\n",
    "        return mode\n",
    "    return datetime.strptime(date, '%d-%b-%y').month"
   ]
  },
  {
   "cell_type": "code",
   "execution_count": null,
   "metadata": {},
   "outputs": [],
   "source": [
    "def month_to_quarter(month):\n",
    "    if month == 0:\n",
    "        return 0\n",
    "    return np.ceil(month / 3).astype(int)"
   ]
  },
  {
   "cell_type": "markdown",
   "metadata": {},
   "source": [
    "# 3. Carga del Dataset"
   ]
  },
  {
   "cell_type": "code",
   "execution_count": null,
   "metadata": {},
   "outputs": [],
   "source": [
    "url = \"data/train.csv\" \n",
    "data = pd.read_csv(url)\n",
    "df = data.copy()\n",
    "\n",
    "url2 = \"data/test_nolabel.csv\"\n",
    "df_test = pd.read_csv(url2)"
   ]
  },
  {
   "cell_type": "markdown",
   "metadata": {},
   "source": [
    "Configuramos Pandas para mostrar todas las columnas de un DataFrame al imprimirlo, y luego mostramos las primeras filas del DataFrame df."
   ]
  },
  {
   "cell_type": "code",
   "execution_count": null,
   "metadata": {},
   "outputs": [],
   "source": [
    "pd.set_option('display.max_columns', None)\n",
    "df.head()"
   ]
  },
  {
   "cell_type": "markdown",
   "metadata": {},
   "source": [
    "Con *Info* desplegamos la información del dataframe para saber con que datos trabajaremos en cada una de las columnas"
   ]
  },
  {
   "cell_type": "code",
   "execution_count": null,
   "metadata": {},
   "outputs": [],
   "source": [
    "df.info"
   ]
  },
  {
   "cell_type": "markdown",
   "metadata": {},
   "source": [
    "Gracias a *shape* podemos saber las dimensiones del dataframe, de esta maenra podemos saber la cantidad de filas que tenemos en un incio y la cantidad de columnas con las que trabajaremos"
   ]
  },
  {
   "cell_type": "code",
   "execution_count": null,
   "metadata": {},
   "outputs": [],
   "source": [
    "df.shape"
   ]
  },
  {
   "cell_type": "markdown",
   "metadata": {},
   "source": [
    "Visualización del nombre de todas las columnas para plantear la limpieza"
   ]
  },
  {
   "cell_type": "code",
   "execution_count": null,
   "metadata": {},
   "outputs": [],
   "source": [
    "df.columns"
   ]
  },
  {
   "cell_type": "markdown",
   "metadata": {},
   "source": [
    "\n",
    "Visualización del estadisticos de las columnas numericas para plantear la limpieza"
   ]
  },
  {
   "cell_type": "code",
   "execution_count": null,
   "metadata": {},
   "outputs": [],
   "source": [
    "df.select_dtypes(include=['int64', 'float64']).describe()"
   ]
  },
  {
   "cell_type": "markdown",
   "metadata": {},
   "source": [
    "# 4. Limpieza de los datos"
   ]
  },
  {
   "cell_type": "markdown",
   "metadata": {},
   "source": [
    "## 4.1 Estudio de las columnas"
   ]
  },
  {
   "cell_type": "markdown",
   "metadata": {},
   "source": [
    "| **Field Name** | **Data Type** | **Description** |\n",
    "| --- |  --- |  --- |\n",
    "| **id** | Text | Identifier of the data instance |\n",
    "| **LoanNr\\_ChkDgt** | Text | Identifier of the loan petition |\n",
    "| **Name** | Text | Borrower name |\n",
    "| **City** | Text | Borrower city |\n",
    "| **State** | Text | Borrower state |\n",
    "| **Bank** | Text | Bank name |\n",
    "| **BankState** | Text | Bank state |\n",
    "| **ApprovalDate** | Date/Time | Date SBA commitment issued |\n",
    "| **ApprovalFY** | Text | Fiscal year of commitment |\n",
    "| **NoEmp** | Number | Number of business employees |\n",
    "| **NewExist** | Text | 1 = Existing business, 2 = New business |\n",
    "| **CreateJob** | Number | Number of jobs created |\n",
    "| **RetainedJob** | Number | Number of jobs retained |\n",
    "| **FranchiseCode** | Text | Franchise code, (00000 or 00001) = No franchise |\n",
    "| **UrbanRural** | Text | 1 = Urban, 2 = rural, 0 = undefined |\n",
    "| **RevLineCr** | Text | Revolving line of credit: Y = Yes, N = No |\n",
    "| **LowDoc** | Text | LowDoc Loan Program: Y = Yes, N = No |\n",
    "| **ChgOffDate** | Date/Time | The date when a loan is declared to be in default (no en Dataframe)|\n",
    "| **DisbursementDate** | Date/Time | Disbursement date |\n",
    "| **DisbursementGross** | Currency | Amount disbursed |\n",
    "| **BalanceGross** | Currency | Gross amount outstanding |\n",
    "| **Accept** | Text | Loan approval status. 0 = not approved, 1 = approved |\n"
   ]
  },
  {
   "cell_type": "markdown",
   "metadata": {},
   "source": [
    "Visualización de los tipos de cada columna"
   ]
  },
  {
   "cell_type": "code",
   "execution_count": null,
   "metadata": {},
   "outputs": [],
   "source": [
    "df.dtypes"
   ]
  },
  {
   "cell_type": "markdown",
   "metadata": {},
   "source": [
    "Visualizacón de valores distintos que tienen cada columna"
   ]
  },
  {
   "cell_type": "code",
   "execution_count": null,
   "metadata": {},
   "outputs": [],
   "source": [
    "# Obtener el número de valores distintos de cada columna\n",
    "valores_distintos = {columna: df[columna].nunique() for columna in df.columns}\n",
    "\n",
    "# Mostrar el número de valores distintos de cada columna\n",
    "for columna, num_valores in valores_distintos.items():\n",
    "    print(f\"Columna: {columna}, Valores distintos: {num_valores}\")"
   ]
  },
  {
   "cell_type": "markdown",
   "metadata": {},
   "source": [
    "Creación de diccionario para poder ver de manera más compacta los diferentes valores que componen cada columna"
   ]
  },
  {
   "cell_type": "code",
   "execution_count": null,
   "metadata": {},
   "outputs": [],
   "source": [
    "# Crear un diccionario vacío para almacenar los resultados\n",
    "conteo_valores = {}\n",
    "\n",
    "# Iterar sobre cada columna del dataframe\n",
    "for columna in df.columns:\n",
    "    # Usar value_counts() para obtener los conteos y convertir a diccionario\n",
    "    conteo = df[columna].value_counts().to_dict()\n",
    "    conteo_valores[columna] = conteo"
   ]
  },
  {
   "cell_type": "markdown",
   "metadata": {},
   "source": [
    "Extraccíon de los datos de cada columna (Está comnetado ya que solo se visuliza de manera adecuada en vscode)"
   ]
  },
  {
   "cell_type": "code",
   "execution_count": null,
   "metadata": {},
   "outputs": [],
   "source": [
    "# print(\"Bank              ->\",conteo_valores[\"Bank\"])\n",
    "# print(\"Bank              ->\",conteo_valores[\"State\"])\n",
    "# print(\"BankState         ->\",conteo_valores[\"BankState\"])\n",
    "# print(\"ApprovalDate      ->\",conteo_valores[\"ApprovalDate\"])\n",
    "# print(\"ApprovalFY        ->\",conteo_valores[\"ApprovalFY\"])\n",
    "# print(\"NewExist          ->\",conteo_valores[\"NewExist\"])\n",
    "# print(\"RetainedJob       ->\",conteo_valores[\"RetainedJob\"])\n",
    "# print(\"FranchiseCode     ->\",conteo_valores[\"FranchiseCode\"])\n",
    "# print(\"UrbanRural        ->\",conteo_valores[\"UrbanRural\"])\n",
    "# print(\"LowDoc            ->\",conteo_valores[\"LowDoc\"])\n",
    "# print(\"RevLineCr         ->\",conteo_valores[\"RevLineCr\"])\n",
    "# print(\"DisbursementDate  ->\",conteo_valores[\"DisbursementDate\"])\n",
    "# print(\"DisbursementGross ->\",conteo_valores[\"DisbursementGross\"])\n",
    "# print(\"BalanceGross      ->\",conteo_valores[\"BalanceGross\"])\n",
    "# print(\"Accept            ->\",conteo_valores[\"Accept\"])"
   ]
  },
  {
   "cell_type": "markdown",
   "metadata": {},
   "source": [
    "Gracias a todos la info extraida anteriormente podemos eliminar las columnas que no hacen falta, agrupar las columnas en función de como deberemos tratar los datos y plantear los procesos que sufrirán cada una de ellas."
   ]
  },
  {
   "cell_type": "markdown",
   "metadata": {},
   "source": [
    "- ***Id***, ***LoanNr_ChkDgt***, ***Name*** y ***City***: Se considera que estas variables no aportan información relevante para el modelado, por lo que no serán formalizadas.\n",
    "- ***State***: Dado que esta variable presenta un único valor en todo el conjunto de datos, se excluirá de análisis posteriores.\n",
    "- ***Bank***, ***BankState***: Al haber muchos valores diferentes en esta variables, se seleccionarán las prinicpales y todas las demás se añadirán en un grupo llamado ***Otros***.\n",
    "- ***ApprovalDate***, ***DisbursementDate***: De estas variables de fecha, se extraerá el mes y se transformarán en categorías trimestrales.\n",
    "- ***ApprovalFY***:  Esta variable también la agruparemos en grupos de 5 años por si pudiera haber un patrón que se pueda ver de manera más clara al juntar periodos de años.\n",
    "- ***NoEmp***, ***CreateJob***, ***RetainedJob***: Para estas variables numéricas, se propone agrupar los valores en rangos o de manera binaria a partir de la visualización de histogramas.\n",
    "- ***NewExist*** : Esta variable será convertida a tipo entero (int).\n",
    "- ***FranchiseCode***: sta variable será transformada a una variable binaria que indique si el negocio es una franquicia o no.\n",
    "- ***UrbanRural***: Los valores \"undefined\" de esta variable serán eliminados, dejando únicamente las categorías 0 y 1.\n",
    "- ***RevLineCr***, **LowDoc**: Estas variables serán convertidas a formato binario, asignando valores numéricos (1 o 0) correspondientes a las categorías \"Y\" o \"N\".\n",
    "- ***DisbursementGross***: Se propone agrupar los valores de esta variable en rangos definidos a partir de la visualización de un histograma.\n",
    "- ***BalanceGross***: Se considera que esta variable no es útil para el análisis, ya que la mayoría de sus valores son 0 y los dos valores restantes no proporcionan información significativa. Por lo tanto, será excluida.\n",
    "- ***Accept***: Es el *target* al que apuntarán los modelos, por lo que viene ya estandarizado. "
   ]
  },
  {
   "cell_type": "markdown",
   "metadata": {},
   "source": [
    "Grupos:\n",
    "1. **featuresUseless**              \n",
    "    'id', 'LoanNr_ChkDgt', 'Name', 'City', 'State', 'BalanceGross'\n",
    "2. **Binarios**  \n",
    "    'NewExist', 'FranchiseCode', 'UrbanRural', 'RevLineCr', 'LowDoc', 'Accept' \n",
    "3. **Fechas**  \n",
    "    'ApprovalDate', 'DisbursementDate'\n",
    "4. **Otros**    \n",
    "    'Bank', 'BankState', 'ApprovalFY', 'NoEmp', 'CreateJob', 'RetainedJob', 'DisbursementGross'"
   ]
  },
  {
   "cell_type": "markdown",
   "metadata": {},
   "source": [
    "Array de columnas que no sirven"
   ]
  },
  {
   "cell_type": "code",
   "execution_count": null,
   "metadata": {},
   "outputs": [],
   "source": [
    "featuresUseless = ['id', 'LoanNr_ChkDgt', 'Name', 'City', 'State', 'BalanceGross']"
   ]
  },
  {
   "cell_type": "markdown",
   "metadata": {},
   "source": [
    "Creación del data frame ***dfc*** a partir del dataframe original ***df*** sin los valores que no tienen nigún tipo de utilidad"
   ]
  },
  {
   "cell_type": "code",
   "execution_count": null,
   "metadata": {},
   "outputs": [],
   "source": [
    "dfc = df.drop(columns=featuresUseless)\n",
    "dfc.head()"
   ]
  },
  {
   "cell_type": "markdown",
   "metadata": {},
   "source": [
    "## 4.2 Tratamiento de los duplicados y de los nulos"
   ]
  },
  {
   "cell_type": "markdown",
   "metadata": {},
   "source": [
    "Comprobación de duplicados"
   ]
  },
  {
   "cell_type": "code",
   "execution_count": null,
   "metadata": {},
   "outputs": [],
   "source": [
    "dfc.duplicated().any() "
   ]
  },
  {
   "cell_type": "markdown",
   "metadata": {},
   "source": [
    "Al haber duplicados los eliminaremos al no aportan nigún valor "
   ]
  },
  {
   "cell_type": "code",
   "execution_count": null,
   "metadata": {},
   "outputs": [],
   "source": [
    "dfc.drop_duplicates(inplace=True)"
   ]
  },
  {
   "cell_type": "markdown",
   "metadata": {},
   "source": [
    "Verificación de que se han eliminado correctamente"
   ]
  },
  {
   "cell_type": "code",
   "execution_count": null,
   "metadata": {},
   "outputs": [],
   "source": [
    "dfc.duplicated().any() "
   ]
  },
  {
   "cell_type": "markdown",
   "metadata": {},
   "source": [
    "Comporbación de si existen nulos y en que columnas se encuentran"
   ]
  },
  {
   "cell_type": "code",
   "execution_count": null,
   "metadata": {},
   "outputs": [],
   "source": [
    "dfc.isnull().sum() "
   ]
  },
  {
   "cell_type": "markdown",
   "metadata": {},
   "source": [
    "Analizar a qué valor Accept hacen referencia, para determinar que tan significativos son estos datos."
   ]
  },
  {
   "cell_type": "code",
   "execution_count": null,
   "metadata": {},
   "outputs": [],
   "source": [
    "dfc_null_accept = dfc[dfc.isnull().any(axis=1)]['Accept']\n",
    "print(dfc_null_accept.value_counts())"
   ]
  },
  {
   "cell_type": "markdown",
   "metadata": {},
   "source": [
    "Al ser la mayoría Accept 1 y al ser solamente 217 caso de null podemos eliminarlos ya que no son muy significativos."
   ]
  },
  {
   "cell_type": "code",
   "execution_count": null,
   "metadata": {},
   "outputs": [],
   "source": [
    "dfc = dfc.dropna()"
   ]
  },
  {
   "cell_type": "markdown",
   "metadata": {},
   "source": [
    "Verficación de que se han eliminado correctamente"
   ]
  },
  {
   "cell_type": "code",
   "execution_count": null,
   "metadata": {},
   "outputs": [],
   "source": [
    "dfc.isnull().sum() "
   ]
  },
  {
   "cell_type": "markdown",
   "metadata": {},
   "source": [
    "## 4.3 Tratamiento de las variables categoricas"
   ]
  },
  {
   "cell_type": "markdown",
   "metadata": {},
   "source": [
    "Gracias al pequeño estudio que se ha realizado en el apartado [1.4.1](##141-estudio-de-las-columnas) podemos empezar a tratar las diferentes variables categóricas."
   ]
  },
  {
   "cell_type": "markdown",
   "metadata": {},
   "source": [
    "Visualización de las columnas a tratar"
   ]
  },
  {
   "cell_type": "code",
   "execution_count": null,
   "metadata": {},
   "outputs": [],
   "source": [
    "dfc.dtypes"
   ]
  },
  {
   "cell_type": "markdown",
   "metadata": {},
   "source": [
    "### 4.3.1 Tratamiento de las variables categoricas binarias"
   ]
  },
  {
   "cell_type": "markdown",
   "metadata": {},
   "source": [
    "##### - NewExist"
   ]
  },
  {
   "cell_type": "markdown",
   "metadata": {},
   "source": [
    "Comprobación de todos los valores de la columna *NewExist*"
   ]
  },
  {
   "cell_type": "code",
   "execution_count": null,
   "metadata": {},
   "outputs": [],
   "source": [
    "dfc[\"NewExist\"].value_counts()"
   ]
  },
  {
   "cell_type": "markdown",
   "metadata": {},
   "source": [
    "Al tener valores que no crresponden con 1 (Existing business) o 2 (New Business) comprobaremos su valor a partir de ver su distribucíón con la columna Accept"
   ]
  },
  {
   "cell_type": "code",
   "execution_count": null,
   "metadata": {},
   "outputs": [],
   "source": [
    "dfc_null_accept = dfc[dfc['NewExist'] == 0.0]['Accept']\n",
    "dfc_null_accept.value_counts()"
   ]
  },
  {
   "cell_type": "markdown",
   "metadata": {},
   "source": [
    "Al ser 12 casos y solamente uno de ellos con valor *Accept* 0 podemos eliminarlos"
   ]
  },
  {
   "cell_type": "code",
   "execution_count": null,
   "metadata": {},
   "outputs": [],
   "source": [
    "# Eliminar las filas donde 'NewExist' es 0.0\n",
    "dfc = dfc[dfc['NewExist'] != 0.0]"
   ]
  },
  {
   "cell_type": "markdown",
   "metadata": {},
   "source": [
    "Codificación a Binario los valores de las columna, se ha decido que: **1** *Existing business* y **2** *New business*"
   ]
  },
  {
   "cell_type": "code",
   "execution_count": null,
   "metadata": {},
   "outputs": [],
   "source": [
    "# 1 = Existing business, 2 = New business\n",
    "\n",
    "dfc['NewExist_Binary'] = dfc['NewExist'].replace({\n",
    "    1.0: 1,   # Existing -> 1\n",
    "    2.0: 0,   # New -> 0\n",
    "}).astype('int64')"
   ]
  },
  {
   "cell_type": "markdown",
   "metadata": {},
   "source": [
    "Comprobación del proceso"
   ]
  },
  {
   "cell_type": "code",
   "execution_count": null,
   "metadata": {},
   "outputs": [],
   "source": [
    "dfc['NewExist_Binary'].value_counts()"
   ]
  },
  {
   "cell_type": "markdown",
   "metadata": {},
   "source": [
    "Eliminar columna original"
   ]
  },
  {
   "cell_type": "code",
   "execution_count": null,
   "metadata": {},
   "outputs": [],
   "source": [
    "dfc = dfc.drop(columns=['NewExist'])"
   ]
  },
  {
   "cell_type": "markdown",
   "metadata": {},
   "source": [
    "##### - FranchiseCode"
   ]
  },
  {
   "cell_type": "markdown",
   "metadata": {},
   "source": [
    "Comprobación de todos los valores de la columna *FranchiseCode*\n"
   ]
  },
  {
   "cell_type": "code",
   "execution_count": null,
   "metadata": {},
   "outputs": [],
   "source": [
    "dfc['FranchiseCode'].value_counts()"
   ]
  },
  {
   "cell_type": "markdown",
   "metadata": {},
   "source": [
    "La columna \"franquicia\" se convertirá a binario para representar de forma numérica si un establecimiento es franquicia o no.\n",
    "- **1** o **0**: Indica que el establecimiento es una franquicia.\n",
    "- ***otros***: Indica que el establecimiento no es una franquicia.\n"
   ]
  },
  {
   "cell_type": "code",
   "execution_count": null,
   "metadata": {},
   "outputs": [],
   "source": [
    "# Franchise code, (00000 or 00001) = No franchise\n",
    "dfc['Franchise_Binary'] = np.where(dfc['FranchiseCode'].isin([0, 1]), 0, 1)"
   ]
  },
  {
   "cell_type": "markdown",
   "metadata": {},
   "source": [
    "Comprobación del proceso"
   ]
  },
  {
   "cell_type": "code",
   "execution_count": null,
   "metadata": {},
   "outputs": [],
   "source": [
    "dfc[\"Franchise_Binary\"].value_counts()"
   ]
  },
  {
   "cell_type": "markdown",
   "metadata": {},
   "source": [
    "Eliminar columna orginal"
   ]
  },
  {
   "cell_type": "code",
   "execution_count": null,
   "metadata": {},
   "outputs": [],
   "source": [
    "dfc = dfc.drop(columns=['FranchiseCode'])"
   ]
  },
  {
   "cell_type": "markdown",
   "metadata": {},
   "source": [
    "##### - UrbanRural"
   ]
  },
  {
   "cell_type": "markdown",
   "metadata": {},
   "source": [
    "Comprobación de todos los valores de la columna *UrbanRural*"
   ]
  },
  {
   "cell_type": "code",
   "execution_count": null,
   "metadata": {},
   "outputs": [],
   "source": [
    "dfc['UrbanRural'].value_counts()"
   ]
  },
  {
   "cell_type": "markdown",
   "metadata": {},
   "source": [
    "Al haber muchos con el valor **0** (*Undefined*) no podemos simplemente eliminar el dato, por lo que lo transformaremos en valor que más probable pueda ser (la moda) "
   ]
  },
  {
   "cell_type": "code",
   "execution_count": null,
   "metadata": {},
   "outputs": [],
   "source": [
    "moda = dfc['UrbanRural'].mode()[0]\n",
    "\n",
    "# Mapeo: 1.0 -> 1 (Existing), 2.0 -> 0 (New), 0.0 -> decidir (ver abajo)\n",
    "dfc['UrbanRural_Binary'] = dfc['UrbanRural'].replace({\n",
    "    0: moda    \n",
    "})\n"
   ]
  },
  {
   "cell_type": "markdown",
   "metadata": {},
   "source": [
    "Codificación a Binario de los valores, asingando **1** a ser urbano y **0** a ser rural"
   ]
  },
  {
   "cell_type": "code",
   "execution_count": null,
   "metadata": {},
   "outputs": [],
   "source": [
    "dfc['UrbanRural_Binary'] = dfc['UrbanRural_Binary'].replace({\n",
    "    1: 1,\n",
    "    2: 0    \n",
    "})"
   ]
  },
  {
   "cell_type": "markdown",
   "metadata": {},
   "source": [
    "Comprobación del proceso"
   ]
  },
  {
   "cell_type": "code",
   "execution_count": null,
   "metadata": {},
   "outputs": [],
   "source": [
    "dfc[\"UrbanRural_Binary\"].value_counts()"
   ]
  },
  {
   "cell_type": "markdown",
   "metadata": {},
   "source": [
    "Eliminar columna orginal"
   ]
  },
  {
   "cell_type": "code",
   "execution_count": null,
   "metadata": {},
   "outputs": [],
   "source": [
    "dfc = dfc.drop(columns=['UrbanRural'])"
   ]
  },
  {
   "cell_type": "markdown",
   "metadata": {},
   "source": [
    "##### - RevLineCr"
   ]
  },
  {
   "cell_type": "markdown",
   "metadata": {},
   "source": [
    "Comprobación de todos los valores de la columna *RevLineCr*"
   ]
  },
  {
   "cell_type": "code",
   "execution_count": null,
   "metadata": {},
   "outputs": [],
   "source": [
    "dfc['RevLineCr'].value_counts()"
   ]
  },
  {
   "cell_type": "markdown",
   "metadata": {},
   "source": [
    "Por lo tanto, categorizaremos: \n",
    "- Yes:    **'Y'** y **'T'**\n",
    "- No:     **'N'** y **'0'**\n",
    "\n",
    "El caso de **' ` '** al ser solo uno, se ha decidido eliminar"
   ]
  },
  {
   "cell_type": "code",
   "execution_count": null,
   "metadata": {},
   "outputs": [],
   "source": [
    "# Mapeo de categorías\n",
    "category_map = {'Y': 1, 'T': 1, 'N': 0, '0': 0}\n",
    "\n",
    "# Eliminar el valor '`'\n",
    "dfc = dfc[dfc['RevLineCr'] != '`'] \n",
    "\n",
    "# Aplicar la categorización\n",
    "dfc['RevLineCr_Binary'] = dfc['RevLineCr'].map(category_map)\n"
   ]
  },
  {
   "cell_type": "markdown",
   "metadata": {},
   "source": [
    "Comprobación del proceso"
   ]
  },
  {
   "cell_type": "code",
   "execution_count": null,
   "metadata": {},
   "outputs": [],
   "source": [
    "dfc['RevLineCr_Binary'].value_counts()"
   ]
  },
  {
   "cell_type": "markdown",
   "metadata": {},
   "source": [
    "Eliminar columna orginal"
   ]
  },
  {
   "cell_type": "code",
   "execution_count": null,
   "metadata": {},
   "outputs": [],
   "source": [
    "dfc = dfc.drop(columns=['RevLineCr'])"
   ]
  },
  {
   "cell_type": "markdown",
   "metadata": {},
   "source": [
    "##### - LowDoc"
   ]
  },
  {
   "cell_type": "markdown",
   "metadata": {},
   "source": [
    "Comprobación de todos los valores de la columna *LowDoc*"
   ]
  },
  {
   "cell_type": "code",
   "execution_count": null,
   "metadata": {},
   "outputs": [],
   "source": [
    "dfc['LowDoc'].value_counts()"
   ]
  },
  {
   "cell_type": "markdown",
   "metadata": {},
   "source": [
    "Por lo tanto, categorizaremos: \n",
    "- Yes:    **'Y'**\n",
    "- No:     **'N'** y **'0'**\n",
    "\n",
    "Los casos de **'A'**,**'S'**,**'R'**,**'C'** al ser pocos y no quedar claro que podrían significar, se ha decidido eliminar"
   ]
  },
  {
   "cell_type": "code",
   "execution_count": null,
   "metadata": {},
   "outputs": [],
   "source": [
    "# Eliminar valores 'A', 'S', 'R', 'C'\n",
    "dfc = dfc[dfc['LowDoc'].isin(['Y', 'N', '0'])]  \n",
    "\n",
    "# Reemplazar '0' por 'N' para unificar la categoría \"No\"\n",
    "dfc['LowDoc'] = dfc['LowDoc'].replace('0', 'N')\n",
    "\n",
    "# Codificacion 'Y' a 1 y 'N' a 0\n",
    "dfc['LowDoc_Binary'] = dfc['LowDoc'].map({'Y': 1, 'N': 0})"
   ]
  },
  {
   "cell_type": "markdown",
   "metadata": {},
   "source": [
    "Comprobación del proceso"
   ]
  },
  {
   "cell_type": "code",
   "execution_count": null,
   "metadata": {},
   "outputs": [],
   "source": [
    "dfc['LowDoc_Binary'].value_counts()"
   ]
  },
  {
   "cell_type": "markdown",
   "metadata": {},
   "source": [
    "Eliminar columna orginal"
   ]
  },
  {
   "cell_type": "code",
   "execution_count": null,
   "metadata": {},
   "outputs": [],
   "source": [
    "dfc = dfc.drop(columns=['LowDoc'])"
   ]
  },
  {
   "cell_type": "markdown",
   "metadata": {},
   "source": [
    "### 4.3.2 Tratamiento de las variables categoricas no binarias"
   ]
  },
  {
   "cell_type": "markdown",
   "metadata": {},
   "source": [
    "##### - ApprovalDate"
   ]
  },
  {
   "cell_type": "markdown",
   "metadata": {},
   "source": [
    "Comprobación de todos los valores de la columna *ApprovalDate*"
   ]
  },
  {
   "cell_type": "code",
   "execution_count": null,
   "metadata": {},
   "outputs": [],
   "source": [
    "dfc['ApprovalDate'].value_counts()\n"
   ]
  },
  {
   "cell_type": "markdown",
   "metadata": {},
   "source": [
    "Los meses al estar en fomrato dd-mm-yy no tiene ninguna información como tal, por lo que se ha decido extraer el mes"
   ]
  },
  {
   "cell_type": "code",
   "execution_count": null,
   "metadata": {},
   "outputs": [],
   "source": [
    "dfc['ApprovalDate'] = dfc['ApprovalDate'].apply(extract_month)"
   ]
  },
  {
   "cell_type": "markdown",
   "metadata": {},
   "source": [
    "Comprobación del procedimiento"
   ]
  },
  {
   "cell_type": "code",
   "execution_count": null,
   "metadata": {},
   "outputs": [],
   "source": [
    "dfc['ApprovalDate'].value_counts().sum()"
   ]
  },
  {
   "cell_type": "markdown",
   "metadata": {},
   "source": [
    "Creación de una nueva categoría a partir de los meses, agrupándolos en trimestres."
   ]
  },
  {
   "cell_type": "code",
   "execution_count": null,
   "metadata": {},
   "outputs": [],
   "source": [
    "dfc['ApprovalDate_quarter'] = dfc['ApprovalDate'].apply(month_to_quarter)\n"
   ]
  },
  {
   "cell_type": "markdown",
   "metadata": {},
   "source": [
    "Comprobación el proceso"
   ]
  },
  {
   "cell_type": "code",
   "execution_count": null,
   "metadata": {},
   "outputs": [],
   "source": [
    "dfc['ApprovalDate_quarter'].value_counts()"
   ]
  },
  {
   "cell_type": "markdown",
   "metadata": {},
   "source": [
    "##### - DisbursementDate"
   ]
  },
  {
   "cell_type": "markdown",
   "metadata": {},
   "source": [
    "Comprobación de todos los valores de la columna *DisbursementDate*"
   ]
  },
  {
   "cell_type": "code",
   "execution_count": null,
   "metadata": {},
   "outputs": [],
   "source": [
    "dfc[\"DisbursementDate\"].value_counts()"
   ]
  },
  {
   "cell_type": "markdown",
   "metadata": {},
   "source": [
    "Los meses al estar en fomrato dd-mm-yy no tiene ninguna información como tal, por lo que se ha decido extraer el mes"
   ]
  },
  {
   "cell_type": "code",
   "execution_count": null,
   "metadata": {},
   "outputs": [],
   "source": [
    "dfc['DisbursementDate'] = dfc['DisbursementDate'].apply(extract_month)"
   ]
  },
  {
   "cell_type": "markdown",
   "metadata": {},
   "source": [
    "Comprobación el proceso"
   ]
  },
  {
   "cell_type": "code",
   "execution_count": null,
   "metadata": {},
   "outputs": [],
   "source": [
    "dfc['DisbursementDate'].value_counts()"
   ]
  },
  {
   "cell_type": "markdown",
   "metadata": {},
   "source": [
    "Creación de una nueva categoría a partir de los meses, agrupándolos en trimestres."
   ]
  },
  {
   "cell_type": "code",
   "execution_count": null,
   "metadata": {},
   "outputs": [],
   "source": [
    "dfc['DisbursementDate_quarter'] = dfc['DisbursementDate'].apply(month_to_quarter)\n"
   ]
  },
  {
   "cell_type": "markdown",
   "metadata": {},
   "source": [
    "Comprobación el proceso"
   ]
  },
  {
   "cell_type": "code",
   "execution_count": null,
   "metadata": {},
   "outputs": [],
   "source": [
    "dfc['DisbursementDate_quarter'].value_counts()"
   ]
  },
  {
   "cell_type": "markdown",
   "metadata": {},
   "source": [
    "##### - Bank "
   ]
  },
  {
   "cell_type": "markdown",
   "metadata": {},
   "source": [
    "Comprobación de todos los valores de la columna *Bank*\n"
   ]
  },
  {
   "cell_type": "code",
   "execution_count": null,
   "metadata": {},
   "outputs": [],
   "source": [
    "dfc['Bank'].value_counts()"
   ]
  },
  {
   "cell_type": "markdown",
   "metadata": {},
   "source": [
    "Comparación de las cantidades que aparecen en cada uno de los valores de ***Bank*** en los *dataframes* ***train*** y ***test***."
   ]
  },
  {
   "cell_type": "code",
   "execution_count": null,
   "metadata": {},
   "outputs": [],
   "source": [
    "bank_counts_dfc = dfc[\"Bank\"].value_counts()\n",
    "bank_counts_test = df_test[\"Bank\"].value_counts()\n",
    "\n",
    "comparison = pd.DataFrame({\n",
    "    \"dfc\": bank_counts_dfc,\n",
    "    \"df_test\": bank_counts_test\n",
    "}).fillna(0) \n",
    "\n",
    "comparison[\"df_test\"] = comparison[\"df_test\"].astype(int)\n",
    "comparison[\"dfc\"] = comparison[\"dfc\"].astype(int)\n",
    "\n",
    "# Mostrar solo los primeros 15 bancos\n",
    "print(comparison.sort_values(by=\"dfc\", ascending=False).head(20))\n"
   ]
  },
  {
   "cell_type": "markdown",
   "metadata": {},
   "source": [
    "A la hora de agrupar y seleccionar los ***Bank***, se hará a través de la comparación del top que compartan tanto el test como el train, dando lugar a que coincidan en el top 12, por lo que seleccionaremos estos 12. A los demás, los pondremos en un mismo grupo llamado ***Otros***."
   ]
  },
  {
   "cell_type": "code",
   "execution_count": null,
   "metadata": {},
   "outputs": [],
   "source": [
    "# Contar ocurrencias de cada banco\n",
    "bank_counts = dfc[\"Bank\"].value_counts()\n",
    "total = bank_counts.sum()\n",
    "\n",
    "# Ajusta el umbral para cambiar la cantidad de categorías\n",
    "top_12_banks = dfc[\"Bank\"].value_counts().head(12).index.to_list()\n",
    "print(top_12_banks)\n",
    "\n",
    "# Crear la nueva columna categorizada en el DataFrame\n",
    "dfc[\"Bank_Categorized\"] = dfc[\"Bank\"].apply(lambda x: x if x in top_12_banks else \"Otros\")\n",
    "\n",
    "# Mostrar el conteo por categoría\n",
    "dfc[\"Bank_Categorized\"].value_counts()\n"
   ]
  },
  {
   "cell_type": "markdown",
   "metadata": {},
   "source": [
    "Codificaremos los diferentes ***Bank_Categorized*** para facilitar el entrenamiento en determinados modelos."
   ]
  },
  {
   "cell_type": "code",
   "execution_count": null,
   "metadata": {},
   "outputs": [],
   "source": [
    "dfc[\"Bank_Categorized_cod\"] = dfc[\"Bank_Categorized\"].astype('category').cat.codes.astype('int64')\n",
    "dfc[\"Bank_Categorized_cod\"].value_counts()\n"
   ]
  },
  {
   "cell_type": "markdown",
   "metadata": {},
   "source": [
    "Eliminar columna orginal"
   ]
  },
  {
   "cell_type": "code",
   "execution_count": null,
   "metadata": {},
   "outputs": [],
   "source": [
    "dfc = dfc.drop(columns=['Bank'])"
   ]
  },
  {
   "cell_type": "markdown",
   "metadata": {},
   "source": [
    "##### - BankState"
   ]
  },
  {
   "cell_type": "markdown",
   "metadata": {},
   "source": [
    "Comprobación de todos los valores de la columna *BankState*"
   ]
  },
  {
   "cell_type": "code",
   "execution_count": null,
   "metadata": {},
   "outputs": [],
   "source": [
    "dfc['BankState'].value_counts()"
   ]
  },
  {
   "cell_type": "markdown",
   "metadata": {},
   "source": [
    "Comparación de las cantidades que aparecen en cada uno de los valores de ***BankState*** en los *dataframes* ***train*** y ***test***."
   ]
  },
  {
   "cell_type": "code",
   "execution_count": null,
   "metadata": {},
   "outputs": [],
   "source": [
    "bank_counts_dfc = dfc[\"BankState\"].value_counts()\n",
    "bank_counts_test = df_test[\"BankState\"].value_counts()\n",
    "\n",
    "comparison = pd.DataFrame({\n",
    "    \"dfc\": bank_counts_dfc,\n",
    "    \"df_test\": bank_counts_test\n",
    "}).fillna(0) \n",
    "comparison[\"df_test\"] = comparison[\"df_test\"].astype(int)\n",
    "\n",
    "print(comparison.sort_values(by=\"dfc\", ascending=False).head(12))"
   ]
  },
  {
   "cell_type": "markdown",
   "metadata": {},
   "source": [
    "A la hora de agrupar y seleccionar los ***BankState***, se hará a través de la comparación del top que compartan tanto el test como el train, dando lugar a que coincidan en el top 8, por lo que seleccionaremos estos 8. A los demás, los pondremos en un mismo grupo llamado ***Otros***."
   ]
  },
  {
   "cell_type": "code",
   "execution_count": null,
   "metadata": {},
   "outputs": [],
   "source": [
    "# Contar ocurrencias de cada banco\n",
    "bank_counts = dfc[\"BankState\"].value_counts()\n",
    "\n",
    "# Seleccionar las 8 categorías que más aparecen\n",
    "top_8_bank_states = dfc[\"BankState\"].value_counts().head(8).index.to_list()\n",
    "\n",
    "# Crear la nueva columna categorizada\n",
    "dfc[\"BankState_Categorized\"] = dfc[\"BankState\"].apply(lambda x: x if x in top_8_bank_states else \"Otros\")\n",
    "\n",
    "# Mostrar el conteo por categoría\n",
    "print(dfc[\"BankState_Categorized\"].value_counts())"
   ]
  },
  {
   "cell_type": "markdown",
   "metadata": {},
   "source": [
    "Codificaremos los diferentes ***BankState_Categorized*** para facilitar el entrenamiento en determinados modelos."
   ]
  },
  {
   "cell_type": "code",
   "execution_count": null,
   "metadata": {},
   "outputs": [],
   "source": [
    "dfc[\"BankState_Categorized_cod\"] = dfc[\"BankState_Categorized\"].astype('category').cat.codes.astype('int64')   \n",
    "print(dfc[\"BankState_Categorized_cod\"].value_counts())"
   ]
  },
  {
   "cell_type": "markdown",
   "metadata": {},
   "source": [
    "Eliminar columna orginal"
   ]
  },
  {
   "cell_type": "code",
   "execution_count": null,
   "metadata": {},
   "outputs": [],
   "source": [
    "dfc = dfc.drop(columns=['BankState'])"
   ]
  },
  {
   "cell_type": "markdown",
   "metadata": {},
   "source": [
    "##### - ApprovalFY"
   ]
  },
  {
   "cell_type": "markdown",
   "metadata": {},
   "source": [
    "Comprobación de todos los valores de la columna *ApprovalFY*"
   ]
  },
  {
   "cell_type": "code",
   "execution_count": null,
   "metadata": {},
   "outputs": [],
   "source": [
    "dfc['ApprovalFY'].value_counts()"
   ]
  },
  {
   "cell_type": "markdown",
   "metadata": {},
   "source": [
    "Limpiamos los datos para garantizar que no existan errores de formato."
   ]
  },
  {
   "cell_type": "code",
   "execution_count": null,
   "metadata": {},
   "outputs": [],
   "source": [
    "# Limpiar y pasar a entero\n",
    "dfc['ApprovalFY'] = dfc['ApprovalFY'].astype(str).str.extract(r'(\\d{4})')  # Extraer solo los años\n",
    "dfc['ApprovalFY'] = dfc['ApprovalFY'].astype(int)  # Convertir a entero\n"
   ]
  },
  {
   "cell_type": "markdown",
   "metadata": {},
   "source": [
    "Agrupar las diferentes fechas en grupos de 5 años\n"
   ]
  },
  {
   "cell_type": "code",
   "execution_count": null,
   "metadata": {},
   "outputs": [],
   "source": [
    "# Definir el número de saltos y el año inicial\n",
    "step = 5\n",
    "start_year = 1970\n",
    "\n",
    "# Agrupar años por rangos de 'step' años, asegurando que comience en 'start_year'\n",
    "dfc[\"ApprovalFY_Grouped\"] = dfc[\"ApprovalFY\"].apply(\n",
    "    lambda year: f\"{((year - start_year) // step) * step + start_year}-\"\n",
    "                 f\"{((year - start_year) // step) * step + start_year + step - 1}\"\n",
    ")\n",
    "\n",
    "# Mostrar conteo por cada grupo de años\n",
    "print(dfc[\"ApprovalFY_Grouped\"].value_counts())"
   ]
  },
  {
   "cell_type": "markdown",
   "metadata": {},
   "source": [
    "Para interpretar los datos de una manera más sencilla y poder ver su distribución en función de periodos de años, se ha utilizado un histograma."
   ]
  },
  {
   "cell_type": "code",
   "execution_count": null,
   "metadata": {},
   "outputs": [],
   "source": [
    "plt.figure(figsize=(10, 6))\n",
    "plt.hist(dfc[\"ApprovalFY\"], bins=range(int(dfc[\"ApprovalFY\"].min()), int(dfc[\"ApprovalFY\"].max()) + step, step),\n",
    "         color=\"royalblue\", edgecolor=\"black\", alpha=0.75)\n",
    "\n",
    "plt.title(\"Distribution of Loan by Fiscal Year\", fontsize=14, fontweight='bold')\n",
    "plt.xlabel(\"Fiscal Year\", fontsize=12)\n",
    "plt.ylabel(\"Number of Loan Petition\", fontsize=12)\n",
    "\n",
    "plt.xticks(rotation=45)\n",
    "plt.grid(axis=\"y\", linestyle=\"--\", alpha=0.7)\n",
    "plt.show()"
   ]
  },
  {
   "cell_type": "markdown",
   "metadata": {},
   "source": [
    "Codificación las agrupaciones para facilitar el entrenamiento para algunos modelos"
   ]
  },
  {
   "cell_type": "code",
   "execution_count": null,
   "metadata": {},
   "outputs": [],
   "source": [
    "dfc[\"ApprovalFY_Grouped_cod\"] = dfc[\"ApprovalFY_Grouped\"].astype('category').cat.codes.astype('int64')\n",
    "print(dfc[\"ApprovalFY_Grouped_cod\"].value_counts())\n"
   ]
  },
  {
   "cell_type": "markdown",
   "metadata": {},
   "source": [
    "##### - NoEmp"
   ]
  },
  {
   "cell_type": "markdown",
   "metadata": {},
   "source": [
    "Comprobación de todos los valores de la columna *NoEmp*"
   ]
  },
  {
   "cell_type": "code",
   "execution_count": null,
   "metadata": {},
   "outputs": [],
   "source": [
    "dfc['NoEmp'].value_counts()"
   ]
  },
  {
   "cell_type": "markdown",
   "metadata": {},
   "source": [
    "Histograma de la distribución del número de empleados, para decidir de que manera los agruparemos."
   ]
  },
  {
   "cell_type": "code",
   "execution_count": null,
   "metadata": {},
   "outputs": [],
   "source": [
    "plt.figure(figsize=(12, 6))\n",
    "\n",
    "plt.hist(dfc[\"NoEmp\"], bins=range(0, 101, 1), color=\"royalblue\", edgecolor=\"black\", alpha=0.75)\n",
    "\n",
    "plt.title(\"Distribution of Number of Employees in Businesses\", fontsize=14, fontweight='bold')\n",
    "plt.xlabel(\"Number of Employees\", fontsize=12)\n",
    "plt.ylabel(\"Number of Loan Petition\", fontsize=12)\n",
    "\n",
    "plt.xticks(range(0, 101, 10)) \n",
    "plt.grid(axis=\"y\", linestyle=\"--\", alpha=0.7)\n",
    "\n",
    "plt.show()"
   ]
  },
  {
   "cell_type": "markdown",
   "metadata": {},
   "source": [
    "Como podemos observar, se puede dividir a los diferentes empleados en varios segmentos de grupos, decidiendo."
   ]
  },
  {
   "cell_type": "code",
   "execution_count": null,
   "metadata": {},
   "outputs": [],
   "source": [
    "# Agrupar número de empleados en las categorías especificadas\n",
    "bins = [-1, 0, 2, 5, 15, np.inf]\n",
    "labels = [\"0\", \"1-2\", \"3-5\", \"6-15\", \"15+\"]\n",
    "dfc[\"NoEmp_Grouped\"] = pd.cut(dfc[\"NoEmp\"], bins=bins, labels=labels, right=True)\n",
    "\n",
    "# Contar la cantidad de cada categoría\n",
    "category_counts = dfc[\"NoEmp_Grouped\"].value_counts().sort_index()"
   ]
  },
  {
   "cell_type": "markdown",
   "metadata": {},
   "source": [
    "Visualizar los diferentes grupos creados para comprobar que están más o menos igualados, proporcionando información que puede llegar a ser relevante para los futuros modelos."
   ]
  },
  {
   "cell_type": "code",
   "execution_count": null,
   "metadata": {},
   "outputs": [],
   "source": [
    "plt.figure(figsize=(8, 5))\n",
    "category_counts.plot(kind=\"bar\", color=\"royalblue\", edgecolor=\"black\", alpha=0.75)\n",
    "\n",
    "plt.title(\"Distribution of Categories of Number of Employees in Businesses\", fontsize=14, fontweight=\"bold\")\n",
    "plt.xlabel(\"Number of Employees\", fontsize=12)\n",
    "plt.ylabel(\"Number of Loan Petition\", fontsize=12)\n",
    "\n",
    "plt.xticks(rotation=45)\n",
    "plt.grid(axis=\"y\", linestyle=\"--\", alpha=0.7)\n",
    "plt.show()"
   ]
  },
  {
   "cell_type": "markdown",
   "metadata": {},
   "source": [
    "Codificación de los grupos para facilitar el entrenanmiento de algunos modelos."
   ]
  },
  {
   "cell_type": "code",
   "execution_count": null,
   "metadata": {},
   "outputs": [],
   "source": [
    "dfc[\"NoEmp_Grouped_cod\"] = dfc[\"NoEmp_Grouped\"].astype('category').cat.codes.astype('int64')\n",
    "dfc[\"NoEmp_Grouped_cod\"].value_counts()"
   ]
  },
  {
   "cell_type": "markdown",
   "metadata": {},
   "source": [
    "##### - CreateJob"
   ]
  },
  {
   "cell_type": "markdown",
   "metadata": {},
   "source": [
    "Comprobación de todos los valores de la columna *CreateJob*"
   ]
  },
  {
   "cell_type": "code",
   "execution_count": null,
   "metadata": {},
   "outputs": [],
   "source": [
    "dfc['CreateJob'].value_counts()"
   ]
  },
  {
   "cell_type": "markdown",
   "metadata": {},
   "source": [
    "Histograma de la distribución del número de empleados, para decidir de que manera los agruparemos."
   ]
  },
  {
   "cell_type": "code",
   "execution_count": null,
   "metadata": {},
   "outputs": [],
   "source": [
    "plt.figure(figsize=(12, 6))\n",
    "plt.hist(dfc[\"CreateJob\"], bins=range(0, 101, 1), color=\"royalblue\", edgecolor=\"black\", alpha=0.75)\n",
    "\n",
    "plt.title(\"Distribution of Jobs Created\", fontsize=14, fontweight=\"bold\")\n",
    "plt.xlabel(\"Number of Jobs Created\", fontsize=12)\n",
    "plt.ylabel(\"Number of Loan Petition\", fontsize=12)\n",
    "\n",
    "plt.xticks(range(0, 101, 10))\n",
    "plt.show()"
   ]
  },
  {
   "cell_type": "markdown",
   "metadata": {},
   "source": [
    "Al haber una diferencia muy grande entre no crear y crear trabajo lo pasaremos a binario (0-> Trabajo no creaod, 1-> Trabajo Creado)"
   ]
  },
  {
   "cell_type": "code",
   "execution_count": null,
   "metadata": {},
   "outputs": [],
   "source": [
    "# Convertir la columna 'CreateJob' en una variable binaria\n",
    "dfc[\"CreateJob_Binary\"] = dfc[\"CreateJob\"].apply(lambda x: 0 if x == 0 else 1)\n",
    "\n",
    "# Mostrar el conteo de cada categoría\n",
    "dfc[\"CreateJob_Binary\"].value_counts()"
   ]
  },
  {
   "cell_type": "markdown",
   "metadata": {},
   "source": [
    "##### - RetainedJob"
   ]
  },
  {
   "cell_type": "markdown",
   "metadata": {},
   "source": [
    "Comprobación de todos los valores de la columna *Retainedjob*"
   ]
  },
  {
   "cell_type": "code",
   "execution_count": null,
   "metadata": {},
   "outputs": [],
   "source": [
    "dfc['RetainedJob'].value_counts()"
   ]
  },
  {
   "cell_type": "markdown",
   "metadata": {},
   "source": [
    "Histograma de la distribución del número de empleados, para decidir de que manera los agruparemos."
   ]
  },
  {
   "cell_type": "code",
   "execution_count": null,
   "metadata": {},
   "outputs": [],
   "source": [
    "plt.figure(figsize=(12, 6))\n",
    "\n",
    "plt.hist(dfc[\"RetainedJob\"], bins=range(0, 101, 1), color=\"royalblue\", edgecolor=\"black\", alpha=0.75)\n",
    "\n",
    "plt.title(\"Distribution of Retained Jobs\", fontsize=14, fontweight=\"bold\")\n",
    "plt.xlabel(\"Number of Jobs Retained\", fontsize=12)\n",
    "plt.ylabel(\"Number of Loan Petition\", fontsize=12)\n",
    "\n",
    "\n",
    "plt.xticks(range(0, 101, 10)) \n",
    "plt.grid(axis=\"y\", linestyle=\"--\", alpha=0.7)  \n",
    "\n",
    "plt.show()"
   ]
  },
  {
   "cell_type": "markdown",
   "metadata": {},
   "source": [
    "Al haber una diferencia muy grande entre no mantener o mantener trabajadores lo pasaremos a binario (0-> Trabajo no mantenido, 1-> Trabajo mantenido)"
   ]
  },
  {
   "cell_type": "code",
   "execution_count": null,
   "metadata": {},
   "outputs": [],
   "source": [
    "# Convertir la columna 'CreateJob' en una variable binaria\n",
    "dfc[\"RetainedJob_Binary\"] = dfc[\"RetainedJob\"].apply(lambda x: 0 if x == 0 else 1)\n",
    "\n",
    "dfc[\"RetainedJob_Binary\"].value_counts()"
   ]
  },
  {
   "cell_type": "markdown",
   "metadata": {},
   "source": [
    "##### - DisbursementGross"
   ]
  },
  {
   "cell_type": "markdown",
   "metadata": {},
   "source": [
    "Comprobación de todos los valores de la columna ***DisbursementGross***"
   ]
  },
  {
   "cell_type": "code",
   "execution_count": null,
   "metadata": {},
   "outputs": [],
   "source": [
    "# print(conteo_valores[\"DisbursementGross\"])\n",
    "dfc['DisbursementGross'].value_counts()"
   ]
  },
  {
   "cell_type": "markdown",
   "metadata": {},
   "source": [
    "Formatear los datos de ***DisbursementGross***, ya que al tener las cantidades monetarias el símbolo **'$'**, estarán en formato string. Al quitar este carácter, los podemos pasar a int."
   ]
  },
  {
   "cell_type": "code",
   "execution_count": null,
   "metadata": {},
   "outputs": [],
   "source": [
    "dfc[\"DisbursementGross\"] = dfc[\"DisbursementGross\"].replace(r'[\\$,]', '', regex=True).str.strip().astype(float).astype(int)\n",
    "\n",
    "dfc[\"DisbursementGross\"].value_counts()"
   ]
  },
  {
   "cell_type": "markdown",
   "metadata": {},
   "source": [
    "Agrupar las diferentes cantidades de dinero por si pueden llegar a proporcionar información de manera más sencilla."
   ]
  },
  {
   "cell_type": "code",
   "execution_count": null,
   "metadata": {},
   "outputs": [],
   "source": [
    "# Definir nuevos límites (bins) basados en la distribución analizada\n",
    "bins = [-1, 30000, 75000, 150000, 500000, np.inf]\n",
    "labels = [\"0-30k\", \"30k-75k\", \"75k-150k\", \"150k-500k\", \"500k+\"]\n",
    "\n",
    "# Agrupar según los rangos definidos\n",
    "dfc[\"DisbursementGross_Grouped\"] = pd.cut(dfc[\"DisbursementGross\"], bins=bins, labels=labels, right=True)\n",
    "\n",
    "# Mostrar el conteo por cada rango\n",
    "print(dfc[\"DisbursementGross_Grouped\"].value_counts())\n"
   ]
  },
  {
   "cell_type": "markdown",
   "metadata": {},
   "source": [
    "Codificaremos los diferentes ***DisbursementGross_Grouped*** para facilitar el entrenamiento en determinados modelos."
   ]
  },
  {
   "cell_type": "code",
   "execution_count": null,
   "metadata": {},
   "outputs": [],
   "source": [
    "dfc[\"DisbursementGross_Grouped_cod\"] = dfc[\"DisbursementGross_Grouped\"].astype('category').cat.codes.astype('int64')\n",
    "dfc[\"DisbursementGross_Grouped_cod\"].value_counts()"
   ]
  },
  {
   "cell_type": "markdown",
   "metadata": {},
   "source": [
    "# 5. Correlacion"
   ]
  },
  {
   "cell_type": "markdown",
   "metadata": {},
   "source": [
    "Creación de un nuevo ***DataFrame*** a partir del ***DataFrame train*** tratado para no modificar el original."
   ]
  },
  {
   "cell_type": "code",
   "execution_count": null,
   "metadata": {},
   "outputs": [],
   "source": [
    "dfn = dfc.copy()\n",
    "dfn.dtypes"
   ]
  },
  {
   "cell_type": "markdown",
   "metadata": {},
   "source": [
    "Extraer del *dataframe* creado a lo largo del *notebook* solo los parámetros de tipo ***Int***."
   ]
  },
  {
   "cell_type": "code",
   "execution_count": null,
   "metadata": {},
   "outputs": [],
   "source": [
    "dfn = dfn.select_dtypes(include=[int]) \n",
    "dfn.dtypes\n"
   ]
  },
  {
   "cell_type": "markdown",
   "metadata": {},
   "source": [
    "Calcular y mostrar matriz de correlación del *dataframe* ***train***"
   ]
  },
  {
   "cell_type": "code",
   "execution_count": null,
   "metadata": {},
   "outputs": [],
   "source": [
    "corrMatrix = dfn.corr()\n",
    "print(corrMatrix)"
   ]
  },
  {
   "cell_type": "markdown",
   "metadata": {},
   "source": [
    "Visualización de la matriz de correlación una vez realizado ***One-Hot*** a través de un mapa de calor."
   ]
  },
  {
   "cell_type": "code",
   "execution_count": null,
   "metadata": {},
   "outputs": [],
   "source": [
    "sns.clustermap(corrMatrix, annot=True, figsize=(20,20))\n",
    "plt.show()"
   ]
  },
  {
   "cell_type": "markdown",
   "metadata": {},
   "source": [
    "> Las diferentes caractríticas de interés serán seleccionadas a la hora de realizar los diferentes modelos."
   ]
  },
  {
   "cell_type": "markdown",
   "metadata": {},
   "source": [
    "# 6. Codificacion One-Hot "
   ]
  },
  {
   "cell_type": "markdown",
   "metadata": {},
   "source": [
    "Realización de One-Hot para los atributos ***BankState_Categorized*** y ***Bank_Categorized***"
   ]
  },
  {
   "cell_type": "code",
   "execution_count": null,
   "metadata": {},
   "outputs": [],
   "source": [
    "dfa = dfc.copy() # Backup del dataframe original\n",
    "dfc = pd.get_dummies(dfc, columns=['Bank_Categorized'], prefix='Bank', dtype=int)\n",
    "dfc = pd.get_dummies(dfc, columns=['BankState_Categorized'], prefix='BankState', dtype=int)\n",
    "dfc['Bank_Categorized'] = dfa['Bank_Categorized'].values\n",
    "dfc['BankState_Categorized'] = dfa['BankState_Categorized'].values\n",
    "# Verificar las nuevas columnas creadas\n",
    "dfc.columns\n",
    "\n"
   ]
  },
  {
   "cell_type": "markdown",
   "metadata": {},
   "source": [
    "Visualizar en la tabla de *dataset* el proceso realizado"
   ]
  },
  {
   "cell_type": "code",
   "execution_count": null,
   "metadata": {},
   "outputs": [],
   "source": [
    "dfc.head()"
   ]
  },
  {
   "cell_type": "markdown",
   "metadata": {},
   "source": [
    "Visualización de la matriz de correlación una vez realizado ***One-Hot*** a través de un mapa de calor."
   ]
  },
  {
   "cell_type": "code",
   "execution_count": null,
   "metadata": {},
   "outputs": [],
   "source": [
    "dfn = dfc.select_dtypes(include=[int]) \n",
    "corrMatrixa = dfn.corr()\n",
    "sns.clustermap(corrMatrixa, annot=True, figsize=(20, 20)) \n",
    "plt.show()"
   ]
  },
  {
   "cell_type": "markdown",
   "metadata": {},
   "source": [
    "# 7. Create Test"
   ]
  },
  {
   "cell_type": "code",
   "execution_count": null,
   "metadata": {},
   "outputs": [],
   "source": [
    "dfa.dtypes.sort_index()"
   ]
  },
  {
   "cell_type": "code",
   "execution_count": null,
   "metadata": {},
   "outputs": [],
   "source": [
    "# Opcional: Eliminar filas con valores nulos en el DataFrame 'df_test'\n",
    "# df_test = df_test.dropna()\n",
    "\n",
    "# # Mostrar la cantidad de valores nulos restantes en 'df_test'\n",
    "print(df_test.isnull().sum())"
   ]
  },
  {
   "cell_type": "markdown",
   "metadata": {},
   "source": [
    "Eliminar elementos que no queramos del dataframe test, pero aqui si queremos los id para kaggel"
   ]
  },
  {
   "cell_type": "code",
   "execution_count": null,
   "metadata": {},
   "outputs": [],
   "source": [
    "# Eliminar la columna 'id' del DataFrame 'featuresUseless'\n",
    "featuresUselessWithoutId = featuresUseless.copy()\n",
    "featuresUselessWithoutId.remove('id')\n",
    "df_test = df_test.drop(columns=featuresUselessWithoutId)\n",
    "\n",
    "# Verificar los tipos de datos de las columnas\n",
    "df_test.dtypes\n",
    "df_testn = df_test.copy()\n"
   ]
  },
  {
   "cell_type": "markdown",
   "metadata": {},
   "source": [
    "Limpiar y estandarizar todos los atributos para que sea igual que el *dataset* ***train***"
   ]
  },
  {
   "cell_type": "code",
   "execution_count": null,
   "metadata": {},
   "outputs": [],
   "source": [
    "##############\n",
    "## Binarias \n",
    "##############\n",
    "### NewExist_Binary                     int64\n",
    "\n",
    "df_testn['NewExist_Binary'] = df_testn['NewExist'].replace({\n",
    "    1.0: 1, \n",
    "    0.0: 1, \n",
    "    2.0: 0, \n",
    "})\n",
    "\n",
    "df_testn['NewExist_Binary'] = df_testn['NewExist_Binary'].astype('int64')\n",
    "print(df_testn['NewExist_Binary'].value_counts())\n",
    "df_testn = df_testn.drop(columns=['NewExist'])\n",
    "\n",
    "\n",
    "## Franchise_Binary                    int64\n",
    "df_testn['Franchise_Binary'] = np.where(df_testn['FranchiseCode'].isin([0, 1]), 0, 1)\n",
    "df_testn = df_testn.drop(columns=['FranchiseCode'])\n",
    "\n",
    "### UrbanRural_Binary                   int64\n",
    "df_testn['UrbanRural_Binary'] = df_testn['UrbanRural'].replace({\n",
    "    0: 1    \n",
    "})\n",
    "\n",
    "df_testn['UrbanRural_Binary'] = df_testn['UrbanRural_Binary'].replace({\n",
    "    1: 1,\n",
    "    2: 0    \n",
    "})\n",
    "df_testn = df_testn.drop(columns=['UrbanRural'])\n",
    "\n",
    "### RevLineCr_Binary                    int64\n",
    "category_map = {'Y': 1, 'T': 1, 'N': 0, '0': 0}\n",
    "\n",
    "df_testn['RevLineCr'] = df_testn['RevLineCr'].fillna('N')\n",
    "df_testn['RevLineCr_Binary'] = df_testn['RevLineCr'].map(category_map).astype(float).astype(int)\n",
    "df_testn = df_testn.drop(columns=['RevLineCr'])\n",
    "\n",
    "## LowDoc_Binary                       int64\n",
    "df_testn['LowDoc'] = df_testn['LowDoc'].fillna('N')\n",
    "df_testn.loc[~df_testn['LowDoc'].isin(['Y', 'N', '0']), 'LowDoc'] = 'N'\n",
    "df_testn['LowDoc'] = df_testn['LowDoc'].replace('0', 'N')\n",
    "df_testn['LowDoc_Binary'] = df_testn['LowDoc'].map({'Y': 1, 'N': 0})\n",
    "df_testn = df_testn.drop(columns=['LowDoc'])"
   ]
  },
  {
   "cell_type": "code",
   "execution_count": null,
   "metadata": {},
   "outputs": [],
   "source": [
    "##############\n",
    "## Fechas\n",
    "##############\n",
    "### ApprovalDate                        int64\n",
    "### ApprovalDate_quarter                int64\n",
    "df_testn['ApprovalDate'] = df_testn['ApprovalDate'].apply(extract_month)\n",
    "df_testn['ApprovalDate_quarter'] = df_testn['ApprovalDate'].apply(month_to_quarter)\n",
    "\n",
    "# ### DisbursementDate                    int64\n",
    "# ### DisbursementDate_quarter            int64\n",
    "df_testn['DisbursementDate'] = df_testn['DisbursementDate'].apply(lambda x: extract_month(x, mode=4))\n",
    "df_testn['DisbursementDate_quarter'] = df_testn['DisbursementDate'].apply(month_to_quarter)\n",
    "\n"
   ]
  },
  {
   "cell_type": "code",
   "execution_count": null,
   "metadata": {},
   "outputs": [],
   "source": [
    "##############\n",
    "## Categorías\n",
    "##############\n",
    "### Bank_Categorized                   object\n",
    "### Bank_Categorized_cod                int64\n",
    "\n",
    "df_testn['Bank'] = df_testn['Bank'].fillna(\"THE HUNTINGTON NATIONAL BANK\")\n",
    "categorias_existentes = top_12_banks  \n",
    "df_testn[\"Bank_Categorized\"] = df_testn[\"Bank\"].apply(lambda x: x if x in categorias_existentes else \"Otros\")\n",
    "df_testn[\"Bank_Categorized_cod\"] = df_testn[\"Bank_Categorized\"].astype('category').cat.codes.astype('int64')\n",
    "\n",
    "# # #-### Bank_OneHot\n",
    "dfk =  df_testn.copy()\n",
    "df_testn = pd.get_dummies(df_testn, columns=['Bank_Categorized'], prefix='Bank', dtype=int)\n",
    "df_testn['Bank_Categorized'] = dfk['Bank_Categorized'].values\n",
    "\n",
    "df_testn = df_testn.drop(columns=['Bank'])\n",
    "\n",
    "# ### BankState_Categorized              object\n",
    "# ### BankState_Categorized_cod           int64\n",
    "\n",
    "# # BankState\n",
    "df_testn['BankState'] = df_testn['BankState'].fillna(\"OH\")\n",
    "\n",
    "# Crear la nueva columna categorizada\n",
    "df_testn[\"BankState_Categorized\"] = df_testn[\"BankState\"].apply(lambda x: x if x in top_8_bank_states else \"Otros\")\n",
    "\n",
    "df_testn[\"BankState_Categorized_cod\"] = df_testn[\"BankState_Categorized\"].astype('category').cat.codes.astype('int64')\n",
    "\n",
    "\n",
    "df_testn = df_testn.drop(columns=['BankState'])\n",
    "\n",
    "# # #-### BankState_OneHot\n",
    "dfk =  df_testn.copy()\n",
    "\n",
    "df_testn = pd.get_dummies(df_testn, columns=['BankState_Categorized'], prefix='BankState', dtype=int)\n",
    "df_testn['BankState_Categorized'] = dfk['BankState_Categorized'].values\n",
    "\n",
    "\n",
    "# ### ApprovalFY                          int64\n",
    "# ### ApprovalFY_Grouped                 category\n",
    "# ### ApprovalFY_Grouped_cod              int64\n",
    "df_testn['ApprovalFY'] = df_testn['ApprovalFY'].astype(str).str.extract(r'(\\d{4})')  # Extraer solo los años\n",
    "df_testn['ApprovalFY'] = df_testn['ApprovalFY'].astype(float).astype(int)  # Convertir a entero\n",
    "\n",
    "step = 5\n",
    "start_year = 1970\n",
    "dfc[\"ApprovalFY_Grouped\"] = dfc[\"ApprovalFY\"].apply(\n",
    "    lambda year: f\"{((year - start_year) // step) * step + start_year}-\"\n",
    "                 f\"{((year - start_year) // step) * step + start_year + step - 1}\"\n",
    ")\n",
    "\n",
    "df_testn[\"ApprovalFY_Grouped\"] = df_testn[\"ApprovalFY\"].apply(\n",
    "    lambda year: f\"{(year // step) * step}-{(year // step) * step + step - 1}\"\n",
    ")\n",
    "df_testn[\"ApprovalFY_Grouped_cod\"] = df_testn[\"ApprovalFY_Grouped\"].astype('category').cat.codes.astype('int64')\n",
    "\n",
    "\n",
    "# ### NoEmp                               int64\n",
    "# ### NoEmp_Grouped                    category\n",
    "# ### NoEmp_Grouped_cod                   int64\n",
    "bins = [-1, 0, 2, 5, 15, np.inf]\n",
    "labels = [\"0\", \"1-2\", \"3-5\", \"6-15\", \"15+\"]\n",
    "df_testn[\"NoEmp_Grouped\"] = pd.cut(df_testn[\"NoEmp\"], bins=bins, labels=labels, right=True)\n",
    "category_counts = df_testn[\"NoEmp_Grouped\"].value_counts().sort_index()\n",
    "\n",
    "df_testn[\"NoEmp_Grouped_cod\"] = df_testn[\"NoEmp_Grouped\"].astype('category').cat.codes.astype('int64')\n",
    "\n",
    "\n",
    "# ### CreateJob                           int64\n",
    "# ### CreateJob_Binary                    int64\n",
    "df_testn[\"CreateJob_Binary\"] = df_testn[\"CreateJob\"].apply(lambda x: 0 if x == 0 else 1)\n",
    "\n",
    "\n",
    "# ### RetainedJob                         int64\n",
    "# ### RetainedJob_Binary                  int64\n",
    "df_testn[\"RetainedJob_Binary\"] = df_testn[\"RetainedJob\"].apply(lambda x: 0 if x == 0 else 1)\n",
    "\n",
    "\n",
    "# ### DisbursementGross                   int64\n",
    "# ### DisbursementGross_Grouped        category\n",
    "# ### DisbursementGross_Grouped_cod       int64\n",
    "df_testn[\"DisbursementGross\"] = df_testn[\"DisbursementGross\"].replace(r'[\\$,]', '', regex=True).str.strip().astype(float).astype(int)\n",
    "\n",
    "bins = [-1, 30000, 75000, 150000, 500000, np.inf]\n",
    "labels = [\"0-30k\", \"30k-75k\", \"75k-150k\", \"150k-500k\", \"500k+\"]\n",
    "df_testn[\"DisbursementGross_Grouped\"] = pd.cut(df_testn[\"DisbursementGross\"], bins=bins, labels=labels, right=True)\n",
    "df_testn[\"DisbursementGross_Grouped_cod\"] = df_testn[\"DisbursementGross_Grouped\"].astype('category').cat.codes.astype('int64')"
   ]
  },
  {
   "cell_type": "code",
   "execution_count": null,
   "metadata": {},
   "outputs": [],
   "source": [
    "df_testn.dtypes.sort_index()"
   ]
  },
  {
   "cell_type": "code",
   "execution_count": null,
   "metadata": {},
   "outputs": [],
   "source": [
    "print(df_testn.isnull().sum().to_string())\n",
    "print(df_testn.shape)\n",
    "print(dfc.shape)"
   ]
  },
  {
   "cell_type": "code",
   "execution_count": null,
   "metadata": {},
   "outputs": [],
   "source": [
    "print(df_testn.shape)\n",
    "df_testn.info()"
   ]
  },
  {
   "cell_type": "markdown",
   "metadata": {},
   "source": [
    "# 8. Exportar CSV"
   ]
  },
  {
   "cell_type": "markdown",
   "metadata": {},
   "source": [
    "Comparar los dos dataset para ver que todo esta bien"
   ]
  },
  {
   "cell_type": "code",
   "execution_count": null,
   "metadata": {},
   "outputs": [],
   "source": [
    "df_check =  pd.read_csv(\"data/test_nolabel.csv\")"
   ]
  },
  {
   "cell_type": "code",
   "execution_count": null,
   "metadata": {},
   "outputs": [],
   "source": [
    "# Comparar las columnas de dfc y df_testn\n",
    "columns_dfc = set(dfc.columns)\n",
    "columns_df_testn = set(df_testn.columns)\n",
    "\n",
    "# Encontrar las diferencias\n",
    "differences = columns_dfc.symmetric_difference(columns_df_testn)\n",
    "\n",
    "# Verificar si la única diferencia es 'id'\n",
    "if differences == {'id', 'Accept'}:\n",
    "    print(\"La única diferencia entre las columnas es 'id' y 'Accept'.\")\n",
    "else:\n",
    "    print(\"Existen otras diferencias en las columnas:\", differences)"
   ]
  },
  {
   "cell_type": "markdown",
   "metadata": {},
   "source": [
    "Guardar en *formated* los csv train y test"
   ]
  },
  {
   "cell_type": "code",
   "execution_count": null,
   "metadata": {},
   "outputs": [],
   "source": [
    "# Exportar el DataFrame 'dfn' a un archivo CSV\n",
    "dfc.to_csv('./formated/train_exportado_v2.csv', index=False)\n",
    "\n",
    "df_testn.to_csv('./formated/test_exportado_v2.csv', index=False)"
   ]
  },
  {
   "cell_type": "markdown",
   "metadata": {},
   "source": [
    "Todas las features:"
   ]
  },
  {
   "cell_type": "code",
   "execution_count": null,
   "metadata": {},
   "outputs": [],
   "source": [
    "all_features = [\n",
    "    # Características numéricas\n",
    "    'ApprovalFY', 'NoEmp', 'CreateJob', 'RetainedJob', 'DisbursementGross',\n",
    "\n",
    "    # Características categóricas binarias\n",
    "    'NewExist_Binary', 'Franchise_Binary', 'UrbanRural_Binary',\n",
    "    'RevLineCr_Binary', 'LowDoc_Binary', 'CreateJob_Binary',\n",
    "    'RetainedJob_Binary',\n",
    "\n",
    "    # Características categóricas codificadas\n",
    "    'ApprovalFY_Grouped_cod', 'NoEmp_Grouped_cod', \n",
    "    'DisbursementGross_Grouped_cod',\n",
    "\n",
    "    # Características temporales\n",
    "    'ApprovalDate', 'DisbursementDate', \n",
    "    'ApprovalDate_quarter', 'DisbursementDate_quarter',\n",
    "\n",
    "    # Características categóricas sin codificar\n",
    "    'Bank_Categorized_cod', 'BankState_Categorized_cod',\n",
    "    'ApprovalFY_Grouped', 'NoEmp_Grouped', \n",
    "    'DisbursementGross_Grouped',\n",
    "\n",
    "    # Características relacionadas con Bank tras un One Hot Encoding\n",
    "    'Bank_CAPITAL ONE NATL ASSOC', 'Bank_CITIZENS BANK NATL ASSOC',\n",
    "    'Bank_COMMUNITY CAP. DEVEL CORP', 'Bank_FIFTH THIRD BANK',\n",
    "    'Bank_FIRSTMERIT BANK, N.A.', 'Bank_HAMILTON CNTY DEVEL COMPANY IN',\n",
    "    'Bank_JPMORGAN CHASE BANK NATL ASSOC',\n",
    "    'Bank_KEYBANK NATIONAL ASSOCIATION', 'Bank_Otros',\n",
    "    'Bank_PNC BANK, NATIONAL ASSOCIATION',\n",
    "    'Bank_THE HUNTINGTON NATIONAL BANK',\n",
    "    'Bank_U.S. BANK NATIONAL ASSOCIATION',\n",
    "    'Bank_WELLS FARGO BANK NATL ASSOC',\n",
    "\n",
    "    # Características relacionadas con BankState tras un One Hot Encoding\n",
    "    'BankState_CA', 'BankState_DE', 'BankState_IL', 'BankState_IN',\n",
    "    'BankState_OH', 'BankState_Otros', 'BankState_RI', \n",
    "    'BankState_SD', 'BankState_VA',\n",
    "]\n"
   ]
  },
  {
   "cell_type": "markdown",
   "metadata": {},
   "source": [
    "# 9. Referencias"
   ]
  },
  {
   "cell_type": "markdown",
   "metadata": {},
   "source": [
    "* [Alexisbcook. (2023, 21 abril). Categorical variables. Kaggle.](https://www.kaggle.com/code/alexisbcook/categorical-variables)\n",
    "* [pandas documentation — pandas 2.2.3 documentation. (s. f.).](https://pandas.pydata.org/docs/)"
   ]
  }
 ],
 "metadata": {
  "kernelspec": {
   "display_name": "base",
   "language": "python",
   "name": "python3"
  },
  "language_info": {
   "codemirror_mode": {
    "name": "ipython",
    "version": 3
   },
   "file_extension": ".py",
   "mimetype": "text/x-python",
   "name": "python",
   "nbconvert_exporter": "python",
   "pygments_lexer": "ipython3",
   "version": "3.12.7"
  }
 },
 "nbformat": 4,
 "nbformat_minor": 4
}
