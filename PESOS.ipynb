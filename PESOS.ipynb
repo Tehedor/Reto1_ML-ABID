{
 "cells": [
  {
   "cell_type": "markdown",
   "metadata": {},
   "source": [
    "# Índice"
   ]
  },
  {
   "cell_type": "markdown",
   "metadata": {},
   "source": [
    "hacer indice"
   ]
  },
  {
   "cell_type": "markdown",
   "metadata": {},
   "source": [
    "# 3. Entrenamiento de los modelos"
   ]
  },
  {
   "cell_type": "markdown",
   "metadata": {
    "jp-MarkdownHeadingCollapsed": true
   },
   "source": [
    "## 3.1 Importación de las librerias"
   ]
  },
  {
   "cell_type": "code",
   "execution_count": 1,
   "metadata": {},
   "outputs": [
    {
     "name": "stdout",
     "output_type": "stream",
     "text": [
      "Todas las librerias fueron correctamente importadas.\n"
     ]
    }
   ],
   "source": [
    "# General import and load data\n",
    "import pandas as pd\n",
    "import numpy as np\n",
    "\n",
    "# Preprocessing\n",
    "from sklearn.compose import ColumnTransformer\n",
    "from sklearn.decomposition import PCA\n",
    "from sklearn.preprocessing import StandardScaler\n",
    "from sklearn.pipeline import Pipeline\n",
    "\n",
    "# Estimators\n",
    "from sklearn.ensemble import RandomForestClassifier\n",
    "from sklearn.neural_network import MLPClassifier\n",
    "from sklearn.svm import LinearSVC\n",
    "from sklearn.neighbors import KNeighborsClassifier\n",
    "\n",
    "# Splitting\n",
    "from sklearn.model_selection import train_test_split\n",
    "\n",
    "# Evaluation\n",
    "from sklearn import metrics\n",
    "from sklearn.model_selection import cross_val_score, KFold\n",
    "from sklearn.metrics import classification_report\n",
    "from sklearn.metrics import roc_curve\n",
    "from sklearn.metrics import roc_auc_score\n",
    "from scipy.stats import sem\n",
    "\n",
    "# Under - Over sampling\n",
    "from imblearn.under_sampling import RandomUnderSampler\n",
    "from imblearn.over_sampling import SMOTE\n",
    "\n",
    "# Optimization\n",
    "from sklearn.model_selection import GridSearchCV\n",
    "\n",
    "# Visualization\n",
    "import matplotlib.pyplot as plt\n",
    "\n",
    "print(\"Todas las librerias fueron correctamente importadas.\")"
   ]
  },
  {
   "cell_type": "markdown",
   "metadata": {
    "jp-MarkdownHeadingCollapsed": true
   },
   "source": [
    "## 3.2 Funciones auxiliares y variables globales"
   ]
  },
  {
   "cell_type": "markdown",
   "metadata": {},
   "source": [
    "Función utilizada para el calculo de la score media tras un cross validation"
   ]
  },
  {
   "cell_type": "code",
   "execution_count": 2,
   "metadata": {},
   "outputs": [],
   "source": [
    "def mean_score(scores):\n",
    "    return (\"Score media: {0:.3f} (+/- {1:.3f})\").format(np.mean(scores), sem(scores))"
   ]
  },
  {
   "cell_type": "markdown",
   "metadata": {},
   "source": [
    "Función utilizado para evaluar los distintos umbrales en la curva de ROC."
   ]
  },
  {
   "cell_type": "code",
   "execution_count": 3,
   "metadata": {},
   "outputs": [],
   "source": [
    "def evaluate_threshold(threshold):\n",
    "    print('Sensitivity:', tpr[thresholds > threshold][-1])\n",
    "    print('Recall:', 1 - fpr[thresholds > threshold][-1])"
   ]
  },
  {
   "cell_type": "markdown",
   "metadata": {},
   "source": [
    "Se fija un seed para todo el documento para fijar la aleatoriedad y así obtener resultados replicables."
   ]
  },
  {
   "cell_type": "code",
   "execution_count": 4,
   "metadata": {},
   "outputs": [],
   "source": [
    "seed = 42"
   ]
  },
  {
   "cell_type": "markdown",
   "metadata": {
    "jp-MarkdownHeadingCollapsed": true
   },
   "source": [
    "## 3.3 Carga del dataframe"
   ]
  },
  {
   "cell_type": "markdown",
   "metadata": {},
   "source": [
    "Se cargan los datos de la ruta *formated/train_exportado.csv*, los cuales son los datos ya procesados por uno de nuestros compañeros."
   ]
  },
  {
   "cell_type": "code",
   "execution_count": 5,
   "metadata": {},
   "outputs": [
    {
     "name": "stdout",
     "output_type": "stream",
     "text": [
      "\n",
      "Datos cargados correctamente\n"
     ]
    }
   ],
   "source": [
    "url = \"formated/train_exportado.csv\"\n",
    "df = pd.read_csv(url)\n",
    "\n",
    "print(\"\\nDatos cargados correctamente\")"
   ]
  },
  {
   "cell_type": "code",
   "execution_count": 6,
   "metadata": {},
   "outputs": [
    {
     "name": "stdout",
     "output_type": "stream",
     "text": [
      "Test cargado correctamente\n",
      "\n"
     ]
    }
   ],
   "source": [
    "url = \"formated/test_exportado.csv\"\n",
    "df_test = pd.read_csv(url)\n",
    "\n",
    "print(\"Test cargado correctamente\\n\")"
   ]
  },
  {
   "cell_type": "markdown",
   "metadata": {},
   "source": [
    "Se observan las dimensiones del dataframe."
   ]
  },
  {
   "cell_type": "code",
   "execution_count": 7,
   "metadata": {},
   "outputs": [
    {
     "name": "stdout",
     "output_type": "stream",
     "text": [
      "Dimensiones del conjunto de datos: 22575 filas y 32 columnas\n"
     ]
    }
   ],
   "source": [
    "print(f\"Dimensiones del conjunto de datos: {df.shape[0]} filas y {df.shape[1]} columnas\")"
   ]
  },
  {
   "cell_type": "markdown",
   "metadata": {
    "jp-MarkdownHeadingCollapsed": true
   },
   "source": [
    "## 3.4 Análisis y selección de las características"
   ]
  },
  {
   "cell_type": "markdown",
   "metadata": {},
   "source": [
    "Se configura pandas para que muestre todas las columnas y después se realiza un head para ver el contenido de las mismas."
   ]
  },
  {
   "cell_type": "code",
   "execution_count": 8,
   "metadata": {},
   "outputs": [
    {
     "data": {
      "text/html": [
       "<div>\n",
       "<style scoped>\n",
       "    .dataframe tbody tr th:only-of-type {\n",
       "        vertical-align: middle;\n",
       "    }\n",
       "\n",
       "    .dataframe tbody tr th {\n",
       "        vertical-align: top;\n",
       "    }\n",
       "\n",
       "    .dataframe thead th {\n",
       "        text-align: right;\n",
       "    }\n",
       "</style>\n",
       "<table border=\"1\" class=\"dataframe\">\n",
       "  <thead>\n",
       "    <tr style=\"text-align: right;\">\n",
       "      <th></th>\n",
       "      <th>ApprovalDate</th>\n",
       "      <th>ApprovalFY</th>\n",
       "      <th>NoEmp</th>\n",
       "      <th>CreateJob</th>\n",
       "      <th>RetainedJob</th>\n",
       "      <th>DisbursementDate</th>\n",
       "      <th>DisbursementGross</th>\n",
       "      <th>Accept</th>\n",
       "      <th>NewExist_Binary</th>\n",
       "      <th>Franchise_Binary</th>\n",
       "      <th>UrbanRural_Binary</th>\n",
       "      <th>RevLineCr_Binary</th>\n",
       "      <th>LowDoc_Binary</th>\n",
       "      <th>ApprovalDate_quarter</th>\n",
       "      <th>DisbursementDate_quarter</th>\n",
       "      <th>Bank_Categorized</th>\n",
       "      <th>Bank_Categorized_cod</th>\n",
       "      <th>BankState_Categorized_cod</th>\n",
       "      <th>ApprovalFY_Grouped</th>\n",
       "      <th>ApprovalFY_Grouped_cod</th>\n",
       "      <th>NoEmp_Grouped</th>\n",
       "      <th>NoEmp_Grouped_cod</th>\n",
       "      <th>CreateJob_Binary</th>\n",
       "      <th>RetainedJob_Binary</th>\n",
       "      <th>DisbursementGross_Grouped</th>\n",
       "      <th>DisbursementGross_Grouped_cod</th>\n",
       "      <th>BankState_DE</th>\n",
       "      <th>BankState_IL</th>\n",
       "      <th>BankState_OH</th>\n",
       "      <th>BankState_Otros</th>\n",
       "      <th>BankState_RI</th>\n",
       "      <th>BankState_Categorized</th>\n",
       "    </tr>\n",
       "  </thead>\n",
       "  <tbody>\n",
       "    <tr>\n",
       "      <th>0</th>\n",
       "      <td>11</td>\n",
       "      <td>2006</td>\n",
       "      <td>2</td>\n",
       "      <td>0</td>\n",
       "      <td>2</td>\n",
       "      <td>12</td>\n",
       "      <td>8000</td>\n",
       "      <td>1</td>\n",
       "      <td>0</td>\n",
       "      <td>0</td>\n",
       "      <td>1</td>\n",
       "      <td>0</td>\n",
       "      <td>0</td>\n",
       "      <td>4</td>\n",
       "      <td>4</td>\n",
       "      <td>CITIZENS BANK NATL ASSOC</td>\n",
       "      <td>1</td>\n",
       "      <td>4</td>\n",
       "      <td>2005-2009</td>\n",
       "      <td>7</td>\n",
       "      <td>1-2</td>\n",
       "      <td>1</td>\n",
       "      <td>0</td>\n",
       "      <td>1</td>\n",
       "      <td>0-30k</td>\n",
       "      <td>0</td>\n",
       "      <td>0</td>\n",
       "      <td>0</td>\n",
       "      <td>0</td>\n",
       "      <td>0</td>\n",
       "      <td>1</td>\n",
       "      <td>RI</td>\n",
       "    </tr>\n",
       "    <tr>\n",
       "      <th>1</th>\n",
       "      <td>6</td>\n",
       "      <td>2005</td>\n",
       "      <td>2</td>\n",
       "      <td>1</td>\n",
       "      <td>2</td>\n",
       "      <td>7</td>\n",
       "      <td>166000</td>\n",
       "      <td>1</td>\n",
       "      <td>0</td>\n",
       "      <td>0</td>\n",
       "      <td>1</td>\n",
       "      <td>0</td>\n",
       "      <td>0</td>\n",
       "      <td>2</td>\n",
       "      <td>3</td>\n",
       "      <td>FIRSTMERIT BANK, N.A.</td>\n",
       "      <td>4</td>\n",
       "      <td>2</td>\n",
       "      <td>2005-2009</td>\n",
       "      <td>7</td>\n",
       "      <td>1-2</td>\n",
       "      <td>1</td>\n",
       "      <td>1</td>\n",
       "      <td>1</td>\n",
       "      <td>150k-500k</td>\n",
       "      <td>3</td>\n",
       "      <td>0</td>\n",
       "      <td>0</td>\n",
       "      <td>1</td>\n",
       "      <td>0</td>\n",
       "      <td>0</td>\n",
       "      <td>OH</td>\n",
       "    </tr>\n",
       "    <tr>\n",
       "      <th>2</th>\n",
       "      <td>3</td>\n",
       "      <td>2003</td>\n",
       "      <td>2</td>\n",
       "      <td>4</td>\n",
       "      <td>2</td>\n",
       "      <td>3</td>\n",
       "      <td>25000</td>\n",
       "      <td>1</td>\n",
       "      <td>0</td>\n",
       "      <td>0</td>\n",
       "      <td>0</td>\n",
       "      <td>1</td>\n",
       "      <td>0</td>\n",
       "      <td>1</td>\n",
       "      <td>1</td>\n",
       "      <td>PNC BANK, NATIONAL ASSOCIATION</td>\n",
       "      <td>9</td>\n",
       "      <td>2</td>\n",
       "      <td>2000-2004</td>\n",
       "      <td>6</td>\n",
       "      <td>1-2</td>\n",
       "      <td>1</td>\n",
       "      <td>1</td>\n",
       "      <td>1</td>\n",
       "      <td>0-30k</td>\n",
       "      <td>0</td>\n",
       "      <td>0</td>\n",
       "      <td>0</td>\n",
       "      <td>1</td>\n",
       "      <td>0</td>\n",
       "      <td>0</td>\n",
       "      <td>OH</td>\n",
       "    </tr>\n",
       "    <tr>\n",
       "      <th>3</th>\n",
       "      <td>6</td>\n",
       "      <td>1995</td>\n",
       "      <td>2</td>\n",
       "      <td>0</td>\n",
       "      <td>0</td>\n",
       "      <td>1</td>\n",
       "      <td>220100</td>\n",
       "      <td>1</td>\n",
       "      <td>0</td>\n",
       "      <td>0</td>\n",
       "      <td>1</td>\n",
       "      <td>0</td>\n",
       "      <td>0</td>\n",
       "      <td>2</td>\n",
       "      <td>1</td>\n",
       "      <td>THE HUNTINGTON NATIONAL BANK</td>\n",
       "      <td>10</td>\n",
       "      <td>2</td>\n",
       "      <td>1995-1999</td>\n",
       "      <td>5</td>\n",
       "      <td>1-2</td>\n",
       "      <td>1</td>\n",
       "      <td>0</td>\n",
       "      <td>0</td>\n",
       "      <td>150k-500k</td>\n",
       "      <td>3</td>\n",
       "      <td>0</td>\n",
       "      <td>0</td>\n",
       "      <td>1</td>\n",
       "      <td>0</td>\n",
       "      <td>0</td>\n",
       "      <td>OH</td>\n",
       "    </tr>\n",
       "    <tr>\n",
       "      <th>4</th>\n",
       "      <td>4</td>\n",
       "      <td>2009</td>\n",
       "      <td>0</td>\n",
       "      <td>0</td>\n",
       "      <td>0</td>\n",
       "      <td>5</td>\n",
       "      <td>25000</td>\n",
       "      <td>0</td>\n",
       "      <td>1</td>\n",
       "      <td>0</td>\n",
       "      <td>1</td>\n",
       "      <td>0</td>\n",
       "      <td>0</td>\n",
       "      <td>2</td>\n",
       "      <td>2</td>\n",
       "      <td>THE HUNTINGTON NATIONAL BANK</td>\n",
       "      <td>10</td>\n",
       "      <td>2</td>\n",
       "      <td>2005-2009</td>\n",
       "      <td>7</td>\n",
       "      <td>0</td>\n",
       "      <td>0</td>\n",
       "      <td>0</td>\n",
       "      <td>0</td>\n",
       "      <td>0-30k</td>\n",
       "      <td>0</td>\n",
       "      <td>0</td>\n",
       "      <td>0</td>\n",
       "      <td>1</td>\n",
       "      <td>0</td>\n",
       "      <td>0</td>\n",
       "      <td>OH</td>\n",
       "    </tr>\n",
       "  </tbody>\n",
       "</table>\n",
       "</div>"
      ],
      "text/plain": [
       "   ApprovalDate  ApprovalFY  NoEmp  CreateJob  RetainedJob  DisbursementDate  \\\n",
       "0            11        2006      2          0            2                12   \n",
       "1             6        2005      2          1            2                 7   \n",
       "2             3        2003      2          4            2                 3   \n",
       "3             6        1995      2          0            0                 1   \n",
       "4             4        2009      0          0            0                 5   \n",
       "\n",
       "   DisbursementGross  Accept  NewExist_Binary  Franchise_Binary  \\\n",
       "0               8000       1                0                 0   \n",
       "1             166000       1                0                 0   \n",
       "2              25000       1                0                 0   \n",
       "3             220100       1                0                 0   \n",
       "4              25000       0                1                 0   \n",
       "\n",
       "   UrbanRural_Binary  RevLineCr_Binary  LowDoc_Binary  ApprovalDate_quarter  \\\n",
       "0                  1                 0              0                     4   \n",
       "1                  1                 0              0                     2   \n",
       "2                  0                 1              0                     1   \n",
       "3                  1                 0              0                     2   \n",
       "4                  1                 0              0                     2   \n",
       "\n",
       "   DisbursementDate_quarter                Bank_Categorized  \\\n",
       "0                         4        CITIZENS BANK NATL ASSOC   \n",
       "1                         3           FIRSTMERIT BANK, N.A.   \n",
       "2                         1  PNC BANK, NATIONAL ASSOCIATION   \n",
       "3                         1    THE HUNTINGTON NATIONAL BANK   \n",
       "4                         2    THE HUNTINGTON NATIONAL BANK   \n",
       "\n",
       "   Bank_Categorized_cod  BankState_Categorized_cod ApprovalFY_Grouped  \\\n",
       "0                     1                          4          2005-2009   \n",
       "1                     4                          2          2005-2009   \n",
       "2                     9                          2          2000-2004   \n",
       "3                    10                          2          1995-1999   \n",
       "4                    10                          2          2005-2009   \n",
       "\n",
       "   ApprovalFY_Grouped_cod NoEmp_Grouped  NoEmp_Grouped_cod  CreateJob_Binary  \\\n",
       "0                       7           1-2                  1                 0   \n",
       "1                       7           1-2                  1                 1   \n",
       "2                       6           1-2                  1                 1   \n",
       "3                       5           1-2                  1                 0   \n",
       "4                       7             0                  0                 0   \n",
       "\n",
       "   RetainedJob_Binary DisbursementGross_Grouped  \\\n",
       "0                   1                     0-30k   \n",
       "1                   1                 150k-500k   \n",
       "2                   1                     0-30k   \n",
       "3                   0                 150k-500k   \n",
       "4                   0                     0-30k   \n",
       "\n",
       "   DisbursementGross_Grouped_cod  BankState_DE  BankState_IL  BankState_OH  \\\n",
       "0                              0             0             0             0   \n",
       "1                              3             0             0             1   \n",
       "2                              0             0             0             1   \n",
       "3                              3             0             0             1   \n",
       "4                              0             0             0             1   \n",
       "\n",
       "   BankState_Otros  BankState_RI BankState_Categorized  \n",
       "0                0             1                    RI  \n",
       "1                0             0                    OH  \n",
       "2                0             0                    OH  \n",
       "3                0             0                    OH  \n",
       "4                0             0                    OH  "
      ]
     },
     "execution_count": 8,
     "metadata": {},
     "output_type": "execute_result"
    }
   ],
   "source": [
    "pd.set_option('display.max_columns', None)\n",
    "df.head()"
   ]
  },
  {
   "cell_type": "markdown",
   "metadata": {},
   "source": [
    "Se muestran todas las columnas para poder observarlas."
   ]
  },
  {
   "cell_type": "code",
   "execution_count": 9,
   "metadata": {},
   "outputs": [
    {
     "data": {
      "text/plain": [
       "Index(['ApprovalDate', 'ApprovalFY', 'NoEmp', 'CreateJob', 'RetainedJob',\n",
       "       'DisbursementDate', 'DisbursementGross', 'Accept', 'NewExist_Binary',\n",
       "       'Franchise_Binary', 'UrbanRural_Binary', 'RevLineCr_Binary',\n",
       "       'LowDoc_Binary', 'ApprovalDate_quarter', 'DisbursementDate_quarter',\n",
       "       'Bank_Categorized', 'Bank_Categorized_cod', 'BankState_Categorized_cod',\n",
       "       'ApprovalFY_Grouped', 'ApprovalFY_Grouped_cod', 'NoEmp_Grouped',\n",
       "       'NoEmp_Grouped_cod', 'CreateJob_Binary', 'RetainedJob_Binary',\n",
       "       'DisbursementGross_Grouped', 'DisbursementGross_Grouped_cod',\n",
       "       'BankState_DE', 'BankState_IL', 'BankState_OH', 'BankState_Otros',\n",
       "       'BankState_RI', 'BankState_Categorized'],\n",
       "      dtype='object')"
      ]
     },
     "execution_count": 9,
     "metadata": {},
     "output_type": "execute_result"
    }
   ],
   "source": [
    "df.columns"
   ]
  },
  {
   "cell_type": "markdown",
   "metadata": {},
   "source": [
    "Se muestran todas las columnas en formato código para que sea más sencillo su uso. Además se estructuran en diversas categorias."
   ]
  },
  {
   "cell_type": "code",
   "execution_count": 10,
   "metadata": {},
   "outputs": [],
   "source": [
    "all_features = [\n",
    "    # Caracteristicas numericas\n",
    "    'ApprovalFY', 'NoEmp', 'CreateJob', 'RetainedJob', 'DisbursementGross',\n",
    "\n",
    "    # Caracteristicas categoricas binarias\n",
    "    'NewExist_Binary', 'Franchise_Binary', 'UrbanRural_Binary',\n",
    "    'RevLineCr_Binary', 'LowDoc_Binary', 'CreateJob_Binary',\n",
    "    'RetainedJob_Binary',\n",
    "\n",
    "    # Caracteristicas categoricas codificadas\n",
    "    'ApprovalDate', 'DisbursementDate', 'Bank_Categorized_cod', \n",
    "    'BankState_Categorized_cod', 'ApprovalFY_Grouped_cod', \n",
    "    'NoEmp_Grouped_cod', 'DisbursementGross_Grouped_cod',\n",
    "\n",
    "    # Características con relación temporal\n",
    "    'ApprovalDate_quarter', 'DisbursementDate_quarter',\n",
    "\n",
    "    # Caracteristicas categoricas sin codificadar\n",
    "    'Bank_Categorized', 'ApprovalFY_Grouped',        \n",
    "    'DisbursementGross_Grouped', 'BankState_Categorized',\n",
    "\n",
    "    # Caracteristicas relacionadas con BankState_Categorized tras un One Hot Encoding\n",
    "    'BankState_DE', 'BankState_IL', 'BankState_OH', \n",
    "    'BankState_Otros', 'BankState_RI'\n",
    "]"
   ]
  },
  {
   "cell_type": "markdown",
   "metadata": {},
   "source": [
    "Se seleccionan todas las características a excepción de las categoricas sin codificadar, al ya tener la misma információn codificada."
   ]
  },
  {
   "cell_type": "code",
   "execution_count": 11,
   "metadata": {},
   "outputs": [],
   "source": [
    "selected_features = [\n",
    "    # Caracteristicas numericas\n",
    "    'ApprovalFY', 'NoEmp', 'CreateJob', 'RetainedJob', 'DisbursementGross',\n",
    "\n",
    "    # Caracteristicas categoricas binarias\n",
    "    'NewExist_Binary', 'Franchise_Binary', 'UrbanRural_Binary',\n",
    "    'RevLineCr_Binary', 'LowDoc_Binary', 'CreateJob_Binary',\n",
    "    'RetainedJob_Binary',\n",
    "\n",
    "    # Caracteristicas categoricas codificadas\n",
    "    'Bank_Categorized_cod', 'BankState_Categorized_cod',\n",
    "    'ApprovalFY_Grouped_cod', 'NoEmp_Grouped_cod', \n",
    "    'DisbursementGross_Grouped_cod',\n",
    "\n",
    "     # Time-related features\n",
    "    'ApprovalDate_quarter', 'DisbursementDate_quarter',\n",
    "\n",
    "    # Caracteristicas relacionadas con BankState_Categorized tras un One Hot Encoding\n",
    "    'BankState_DE', 'BankState_IL', 'BankState_OH', \n",
    "    'BankState_Otros', 'BankState_RI'\n",
    "]"
   ]
  },
  {
   "cell_type": "markdown",
   "metadata": {},
   "source": [
    "De las cuales son realmente numericas las siguientes:"
   ]
  },
  {
   "cell_type": "code",
   "execution_count": 12,
   "metadata": {},
   "outputs": [],
   "source": [
    "numeric_vars = ['ApprovalFY', 'NoEmp', 'CreateJob', 'RetainedJob', 'DisbursementGross']"
   ]
  },
  {
   "cell_type": "markdown",
   "metadata": {},
   "source": [
    "Comprobamos que solo tenemos tipos númericos, más especificamente enteros."
   ]
  },
  {
   "cell_type": "code",
   "execution_count": 13,
   "metadata": {},
   "outputs": [
    {
     "data": {
      "text/plain": [
       "ApprovalFY                       int64\n",
       "NoEmp                            int64\n",
       "CreateJob                        int64\n",
       "RetainedJob                      int64\n",
       "DisbursementGross                int64\n",
       "NewExist_Binary                  int64\n",
       "Franchise_Binary                 int64\n",
       "UrbanRural_Binary                int64\n",
       "RevLineCr_Binary                 int64\n",
       "LowDoc_Binary                    int64\n",
       "CreateJob_Binary                 int64\n",
       "RetainedJob_Binary               int64\n",
       "Bank_Categorized_cod             int64\n",
       "BankState_Categorized_cod        int64\n",
       "ApprovalFY_Grouped_cod           int64\n",
       "NoEmp_Grouped_cod                int64\n",
       "DisbursementGross_Grouped_cod    int64\n",
       "ApprovalDate_quarter             int64\n",
       "DisbursementDate_quarter         int64\n",
       "BankState_DE                     int64\n",
       "BankState_IL                     int64\n",
       "BankState_OH                     int64\n",
       "BankState_Otros                  int64\n",
       "BankState_RI                     int64\n",
       "dtype: object"
      ]
     },
     "execution_count": 13,
     "metadata": {},
     "output_type": "execute_result"
    }
   ],
   "source": [
    "df[selected_features].dtypes"
   ]
  },
  {
   "cell_type": "markdown",
   "metadata": {
    "jp-MarkdownHeadingCollapsed": true
   },
   "source": [
    "## 3.5 Carga de los datos y división en entrenamiento y test"
   ]
  },
  {
   "cell_type": "markdown",
   "metadata": {},
   "source": [
    "Cargamos las caracteristicas seleccionadas en la variable X y el objetivo *Accept* en la variable y."
   ]
  },
  {
   "cell_type": "code",
   "execution_count": 14,
   "metadata": {},
   "outputs": [],
   "source": [
    "X = df[selected_features] \n",
    "y = df['Accept'].values"
   ]
  },
  {
   "cell_type": "markdown",
   "metadata": {},
   "source": [
    "Mostramos las dimensiones de ambas variables."
   ]
  },
  {
   "cell_type": "code",
   "execution_count": 15,
   "metadata": {},
   "outputs": [
    {
     "name": "stdout",
     "output_type": "stream",
     "text": [
      "Dimensiones del conjunto de datos: 22575 filas y 24 columnas\n",
      "Dimensiones del conjunto de datos: 22575 filas y 1 columna\n"
     ]
    }
   ],
   "source": [
    "print(f\"Dimensiones del conjunto de datos: {X.shape[0]} filas y {X.shape[1]} columnas\")\n",
    "print(f\"Dimensiones del conjunto de datos: {y.shape[0]} filas y 1 columna\")"
   ]
  },
  {
   "cell_type": "markdown",
   "metadata": {},
   "source": [
    "Obtenemos la distribución del objetivo *Accept*."
   ]
  },
  {
   "cell_type": "code",
   "execution_count": 16,
   "metadata": {},
   "outputs": [
    {
     "name": "stdout",
     "output_type": "stream",
     "text": [
      "1    83.184939\n",
      "0    16.815061\n",
      "Name: count, dtype: float64\n"
     ]
    }
   ],
   "source": [
    "# Calcular los conteos de valores\n",
    "counts = pd.Series(y).value_counts()\n",
    "\n",
    "# Calcular los porcentajes\n",
    "percentages = (counts / len(y)) * 100\n",
    "\n",
    "# Mostrar los resultados\n",
    "print(percentages)"
   ]
  },
  {
   "cell_type": "markdown",
   "metadata": {},
   "source": [
    "En definitiva, observamos que esta desbalanceado"
   ]
  },
  {
   "cell_type": "markdown",
   "metadata": {},
   "source": [
    "Se separa ya en entrenamiento y test para no falsear los datos del test al realizar el balanceo."
   ]
  },
  {
   "cell_type": "code",
   "execution_count": 17,
   "metadata": {},
   "outputs": [],
   "source": [
    "X_train, X_test, y_train, y_test = train_test_split(X, y, test_size=0.2, random_state=seed)"
   ]
  },
  {
   "cell_type": "code",
   "execution_count": 18,
   "metadata": {},
   "outputs": [],
   "source": [
    "X_train_final = X\n",
    "y_train_final = y\n",
    "\n",
    "X_test_final = df_test[selected_features] "
   ]
  },
  {
   "cell_type": "markdown",
   "metadata": {},
   "source": [
    "## 3.6 Preprocesado de los datos"
   ]
  },
  {
   "cell_type": "markdown",
   "metadata": {
    "jp-MarkdownHeadingCollapsed": true
   },
   "source": [
    "### 3.6.1 Introducción"
   ]
  },
  {
   "cell_type": "markdown",
   "metadata": {},
   "source": [
    "Si observamos el notebook en el que se escogen qué modelos son mejores veremos que se han estándarizado todas las características y se ha realizado un oversampling mediante *SMOTE* con los hiperparámetros por defecto (es decir que hará que la proporcion final sea un 50-50). Después de ello, también se hacía un *PCA* para reducir la dimensionalidad.\n",
    "\n",
    "Al no estar seguros de si esa era la mejor opción, se han realizado seis casuísticas para analizar cual es el mejor orden. El caso 1 hace referencia a estandarizar todas las caracteristicas y realizar un *SMOTE*. El caso 2 hace referencia a estandarizar solo las caracteristicas númericas y realizar un *SMOTE*. El caso 3 hace referencia a estandarizar todas las caracteristicas y realizar un *RandomUnderSampler*. El caso 3 hace referencia a estandarizar solo las caracteristicas númericas y realizar un *RandomUnderSampler*. El caso 5 hace referencia a estandarizar todas las caracteristicas y después realizar un undersampling mediante *RandomUnderSampler* y un *SMOTE* sin los valores por defecto. El caso 6 hace referencia a estandarizar solo las caracteristicas númericas y después realizar un *RandomUnderSampler* y un *SMOTE* sin los valores por defecto.\n",
    "\n",
    "Para la evaluación se ha realizado un *K-fold* con Random Forest como modelo, al ser el modelo que mejor funcionaba en el notebook de la selección de modelos (tanto en F1-score como en ROC-AUC score).\n",
    "\n",
    "En el siguiente subapartado se han identificado todas las variables con un sufijo para determinar al caso de preprocesado al que se refiere. Los sufijos en cuestion son los siguientes:\n",
    "* *_A_O*&nbsp;:&nbsp;&nbsp;*_All_Over*, es decir, se estandarizan todas las características y se realiza solamente oversampling.\n",
    "* *_N_O*&nbsp;:&nbsp;&nbsp;*_Number_Over*, es decir, se estandarizan solo las características numericas y se realiza solamente oversampling.\n",
    "* *_A_U*&nbsp;:&nbsp;&nbsp;*_All_Under*, es decir, se estandarizan todas las características y se realiza solamente undersampling.\n",
    "* *_N_U*&nbsp;:&nbsp;&nbsp;*_Number_Under*, es decir, se estandarizan solo las características numericas y se realiza solamente undersampling.\n",
    "* *_A_OU*&nbsp;:&nbsp;&nbsp;*_All_OverUnder*, es decir, se estandarizan todas las características y se realiza tanto oversampling como undersampling.\n",
    "* *_N_OU*&nbsp;:&nbsp;&nbsp;*_Number_OverUnder*, es decir, se estandarizan solo las características numericas y se realiza tanto oversampling como undersampling."
   ]
  },
  {
   "cell_type": "markdown",
   "metadata": {},
   "source": [
    "### 3.6.2 Casos de preprocesado"
   ]
  },
  {
   "cell_type": "markdown",
   "metadata": {
    "jp-MarkdownHeadingCollapsed": true
   },
   "source": [
    "#### - Caso 1: Estandarización de todas las features y oversampling"
   ]
  },
  {
   "cell_type": "markdown",
   "metadata": {},
   "source": [
    "Primero escalamos *X* con el escalador estándar."
   ]
  },
  {
   "cell_type": "code",
   "execution_count": 19,
   "metadata": {},
   "outputs": [],
   "source": [
    "prep_A_O = StandardScaler().fit(X_train)\n",
    "X_scaled_A_O = prep_A_O.transform(X_train)"
   ]
  },
  {
   "cell_type": "markdown",
   "metadata": {},
   "source": [
    "Después realizamos un SMOTE para obtener una proporción 50-50."
   ]
  },
  {
   "cell_type": "code",
   "execution_count": 20,
   "metadata": {},
   "outputs": [],
   "source": [
    "ovsamp_A_O = SMOTE(random_state=seed)\n",
    "X_resampled_A_O, y_resampled_A_O = ovsamp_A_O.fit_resample(X_scaled_A_O, y_train)"
   ]
  },
  {
   "cell_type": "markdown",
   "metadata": {},
   "source": [
    "Comprobamos el balanceo de los datos."
   ]
  },
  {
   "cell_type": "code",
   "execution_count": 21,
   "metadata": {},
   "outputs": [
    {
     "name": "stdout",
     "output_type": "stream",
     "text": [
      "1    50.0\n",
      "0    50.0\n",
      "Name: count, dtype: float64\n"
     ]
    }
   ],
   "source": [
    "# Calcular los conteos de valores\n",
    "counts = pd.Series(y_resampled_A_O).value_counts()\n",
    "\n",
    "# Calcular los porcentajes\n",
    "percentages = (counts / len(y_resampled_A_O)) * 100\n",
    "\n",
    "# Mostrar los resultados\n",
    "print(percentages)"
   ]
  },
  {
   "cell_type": "markdown",
   "metadata": {},
   "source": [
    "Se realiza la reducción de características mediante *PCA*."
   ]
  },
  {
   "cell_type": "code",
   "execution_count": 22,
   "metadata": {},
   "outputs": [],
   "source": [
    "pca_A_O = PCA()\n",
    "X_pca_full_A_O = pca_A_O.fit_transform(X_resampled_A_O)"
   ]
  },
  {
   "cell_type": "markdown",
   "metadata": {},
   "source": [
    "Como ocurría en el notebook de selección de características, buscamos quedarnos solamente con los componentes que nos permitan tener un 95% de ratio de varianza.\n",
    "\n",
    "Para ello, primero vemos una representación visual."
   ]
  },
  {
   "cell_type": "code",
   "execution_count": 23,
   "metadata": {},
   "outputs": [
    {
     "data": {
      "image/png": "[encoded data removed]",
      "text/plain": [
       "<Figure size 1000x600 with 1 Axes>"
      ]
     },
     "metadata": {},
     "output_type": "display_data"
    }
   ],
   "source": [
    "# Calculate cumulative explained variance ratio\n",
    "cumulative_variance_ratio_A_O = np.cumsum(pca_A_O.explained_variance_ratio_)\n",
    "\n",
    "# Plot explained variance ratio\n",
    "plt.figure(figsize=(10, 6))\n",
    "plt.plot(range(1, len(cumulative_variance_ratio_A_O) + 1), \n",
    "         cumulative_variance_ratio_A_O, 'bo-')\n",
    "plt.xlabel('Número de Componentes')\n",
    "plt.ylabel('Ratio de Varianza Explicada Acumulada')\n",
    "plt.title('Ratio Varianza Explicada vs. Número Componentes')\n",
    "plt.grid(True)\n",
    "\n",
    "# Add threshold line\n",
    "plt.axhline(y=0.95, color='r', linestyle='--', \n",
    "            label='Umbral del 95% de varianza')\n",
    "plt.legend()\n",
    "plt.show()"
   ]
  },
  {
   "cell_type": "markdown",
   "metadata": {},
   "source": [
    "Y ahora, seleccionamos el número de componentes, así como el desglose que aporta cada uno de ellos al ratio de varianza explicada."
   ]
  },
  {
   "cell_type": "code",
   "execution_count": 24,
   "metadata": {
    "scrolled": true
   },
   "outputs": [
    {
     "name": "stdout",
     "output_type": "stream",
     "text": [
      "Número de componentes seleccionados: 17\n",
      "Varianza explicada con 17 componentes: 0.9596\n",
      "\n",
      "Varianza explicada por cada componente:\n",
      "Componente 1: 0.1635 (16.35%)\n",
      "Componente 2: 0.1273 (12.73%)\n",
      "Componente 3: 0.0807 (8.07%)\n",
      "Componente 4: 0.0704 (7.04%)\n",
      "Componente 5: 0.0666 (6.66%)\n",
      "Componente 6: 0.0568 (5.68%)\n",
      "Componente 7: 0.0557 (5.57%)\n",
      "Componente 8: 0.0529 (5.29%)\n",
      "Componente 9: 0.0490 (4.90%)\n",
      "Componente 10: 0.0430 (4.30%)\n",
      "Componente 11: 0.0378 (3.78%)\n",
      "Componente 12: 0.0312 (3.12%)\n",
      "Componente 13: 0.0300 (3.00%)\n",
      "Componente 14: 0.0261 (2.61%)\n",
      "Componente 15: 0.0254 (2.54%)\n",
      "Componente 16: 0.0230 (2.30%)\n",
      "Componente 17: 0.0204 (2.04%)\n"
     ]
    }
   ],
   "source": [
    "n_comp_A_O = np.argmax(cumulative_variance_ratio_A_O >= 0.95) + 1\n",
    "print(f\"Número de componentes seleccionados: {n_comp_A_O}\")\n",
    "print(f\"Varianza explicada con {n_comp_A_O} componentes: \"\n",
    "      f\"{cumulative_variance_ratio_A_O[n_comp_A_O-1]:.4f}\")\n",
    "\n",
    "# Display variance explained by each component\n",
    "print(\"\\nVarianza explicada por cada componente:\")\n",
    "for i, var in enumerate(pca_A_O.explained_variance_ratio_[:n_comp_A_O]):\n",
    "    print(f\"Componente {i+1}: {var:.4f} ({var*100:.2f}%)\")"
   ]
  },
  {
   "cell_type": "markdown",
   "metadata": {},
   "source": [
    "Finalmente, nos quedamos con el conjunto de componentes deseado."
   ]
  },
  {
   "cell_type": "code",
   "execution_count": 25,
   "metadata": {},
   "outputs": [],
   "source": [
    "X_pca_A_O = X_pca_full_A_O[:, :n_comp_A_O]"
   ]
  },
  {
   "cell_type": "markdown",
   "metadata": {
    "jp-MarkdownHeadingCollapsed": true
   },
   "source": [
    "#### - Caso 2: Estandarización de las features numericas y oversampling"
   ]
  },
  {
   "cell_type": "markdown",
   "metadata": {},
   "source": [
    "Ahora solamente seleccionamos las variables numericas."
   ]
  },
  {
   "cell_type": "code",
   "execution_count": 26,
   "metadata": {},
   "outputs": [],
   "source": [
    "prep_N_O = ColumnTransformer([\n",
    "    ('numericas', StandardScaler(), numeric_vars)\n",
    "], remainder='passthrough').fit(X_train) \n",
    "\n",
    "X_scaled_N_O = prep_N_O.transform(X_train) "
   ]
  },
  {
   "cell_type": "markdown",
   "metadata": {},
   "source": [
    "Volvemos a realizar un oversampling con *SMOTE* por defecto."
   ]
  },
  {
   "cell_type": "code",
   "execution_count": 27,
   "metadata": {},
   "outputs": [],
   "source": [
    "ovsamp_N_O = SMOTE(random_state=seed)\n",
    "X_resampled_N_O, y_resampled_N_O = ovsamp_N_O.fit_resample(X_scaled_N_O, y_train)"
   ]
  },
  {
   "cell_type": "markdown",
   "metadata": {},
   "source": [
    "Realizamos el *PCA*."
   ]
  },
  {
   "cell_type": "code",
   "execution_count": 28,
   "metadata": {},
   "outputs": [],
   "source": [
    "pca_N_O = PCA()\n",
    "X_pca_full_N_O = pca_N_O.fit_transform(X_resampled_N_O)"
   ]
  },
  {
   "cell_type": "markdown",
   "metadata": {},
   "source": [
    "Y obtenemos sus componentes principales."
   ]
  },
  {
   "cell_type": "code",
   "execution_count": 29,
   "metadata": {},
   "outputs": [
    {
     "data": {
      "image/png": "[encoded data removed]",
      "text/plain": [
       "<Figure size 1000x600 with 1 Axes>"
      ]
     },
     "metadata": {},
     "output_type": "display_data"
    }
   ],
   "source": [
    "# Calculate cumulative explained variance ratio\n",
    "cumulative_variance_ratio_N_O = np.cumsum(pca_N_O.explained_variance_ratio_)\n",
    "\n",
    "# Plot explained variance ratio\n",
    "plt.figure(figsize=(10, 6))\n",
    "plt.plot(range(1, len(cumulative_variance_ratio_N_O) + 1), \n",
    "         cumulative_variance_ratio_N_O, 'bo-')\n",
    "plt.xlabel('Número de Componentes')\n",
    "plt.ylabel('Ratio de Varianza Explicada Acumulada')\n",
    "plt.title('Ratio Varianza Explicada vs. Número Componentes')\n",
    "plt.grid(True)\n",
    "\n",
    "# Add threshold line\n",
    "plt.axhline(y=0.95, color='r', linestyle='--', \n",
    "            label='Umbral del 95% de varianza')\n",
    "plt.legend()\n",
    "plt.show()"
   ]
  },
  {
   "cell_type": "code",
   "execution_count": 30,
   "metadata": {},
   "outputs": [
    {
     "name": "stdout",
     "output_type": "stream",
     "text": [
      "Número de componentes seleccionados: 11\n",
      "Varianza explicada con 11 componentes: 0.9531\n",
      "\n",
      "Varianza explicada por cada componente:\n",
      "Componente 1: 0.4722 (47.22%)\n",
      "Componente 2: 0.1354 (13.54%)\n",
      "Componente 3: 0.0721 (7.21%)\n",
      "Componente 4: 0.0677 (6.77%)\n",
      "Componente 5: 0.0551 (5.51%)\n",
      "Componente 6: 0.0363 (3.63%)\n",
      "Componente 7: 0.0352 (3.52%)\n",
      "Componente 8: 0.0324 (3.24%)\n",
      "Componente 9: 0.0236 (2.36%)\n",
      "Componente 10: 0.0118 (1.18%)\n",
      "Componente 11: 0.0112 (1.12%)\n"
     ]
    }
   ],
   "source": [
    "n_comp_N_O = np.argmax(cumulative_variance_ratio_N_O >= 0.95) + 1\n",
    "print(f\"Número de componentes seleccionados: {n_comp_N_O}\")\n",
    "print(f\"Varianza explicada con {n_comp_N_O} componentes: \"\n",
    "      f\"{cumulative_variance_ratio_N_O[n_comp_N_O-1]:.4f}\")\n",
    "\n",
    "# Display variance explained by each component\n",
    "print(\"\\nVarianza explicada por cada componente:\")\n",
    "for i, var in enumerate(pca_N_O.explained_variance_ratio_[:n_comp_N_O]):\n",
    "    print(f\"Componente {i+1}: {var:.4f} ({var*100:.2f}%)\")"
   ]
  },
  {
   "cell_type": "markdown",
   "metadata": {},
   "source": [
    "Finalmente los seleccionamos."
   ]
  },
  {
   "cell_type": "code",
   "execution_count": 31,
   "metadata": {},
   "outputs": [],
   "source": [
    "X_pca_N_O = X_pca_full_N_O[:, :n_comp_N_O]"
   ]
  },
  {
   "cell_type": "markdown",
   "metadata": {
    "jp-MarkdownHeadingCollapsed": true
   },
   "source": [
    "#### - Caso 3: Estandarización de todas las features y undersampling"
   ]
  },
  {
   "cell_type": "markdown",
   "metadata": {},
   "source": [
    "Estandarizamos para todas las características."
   ]
  },
  {
   "cell_type": "code",
   "execution_count": 32,
   "metadata": {},
   "outputs": [],
   "source": [
    "prep_A_U = StandardScaler().fit(X_train)\n",
    "X_scaled_A_U = prep_A_U.transform(X_train)"
   ]
  },
  {
   "cell_type": "markdown",
   "metadata": {},
   "source": [
    "Esta vez, hacemos previamente un undersampling de los datos, buscando no ser tan agresivos al balancear el conjunto."
   ]
  },
  {
   "cell_type": "code",
   "execution_count": 33,
   "metadata": {},
   "outputs": [],
   "source": [
    "unsamp_A_U = RandomUnderSampler(sampling_strategy=0.8, random_state=seed)\n",
    "X_resampled_A_U, y_resampled_A_U = unsamp_A_U.fit_resample(X_scaled_A_U, y_train)"
   ]
  },
  {
   "cell_type": "code",
   "execution_count": 34,
   "metadata": {},
   "outputs": [
    {
     "name": "stdout",
     "output_type": "stream",
     "text": [
      "1    55.552313\n",
      "0    44.447687\n",
      "Name: count, dtype: float64\n"
     ]
    }
   ],
   "source": [
    "# Calcular los conteos de valores\n",
    "counts = pd.Series(y_resampled_A_U).value_counts()\n",
    "\n",
    "# Calcular los porcentajes\n",
    "percentages = (counts / len(y_resampled_A_U)) * 100\n",
    "\n",
    "# Mostrar los resultados\n",
    "print(percentages)"
   ]
  },
  {
   "cell_type": "markdown",
   "metadata": {},
   "source": [
    "Después realizamos un SMOTE para obtener una proporción 65-35 (aproximadamente)."
   ]
  },
  {
   "cell_type": "markdown",
   "metadata": {},
   "source": [
    "Se realiza la reducción de características mediante *PCA*."
   ]
  },
  {
   "cell_type": "code",
   "execution_count": 35,
   "metadata": {},
   "outputs": [],
   "source": [
    "pca_A_U= PCA()\n",
    "X_pca_full_A_U = pca_A_U.fit_transform(X_resampled_A_U)"
   ]
  },
  {
   "cell_type": "markdown",
   "metadata": {},
   "source": [
    "Obtenemos sus componentes principales."
   ]
  },
  {
   "cell_type": "code",
   "execution_count": 36,
   "metadata": {},
   "outputs": [
    {
     "data": {
      "image/png": "[encoded data removed]",
      "text/plain": [
       "<Figure size 1000x600 with 1 Axes>"
      ]
     },
     "metadata": {},
     "output_type": "display_data"
    }
   ],
   "source": [
    "# Calculate cumulative explained variance ratio\n",
    "cumulative_variance_ratio_A_U = np.cumsum(pca_A_U.explained_variance_ratio_)\n",
    "\n",
    "# Plot explained variance ratio\n",
    "plt.figure(figsize=(10, 6))\n",
    "plt.plot(range(1, len(cumulative_variance_ratio_A_U) + 1), \n",
    "         cumulative_variance_ratio_A_U, 'bo-')\n",
    "plt.xlabel('Número de Componentes')\n",
    "plt.ylabel('Ratio de Varianza Explicada Acumulada')\n",
    "plt.title('Ratio Varianza Explicada vs. Número Componentes')\n",
    "plt.grid(True)\n",
    "\n",
    "# Add threshold line\n",
    "plt.axhline(y=0.95, color='r', linestyle='--', \n",
    "            label='Umbral del 95% de varianza')\n",
    "plt.legend()\n",
    "plt.show()"
   ]
  },
  {
   "cell_type": "code",
   "execution_count": 37,
   "metadata": {},
   "outputs": [
    {
     "name": "stdout",
     "output_type": "stream",
     "text": [
      "Número de componentes seleccionados: 17\n",
      "Varianza explicada con 17 componentes: 0.9674\n",
      "\n",
      "Varianza explicada por cada componente:\n",
      "Componente 1: 0.1681 (16.81%)\n",
      "Componente 2: 0.1290 (12.90%)\n",
      "Componente 3: 0.0849 (8.49%)\n",
      "Componente 4: 0.0739 (7.39%)\n",
      "Componente 5: 0.0686 (6.86%)\n",
      "Componente 6: 0.0597 (5.97%)\n",
      "Componente 7: 0.0547 (5.47%)\n",
      "Componente 8: 0.0511 (5.11%)\n",
      "Componente 9: 0.0458 (4.58%)\n",
      "Componente 10: 0.0421 (4.21%)\n",
      "Componente 11: 0.0339 (3.39%)\n",
      "Componente 12: 0.0324 (3.24%)\n",
      "Componente 13: 0.0293 (2.93%)\n",
      "Componente 14: 0.0276 (2.76%)\n",
      "Componente 15: 0.0267 (2.67%)\n",
      "Componente 16: 0.0222 (2.22%)\n",
      "Componente 17: 0.0176 (1.76%)\n"
     ]
    }
   ],
   "source": [
    "n_comp_A_U = np.argmax(cumulative_variance_ratio_A_U >= 0.95) + 1\n",
    "print(f\"Número de componentes seleccionados: {n_comp_A_U}\")\n",
    "print(f\"Varianza explicada con {n_comp_A_U} componentes: \"\n",
    "      f\"{cumulative_variance_ratio_A_U[n_comp_A_U-1]:.4f}\")\n",
    "\n",
    "# Display variance explained by each component\n",
    "print(\"\\nVarianza explicada por cada componente:\")\n",
    "for i, var in enumerate(pca_A_U.explained_variance_ratio_[:n_comp_A_U]):\n",
    "    print(f\"Componente {i+1}: {var:.4f} ({var*100:.2f}%)\")"
   ]
  },
  {
   "cell_type": "markdown",
   "metadata": {},
   "source": [
    "Finalmente los seleccionamos"
   ]
  },
  {
   "cell_type": "code",
   "execution_count": 38,
   "metadata": {},
   "outputs": [],
   "source": [
    "X_pca_A_U = X_pca_full_A_U[:, :n_comp_A_U]"
   ]
  },
  {
   "cell_type": "markdown",
   "metadata": {
    "jp-MarkdownHeadingCollapsed": true
   },
   "source": [
    "#### - Caso 4: Estandarización de las features numericas y undersampling"
   ]
  },
  {
   "cell_type": "markdown",
   "metadata": {},
   "source": [
    "Estandarizamos para todas las características."
   ]
  },
  {
   "cell_type": "code",
   "execution_count": 39,
   "metadata": {},
   "outputs": [],
   "source": [
    "prep_N_U = ColumnTransformer([\n",
    "    ('numericas', StandardScaler(), numeric_vars)\n",
    "], remainder='passthrough').fit(X_train) \n",
    "\n",
    "X_scaled_N_U = prep_N_U.transform(X_train) "
   ]
  },
  {
   "cell_type": "markdown",
   "metadata": {},
   "source": [
    "Se vuelve a realizar el balanceo en dos pasos."
   ]
  },
  {
   "cell_type": "code",
   "execution_count": 40,
   "metadata": {},
   "outputs": [],
   "source": [
    "unsamp_N_U = RandomUnderSampler(sampling_strategy=0.8, random_state=seed)\n",
    "X_resampled_N_U, y_resampled_N_U = unsamp_N_U.fit_resample(X_scaled_N_U, y_train)"
   ]
  },
  {
   "cell_type": "markdown",
   "metadata": {},
   "source": [
    "Se realiza la reducción de características mediante *PCA*."
   ]
  },
  {
   "cell_type": "code",
   "execution_count": 41,
   "metadata": {},
   "outputs": [],
   "source": [
    "pca_N_U= PCA()\n",
    "X_pca_full_N_OU = pca_N_U.fit_transform(X_resampled_N_U)"
   ]
  },
  {
   "cell_type": "markdown",
   "metadata": {},
   "source": [
    "Obtenemos sus componentes principales."
   ]
  },
  {
   "cell_type": "code",
   "execution_count": 42,
   "metadata": {},
   "outputs": [
    {
     "data": {
      "image/png": "[encoded data removed]",
      "text/plain": [
       "<Figure size 1000x600 with 1 Axes>"
      ]
     },
     "metadata": {},
     "output_type": "display_data"
    }
   ],
   "source": [
    "# Calculate cumulative explained variance ratio\n",
    "cumulative_variance_ratio_N_U = np.cumsum(pca_N_U.explained_variance_ratio_)\n",
    "\n",
    "# Plot explained variance ratio\n",
    "plt.figure(figsize=(10, 6))\n",
    "plt.plot(range(1, len(cumulative_variance_ratio_N_U) + 1), \n",
    "         cumulative_variance_ratio_N_U, 'bo-')\n",
    "plt.xlabel('Número de Componentes')\n",
    "plt.ylabel('Ratio de Varianza Explicada Acumulada')\n",
    "plt.title('Ratio Varianza Explicada vs. Número Componentes')\n",
    "plt.grid(True)\n",
    "\n",
    "# Add threshold line\n",
    "plt.axhline(y=0.95, color='r', linestyle='--', \n",
    "            label='Umbral del 95% de varianza')\n",
    "plt.legend()\n",
    "plt.show()"
   ]
  },
  {
   "cell_type": "code",
   "execution_count": 43,
   "metadata": {},
   "outputs": [
    {
     "name": "stdout",
     "output_type": "stream",
     "text": [
      "Número de componentes seleccionados: 11\n",
      "Varianza explicada con 11 componentes: 0.9537\n",
      "\n",
      "Varianza explicada por cada componente:\n",
      "Componente 1: 0.4825 (48.25%)\n",
      "Componente 2: 0.1437 (14.37%)\n",
      "Componente 3: 0.0799 (7.99%)\n",
      "Componente 4: 0.0717 (7.17%)\n",
      "Componente 5: 0.0396 (3.96%)\n",
      "Componente 6: 0.0366 (3.66%)\n",
      "Componente 7: 0.0356 (3.56%)\n",
      "Componente 8: 0.0281 (2.81%)\n",
      "Componente 9: 0.0134 (1.34%)\n",
      "Componente 10: 0.0124 (1.24%)\n",
      "Componente 11: 0.0101 (1.01%)\n"
     ]
    }
   ],
   "source": [
    "n_comp_N_U = np.argmax(cumulative_variance_ratio_N_U >= 0.95) + 1\n",
    "print(f\"Número de componentes seleccionados: {n_comp_N_U}\")\n",
    "print(f\"Varianza explicada con {n_comp_N_U} componentes: \"\n",
    "      f\"{cumulative_variance_ratio_N_U[n_comp_N_U-1]:.4f}\")\n",
    "\n",
    "# Display variance explained by each component\n",
    "print(\"\\nVarianza explicada por cada componente:\")\n",
    "for i, var in enumerate(pca_N_U.explained_variance_ratio_[:n_comp_N_U]):\n",
    "    print(f\"Componente {i+1}: {var:.4f} ({var*100:.2f}%)\")"
   ]
  },
  {
   "cell_type": "markdown",
   "metadata": {},
   "source": [
    "Finalmente los seleccionamos"
   ]
  },
  {
   "cell_type": "code",
   "execution_count": 44,
   "metadata": {},
   "outputs": [],
   "source": [
    "X_pca_N_U = X_pca_full_N_OU[:, :n_comp_N_U]"
   ]
  },
  {
   "cell_type": "markdown",
   "metadata": {
    "jp-MarkdownHeadingCollapsed": true
   },
   "source": [
    "#### - Caso 5: Estandarización de todas las features y under- y oversampling"
   ]
  },
  {
   "cell_type": "markdown",
   "metadata": {},
   "source": [
    "Estandarizamos para todas las características."
   ]
  },
  {
   "cell_type": "code",
   "execution_count": 45,
   "metadata": {},
   "outputs": [],
   "source": [
    "prep_A_OU = StandardScaler().fit(X_train)\n",
    "X_scaled_A_OU = prep_A_OU.transform(X_train)"
   ]
  },
  {
   "cell_type": "markdown",
   "metadata": {},
   "source": [
    "Esta vez, hacemos previamente un undersampling de los datos, buscando no ser tan agresivos al balancear el conjunto."
   ]
  },
  {
   "cell_type": "code",
   "execution_count": 46,
   "metadata": {},
   "outputs": [],
   "source": [
    "unsamp_A_OU = RandomUnderSampler(sampling_strategy=0.25, random_state=seed)\n",
    "X_undersampled_A_OU, y_undersampled_A_OU = unsamp_A_OU.fit_resample(X_scaled_A_OU, y_train)"
   ]
  },
  {
   "cell_type": "code",
   "execution_count": 47,
   "metadata": {},
   "outputs": [
    {
     "name": "stdout",
     "output_type": "stream",
     "text": [
      "1    80.0\n",
      "0    20.0\n",
      "Name: count, dtype: float64\n"
     ]
    }
   ],
   "source": [
    "# Calcular los conteos de valores\n",
    "counts = pd.Series(y_undersampled_A_OU).value_counts()\n",
    "\n",
    "# Calcular los porcentajes\n",
    "percentages = (counts / len(y_undersampled_A_OU)) * 100\n",
    "\n",
    "# Mostrar los resultados\n",
    "print(percentages)"
   ]
  },
  {
   "cell_type": "markdown",
   "metadata": {},
   "source": [
    "Después realizamos un SMOTE para obtener una proporción 65-35 (aproximadamente)."
   ]
  },
  {
   "cell_type": "code",
   "execution_count": 48,
   "metadata": {},
   "outputs": [],
   "source": [
    "ovsamp_A_OU = SMOTE(sampling_strategy=0.5, random_state=seed)\n",
    "X_resampled_A_OU, y_resampled_A_OU = ovsamp_A_OU.fit_resample(X_undersampled_A_OU, y_undersampled_A_OU)"
   ]
  },
  {
   "cell_type": "code",
   "execution_count": 49,
   "metadata": {},
   "outputs": [
    {
     "name": "stdout",
     "output_type": "stream",
     "text": [
      "1    66.666667\n",
      "0    33.333333\n",
      "Name: count, dtype: float64\n"
     ]
    }
   ],
   "source": [
    "# Calcular los conteos de valores\n",
    "counts = pd.Series(y_resampled_A_OU).value_counts()\n",
    "\n",
    "# Calcular los porcentajes\n",
    "percentages = (counts / len(y_resampled_A_OU)) * 100\n",
    "\n",
    "# Mostrar los resultados\n",
    "print(percentages)"
   ]
  },
  {
   "cell_type": "markdown",
   "metadata": {},
   "source": [
    "Se realiza la reducción de características mediante *PCA*."
   ]
  },
  {
   "cell_type": "code",
   "execution_count": 50,
   "metadata": {},
   "outputs": [],
   "source": [
    "pca_A_OU= PCA()\n",
    "X_pca_full_A_OU = pca_A_OU.fit_transform(X_resampled_A_OU)"
   ]
  },
  {
   "cell_type": "markdown",
   "metadata": {},
   "source": [
    "Obtenemos sus componentes principales."
   ]
  },
  {
   "cell_type": "code",
   "execution_count": 51,
   "metadata": {},
   "outputs": [
    {
     "data": {
      "image/png": "[encoded data removed]",
      "text/plain": [
       "<Figure size 1000x600 with 1 Axes>"
      ]
     },
     "metadata": {},
     "output_type": "display_data"
    }
   ],
   "source": [
    "# Calculate cumulative explained variance ratio\n",
    "cumulative_variance_ratio_A_OU = np.cumsum(pca_A_OU.explained_variance_ratio_)\n",
    "\n",
    "# Plot explained variance ratio\n",
    "plt.figure(figsize=(10, 6))\n",
    "plt.plot(range(1, len(cumulative_variance_ratio_A_OU) + 1), \n",
    "         cumulative_variance_ratio_A_OU, 'bo-')\n",
    "plt.xlabel('Número de Componentes')\n",
    "plt.ylabel('Ratio de Varianza Explicada Acumulada')\n",
    "plt.title('Ratio Varianza Explicada vs. Número Componentes')\n",
    "plt.grid(True)\n",
    "\n",
    "# Add threshold line\n",
    "plt.axhline(y=0.95, color='r', linestyle='--', \n",
    "            label='Umbral del 95% de varianza')\n",
    "plt.legend()\n",
    "plt.show()"
   ]
  },
  {
   "cell_type": "code",
   "execution_count": 52,
   "metadata": {},
   "outputs": [
    {
     "name": "stdout",
     "output_type": "stream",
     "text": [
      "Número de componentes seleccionados: 17\n",
      "Varianza explicada con 17 componentes: 0.9610\n",
      "\n",
      "Varianza explicada por cada componente:\n",
      "Componente 1: 0.1590 (15.90%)\n",
      "Componente 2: 0.1159 (11.59%)\n",
      "Componente 3: 0.0852 (8.52%)\n",
      "Componente 4: 0.0747 (7.47%)\n",
      "Componente 5: 0.0711 (7.11%)\n",
      "Componente 6: 0.0620 (6.20%)\n",
      "Componente 7: 0.0550 (5.50%)\n",
      "Componente 8: 0.0500 (5.00%)\n",
      "Componente 9: 0.0486 (4.86%)\n",
      "Componente 10: 0.0431 (4.31%)\n",
      "Componente 11: 0.0399 (3.99%)\n",
      "Componente 12: 0.0335 (3.35%)\n",
      "Componente 13: 0.0307 (3.07%)\n",
      "Componente 14: 0.0285 (2.85%)\n",
      "Componente 15: 0.0257 (2.57%)\n",
      "Componente 16: 0.0211 (2.11%)\n",
      "Componente 17: 0.0170 (1.70%)\n"
     ]
    }
   ],
   "source": [
    "n_comp_A_OU = np.argmax(cumulative_variance_ratio_A_OU >= 0.95) + 1\n",
    "print(f\"Número de componentes seleccionados: {n_comp_A_OU}\")\n",
    "print(f\"Varianza explicada con {n_comp_A_OU} componentes: \"\n",
    "      f\"{cumulative_variance_ratio_A_OU[n_comp_A_OU-1]:.4f}\")\n",
    "\n",
    "# Display variance explained by each component\n",
    "print(\"\\nVarianza explicada por cada componente:\")\n",
    "for i, var in enumerate(pca_A_OU.explained_variance_ratio_[:n_comp_A_OU]):\n",
    "    print(f\"Componente {i+1}: {var:.4f} ({var*100:.2f}%)\")"
   ]
  },
  {
   "cell_type": "markdown",
   "metadata": {},
   "source": [
    "Finalmente los seleccionamos"
   ]
  },
  {
   "cell_type": "code",
   "execution_count": 53,
   "metadata": {},
   "outputs": [],
   "source": [
    "X_pca_A_OU = X_pca_full_A_OU[:, :n_comp_A_OU]"
   ]
  },
  {
   "cell_type": "markdown",
   "metadata": {
    "jp-MarkdownHeadingCollapsed": true
   },
   "source": [
    "#### - Caso 6: Estandarización de las features numericas y under- y oversampling"
   ]
  },
  {
   "cell_type": "markdown",
   "metadata": {},
   "source": [
    "Estandarizamos para todas las características."
   ]
  },
  {
   "cell_type": "code",
   "execution_count": 54,
   "metadata": {},
   "outputs": [],
   "source": [
    "prep_N_OU = ColumnTransformer([\n",
    "    ('numericas', StandardScaler(), numeric_vars)\n",
    "], remainder='passthrough').fit(X_train) \n",
    "\n",
    "X_scaled_N_OU = prep_N_OU.transform(X_train) "
   ]
  },
  {
   "cell_type": "markdown",
   "metadata": {},
   "source": [
    "Se vuelve a realizar el balanceo en dos pasos."
   ]
  },
  {
   "cell_type": "code",
   "execution_count": 55,
   "metadata": {},
   "outputs": [],
   "source": [
    "unsamp_N_OU = RandomUnderSampler(sampling_strategy=0.25, random_state=seed)\n",
    "X_undersampled_N_OU, y_undersampled_N_OU = unsamp_N_OU.fit_resample(X_scaled_N_OU, y_train)\n",
    "\n",
    "ovsamp_N_OU = SMOTE(sampling_strategy=0.5, random_state=seed)\n",
    "X_resampled_N_OU, y_resampled_N_OU = ovsamp_N_OU.fit_resample(X_undersampled_N_OU, y_undersampled_N_OU)"
   ]
  },
  {
   "cell_type": "markdown",
   "metadata": {},
   "source": [
    "Se realiza la reducción de características mediante *PCA*."
   ]
  },
  {
   "cell_type": "code",
   "execution_count": 56,
   "metadata": {},
   "outputs": [],
   "source": [
    "pca_N_OU= PCA()\n",
    "X_pca_full_N_OU = pca_N_OU.fit_transform(X_resampled_N_OU)"
   ]
  },
  {
   "cell_type": "markdown",
   "metadata": {},
   "source": [
    "Obtenemos sus componentes principales."
   ]
  },
  {
   "cell_type": "code",
   "execution_count": 57,
   "metadata": {},
   "outputs": [
    {
     "data": {
      "image/png": "[encoded data removed]",
      "text/plain": [
       "<Figure size 1000x600 with 1 Axes>"
      ]
     },
     "metadata": {},
     "output_type": "display_data"
    }
   ],
   "source": [
    "# Calculate cumulative explained variance ratio\n",
    "cumulative_variance_ratio_N_OU = np.cumsum(pca_N_OU.explained_variance_ratio_)\n",
    "\n",
    "# Plot explained variance ratio\n",
    "plt.figure(figsize=(10, 6))\n",
    "plt.plot(range(1, len(cumulative_variance_ratio_N_OU) + 1), \n",
    "         cumulative_variance_ratio_N_OU, 'bo-')\n",
    "plt.xlabel('Número de Componentes')\n",
    "plt.ylabel('Ratio de Varianza Explicada Acumulada')\n",
    "plt.title('Ratio Varianza Explicada vs. Número Componentes')\n",
    "plt.grid(True)\n",
    "\n",
    "# Add threshold line\n",
    "plt.axhline(y=0.95, color='r', linestyle='--', \n",
    "            label='Umbral del 95% de varianza')\n",
    "plt.legend()\n",
    "plt.show()"
   ]
  },
  {
   "cell_type": "code",
   "execution_count": 58,
   "metadata": {},
   "outputs": [
    {
     "name": "stdout",
     "output_type": "stream",
     "text": [
      "Número de componentes seleccionados: 11\n",
      "Varianza explicada con 11 componentes: 0.9519\n",
      "\n",
      "Varianza explicada por cada componente:\n",
      "Componente 1: 0.4467 (44.67%)\n",
      "Componente 2: 0.1439 (14.39%)\n",
      "Componente 3: 0.0800 (8.00%)\n",
      "Componente 4: 0.0719 (7.19%)\n",
      "Componente 5: 0.0667 (6.67%)\n",
      "Componente 6: 0.0373 (3.73%)\n",
      "Componente 7: 0.0352 (3.52%)\n",
      "Componente 8: 0.0334 (3.34%)\n",
      "Componente 9: 0.0134 (1.34%)\n",
      "Componente 10: 0.0121 (1.21%)\n",
      "Componente 11: 0.0115 (1.15%)\n"
     ]
    }
   ],
   "source": [
    "n_comp_N_OU = np.argmax(cumulative_variance_ratio_N_OU >= 0.95) + 1\n",
    "print(f\"Número de componentes seleccionados: {n_comp_N_OU}\")\n",
    "print(f\"Varianza explicada con {n_comp_N_OU} componentes: \"\n",
    "      f\"{cumulative_variance_ratio_N_OU[n_comp_N_OU-1]:.4f}\")\n",
    "\n",
    "# Display variance explained by each component\n",
    "print(\"\\nVarianza explicada por cada componente:\")\n",
    "for i, var in enumerate(pca_N_OU.explained_variance_ratio_[:n_comp_N_OU]):\n",
    "    print(f\"Componente {i+1}: {var:.4f} ({var*100:.2f}%)\")"
   ]
  },
  {
   "cell_type": "markdown",
   "metadata": {},
   "source": [
    "Finalmente los seleccionamos"
   ]
  },
  {
   "cell_type": "code",
   "execution_count": 59,
   "metadata": {},
   "outputs": [],
   "source": [
    "X_pca_N_OU = X_pca_full_N_OU[:, :n_comp_N_OU]"
   ]
  },
  {
   "cell_type": "markdown",
   "metadata": {
    "jp-MarkdownHeadingCollapsed": true
   },
   "source": [
    "#### - Evaluación y conclusiones"
   ]
  },
  {
   "cell_type": "markdown",
   "metadata": {},
   "source": [
    "Como se ha mencionado en la introducción de este apartado, se ha escogido Random Forest para esta evaluación al tratarse del mejor modelo del notebook anterior, tanto por F1-score como por ROC-AUX score."
   ]
  },
  {
   "cell_type": "code",
   "execution_count": 60,
   "metadata": {},
   "outputs": [],
   "source": [
    "model_sel = KNeighborsClassifier(n_neighbors=5, weights='distance', algorithm='auto')"
   ]
  },
  {
   "cell_type": "markdown",
   "metadata": {},
   "source": [
    "Se ha evaluado la score media mediante un cross validation 5-fold."
   ]
  },
  {
   "cell_type": "code",
   "execution_count": 61,
   "metadata": {},
   "outputs": [],
   "source": [
    "# Caso 1: Estandarización a todas y solo Oversampling\n",
    "#cv_A_O = KFold(5, shuffle=True, random_state=seed)\n",
    "#scores_A_O = cross_val_score(model_sel, X_pca_A_O, y_resampled_A_O, cv=cv_A_O)\n",
    "#print(\"Caso 1:\",mean_score(scores_A_O))\n",
    "\n",
    "# Caso 2: Estandarización a las numericas y solo Oversampling\n",
    "#cv_N_O = KFold(5, shuffle=True, random_state=seed)\n",
    "#scores_N_O = cross_val_score(model_sel, X_pca_N_O, y_resampled_N_O, cv=cv_N_O)\n",
    "#print(\"Caso 2:\",mean_score(scores_N_O))\n",
    "\n",
    "# Caso 3: Estandarización a todas y tanto under como oversampling\n",
    "#cv_A_U = KFold(5, shuffle=True, random_state=seed)\n",
    "#scores_A_U = cross_val_score(model_sel, X_pca_A_U, y_resampled_A_U, cv=cv_A_U)\n",
    "#print(\"Caso 3:\",mean_score(scores_A_U))\n",
    "\n",
    "# Caso 4: Estandarización a las numericas y tanto under como oversampling\n",
    "#cv_N_U = KFold(5, shuffle=True, random_state=seed)\n",
    "#scores_N_U = cross_val_score(model_sel, X_pca_N_U, y_resampled_N_U, cv=cv_N_U)\n",
    "#print(\"Caso 4:\",mean_score(scores_N_U))\n",
    "\n",
    "# Caso 5: Estandarización a todas y tanto under como oversampling\n",
    "#cv_A_OU = KFold(5, shuffle=True, random_state=seed)\n",
    "#scores_A_OU = cross_val_score(model_sel, X_pca_A_OU, y_resampled_A_OU, cv=cv_A_OU)\n",
    "#print(\"Caso 5:\",mean_score(scores_A_OU))\n",
    "\n",
    "# Caso 6: Estandarización a las numericas y tanto under como oversampling\n",
    "#cv_N_OU = KFold(5, shuffle=True, random_state=seed)\n",
    "#scores_N_OU = cross_val_score(model_sel, X_pca_N_OU, y_resampled_N_OU, cv=cv_N_OU)\n",
    "#print(\"Caso 6:\",mean_score(scores_N_OU))"
   ]
  },
  {
   "cell_type": "markdown",
   "metadata": {},
   "source": [
    "Se ha decidido seguir con todos los casos en siguientes apartados, el motivo principal es que tras ejecutar pruebas con los modelos en el siguiente apartado nos dimos cuenta de que las score obtenidas estaban falseadas, ya que lo que peor hace el modelo es predecir los 0s. Como en este apartado se ha realizado un *SMOTE* para balancear el conjunto de datos (excepto el caso 3 y 4), todos los valores sinteticos de 0s serán muy similares y los predice mejor de lo que realmente lo hace en el siguiente apartado. Además, como ya sabiamos, el score no es la mejor forma de evaluar el modelo al estar desbalanceado, es más importante la matriz de confusión para observar el F1-score obtenidos en los 0s."
   ]
  },
  {
   "cell_type": "markdown",
   "metadata": {
    "jp-MarkdownHeadingCollapsed": true
   },
   "source": [
    "### 3.6.3 Optimización del preprocesado"
   ]
  },
  {
   "cell_type": "markdown",
   "metadata": {},
   "source": [
    "Debido a que no se ha escogido entre ninguno de los seis casos, se ha utilizado este apartado para comprender el funcionamiento de los diferentes preprocesados utilizados para posteriormente intentar optimizar sus hiperparámetros para el modelo final. Por ello, en este apartado se uso como base el caso 5, ya que realiza los cuatro preprocesados utilizados (estandarización, undersampling, oversampling y *PCA*). En cuanto a la estandarización no se observó ningún hiperparámetro interesante para su optimización.\n",
    "\n",
    "Respecto al undersampling, el único hiperparametro interesante de optimizar el la estrategia de muestreo. Esta se representa mediante un *float*, la cual hace referencia a la proporción deseada entre la clase minoritaria respecto a la mayoritaria. Los valores obtenidos fueron:\n",
    "* sampling_strategy = 0.25 -> score = 0.810\n",
    "* sampling_strategy = 0.35 -> score = 0.770\n",
    "* sampling_strategy = 0.45 -> score = 0.735\n",
    "\n",
    "No se podían probar más valores ya que un número menor de *sampling_strategy* daba error al implicar que debería reducir también muestras de la clase minoritaria y también un número mayor implicaria reducir muestras pero en el oversampling posterior (al estar fijado el *SMOTE* a 0.5). Aun así se puede determinar que a menor *sampling_strategy* mayor es el score. Cabe recalcar que este resultado es engañoso, ya que realmente lo que ocurre es que al aumentarlo se reduce el número de 1s, es decir, se entrena el modelo con menos datos (más especificamente de 1s). Esto hace que la predicción general baje pero puede estar detectando mejor los 0s al ser una proporción más balanceada.\n",
    "\n",
    "Respecto al oversampling, los hiperparametros ha optimizar fueon tanto el *sampling_strategy* como el *k_neighbors*. Al pertenecer a la misma librería, el significado de *sampling_strategy* es el mismo que para undersampling. Con el hiperparámetro *k_neighbors* lo que significa es que internamente *SMOTE* utiliza un modelo KNN para realizar el sintetizado de los datos, es decir, que variar su valor significará variar el número de vecinos con el que balancea los datos. Los valores obtenidos para *sampling_strategy* fueron:\n",
    "* sampling_strategy = 0.5 -> score = 0.810\n",
    "* sampling_strategy = 0.7 -> score = 0.829\n",
    "* sampling_strategy = 0.9 -> score = 0.846\n",
    "\n",
    "Como suponiamos a mayor *sampling_strategy* mayor score, pero esto se debe a estar evaluandose con un k-fold y por lo tanto provocar que sea más fácil identificar los 0s falsamente. Este valor será interesante ver que provocá en la matriz de confusión y como afecta a la excactitud en el siguiente apartado donde el test no se ha preproceado con el *SMOTE*.\n",
    "\n",
    "Los valores obtenidos con *k_neighbors* fueron:\n",
    "* k_neighbors = 2 -> score = 0.821\n",
    "* k_neighbors = 5 -> score = 0.810\n",
    "* k_neighbors = 0.9 -> score = 0.797\n",
    "\n",
    "Por lo tanto a menor número de vecinos, mayor es la score. Aun así esto vuelve a ser engañoso porque al evaluarlo con un k-fold es normal que esto ocurrá, porque hace que los datos con *Accept* igual a 0 sean más similares y con ello más facil de predecir entre sí. Por consiguiente, este hiperparámetro será interesante evaluarlo también en el siguiente apartado, para ver como afecta a la matriz de confusión y a la exactitud, ya que puede ser interesante inntroducir más ruido para ver si predice mejor los 0s no conocidos.\n",
    "\n",
    "Respecto a la *PCA*, se probó a modificar el umbral del ratio de varianza explicada acumulada. Como es lógico a menor umbral, menor será la información para el entrenamiento (menos componentes de la *PCA*, menor reducción de dimensionalidad) y por lo tanto menor será el score obtenido. Se obtuvo:\n",
    "* threshold = 85% -> score = 0.804.\n",
    "* threshold = 90% -> score = 0.810.\n",
    "* threshold = 95% -> score = 0.810.\n",
    "* threshold = 99% -> score = 0.813.\n",
    "\n",
    "Se observa que, a mayor umbral, mayor es el score (ya que utiliza más componentes y por lo tanto más información). Aun así dicho aumento no es significativo. En contra parte, la perdida de score entre el 85% y el 95% tampoco es significativa, a sabiendas de que si estamos generalizando más el modelo (al reducir más la dimensionalidad) y por lo tanto reduciendo su complejidad."
   ]
  },
  {
   "cell_type": "markdown",
   "metadata": {},
   "source": [
    "## 3.7 Modelos seleccionados"
   ]
  },
  {
   "cell_type": "markdown",
   "metadata": {
    "jp-MarkdownHeadingCollapsed": true
   },
   "source": [
    "### 3.7.1 Introducción"
   ]
  },
  {
   "cell_type": "markdown",
   "metadata": {},
   "source": [
    "En el anterior notebook se evaluaron 10 modelos tanto por F1 score como por ROC-AUC score. Los resultados de mayor a menor de los modelos respecto a la F1-Score fueron los siguientes:\n",
    "* Random Forest: 0.867449\n",
    "* MLP: 0.811513\n",
    "* DecisionTree: 0.790538\n",
    "* KNN: 0.767966\n",
    "* LinearSVC: 0.664541\n",
    "* LogReg: 0.663316\n",
    "* SVC_sigmoid: 0.617281\n",
    "* GaussianNB: 0.568654\n",
    "* SVC_poly: 0.526099\n",
    "* SVC_rbf: 0.411304\n",
    "\n",
    "En cambio, los resultados de mayor a menor de los modelos respecto a la ROC-AUC Score fueron los siguientes:\n",
    "* Random Forest: 0.934825\n",
    "* MLP: 0.884770\n",
    "* KNN: 0.874725\n",
    "* DecisionTree: 0.795805\n",
    "* LinearSVC: 0.715244\n",
    "* LogReg: 0.715162\n",
    "* GaussianNB: 0.705878\n",
    "* SVC_rbf: 0.692410\n",
    "* SVC_poly: 0.658396\n",
    "* SVC_sigmoid: 0.556961"
   ]
  },
  {
   "cell_type": "markdown",
   "metadata": {},
   "source": [
    "Se decidió entrenar y optimizar los hiperparámetros de cuatro modelos. Los modelos escogidos fueron Random Forest, MLP, KNN y LinearSVC, es decir, los cuatro primeros tanto por F1-score como por ROC-AUC score (se ha excluido Decision Tree por ya estar probando un clasificador basado en árbol de decisión, y en un principio mejor)."
   ]
  },
  {
   "cell_type": "markdown",
   "metadata": {
    "jp-MarkdownHeadingCollapsed": true
   },
   "source": [
    "### 3.7.2 Selección del conjunto de entrenamiento preprocesado"
   ]
  },
  {
   "cell_type": "markdown",
   "metadata": {},
   "source": [
    "Seleccionamos uno de los conjuntos preproceados del anterior apartado, para ello se han colocado en un array todos los preprocesados para solo tener que modificar la variable *case*, la cual hace referencia a cada uno de los casos."
   ]
  },
  {
   "cell_type": "markdown",
   "metadata": {},
   "source": [
    "En la siguiente celda se crea tanto la variable case, como los distintos arrays de preprocesado."
   ]
  },
  {
   "cell_type": "code",
   "execution_count": 62,
   "metadata": {},
   "outputs": [],
   "source": [
    "# case - caso de preprocesado seleccionado, valores posibles: 1, 2, 3, 4, 5, 6\n",
    "case   = 4\n",
    "\n",
    "# X_prep = X_`preprocess - todos los conjuntos X preprocesados\n",
    "X_prep = [X_pca_A_O, X_pca_N_O, X_pca_A_U, X_pca_N_U, X_pca_A_OU, X_pca_N_OU]\n",
    "\n",
    "# y_prep = y_`preprocess - todos los conjuntos y preprocesados\n",
    "y_prep = [y_resampled_A_O, y_resampled_N_O, y_resampled_A_U, y_resampled_N_U, y_resampled_A_OU, y_resampled_N_OU]\n",
    "\n",
    "# prep = preprocess - todos los preprocesadores (StandardScaler a todo o focalizado mediante ColumnTransformer\n",
    "prep   = [prep_A_O, prep_N_O, prep_A_U, prep_N_U, prep_A_OU, prep_N_OU]\n",
    "\n",
    "# pca - todos los posibles pca\n",
    "pca    = [pca_A_O, pca_N_O, pca_A_U, pca_N_U, pca_A_OU, pca_N_OU]\n",
    "\n",
    "# n_comp = number_components - todos los posibles numeros de componentes de PCA\n",
    "n_comp = [n_comp_A_O, n_comp_N_O, n_comp_A_U, n_comp_N_U, n_comp_A_OU, n_comp_N_OU]"
   ]
  },
  {
   "cell_type": "markdown",
   "metadata": {},
   "source": [
    "Se selecciona el conjunto de X e y para el entrenamiento a partir de la variable case y de los arrray de preprocesado."
   ]
  },
  {
   "cell_type": "code",
   "execution_count": 63,
   "metadata": {},
   "outputs": [],
   "source": [
    "X_sel = X_prep[case-1]\n",
    "y_sel = y_prep[case-1]"
   ]
  },
  {
   "cell_type": "markdown",
   "metadata": {},
   "source": [
    "Al igual que se realizaron procesos de preprocesado al entrenamiento, hay que realizarlos al conjunto de test para obtener resultados coherentes. No es necesario realizar el undersampling ni el oversampling ya que eso eran tecnicás para balancear el entrenamiento. Solamente serán necesario realizar la misma estandarización de las características y aplicar la misma reducción de dimensionalidad."
   ]
  },
  {
   "cell_type": "code",
   "execution_count": 64,
   "metadata": {},
   "outputs": [],
   "source": [
    "X_test_scaled = prep[case-1].transform(X_test)\n",
    "X_test_pca_full = pca[case-1].transform(X_test_scaled)\n",
    "X_test_pca = X_test_pca_full[:, :n_comp[case-1]]"
   ]
  },
  {
   "cell_type": "markdown",
   "metadata": {},
   "source": [
    "### 3.7.3 Clasificador KNN"
   ]
  },
  {
   "cell_type": "markdown",
   "metadata": {
    "jp-MarkdownHeadingCollapsed": true
   },
   "source": [
    "#### - Definición"
   ]
  },
  {
   "cell_type": "markdown",
   "metadata": {},
   "source": [
    "Definimos el modelo son el *random_state* fijado y el *class_weigth* balanceado. También se escoje *n_jobs* con valor -1 para utilizar todos los procesadores."
   ]
  },
  {
   "cell_type": "code",
   "execution_count": 65,
   "metadata": {},
   "outputs": [],
   "source": [
    "model_KNN = KNeighborsClassifier(n_neighbors=5, weights='distance', algorithm='ball_tree')"
   ]
  },
  {
   "cell_type": "markdown",
   "metadata": {
    "jp-MarkdownHeadingCollapsed": true
   },
   "source": [
    "#### - Entrenamiento y evaluación"
   ]
  },
  {
   "cell_type": "markdown",
   "metadata": {},
   "source": [
    "Entrenamos el modelo y comprobamos su exactitud."
   ]
  },
  {
   "cell_type": "code",
   "execution_count": 66,
   "metadata": {},
   "outputs": [],
   "source": [
    "model_KNN.fit(X_sel, y_sel)\n",
    "\n",
    "predicted_KNN = model_KNN.predict(X_test_pca)\n",
    "expected_KNN = y_test"
   ]
  },
  {
   "cell_type": "code",
   "execution_count": 67,
   "metadata": {},
   "outputs": [
    {
     "data": {
      "text/plain": [
       "0.6841638981173865"
      ]
     },
     "execution_count": 67,
     "metadata": {},
     "output_type": "execute_result"
    }
   ],
   "source": [
    "metrics.accuracy_score(expected_KNN, predicted_KNN)"
   ]
  },
  {
   "cell_type": "markdown",
   "metadata": {
    "jp-MarkdownHeadingCollapsed": true
   },
   "source": [
    "#### - Null accuracy"
   ]
  },
  {
   "cell_type": "markdown",
   "metadata": {},
   "source": [
    "Ahora se va a evaluar si  el modelo siempre predice la clase más frecuente."
   ]
  },
  {
   "cell_type": "code",
   "execution_count": 68,
   "metadata": {},
   "outputs": [
    {
     "data": {
      "text/plain": [
       "1    3765\n",
       "0     750\n",
       "Name: count, dtype: int64"
      ]
     },
     "execution_count": 68,
     "metadata": {},
     "output_type": "execute_result"
    }
   ],
   "source": [
    "s_y_test = pd.Series(y_test)\n",
    "s_y_test.value_counts()"
   ]
  },
  {
   "cell_type": "code",
   "execution_count": 69,
   "metadata": {},
   "outputs": [
    {
     "data": {
      "text/plain": [
       "0.8338870431893688"
      ]
     },
     "execution_count": 69,
     "metadata": {},
     "output_type": "execute_result"
    }
   ],
   "source": [
    "y_test.mean()"
   ]
  },
  {
   "cell_type": "code",
   "execution_count": 70,
   "metadata": {},
   "outputs": [
    {
     "data": {
      "text/plain": [
       "0.1661129568106312"
      ]
     },
     "execution_count": 70,
     "metadata": {},
     "output_type": "execute_result"
    }
   ],
   "source": [
    "1 - y_test.mean() "
   ]
  },
  {
   "cell_type": "code",
   "execution_count": 71,
   "metadata": {},
   "outputs": [
    {
     "data": {
      "text/plain": [
       "0.8338870431893688"
      ]
     },
     "execution_count": 71,
     "metadata": {},
     "output_type": "execute_result"
    }
   ],
   "source": [
    "max(y_test.mean(), 1 - y_test.mean())"
   ]
  },
  {
   "cell_type": "code",
   "execution_count": 72,
   "metadata": {},
   "outputs": [
    {
     "data": {
      "text/plain": [
       "1    0.833887\n",
       "Name: count, dtype: float64"
      ]
     },
     "execution_count": 72,
     "metadata": {},
     "output_type": "execute_result"
    }
   ],
   "source": [
    "s_y_test.value_counts().head(1) / len(y_test)"
   ]
  },
  {
   "cell_type": "markdown",
   "metadata": {},
   "source": [
    "Nuestra exactitud es de 0.74, la cual es peor que la *null accuracy*, es decir, ahora mismo no tenemos un buen modelo ya que se predecirían un mayor número de resultados en el caso de siempre predecir la clase mayoritaria."
   ]
  },
  {
   "cell_type": "markdown",
   "metadata": {
    "jp-MarkdownHeadingCollapsed": true
   },
   "source": [
    "#### - Matriz de confusión y F-score"
   ]
  },
  {
   "cell_type": "markdown",
   "metadata": {},
   "source": [
    "Se muestra la matriz de confusión y el informe de clasificación."
   ]
  },
  {
   "cell_type": "code",
   "execution_count": 73,
   "metadata": {},
   "outputs": [
    {
     "name": "stdout",
     "output_type": "stream",
     "text": [
      "[[ 456  294]\n",
      " [1132 2633]]\n"
     ]
    }
   ],
   "source": [
    "print(metrics.confusion_matrix(expected_KNN, predicted_KNN))"
   ]
  },
  {
   "cell_type": "code",
   "execution_count": 74,
   "metadata": {},
   "outputs": [
    {
     "name": "stdout",
     "output_type": "stream",
     "text": [
      "              precision    recall  f1-score   support\n",
      "\n",
      "           0       0.29      0.61      0.39       750\n",
      "           1       0.90      0.70      0.79      3765\n",
      "\n",
      "    accuracy                           0.68      4515\n",
      "   macro avg       0.59      0.65      0.59      4515\n",
      "weighted avg       0.80      0.68      0.72      4515\n",
      "\n"
     ]
    }
   ],
   "source": [
    "print(classification_report(expected_KNN, predicted_KNN))"
   ]
  },
  {
   "cell_type": "markdown",
   "metadata": {},
   "source": [
    "Se observa lo que hemos estado comentando durante todo el documento, tenemos un f1-score del 0.89 para los 1s mientras que estamos obteniendo un 0.37 para los 0s"
   ]
  },
  {
   "cell_type": "markdown",
   "metadata": {
    "jp-MarkdownHeadingCollapsed": true
   },
   "source": [
    "#### - ROC y AUC"
   ]
  },
  {
   "cell_type": "markdown",
   "metadata": {},
   "source": [
    "Evaluamos la ROC-AUC score. Para ello representamos primero la curva de ROC."
   ]
  },
  {
   "cell_type": "code",
   "execution_count": 75,
   "metadata": {},
   "outputs": [
    {
     "data": {
      "image/png": "[encoded data removed]",
      "text/plain": [
       "<Figure size 640x480 with 1 Axes>"
      ]
     },
     "metadata": {},
     "output_type": "display_data"
    }
   ],
   "source": [
    "y_pred_prob_KNN = model_KNN.predict_proba(X_test_pca)[:,1]\n",
    "fpr, tpr, thresholds = roc_curve(y_test, y_pred_prob_KNN)\n",
    "plt.plot(fpr, tpr)\n",
    "plt.xlim([0.0, 1.0])\n",
    "plt.ylim([0.0, 1.0])\n",
    "plt.title('Curva ROC')\n",
    "plt.xlabel('Ratio de FP (1 - Recall)')\n",
    "plt.ylabel('Ratio TP (Sensitivity)')\n",
    "plt.grid(True)\n",
    "plt.show()"
   ]
  },
  {
   "cell_type": "markdown",
   "metadata": {},
   "source": [
    "Y mostramos sus thresholds."
   ]
  },
  {
   "cell_type": "code",
   "execution_count": 76,
   "metadata": {},
   "outputs": [
    {
     "data": {
      "text/plain": [
       "array([           inf, 1.00000000e+00, 9.87440328e-01, 9.84374106e-01,\n",
       "       9.83772720e-01, 9.83732401e-01, 9.72953194e-01, 9.72631454e-01,\n",
       "       9.70879075e-01, 9.70850595e-01, 9.52839797e-01, 9.51005333e-01,\n",
       "       9.38015808e-01, 9.37975989e-01, 9.35309697e-01, 9.33568424e-01,\n",
       "       9.17716341e-01, 9.17311967e-01, 9.08068617e-01, 9.07432069e-01,\n",
       "       9.05428068e-01, 9.04995902e-01, 8.99106294e-01, 8.98012788e-01,\n",
       "       8.97955240e-01, 8.97851515e-01, 8.81203908e-01, 8.80595860e-01,\n",
       "       8.77416987e-01, 8.75365997e-01, 8.74050340e-01, 8.73974268e-01,\n",
       "       8.70317829e-01, 8.69520978e-01, 8.68288537e-01, 8.68207519e-01,\n",
       "       8.66069845e-01, 8.65865164e-01, 8.62782496e-01, 8.62188340e-01,\n",
       "       8.58821982e-01, 8.58590714e-01, 8.55288291e-01, 8.53306610e-01,\n",
       "       8.51056416e-01, 8.50772950e-01, 8.49851018e-01, 8.48467083e-01,\n",
       "       8.44317694e-01, 8.43919985e-01, 8.41836541e-01, 8.41517764e-01,\n",
       "       8.37084733e-01, 8.37046052e-01, 8.36401804e-01, 8.36236370e-01,\n",
       "       8.35652863e-01, 8.35468149e-01, 8.32600993e-01, 8.32564172e-01,\n",
       "       8.31158482e-01, 8.30778571e-01, 8.30235947e-01, 8.29923111e-01,\n",
       "       8.29730525e-01, 8.29507990e-01, 8.27980809e-01, 8.27799519e-01,\n",
       "       8.27354540e-01, 8.27198023e-01, 8.26484537e-01, 8.26344767e-01,\n",
       "       8.22989540e-01, 8.22630354e-01, 8.20466955e-01, 8.20406585e-01,\n",
       "       8.19356708e-01, 8.19256520e-01, 8.18862680e-01, 8.18829281e-01,\n",
       "       8.18451302e-01, 8.18432243e-01, 8.16908850e-01, 8.16859746e-01,\n",
       "       8.16400754e-01, 8.16388351e-01, 8.16326207e-01, 8.16289925e-01,\n",
       "       8.15618310e-01, 8.15603505e-01, 8.15255715e-01, 8.15232038e-01,\n",
       "       8.15175296e-01, 8.15066488e-01, 8.14955886e-01, 8.14844683e-01,\n",
       "       8.14091879e-01, 8.14082574e-01, 8.10147999e-01, 8.10140326e-01,\n",
       "       8.09062632e-01, 8.09057046e-01, 8.08814805e-01, 8.08777412e-01,\n",
       "       8.08403383e-01, 8.08327861e-01, 8.08237625e-01, 8.08236376e-01,\n",
       "       8.07167565e-01, 8.07108296e-01, 8.06381274e-01, 8.06367189e-01,\n",
       "       8.06345858e-01, 8.06329573e-01, 8.05553232e-01, 8.05356381e-01,\n",
       "       8.05028745e-01, 8.05022230e-01, 8.04824721e-01, 8.04789468e-01,\n",
       "       8.03557969e-01, 8.03489064e-01, 8.03215001e-01, 8.03208180e-01,\n",
       "       8.02675634e-01, 8.02530657e-01, 8.00530287e-01, 8.00522046e-01,\n",
       "       7.99795609e-01, 7.99735276e-01, 7.99584276e-01, 7.99467823e-01,\n",
       "       7.98106522e-01, 7.98104173e-01, 7.96304213e-01, 7.96249672e-01,\n",
       "       7.95904624e-01, 7.95686746e-01, 7.94349859e-01, 7.94314966e-01,\n",
       "       7.92790159e-01, 7.92508755e-01, 7.91611116e-01, 7.91545616e-01,\n",
       "       7.91533868e-01, 7.91401447e-01, 7.90757713e-01, 7.90536568e-01,\n",
       "       7.89914042e-01, 7.89894436e-01, 7.88542215e-01, 7.88160536e-01,\n",
       "       7.87814631e-01, 7.87675605e-01, 7.85138820e-01, 7.84728358e-01,\n",
       "       7.84653925e-01, 7.84594027e-01, 7.83239047e-01, 7.82786630e-01,\n",
       "       7.82421028e-01, 7.82407816e-01, 7.81112901e-01, 7.80990146e-01,\n",
       "       7.78631171e-01, 7.78431410e-01, 7.77892432e-01, 7.77844173e-01,\n",
       "       7.74300216e-01, 7.74263493e-01, 7.74085586e-01, 7.72601151e-01,\n",
       "       7.71930584e-01, 7.71876510e-01, 7.69280460e-01, 7.69266798e-01,\n",
       "       7.69261716e-01, 7.69112648e-01, 7.66231704e-01, 7.66117868e-01,\n",
       "       7.64121212e-01, 7.63019619e-01, 7.60745814e-01, 7.60426682e-01,\n",
       "       7.51803594e-01, 7.51252446e-01, 7.49885421e-01, 7.49790159e-01,\n",
       "       7.48594148e-01, 7.48235860e-01, 7.47643297e-01, 7.47249371e-01,\n",
       "       7.39116422e-01, 7.38945455e-01, 7.36137479e-01, 7.35530966e-01,\n",
       "       7.32308637e-01, 7.32009641e-01, 7.25036289e-01, 7.24461605e-01,\n",
       "       7.23840573e-01, 7.23689462e-01, 7.15153926e-01, 7.13507200e-01,\n",
       "       7.11002459e-01, 7.10521823e-01, 7.09304485e-01, 7.08838105e-01,\n",
       "       7.03822707e-01, 7.03741501e-01, 6.99065449e-01, 6.98870531e-01,\n",
       "       6.96693128e-01, 6.94871303e-01, 6.92990599e-01, 6.91974185e-01,\n",
       "       6.85032382e-01, 6.83894436e-01, 6.82916320e-01, 6.82580148e-01,\n",
       "       6.80777421e-01, 6.80581559e-01, 6.77815945e-01, 6.77404712e-01,\n",
       "       6.74814574e-01, 6.74419917e-01, 6.71737744e-01, 6.71396428e-01,\n",
       "       6.71278658e-01, 6.71135857e-01, 6.65574111e-01, 6.64705808e-01,\n",
       "       6.63578258e-01, 6.63150237e-01, 6.59684358e-01, 6.59539013e-01,\n",
       "       6.58778831e-01, 6.58365167e-01, 6.56187836e-01, 6.55372547e-01,\n",
       "       6.54246808e-01, 6.54136214e-01, 6.54060811e-01, 6.54058369e-01,\n",
       "       6.49584907e-01, 6.49544438e-01, 6.48606880e-01, 6.47613000e-01,\n",
       "       6.46429804e-01, 6.44705353e-01, 6.44090648e-01, 6.43907985e-01,\n",
       "       6.43852482e-01, 6.43249531e-01, 6.43121285e-01, 6.42926250e-01,\n",
       "       6.41876539e-01, 6.41696811e-01, 6.41301283e-01, 6.41214180e-01,\n",
       "       6.40074203e-01, 6.39184302e-01, 6.38009297e-01, 6.37634906e-01,\n",
       "       6.36040792e-01, 6.35859514e-01, 6.35781041e-01, 6.35363904e-01,\n",
       "       6.35137797e-01, 6.34694887e-01, 6.32457118e-01, 6.32419712e-01,\n",
       "       6.30752236e-01, 6.30707531e-01, 6.30502364e-01, 6.29874521e-01,\n",
       "       6.28926381e-01, 6.28495482e-01, 6.26522321e-01, 6.26483282e-01,\n",
       "       6.22909695e-01, 6.22680121e-01, 6.20230345e-01, 6.20071778e-01,\n",
       "       6.18781991e-01, 6.18540954e-01, 6.17286017e-01, 6.17260769e-01,\n",
       "       6.16365927e-01, 6.16265858e-01, 6.15335817e-01, 6.15090125e-01,\n",
       "       6.13340227e-01, 6.13267962e-01, 6.12587909e-01, 6.12425844e-01,\n",
       "       6.10624754e-01, 6.10552488e-01, 6.09716715e-01, 6.09624000e-01,\n",
       "       6.09426711e-01, 6.09410378e-01, 6.09055389e-01, 6.09039394e-01,\n",
       "       6.07482723e-01, 6.07456095e-01, 6.04762653e-01, 6.04553472e-01,\n",
       "       6.04499122e-01, 6.04477659e-01, 6.03951621e-01, 6.03830893e-01,\n",
       "       6.03620529e-01, 6.03573503e-01, 6.02347296e-01, 6.02251748e-01,\n",
       "       6.00922227e-01, 6.00828069e-01, 6.00796815e-01, 6.00781049e-01,\n",
       "       6.00762001e-01, 6.00647500e-01, 6.00507336e-01, 6.00507173e-01,\n",
       "       5.99718664e-01, 5.99713734e-01, 5.99659675e-01, 5.99626564e-01,\n",
       "       5.97238543e-01, 5.97191536e-01, 5.96595827e-01, 5.96565318e-01,\n",
       "       5.96010260e-01, 5.95735140e-01, 5.95625261e-01, 5.95503769e-01,\n",
       "       5.95324298e-01, 5.95289201e-01, 5.95091916e-01, 5.95001438e-01,\n",
       "       5.94053970e-01, 5.93925109e-01, 5.92926662e-01, 5.92524085e-01,\n",
       "       5.92115393e-01, 5.91723269e-01, 5.91233635e-01, 5.91156864e-01,\n",
       "       5.89791603e-01, 5.89719162e-01, 5.89639277e-01, 5.89535672e-01,\n",
       "       5.89345621e-01, 5.89031903e-01, 5.88979899e-01, 5.88541119e-01,\n",
       "       5.86999716e-01, 5.86577392e-01, 5.86200210e-01, 5.86095554e-01,\n",
       "       5.85263870e-01, 5.84956855e-01, 5.83911146e-01, 5.83863504e-01,\n",
       "       5.82642674e-01, 5.82006228e-01, 5.80825205e-01, 5.80284850e-01,\n",
       "       5.77319735e-01, 5.77280579e-01, 5.77164967e-01, 5.76758183e-01,\n",
       "       5.76706740e-01, 5.76546239e-01, 5.74904620e-01, 5.74498823e-01,\n",
       "       5.72717669e-01, 5.72145037e-01, 5.71731127e-01, 5.71419774e-01,\n",
       "       5.71394137e-01, 5.71351972e-01, 5.70554397e-01, 5.70325941e-01,\n",
       "       5.67365075e-01, 5.67364471e-01, 5.66401703e-01, 5.65933031e-01,\n",
       "       5.65070370e-01, 5.64819383e-01, 5.63608998e-01, 5.63585663e-01,\n",
       "       5.59608663e-01, 5.59502546e-01, 5.59170741e-01, 5.58978339e-01,\n",
       "       5.58223533e-01, 5.57964748e-01, 5.56413146e-01, 5.56088757e-01,\n",
       "       5.51648690e-01, 5.50964316e-01, 5.49932230e-01, 5.49715499e-01,\n",
       "       5.47757038e-01, 5.47639423e-01, 5.46054429e-01, 5.45293534e-01,\n",
       "       5.42484734e-01, 5.42422104e-01, 5.37646514e-01, 5.37194287e-01,\n",
       "       5.33945641e-01, 5.33786775e-01, 5.32154263e-01, 5.31378929e-01,\n",
       "       5.30836376e-01, 5.29164027e-01, 5.25856810e-01, 5.25412579e-01,\n",
       "       5.22563317e-01, 5.22533412e-01, 5.20095268e-01, 5.19441814e-01,\n",
       "       5.15056735e-01, 5.12945138e-01, 5.10114367e-01, 5.08896561e-01,\n",
       "       5.06472599e-01, 5.06359562e-01, 5.06222017e-01, 5.04969641e-01,\n",
       "       5.00827898e-01, 5.00000000e-01, 4.94783717e-01, 4.94658653e-01,\n",
       "       4.93897970e-01, 4.93633666e-01, 4.93073472e-01, 4.92688680e-01,\n",
       "       4.92028493e-01, 4.90560527e-01, 4.85332323e-01, 4.84599747e-01,\n",
       "       4.83902123e-01, 4.83442414e-01, 4.82044925e-01, 4.80832890e-01,\n",
       "       4.79399744e-01, 4.79397601e-01, 4.75222878e-01, 4.75046821e-01,\n",
       "       4.69231253e-01, 4.69086021e-01, 4.68275939e-01, 4.68172241e-01,\n",
       "       4.64356611e-01, 4.64196760e-01, 4.57573729e-01, 4.56830501e-01,\n",
       "       4.55851244e-01, 4.54656075e-01, 4.54446470e-01, 4.53860547e-01,\n",
       "       4.50094711e-01, 4.49983414e-01, 4.48941585e-01, 4.48818124e-01,\n",
       "       4.48551042e-01, 4.48425075e-01, 4.48069363e-01, 4.47918320e-01,\n",
       "       4.46218500e-01, 4.45930313e-01, 4.45039225e-01, 4.44470504e-01,\n",
       "       4.44369572e-01, 4.44345701e-01, 4.43746395e-01, 4.43108498e-01,\n",
       "       4.41792217e-01, 4.41495012e-01, 4.40417530e-01, 4.39693982e-01,\n",
       "       4.37086932e-01, 4.37003998e-01, 4.36840276e-01, 4.36402803e-01,\n",
       "       4.33282792e-01, 4.32377972e-01, 4.29565222e-01, 4.29007946e-01,\n",
       "       4.27997207e-01, 4.27769735e-01, 4.26612626e-01, 4.26584104e-01,\n",
       "       4.25995952e-01, 4.25935673e-01, 4.24560099e-01, 4.24495007e-01,\n",
       "       4.24425870e-01, 4.24289245e-01, 4.24087988e-01, 4.23528131e-01,\n",
       "       4.22732631e-01, 4.22677135e-01, 4.22312214e-01, 4.21978823e-01,\n",
       "       4.21906683e-01, 4.21593065e-01, 4.21134440e-01, 4.20720853e-01,\n",
       "       4.19331271e-01, 4.19143987e-01, 4.18481422e-01, 4.18155961e-01,\n",
       "       4.17872098e-01, 4.17687018e-01, 4.17582416e-01, 4.17466890e-01,\n",
       "       4.16976962e-01, 4.16817104e-01, 4.16180044e-01, 4.15810250e-01,\n",
       "       4.15098059e-01, 4.14973166e-01, 4.13851595e-01, 4.13698822e-01,\n",
       "       4.12744204e-01, 4.11909466e-01, 4.09092933e-01, 4.08532934e-01,\n",
       "       4.08345811e-01, 4.08259008e-01, 4.07612618e-01, 4.07608194e-01,\n",
       "       4.07051530e-01, 4.07049305e-01, 4.06696278e-01, 4.06688383e-01,\n",
       "       4.05640288e-01, 4.05631077e-01, 4.05421901e-01, 4.05381573e-01,\n",
       "       4.04460742e-01, 4.03817390e-01, 4.03394592e-01, 4.03163630e-01,\n",
       "       4.02937972e-01, 4.02888469e-01, 4.02831856e-01, 4.02810093e-01,\n",
       "       4.02239674e-01, 4.02114325e-01, 4.01853327e-01, 4.01808905e-01,\n",
       "       4.00031972e-01, 4.00000000e-01, 3.99160361e-01, 3.98590971e-01,\n",
       "       3.97529851e-01, 3.97366468e-01, 3.97253452e-01, 3.97253067e-01,\n",
       "       3.97056160e-01, 3.97007858e-01, 3.96165175e-01, 3.96146075e-01,\n",
       "       3.95508194e-01, 3.94931492e-01, 3.92936286e-01, 3.92857859e-01,\n",
       "       3.92582360e-01, 3.92191498e-01, 3.91108089e-01, 3.90890328e-01,\n",
       "       3.90873224e-01, 3.90629860e-01, 3.90473539e-01, 3.89722516e-01,\n",
       "       3.87613777e-01, 3.87266953e-01, 3.85831628e-01, 3.85631647e-01,\n",
       "       3.84988683e-01, 3.84970657e-01, 3.83031028e-01, 3.82918910e-01,\n",
       "       3.82668920e-01, 3.82634199e-01, 3.79166167e-01, 3.78155326e-01,\n",
       "       3.77205453e-01, 3.77105392e-01, 3.76238805e-01, 3.75868282e-01,\n",
       "       3.75424505e-01, 3.75228787e-01, 3.75120746e-01, 3.75036258e-01,\n",
       "       3.73942443e-01, 3.73922196e-01, 3.69911221e-01, 3.69880528e-01,\n",
       "       3.69135072e-01, 3.68929524e-01, 3.68166097e-01, 3.67951786e-01,\n",
       "       3.67811610e-01, 3.67808524e-01, 3.66968028e-01, 3.66706052e-01,\n",
       "       3.65991170e-01, 3.65959008e-01, 3.65437070e-01, 3.65198474e-01,\n",
       "       3.64531568e-01, 3.64424557e-01, 3.63640809e-01, 3.63507493e-01,\n",
       "       3.62926463e-01, 3.62924565e-01, 3.62509416e-01, 3.62477624e-01,\n",
       "       3.62257110e-01, 3.61585351e-01, 3.57926792e-01, 3.57485535e-01,\n",
       "       3.57196041e-01, 3.56442789e-01, 3.56237009e-01, 3.55806895e-01,\n",
       "       3.51888421e-01, 3.51222135e-01, 3.50329968e-01, 3.49297401e-01,\n",
       "       3.48767707e-01, 3.48714919e-01, 3.47275159e-01, 3.46988980e-01,\n",
       "       3.46490249e-01, 3.45470647e-01, 3.44796093e-01, 3.42969835e-01,\n",
       "       3.41733729e-01, 3.41584812e-01, 3.39089727e-01, 3.39081322e-01,\n",
       "       3.36487481e-01, 3.35982477e-01, 3.34964241e-01, 3.34270678e-01,\n",
       "       3.33663962e-01, 3.33426265e-01, 3.31669337e-01, 3.31203071e-01,\n",
       "       3.29349318e-01, 3.28032968e-01, 3.27661233e-01, 3.27306456e-01,\n",
       "       3.25747262e-01, 3.25421252e-01, 3.25316430e-01, 3.25229208e-01,\n",
       "       3.21455198e-01, 3.20345518e-01, 3.14865967e-01, 3.12307125e-01,\n",
       "       3.08698751e-01, 3.06282553e-01, 3.04530635e-01, 3.02807393e-01,\n",
       "       3.01513306e-01, 3.00440050e-01, 2.97884023e-01, 2.97369895e-01,\n",
       "       2.96717619e-01, 2.94574717e-01, 2.94014753e-01, 2.92235194e-01,\n",
       "       2.88101999e-01, 2.86402882e-01, 2.83453703e-01, 2.82899538e-01,\n",
       "       2.77235803e-01, 2.76327094e-01, 2.73051063e-01, 2.70250234e-01,\n",
       "       2.69939650e-01, 2.69538836e-01, 2.66129633e-01, 2.65232317e-01,\n",
       "       2.64983903e-01, 2.64545587e-01, 2.62944513e-01, 2.62582738e-01,\n",
       "       2.57869084e-01, 2.57103744e-01, 2.56796633e-01, 2.55137959e-01,\n",
       "       2.53604803e-01, 2.51629333e-01, 2.50102543e-01, 2.49001533e-01,\n",
       "       2.45747569e-01, 2.44042720e-01, 2.39410897e-01, 2.38848153e-01,\n",
       "       2.36173924e-01, 2.36016626e-01, 2.32064644e-01, 2.31784346e-01,\n",
       "       2.27812120e-01, 2.27362052e-01, 2.27051716e-01, 2.26735550e-01,\n",
       "       2.25158390e-01, 2.25128318e-01, 2.24839651e-01, 2.24776947e-01,\n",
       "       2.24276256e-01, 2.24205522e-01, 2.21710618e-01, 2.21061520e-01,\n",
       "       2.20287486e-01, 2.20198841e-01, 2.19735768e-01, 2.19534752e-01,\n",
       "       2.16591745e-01, 2.16557621e-01, 2.15653493e-01, 2.15294108e-01,\n",
       "       2.14822940e-01, 2.14776865e-01, 2.14511463e-01, 2.14308979e-01,\n",
       "       2.12557108e-01, 2.12521001e-01, 2.12432205e-01, 2.12335487e-01,\n",
       "       2.12114849e-01, 2.11669935e-01, 2.10257318e-01, 2.09319101e-01,\n",
       "       2.08110295e-01, 2.08049794e-01, 2.07757919e-01, 2.07471609e-01,\n",
       "       2.06495670e-01, 2.05273644e-01, 2.04186336e-01, 2.04040019e-01,\n",
       "       2.03705362e-01, 2.02818513e-01, 2.02437059e-01, 2.02361322e-01,\n",
       "       2.01786968e-01, 2.01569524e-01, 2.01547691e-01, 2.00909483e-01,\n",
       "       2.00286380e-01, 2.00167926e-01, 1.99956788e-01, 1.99631050e-01,\n",
       "       1.99582593e-01, 1.98590559e-01, 1.98454585e-01, 1.97404349e-01,\n",
       "       1.97393916e-01, 1.97356066e-01, 1.97229770e-01, 1.97061482e-01,\n",
       "       1.96992409e-01, 1.96279503e-01, 1.96152551e-01, 1.95019050e-01,\n",
       "       1.94922060e-01, 1.93612570e-01, 1.93550953e-01, 1.93533406e-01,\n",
       "       1.93533035e-01, 1.93145610e-01, 1.92635931e-01, 1.92334072e-01,\n",
       "       1.92299539e-01, 1.91944152e-01, 1.91671175e-01, 1.91262289e-01,\n",
       "       1.91254383e-01, 1.90572703e-01, 1.90300536e-01, 1.89391661e-01,\n",
       "       1.89019077e-01, 1.88664960e-01, 1.88588691e-01, 1.87709663e-01,\n",
       "       1.87329424e-01, 1.86101934e-01, 1.85789727e-01, 1.85756672e-01,\n",
       "       1.85550998e-01, 1.85232466e-01, 1.85169835e-01, 1.84482472e-01,\n",
       "       1.84442341e-01, 1.83824273e-01, 1.83746573e-01, 1.83709426e-01,\n",
       "       1.81580184e-01, 1.81565707e-01, 1.81061915e-01, 1.80258203e-01,\n",
       "       1.79421613e-01, 1.78279283e-01, 1.77841814e-01, 1.76731090e-01,\n",
       "       1.76352204e-01, 1.75913229e-01, 1.75751051e-01, 1.73809416e-01,\n",
       "       1.73778532e-01, 1.73721004e-01, 1.73693013e-01, 1.72204440e-01,\n",
       "       1.71823848e-01, 1.70356017e-01, 1.70195282e-01, 1.69692252e-01,\n",
       "       1.69563742e-01, 1.68827513e-01, 1.68449201e-01, 1.66618840e-01,\n",
       "       1.65919335e-01, 1.65470472e-01, 1.64931538e-01, 1.64545485e-01,\n",
       "       1.64346290e-01, 1.62812721e-01, 1.62807715e-01, 1.62760080e-01,\n",
       "       1.62370359e-01, 1.61326365e-01, 1.60365599e-01, 1.60303027e-01,\n",
       "       1.60265269e-01, 1.59330993e-01, 1.59279623e-01, 1.57304987e-01,\n",
       "       1.57283773e-01, 1.54736774e-01, 1.52623024e-01, 1.51429214e-01,\n",
       "       1.50781773e-01, 1.49266591e-01, 1.48573366e-01, 1.48564101e-01,\n",
       "       1.48283774e-01, 1.48259921e-01, 1.46447515e-01, 1.46173813e-01,\n",
       "       1.44757537e-01, 1.44196492e-01, 1.44073528e-01, 1.41966101e-01,\n",
       "       1.41323093e-01, 1.41035253e-01, 1.41026116e-01, 1.38693596e-01,\n",
       "       1.37782986e-01, 1.35833996e-01, 1.35522122e-01, 1.33449041e-01,\n",
       "       1.33295085e-01, 1.31327867e-01, 1.30471837e-01, 1.29022136e-01,\n",
       "       1.28735605e-01, 1.27934989e-01, 1.25417062e-01, 1.23041882e-01,\n",
       "       1.21437154e-01, 1.19587453e-01, 1.17940942e-01, 1.17230706e-01,\n",
       "       1.14011673e-01, 1.12314812e-01, 1.08964218e-01, 1.08535298e-01,\n",
       "       1.08084133e-01, 1.05150726e-01, 1.04764543e-01, 1.03513663e-01,\n",
       "       1.03261073e-01, 1.02593658e-01, 1.02324518e-01, 1.00992388e-01,\n",
       "       1.00371453e-01, 9.30030712e-02, 9.29299993e-02, 8.80611561e-02,\n",
       "       8.70234519e-02, 8.62564891e-02, 8.59863807e-02, 8.55610288e-02,\n",
       "       8.51780673e-02, 8.29811746e-02, 8.10975852e-02, 7.76142914e-02,\n",
       "       7.63544084e-02, 7.58558347e-02, 7.43987478e-02, 7.37251463e-02,\n",
       "       7.15832893e-02, 7.13758119e-02, 7.03711138e-02, 7.00519298e-02,\n",
       "       6.96832786e-02, 6.93718943e-02, 6.83190892e-02, 6.72509013e-02,\n",
       "       6.55289923e-02, 6.51991147e-02, 6.44034281e-02, 6.36018135e-02,\n",
       "       6.34215005e-02, 6.25756224e-02, 6.08410243e-02, 5.89031810e-02,\n",
       "       5.86722395e-02, 5.45193845e-02, 5.14815904e-02, 4.39369134e-02,\n",
       "       4.37885975e-02, 3.94152306e-02, 3.84603500e-02, 3.36480843e-02,\n",
       "       3.15974612e-02, 2.37007707e-02, 1.53764959e-02, 1.49550652e-02,\n",
       "       1.37538054e-02, 1.29015306e-02, 1.25639600e-02, 1.05241240e-02,\n",
       "       1.04285165e-02, 9.00820652e-03, 7.92909544e-03, 7.29588262e-03,\n",
       "       5.13267961e-03, 4.69180401e-03, 6.81880077e-04, 0.00000000e+00])"
      ]
     },
     "execution_count": 76,
     "metadata": {},
     "output_type": "execute_result"
    }
   ],
   "source": [
    "thresholds"
   ]
  },
  {
   "cell_type": "markdown",
   "metadata": {},
   "source": [
    "Sorprendentemente, el modelo muestra un mejor rendimiento del esperado, aunque se aboserva la situación con los 0s al aumentar más rápido el eje *x* respecto al eje *y*."
   ]
  },
  {
   "cell_type": "markdown",
   "metadata": {},
   "source": [
    "La siguiente gráfica muestra las probabilidades de predicción en función de los umbrales."
   ]
  },
  {
   "cell_type": "code",
   "execution_count": 77,
   "metadata": {},
   "outputs": [
    {
     "data": {
      "text/plain": [
       "array([<Axes: title={'center': '0'}>, <Axes: title={'center': '1'}>],\n",
       "      dtype=object)"
      ]
     },
     "execution_count": 77,
     "metadata": {},
     "output_type": "execute_result"
    },
    {
     "data": {
      "image/png": "[encoded data removed]",
      "text/plain": [
       "<Figure size 640x480 with 2 Axes>"
      ]
     },
     "metadata": {},
     "output_type": "display_data"
    }
   ],
   "source": [
    "dprob = pd.DataFrame(data = {'probability':y_pred_prob_KNN, 'actual':y_test})\n",
    "dprob.probability.hist(by=dprob.actual, sharex=True, sharey=True)"
   ]
  },
  {
   "cell_type": "markdown",
   "metadata": {},
   "source": [
    "Se muestra que los mejores resultados para ambas clases se obtiene con el *threshold* igual a 0.75."
   ]
  },
  {
   "cell_type": "code",
   "execution_count": 95,
   "metadata": {},
   "outputs": [
    {
     "name": "stdout",
     "output_type": "stream",
     "text": [
      "Sensitivity: 0.6100929614873838\n",
      "Recall: 0.6933333333333334\n"
     ]
    }
   ],
   "source": [
    "best_thres = 0.60\n",
    "\n",
    "evaluate_threshold(best_thres)"
   ]
  },
  {
   "cell_type": "markdown",
   "metadata": {},
   "source": [
    "Con este valor se obtienen los siguientes resultados. Primero se recalculan las predicciones."
   ]
  },
  {
   "cell_type": "code",
   "execution_count": 79,
   "metadata": {},
   "outputs": [],
   "source": [
    "probs_KNN = model_KNN.predict_proba(X_test_pca)[:, 1]  \n",
    "pred_thres_KNN = (probs_KNN >= best_thres).astype(int) "
   ]
  },
  {
   "cell_type": "markdown",
   "metadata": {},
   "source": [
    "Se evalua la matriz de confusión."
   ]
  },
  {
   "cell_type": "code",
   "execution_count": 80,
   "metadata": {},
   "outputs": [
    {
     "name": "stdout",
     "output_type": "stream",
     "text": [
      "[[ 520  230]\n",
      " [1457 2308]]\n"
     ]
    }
   ],
   "source": [
    "print(metrics.confusion_matrix(expected_KNN, pred_thres_KNN))"
   ]
  },
  {
   "cell_type": "markdown",
   "metadata": {},
   "source": [
    "Y también se analiza el informe de la clasificación."
   ]
  },
  {
   "cell_type": "code",
   "execution_count": 81,
   "metadata": {},
   "outputs": [
    {
     "name": "stdout",
     "output_type": "stream",
     "text": [
      "              precision    recall  f1-score   support\n",
      "\n",
      "           0       0.26      0.69      0.38       750\n",
      "           1       0.91      0.61      0.73      3765\n",
      "\n",
      "    accuracy                           0.63      4515\n",
      "   macro avg       0.59      0.65      0.56      4515\n",
      "weighted avg       0.80      0.63      0.67      4515\n",
      "\n"
     ]
    }
   ],
   "source": [
    "print(classification_report(expected_KNN, pred_thres_KNN))"
   ]
  },
  {
   "cell_type": "markdown",
   "metadata": {},
   "source": [
    "Es decir, se obtiene una reducción significatica de la exactitud, a costa de mejorar la f1-score en los 0s."
   ]
  },
  {
   "cell_type": "markdown",
   "metadata": {},
   "source": [
    "Finalmente se calcula el valor de AUC."
   ]
  },
  {
   "cell_type": "code",
   "execution_count": 82,
   "metadata": {},
   "outputs": [
    {
     "name": "stdout",
     "output_type": "stream",
     "text": [
      "0.6531739707835326\n"
     ]
    }
   ],
   "source": [
    "print(roc_auc_score(expected_KNN, pred_thres_KNN))"
   ]
  },
  {
   "cell_type": "markdown",
   "metadata": {},
   "source": [
    "Se ha obtenido un valor entre 0.6 y 0.7, es decir, el modelo se considerá como pobre o *D*."
   ]
  },
  {
   "cell_type": "markdown",
   "metadata": {
    "jp-MarkdownHeadingCollapsed": true
   },
   "source": [
    "#### - Optimización"
   ]
  },
  {
   "cell_type": "markdown",
   "metadata": {},
   "source": [
    "Antes de nada, observamos cuales son los parámetros de nuestro modelo."
   ]
  },
  {
   "cell_type": "code",
   "execution_count": 185,
   "metadata": {},
   "outputs": [
    {
     "data": {
      "text/plain": [
       "{'algorithm': 'ball_tree',\n",
       " 'leaf_size': 30,\n",
       " 'metric': 'minkowski',\n",
       " 'metric_params': None,\n",
       " 'n_jobs': None,\n",
       " 'n_neighbors': 5,\n",
       " 'p': 2,\n",
       " 'weights': 'distance'}"
      ]
     },
     "execution_count": 185,
     "metadata": {},
     "output_type": "execute_result"
    }
   ],
   "source": [
    "model_KNN.get_params()"
   ]
  },
  {
   "cell_type": "markdown",
   "metadata": {},
   "source": [
    "También creemos que es interesante saber la profundidad media de nuestro modelo Random Forest, para así poder estimar mejor rango de valores en este apartado."
   ]
  },
  {
   "cell_type": "code",
   "execution_count": 186,
   "metadata": {},
   "outputs": [
    {
     "name": "stdout",
     "output_type": "stream",
     "text": [
      "Fitting 5 folds for each of 1280 candidates, totalling 6400 fits\n"
     ]
    },
    {
     "ename": "KeyboardInterrupt",
     "evalue": "",
     "output_type": "error",
     "traceback": [
      "\u001b[1;31m---------------------------------------------------------------------------\u001b[0m",
      "\u001b[1;31mKeyboardInterrupt\u001b[0m                         Traceback (most recent call last)",
      "Cell \u001b[1;32mIn[186], line 35\u001b[0m\n\u001b[0;32m     24\u001b[0m \u001b[38;5;66;03m# Aplicar GridSearchCV\u001b[39;00m\n\u001b[0;32m     25\u001b[0m grid_search_KNN \u001b[38;5;241m=\u001b[39m GridSearchCV(\n\u001b[0;32m     26\u001b[0m     KNeighborsClassifier(),\n\u001b[0;32m     27\u001b[0m     param_grid,\n\u001b[1;32m   (...)\u001b[0m\n\u001b[0;32m     32\u001b[0m     verbose\u001b[38;5;241m=\u001b[39m\u001b[38;5;241m1\u001b[39m\n\u001b[0;32m     33\u001b[0m )\n\u001b[1;32m---> 35\u001b[0m grid_search_KNN\u001b[38;5;241m.\u001b[39mfit(X_train, y_train)\n\u001b[0;32m     37\u001b[0m \u001b[38;5;66;03m# Mostrar los mejores parámetros encontrados\u001b[39;00m\n\u001b[0;32m     38\u001b[0m \u001b[38;5;28mprint\u001b[39m(\u001b[38;5;124m\"\u001b[39m\u001b[38;5;124mMejores parámetros encontrados:\u001b[39m\u001b[38;5;124m\"\u001b[39m, grid_search_KNN\u001b[38;5;241m.\u001b[39mbest_params_)\n",
      "File \u001b[1;32mc:\\Users\\david\\anaconda3\\Lib\\site-packages\\sklearn\\base.py:1473\u001b[0m, in \u001b[0;36m_fit_context.<locals>.decorator.<locals>.wrapper\u001b[1;34m(estimator, *args, **kwargs)\u001b[0m\n\u001b[0;32m   1466\u001b[0m     estimator\u001b[38;5;241m.\u001b[39m_validate_params()\n\u001b[0;32m   1468\u001b[0m \u001b[38;5;28;01mwith\u001b[39;00m config_context(\n\u001b[0;32m   1469\u001b[0m     skip_parameter_validation\u001b[38;5;241m=\u001b[39m(\n\u001b[0;32m   1470\u001b[0m         prefer_skip_nested_validation \u001b[38;5;129;01mor\u001b[39;00m global_skip_validation\n\u001b[0;32m   1471\u001b[0m     )\n\u001b[0;32m   1472\u001b[0m ):\n\u001b[1;32m-> 1473\u001b[0m     \u001b[38;5;28;01mreturn\u001b[39;00m fit_method(estimator, \u001b[38;5;241m*\u001b[39margs, \u001b[38;5;241m*\u001b[39m\u001b[38;5;241m*\u001b[39mkwargs)\n",
      "File \u001b[1;32mc:\\Users\\david\\anaconda3\\Lib\\site-packages\\sklearn\\model_selection\\_search.py:1018\u001b[0m, in \u001b[0;36mBaseSearchCV.fit\u001b[1;34m(self, X, y, **params)\u001b[0m\n\u001b[0;32m   1012\u001b[0m     results \u001b[38;5;241m=\u001b[39m \u001b[38;5;28mself\u001b[39m\u001b[38;5;241m.\u001b[39m_format_results(\n\u001b[0;32m   1013\u001b[0m         all_candidate_params, n_splits, all_out, all_more_results\n\u001b[0;32m   1014\u001b[0m     )\n\u001b[0;32m   1016\u001b[0m     \u001b[38;5;28;01mreturn\u001b[39;00m results\n\u001b[1;32m-> 1018\u001b[0m \u001b[38;5;28mself\u001b[39m\u001b[38;5;241m.\u001b[39m_run_search(evaluate_candidates)\n\u001b[0;32m   1020\u001b[0m \u001b[38;5;66;03m# multimetric is determined here because in the case of a callable\u001b[39;00m\n\u001b[0;32m   1021\u001b[0m \u001b[38;5;66;03m# self.scoring the return type is only known after calling\u001b[39;00m\n\u001b[0;32m   1022\u001b[0m first_test_score \u001b[38;5;241m=\u001b[39m all_out[\u001b[38;5;241m0\u001b[39m][\u001b[38;5;124m\"\u001b[39m\u001b[38;5;124mtest_scores\u001b[39m\u001b[38;5;124m\"\u001b[39m]\n",
      "File \u001b[1;32mc:\\Users\\david\\anaconda3\\Lib\\site-packages\\sklearn\\model_selection\\_search.py:1572\u001b[0m, in \u001b[0;36mGridSearchCV._run_search\u001b[1;34m(self, evaluate_candidates)\u001b[0m\n\u001b[0;32m   1570\u001b[0m \u001b[38;5;28;01mdef\u001b[39;00m \u001b[38;5;21m_run_search\u001b[39m(\u001b[38;5;28mself\u001b[39m, evaluate_candidates):\n\u001b[0;32m   1571\u001b[0m \u001b[38;5;250m    \u001b[39m\u001b[38;5;124;03m\"\"\"Search all candidates in param_grid\"\"\"\u001b[39;00m\n\u001b[1;32m-> 1572\u001b[0m     evaluate_candidates(ParameterGrid(\u001b[38;5;28mself\u001b[39m\u001b[38;5;241m.\u001b[39mparam_grid))\n",
      "File \u001b[1;32mc:\\Users\\david\\anaconda3\\Lib\\site-packages\\sklearn\\model_selection\\_search.py:964\u001b[0m, in \u001b[0;36mBaseSearchCV.fit.<locals>.evaluate_candidates\u001b[1;34m(candidate_params, cv, more_results)\u001b[0m\n\u001b[0;32m    956\u001b[0m \u001b[38;5;28;01mif\u001b[39;00m \u001b[38;5;28mself\u001b[39m\u001b[38;5;241m.\u001b[39mverbose \u001b[38;5;241m>\u001b[39m \u001b[38;5;241m0\u001b[39m:\n\u001b[0;32m    957\u001b[0m     \u001b[38;5;28mprint\u001b[39m(\n\u001b[0;32m    958\u001b[0m         \u001b[38;5;124m\"\u001b[39m\u001b[38;5;124mFitting \u001b[39m\u001b[38;5;132;01m{0}\u001b[39;00m\u001b[38;5;124m folds for each of \u001b[39m\u001b[38;5;132;01m{1}\u001b[39;00m\u001b[38;5;124m candidates,\u001b[39m\u001b[38;5;124m\"\u001b[39m\n\u001b[0;32m    959\u001b[0m         \u001b[38;5;124m\"\u001b[39m\u001b[38;5;124m totalling \u001b[39m\u001b[38;5;132;01m{2}\u001b[39;00m\u001b[38;5;124m fits\u001b[39m\u001b[38;5;124m\"\u001b[39m\u001b[38;5;241m.\u001b[39mformat(\n\u001b[0;32m    960\u001b[0m             n_splits, n_candidates, n_candidates \u001b[38;5;241m*\u001b[39m n_splits\n\u001b[0;32m    961\u001b[0m         )\n\u001b[0;32m    962\u001b[0m     )\n\u001b[1;32m--> 964\u001b[0m out \u001b[38;5;241m=\u001b[39m parallel(\n\u001b[0;32m    965\u001b[0m     delayed(_fit_and_score)(\n\u001b[0;32m    966\u001b[0m         clone(base_estimator),\n\u001b[0;32m    967\u001b[0m         X,\n\u001b[0;32m    968\u001b[0m         y,\n\u001b[0;32m    969\u001b[0m         train\u001b[38;5;241m=\u001b[39mtrain,\n\u001b[0;32m    970\u001b[0m         test\u001b[38;5;241m=\u001b[39mtest,\n\u001b[0;32m    971\u001b[0m         parameters\u001b[38;5;241m=\u001b[39mparameters,\n\u001b[0;32m    972\u001b[0m         split_progress\u001b[38;5;241m=\u001b[39m(split_idx, n_splits),\n\u001b[0;32m    973\u001b[0m         candidate_progress\u001b[38;5;241m=\u001b[39m(cand_idx, n_candidates),\n\u001b[0;32m    974\u001b[0m         \u001b[38;5;241m*\u001b[39m\u001b[38;5;241m*\u001b[39mfit_and_score_kwargs,\n\u001b[0;32m    975\u001b[0m     )\n\u001b[0;32m    976\u001b[0m     \u001b[38;5;28;01mfor\u001b[39;00m (cand_idx, parameters), (split_idx, (train, test)) \u001b[38;5;129;01min\u001b[39;00m product(\n\u001b[0;32m    977\u001b[0m         \u001b[38;5;28menumerate\u001b[39m(candidate_params),\n\u001b[0;32m    978\u001b[0m         \u001b[38;5;28menumerate\u001b[39m(cv\u001b[38;5;241m.\u001b[39msplit(X, y, \u001b[38;5;241m*\u001b[39m\u001b[38;5;241m*\u001b[39mrouted_params\u001b[38;5;241m.\u001b[39msplitter\u001b[38;5;241m.\u001b[39msplit)),\n\u001b[0;32m    979\u001b[0m     )\n\u001b[0;32m    980\u001b[0m )\n\u001b[0;32m    982\u001b[0m \u001b[38;5;28;01mif\u001b[39;00m \u001b[38;5;28mlen\u001b[39m(out) \u001b[38;5;241m<\u001b[39m \u001b[38;5;241m1\u001b[39m:\n\u001b[0;32m    983\u001b[0m     \u001b[38;5;28;01mraise\u001b[39;00m \u001b[38;5;167;01mValueError\u001b[39;00m(\n\u001b[0;32m    984\u001b[0m         \u001b[38;5;124m\"\u001b[39m\u001b[38;5;124mNo fits were performed. \u001b[39m\u001b[38;5;124m\"\u001b[39m\n\u001b[0;32m    985\u001b[0m         \u001b[38;5;124m\"\u001b[39m\u001b[38;5;124mWas the CV iterator empty? \u001b[39m\u001b[38;5;124m\"\u001b[39m\n\u001b[0;32m    986\u001b[0m         \u001b[38;5;124m\"\u001b[39m\u001b[38;5;124mWere there no candidates?\u001b[39m\u001b[38;5;124m\"\u001b[39m\n\u001b[0;32m    987\u001b[0m     )\n",
      "File \u001b[1;32mc:\\Users\\david\\anaconda3\\Lib\\site-packages\\sklearn\\utils\\parallel.py:74\u001b[0m, in \u001b[0;36mParallel.__call__\u001b[1;34m(self, iterable)\u001b[0m\n\u001b[0;32m     69\u001b[0m config \u001b[38;5;241m=\u001b[39m get_config()\n\u001b[0;32m     70\u001b[0m iterable_with_config \u001b[38;5;241m=\u001b[39m (\n\u001b[0;32m     71\u001b[0m     (_with_config(delayed_func, config), args, kwargs)\n\u001b[0;32m     72\u001b[0m     \u001b[38;5;28;01mfor\u001b[39;00m delayed_func, args, kwargs \u001b[38;5;129;01min\u001b[39;00m iterable\n\u001b[0;32m     73\u001b[0m )\n\u001b[1;32m---> 74\u001b[0m \u001b[38;5;28;01mreturn\u001b[39;00m \u001b[38;5;28msuper\u001b[39m()\u001b[38;5;241m.\u001b[39m\u001b[38;5;21m__call__\u001b[39m(iterable_with_config)\n",
      "File \u001b[1;32mc:\\Users\\david\\anaconda3\\Lib\\site-packages\\joblib\\parallel.py:2007\u001b[0m, in \u001b[0;36mParallel.__call__\u001b[1;34m(self, iterable)\u001b[0m\n\u001b[0;32m   2001\u001b[0m \u001b[38;5;66;03m# The first item from the output is blank, but it makes the interpreter\u001b[39;00m\n\u001b[0;32m   2002\u001b[0m \u001b[38;5;66;03m# progress until it enters the Try/Except block of the generator and\u001b[39;00m\n\u001b[0;32m   2003\u001b[0m \u001b[38;5;66;03m# reaches the first `yield` statement. This starts the asynchronous\u001b[39;00m\n\u001b[0;32m   2004\u001b[0m \u001b[38;5;66;03m# dispatch of the tasks to the workers.\u001b[39;00m\n\u001b[0;32m   2005\u001b[0m \u001b[38;5;28mnext\u001b[39m(output)\n\u001b[1;32m-> 2007\u001b[0m \u001b[38;5;28;01mreturn\u001b[39;00m output \u001b[38;5;28;01mif\u001b[39;00m \u001b[38;5;28mself\u001b[39m\u001b[38;5;241m.\u001b[39mreturn_generator \u001b[38;5;28;01melse\u001b[39;00m \u001b[38;5;28mlist\u001b[39m(output)\n",
      "File \u001b[1;32mc:\\Users\\david\\anaconda3\\Lib\\site-packages\\joblib\\parallel.py:1650\u001b[0m, in \u001b[0;36mParallel._get_outputs\u001b[1;34m(self, iterator, pre_dispatch)\u001b[0m\n\u001b[0;32m   1647\u001b[0m     \u001b[38;5;28;01myield\u001b[39;00m\n\u001b[0;32m   1649\u001b[0m     \u001b[38;5;28;01mwith\u001b[39;00m \u001b[38;5;28mself\u001b[39m\u001b[38;5;241m.\u001b[39m_backend\u001b[38;5;241m.\u001b[39mretrieval_context():\n\u001b[1;32m-> 1650\u001b[0m         \u001b[38;5;28;01myield from\u001b[39;00m \u001b[38;5;28mself\u001b[39m\u001b[38;5;241m.\u001b[39m_retrieve()\n\u001b[0;32m   1652\u001b[0m \u001b[38;5;28;01mexcept\u001b[39;00m \u001b[38;5;167;01mGeneratorExit\u001b[39;00m:\n\u001b[0;32m   1653\u001b[0m     \u001b[38;5;66;03m# The generator has been garbage collected before being fully\u001b[39;00m\n\u001b[0;32m   1654\u001b[0m     \u001b[38;5;66;03m# consumed. This aborts the remaining tasks if possible and warn\u001b[39;00m\n\u001b[0;32m   1655\u001b[0m     \u001b[38;5;66;03m# the user if necessary.\u001b[39;00m\n\u001b[0;32m   1656\u001b[0m     \u001b[38;5;28mself\u001b[39m\u001b[38;5;241m.\u001b[39m_exception \u001b[38;5;241m=\u001b[39m \u001b[38;5;28;01mTrue\u001b[39;00m\n",
      "File \u001b[1;32mc:\\Users\\david\\anaconda3\\Lib\\site-packages\\joblib\\parallel.py:1762\u001b[0m, in \u001b[0;36mParallel._retrieve\u001b[1;34m(self)\u001b[0m\n\u001b[0;32m   1757\u001b[0m \u001b[38;5;66;03m# If the next job is not ready for retrieval yet, we just wait for\u001b[39;00m\n\u001b[0;32m   1758\u001b[0m \u001b[38;5;66;03m# async callbacks to progress.\u001b[39;00m\n\u001b[0;32m   1759\u001b[0m \u001b[38;5;28;01mif\u001b[39;00m ((\u001b[38;5;28mlen\u001b[39m(\u001b[38;5;28mself\u001b[39m\u001b[38;5;241m.\u001b[39m_jobs) \u001b[38;5;241m==\u001b[39m \u001b[38;5;241m0\u001b[39m) \u001b[38;5;129;01mor\u001b[39;00m\n\u001b[0;32m   1760\u001b[0m     (\u001b[38;5;28mself\u001b[39m\u001b[38;5;241m.\u001b[39m_jobs[\u001b[38;5;241m0\u001b[39m]\u001b[38;5;241m.\u001b[39mget_status(\n\u001b[0;32m   1761\u001b[0m         timeout\u001b[38;5;241m=\u001b[39m\u001b[38;5;28mself\u001b[39m\u001b[38;5;241m.\u001b[39mtimeout) \u001b[38;5;241m==\u001b[39m TASK_PENDING)):\n\u001b[1;32m-> 1762\u001b[0m     time\u001b[38;5;241m.\u001b[39msleep(\u001b[38;5;241m0.01\u001b[39m)\n\u001b[0;32m   1763\u001b[0m     \u001b[38;5;28;01mcontinue\u001b[39;00m\n\u001b[0;32m   1765\u001b[0m \u001b[38;5;66;03m# We need to be careful: the job list can be filling up as\u001b[39;00m\n\u001b[0;32m   1766\u001b[0m \u001b[38;5;66;03m# we empty it and Python list are not thread-safe by\u001b[39;00m\n\u001b[0;32m   1767\u001b[0m \u001b[38;5;66;03m# default hence the use of the lock\u001b[39;00m\n",
      "\u001b[1;31mKeyboardInterrupt\u001b[0m: "
     ]
    }
   ],
   "source": [
    "from sklearn.model_selection import GridSearchCV\n",
    "from sklearn.neighbors import KNeighborsClassifier\n",
    "from sklearn.metrics import make_scorer, f1_score, accuracy_score, recall_score\n",
    "import pandas as pd\n",
    "import numpy as np\n",
    "\n",
    "# Definir los hiperparámetros a probar\n",
    "param_grid = {\n",
    "    'n_neighbors': [3, 5, 7, 9, 11],  # Valores de n_neighbors\n",
    "    'weights':  ['uniform', 'distance'],  # Pesos de vecinos\n",
    "    'algorithm': ['auto', 'ball_tree', 'kd_tree', 'brute'],  # Algoritmos de búsqueda\n",
    "    'p': [1, 2],  # Distancia Manhattan (1) o Euclidiana (2)\n",
    "    'leaf_size': [10, 20, 30, 40],  # Tamaño de hoja\n",
    "    'metric': ['minkowski', 'euclidean', 'manhattan', 'chebyshev']  # Métricas\n",
    "}\n",
    "\n",
    "# Definir los métodos de evaluación con average='weighted'\n",
    "scorers = {\n",
    "    'f1': make_scorer(f1_score, average='weighted'),\n",
    "    'accuracy': make_scorer(accuracy_score),\n",
    "    'recall': make_scorer(recall_score, average='weighted', zero_division=0)\n",
    "}\n",
    "\n",
    "# Aplicar GridSearchCV\n",
    "grid_search_KNN = GridSearchCV(\n",
    "    KNeighborsClassifier(),\n",
    "    param_grid,\n",
    "    cv=5,\n",
    "    n_jobs=-1,\n",
    "    scoring=scorers,\n",
    "    refit='f1',  # Refitar con la mejor métrica ('accuracy' en este caso)\n",
    "    verbose=1\n",
    ")\n",
    "\n",
    "grid_search_KNN.fit(X_train, y_train)\n",
    "\n",
    "# Mostrar los mejores parámetros encontrados\n",
    "print(\"Mejores parámetros encontrados:\", grid_search_KNN.best_params_)\n",
    "\n",
    "# Convertir los resultados en un DataFrame\n",
    "results = pd.DataFrame(grid_search_KNN.cv_results_)\n",
    "\n",
    "# Ordenar por cada métrica y mostrar los 5 mejores modelos\n",
    "for metric in ['mean_test_f1', 'mean_test_accuracy', 'mean_test_recall']:\n",
    "    print(f\"\\nTop 5 modelos según {metric}:\")\n",
    "    sorted_results = results.sort_values(by=metric, ascending=False)\n",
    "    \n",
    "    for mean_score, std_score, params in zip(\n",
    "        sorted_results[metric].head(5),\n",
    "        sorted_results[f\"std_test_{metric.split('_')[-1]}\"].head(5),\n",
    "        sorted_results[\"params\"].head(5)\n",
    "    ):\n",
    "        print(f\"{mean_score:.3f} (+/-{std_score * 2:.3f}) para {params}\")\n"
   ]
  },
  {
   "cell_type": "code",
   "execution_count": 186,
   "metadata": {},
   "outputs": [
    {
     "name": "stdout",
     "output_type": "stream",
     "text": [
      "[[  70  680]\n",
      " [ 108 3657]]\n",
      "              precision    recall  f1-score   support\n",
      "\n",
      "           0       0.39      0.09      0.15       750\n",
      "           1       0.84      0.97      0.90      3765\n",
      "\n",
      "    accuracy                           0.83      4515\n",
      "   macro avg       0.62      0.53      0.53      4515\n",
      "weighted avg       0.77      0.83      0.78      4515\n",
      "\n"
     ]
    }
   ],
   "source": [
    "model_KNN2 = KNeighborsClassifier(n_neighbors=7, leaf_size=10, metric= 'manhattan', p= 1, weights='uniform', algorithm='ball_tree')\n",
    "model_KNN2.fit(X_train, y_train)\n",
    "\n",
    "predicted_KNN2 = model_KNN2.predict(X_test)\n",
    "expected_KNN2 = y_test\n",
    "\n",
    "metrics.accuracy_score(expected_KNN2, predicted_KNN2)\n",
    "print(metrics.confusion_matrix(expected_KNN2, predicted_KNN2))\n",
    "print(classification_report(expected_KNN2, predicted_KNN2))"
   ]
  },
  {
   "cell_type": "code",
   "execution_count": null,
   "metadata": {},
   "outputs": [
    {
     "name": "stdout",
     "output_type": "stream",
     "text": [
      "Fitting 5 folds for each of 8640 candidates, totalling 43200 fits\n"
     ]
    },
    {
     "name": "stderr",
     "output_type": "stream",
     "text": [
      "c:\\Users\\david\\anaconda3\\Lib\\site-packages\\sklearn\\model_selection\\_validation.py:540: FitFailedWarning: \n",
      "3600 fits failed out of a total of 43200.\n",
      "The score on these train-test partitions for these parameters will be set to nan.\n",
      "If these failures are not expected, you can try to debug them by setting error_score='raise'.\n",
      "\n",
      "Below are more details about the failures:\n",
      "--------------------------------------------------------------------------------\n",
      "1800 fits failed with the following error:\n",
      "Traceback (most recent call last):\n",
      "  File \"c:\\Users\\david\\anaconda3\\Lib\\site-packages\\sklearn\\model_selection\\_validation.py\", line 888, in _fit_and_score\n",
      "    estimator.fit(X_train, y_train, **fit_params)\n",
      "  File \"c:\\Users\\david\\anaconda3\\Lib\\site-packages\\sklearn\\base.py\", line 1473, in wrapper\n",
      "    return fit_method(estimator, *args, **kwargs)\n",
      "           ^^^^^^^^^^^^^^^^^^^^^^^^^^^^^^^^^^^^^^\n",
      "  File \"c:\\Users\\david\\anaconda3\\Lib\\site-packages\\sklearn\\neighbors\\_classification.py\", line 238, in fit\n",
      "    return self._fit(X, y)\n",
      "           ^^^^^^^^^^^^^^^\n",
      "  File \"c:\\Users\\david\\anaconda3\\Lib\\site-packages\\sklearn\\neighbors\\_base.py\", line 519, in _fit\n",
      "    self._check_algorithm_metric()\n",
      "  File \"c:\\Users\\david\\anaconda3\\Lib\\site-packages\\sklearn\\neighbors\\_base.py\", line 453, in _check_algorithm_metric\n",
      "    raise ValueError(\n",
      "ValueError: Metric 'hamming' not valid. Use sorted(sklearn.neighbors.VALID_METRICS['kd_tree']) to get valid options. Metric can also be a callable function.\n",
      "\n",
      "--------------------------------------------------------------------------------\n",
      "1800 fits failed with the following error:\n",
      "Traceback (most recent call last):\n",
      "  File \"c:\\Users\\david\\anaconda3\\Lib\\site-packages\\sklearn\\model_selection\\_validation.py\", line 888, in _fit_and_score\n",
      "    estimator.fit(X_train, y_train, **fit_params)\n",
      "  File \"c:\\Users\\david\\anaconda3\\Lib\\site-packages\\sklearn\\base.py\", line 1473, in wrapper\n",
      "    return fit_method(estimator, *args, **kwargs)\n",
      "           ^^^^^^^^^^^^^^^^^^^^^^^^^^^^^^^^^^^^^^\n",
      "  File \"c:\\Users\\david\\anaconda3\\Lib\\site-packages\\sklearn\\neighbors\\_classification.py\", line 238, in fit\n",
      "    return self._fit(X, y)\n",
      "           ^^^^^^^^^^^^^^^\n",
      "  File \"c:\\Users\\david\\anaconda3\\Lib\\site-packages\\sklearn\\neighbors\\_base.py\", line 519, in _fit\n",
      "    self._check_algorithm_metric()\n",
      "  File \"c:\\Users\\david\\anaconda3\\Lib\\site-packages\\sklearn\\neighbors\\_base.py\", line 453, in _check_algorithm_metric\n",
      "    raise ValueError(\n",
      "ValueError: Metric 'canberra' not valid. Use sorted(sklearn.neighbors.VALID_METRICS['kd_tree']) to get valid options. Metric can also be a callable function.\n",
      "\n",
      "  warnings.warn(some_fits_failed_message, FitFailedWarning)\n"
     ]
    },
    {
     "name": "stdout",
     "output_type": "stream",
     "text": [
      "Mejores parámetros encontrados: {'algorithm': 'auto', 'leaf_size': 10, 'metric': 'minkowski', 'n_neighbors': 15, 'p': 1, 'weights': 'uniform'}\n",
      "\n",
      "Top 5 modelos según mean_test_f1:\n",
      "0.686 (+/-0.012) para {'algorithm': 'auto', 'leaf_size': 80, 'metric': 'minkowski', 'n_neighbors': 15, 'p': 1, 'weights': 'uniform'}\n",
      "0.686 (+/-0.012) para {'algorithm': 'ball_tree', 'leaf_size': 50, 'metric': 'manhattan', 'n_neighbors': 15, 'p': 3, 'weights': 'uniform'}\n",
      "0.686 (+/-0.012) para {'algorithm': 'ball_tree', 'leaf_size': 60, 'metric': 'minkowski', 'n_neighbors': 15, 'p': 1, 'weights': 'uniform'}\n",
      "0.686 (+/-0.012) para {'algorithm': 'ball_tree', 'leaf_size': 30, 'metric': 'minkowski', 'n_neighbors': 15, 'p': 1, 'weights': 'uniform'}\n",
      "0.686 (+/-0.012) para {'algorithm': 'kd_tree', 'leaf_size': 80, 'metric': 'minkowski', 'n_neighbors': 15, 'p': 1, 'weights': 'uniform'}\n",
      "\n",
      "Top 5 modelos según mean_test_accuracy:\n",
      "0.686 (+/-0.012) para {'algorithm': 'ball_tree', 'leaf_size': 60, 'metric': 'manhattan', 'n_neighbors': 15, 'p': 2, 'weights': 'uniform'}\n",
      "0.686 (+/-0.012) para {'algorithm': 'brute', 'leaf_size': 20, 'metric': 'manhattan', 'n_neighbors': 15, 'p': 2, 'weights': 'uniform'}\n",
      "0.686 (+/-0.012) para {'algorithm': 'kd_tree', 'leaf_size': 50, 'metric': 'minkowski', 'n_neighbors': 15, 'p': 1, 'weights': 'uniform'}\n",
      "0.686 (+/-0.012) para {'algorithm': 'ball_tree', 'leaf_size': 60, 'metric': 'minkowski', 'n_neighbors': 15, 'p': 1, 'weights': 'uniform'}\n",
      "0.686 (+/-0.012) para {'algorithm': 'auto', 'leaf_size': 90, 'metric': 'manhattan', 'n_neighbors': 15, 'p': 1, 'weights': 'uniform'}\n",
      "\n",
      "Top 5 modelos según mean_test_recall:\n",
      "0.686 (+/-0.012) para {'algorithm': 'ball_tree', 'leaf_size': 60, 'metric': 'manhattan', 'n_neighbors': 15, 'p': 2, 'weights': 'uniform'}\n",
      "0.686 (+/-0.012) para {'algorithm': 'brute', 'leaf_size': 20, 'metric': 'manhattan', 'n_neighbors': 15, 'p': 2, 'weights': 'uniform'}\n",
      "0.686 (+/-0.012) para {'algorithm': 'kd_tree', 'leaf_size': 50, 'metric': 'minkowski', 'n_neighbors': 15, 'p': 1, 'weights': 'uniform'}\n",
      "0.686 (+/-0.012) para {'algorithm': 'ball_tree', 'leaf_size': 60, 'metric': 'minkowski', 'n_neighbors': 15, 'p': 1, 'weights': 'uniform'}\n",
      "0.686 (+/-0.012) para {'algorithm': 'auto', 'leaf_size': 90, 'metric': 'manhattan', 'n_neighbors': 15, 'p': 1, 'weights': 'uniform'}\n"
     ]
    },
    {
     "name": "stderr",
     "output_type": "stream",
     "text": [
      "c:\\Users\\david\\anaconda3\\Lib\\site-packages\\sklearn\\model_selection\\_search.py:1102: UserWarning: One or more of the test scores are non-finite: [0.68211469 0.67165588 0.67576498 ... 0.67522341 0.67637836 0.67522341]\n",
      "  warnings.warn(\n",
      "c:\\Users\\david\\anaconda3\\Lib\\site-packages\\sklearn\\model_selection\\_search.py:1102: UserWarning: One or more of the test scores are non-finite: [0.68218456 0.67196931 0.67605509 ... 0.67576302 0.67561831 0.67576302]\n",
      "  warnings.warn(\n"
     ]
    }
   ],
   "source": [
    "from sklearn.model_selection import GridSearchCV\n",
    "from sklearn.neighbors import KNeighborsClassifier\n",
    "from sklearn.metrics import make_scorer, f1_score, accuracy_score, recall_score\n",
    "import pandas as pd\n",
    "import numpy as np\n",
    "\n",
    "# Definir los hiperparámetros a probar\n",
    "param_grid = {\n",
    "    'n_neighbors': [ 11, 13, 15, 17, 19, 20],  # Valores de n_neighbors\n",
    "    'weights':  ['uniform', 'distance'],  # Pesos de vecinos\n",
    "    'algorithm': ['auto', 'ball_tree', 'kd_tree', 'brute'],  # Algoritmos de búsqueda\n",
    "    'p': [1, 2, 3],  # Distancia Manhattan (1) o Euclidiana (2)\n",
    "    'leaf_size': [10, 20, 30, 40, 50, 60, 70, 80, 90, 100],  # Tamaño de hoja\n",
    "    'metric':  ['minkowski', 'euclidean', 'manhattan', 'chebyshev']  # Métricas\n",
    "}\n",
    "\n",
    "# Definir los métodos de evaluación con average='weighted'\n",
    "scorers = {\n",
    "    'f1': make_scorer(f1_score, average='weighted'),\n",
    "    'accuracy': make_scorer(accuracy_score),\n",
    "    'recall': make_scorer(recall_score, average='weighted', zero_division=0)\n",
    "}\n",
    "\n",
    "# Aplicar GridSearchCV\n",
    "grid_search_KNN = GridSearchCV(\n",
    "    KNeighborsClassifier(),\n",
    "    param_grid,\n",
    "    cv=5,\n",
    "    n_jobs=-1,\n",
    "    scoring=scorers,\n",
    "    refit='f1',  # Refitar con la mejor métrica ('accuracy' en este caso)\n",
    "    verbose=1\n",
    ")\n",
    "\n",
    "grid_search_KNN.fit(X_sel, y_sel )\n",
    "\n",
    "# Mostrar los mejores parámetros encontrados\n",
    "print(\"Mejores parámetros encontrados:\", grid_search_KNN.best_params_)\n",
    "\n",
    "# Convertir los resultados en un DataFrame\n",
    "results = pd.DataFrame(grid_search_KNN.cv_results_)\n",
    "\n",
    "# Ordenar por cada métrica y mostrar los 5 mejores modelos\n",
    "for metric in ['mean_test_f1', 'mean_test_accuracy', 'mean_test_recall']:\n",
    "    print(f\"\\nTop 5 modelos según {metric}:\")\n",
    "    sorted_results = results.sort_values(by=metric, ascending=False)\n",
    "    \n",
    "    for mean_score, std_score, params in zip(\n",
    "        sorted_results[metric].head(5),\n",
    "        sorted_results[f\"std_test_{metric.split('_')[-1]}\"].head(5),\n",
    "        sorted_results[\"params\"].head(5)\n",
    "    ):\n",
    "        print(f\"{mean_score:.3f} (+/-{std_score * 2:.3f}) para {params}\")"
   ]
  },
  {
   "cell_type": "markdown",
   "metadata": {
    "jp-MarkdownHeadingCollapsed": true
   },
   "source": [
    "#### - Entramiento y evaluación con hiperparámetros optimizados"
   ]
  },
  {
   "cell_type": "code",
   "execution_count": 188,
   "metadata": {},
   "outputs": [],
   "source": [
    "model_opt_KNN = KNeighborsClassifier(n_neighbors=11, leaf_size=30, metric= 'minkowski', p= 1, weights='uniform', algorithm='auto')"
   ]
  },
  {
   "cell_type": "code",
   "execution_count": 189,
   "metadata": {},
   "outputs": [],
   "source": [
    "# case - caso de preprocesado seleccionado, valores posibles: 1, 2, 3, 4, 5, 6\n",
    "case   = 6\n",
    "\n",
    "# X_prep = X_`preprocess - todos los conjuntos X preprocesados\n",
    "X_prep = [X_pca_A_O, X_pca_N_O, X_pca_A_U, X_pca_N_U, X_pca_A_OU, X_pca_N_OU]\n",
    "\n",
    "# y_prep = y_`preprocess - todos los conjuntos y preprocesados\n",
    "y_prep = [y_resampled_A_O, y_resampled_N_O, y_resampled_A_U, y_resampled_N_U, y_resampled_A_OU, y_resampled_N_OU]\n",
    "\n",
    "# prep = preprocess - todos los preprocesadores (StandardScaler a todo o focalizado mediante ColumnTransformer\n",
    "prep   = [prep_A_O, prep_N_O, prep_A_U, prep_N_U, prep_A_OU, prep_N_OU]\n",
    "\n",
    "# pca - todos los posibles pca\n",
    "pca    = [pca_A_O, pca_N_O, pca_A_U, pca_N_U, pca_A_OU, pca_N_OU]\n",
    "\n",
    "# n_comp = number_components - todos los posibles numeros de componentes de PCA\n",
    "n_comp = [n_comp_A_O, n_comp_N_O, n_comp_A_U, n_comp_N_U, n_comp_A_OU, n_comp_N_OU]\n",
    "\n",
    "X_sel2 = X_prep[case-1]\n",
    "y_sel2 = y_prep[case-1]\n",
    "X_test_scaled2 = prep[case-1].transform(X_test)\n",
    "X_test_pca_full2 = pca[case-1].transform(X_test_scaled2)\n",
    "X_test_pca2 = X_test_pca_full2[:, :n_comp[case-1]]"
   ]
  },
  {
   "cell_type": "code",
   "execution_count": 190,
   "metadata": {},
   "outputs": [],
   "source": [
    "model_opt_KNN.fit(X_sel2, y_sel2)\n",
    "\n",
    "predicted = model_opt_KNN.predict(X_test_pca2)\n",
    "expected = y_test"
   ]
  },
  {
   "cell_type": "code",
   "execution_count": 83,
   "metadata": {},
   "outputs": [],
   "source": [
    "prep_final = ColumnTransformer([\n",
    "    ('numericas', StandardScaler(), numeric_vars)\n",
    "], remainder='passthrough').fit(X_train_final) \n",
    "\n",
    "X_scaled_final = prep_final.transform(X_train_final)\n",
    "\n",
    "unsamp_final = RandomUnderSampler(sampling_strategy=0.25, random_state=seed)\n",
    "X_resampled_final, y_resampled_final = unsamp_final.fit_resample(X_scaled_final, y_train_final)\n",
    "\n",
    "\n",
    "ovsamp_N_OU_final = SMOTE(sampling_strategy=0.5, random_state=seed)\n",
    "X_resampled_N_OU_final, y_resampled_N_OU_final = ovsamp_N_OU_final.fit_resample(X_resampled_final, y_resampled_final)\n",
    "\n",
    "\n",
    "\n",
    "pca_final= PCA()\n",
    "X_pca_full_final = pca_final.fit_transform(X_resampled_N_OU_final)\n",
    "\n",
    "cumulative_variance_ratio_final = np.cumsum(pca_final.explained_variance_ratio_)\n",
    "n_comp_final = np.argmax(cumulative_variance_ratio_final >= 0.95) + 1\n",
    "X_pca_final = X_pca_full_final[:, :n_comp_final]\n",
    "\n",
    "\n",
    "X_test_scaled_final = prep_final.transform(X_test_final)\n",
    "\n",
    "X_test_pca_full_final = pca_final.transform(X_test_scaled_final)\n",
    "X_test_pca_final = X_test_pca_full_final[:, :n_comp_final]\n",
    "model_opt_KNN = KNeighborsClassifier(n_neighbors=15, leaf_size=60, metric= 'minkowski', p= 1, weights='uniform', algorithm='auto')\n"
   ]
  },
  {
   "cell_type": "code",
   "execution_count": null,
   "metadata": {},
   "outputs": [],
   "source": [
    "from sklearn.svm import LinearSVC\n",
    "from sklearn.preprocessing import StandardScaler\n",
    "from sklearn.decomposition import PCA\n",
    "from imblearn.over_sampling import SMOTE\n",
    "from imblearn.under_sampling import RandomUnderSampler\n",
    "import pandas as pd\n",
    "import numpy as np\n",
    "from sklearn.ensemble import VotingClassifier\n",
    "\n",
    "# Preprocesamiento de las variables numéricas\n",
    "prep_A_OU = StandardScaler().fit(X_train_final)\n",
    "X_scaled_A_OU = prep_A_OU.transform(X_train_final)\n",
    "\n",
    "# Realizar undersampling para balancear las clases\n",
    "# Cambiar el valor de sampling_strategy aquí\n",
    "unsamp_A_OU = RandomUnderSampler(sampling_strategy=0.25, random_state=seed)  # probar 0.5, 0.3, 0.8, etc.\n",
    "X_undersampled_A_OU, y_undersampled_A_OU = unsamp_A_OU.fit_resample(X_scaled_A_OU, y_train_final)\n",
    "\n",
    "# Aplicar SMOTE para balancear más las clases\n",
    "# Cambiar el valor de sampling_strategy aquí también\n",
    "ovsamp_A_OU = SMOTE(sampling_strategy=0.5, random_state=seed)  # probar 0.7, 0.3, 0.5, etc.\n",
    "X_resampled_A_OU, y_resampled_A_OU = ovsamp_A_OU.fit_resample(X_undersampled_A_OU, y_undersampled_A_OU)\n",
    "\n",
    "# Reducción de dimensionalidad con PCA\n",
    "pca_A_OU = PCA()\n",
    "X_pca_full_A_OU = pca_A_OU.fit_transform(X_resampled_A_OU)\n",
    "\n",
    "# Seleccionar el número de componentes necesarios para alcanzar el 95% de varianza\n",
    "cumulative_variance_ratio_A_OU = np.cumsum(pca_A_OU.explained_variance_ratio_)\n",
    "n_comp_A_OU = np.argmax(cumulative_variance_ratio_A_OU >= 0.95) + 1\n",
    "\n",
    "# Reducir la dimensionalidad de los datos seleccionados\n",
    "X_pca_A_OU = X_pca_full_A_OU[:, :n_comp_A_OU]\n",
    "\n",
    "# Transformar los datos de prueba\n",
    "X_test_scaled_A_OU = prep_A_OU.transform(X_test_final)\n",
    "X_test_pca_full_A_OU = pca_A_OU.transform(X_test_scaled_A_OU)\n",
    "X_test_pca_A_OU = X_test_pca_full_A_OU[:, :n_comp_A_OU]\n",
    "\n",
    "# Crear y entrenar el modelo LinearSVC\n",
    "\n",
    "from sklearn.ensemble import RandomForestClassifier\n",
    "from sklearn.neural_network import MLPClassifier\n",
    "\n",
    "# Hiperparámetros del Random Forest\n",
    "params_final_Forest = {\n",
    "    'class_weight': 'balanced_subsample',\n",
    "    'max_depth': 25,\n",
    "    'max_features': 4,\n",
    "    'min_samples_leaf': 4,\n",
    "    'min_samples_split': 2,\n",
    "    'n_estimators': 300,\n",
    "    'n_jobs': -1,\n",
    "    'random_state': seed\n",
    "}\n",
    "from sklearn.ensemble import GradientBoostingClassifier\n",
    "model_opt_Gradient = GradientBoostingClassifier(\n",
    "    ccp_alpha=0.0,                         # Poda de árboles\n",
    "    criterion='friedman_mse',               # Criterio de partición\n",
    "    max_depth=3,                            # Profundidad máxima de los árboles\n",
    "    max_features=None,                      # Número de características utilizadas en cada árbol\n",
    "    min_impurity_decrease=0.01,             # Disminución mínima de impurezas para hacer una división\n",
    "    min_samples_leaf=1,                     # Mínimo de muestras en cada hoja\n",
    "    min_samples_split=2,                    # Mínimo de muestras para dividir un nodo\n",
    "    n_estimators=100,                       # Número de árboles en el modelo\n",
    "    n_iter_no_change=None,                  # Número de iteraciones sin mejora antes de detenerse\n",
    "    subsample=0.8,                          # Submuestreo de las muestras para evitar overfitting\n",
    "    validation_fraction=0.2,                # Fracción de datos reservada para validación\n",
    "    random_state=42                         # Semilla para reproducibilidad\n",
    ")\n",
    "\n",
    "# Crear el modelo RandomForest con los hiperparámetros\n",
    "rf_model = RandomForestClassifier(**params_final_Forest)\n",
    "\n",
    "# Hiperparámetros del MLP\n",
    "params_final_Mlp = {\n",
    "    'activation': 'relu', \n",
    "    'alpha': 0.01, \n",
    "    'batch_size': 400,\n",
    "    'hidden_layer_sizes': (128, 64, 32), \n",
    "    'learning_rate': 'constant', \n",
    "    'learning_rate_init': 0.01, \n",
    "    'solver': 'sgd',\n",
    "    'max_iter': 1000, \n",
    "    'early_stopping': True, \n",
    "    'validation_fraction': 0.15, \n",
    "    'random_state': seed\n",
    "}\n",
    "\n",
    "# Crear el modelo MLP con los hiperparámetros\n",
    "mlp_model = MLPClassifier(**params_final_Mlp)\n",
    "\n",
    "model_opt_KNN = KNeighborsClassifier(n_neighbors=15, leaf_size=60, metric= 'minkowski', p= 1, weights='uniform', algorithm='auto')\n",
    "voting_clf = VotingClassifier( \n",
    "    estimators=[\n",
    "        ('rf_model', rf_model),\n",
    "        ('model_opt_KNN', model_opt_KNN),\n",
    "        ('mlp_model', mlp_model),\n",
    "        ('model_opt_Gradient',model_opt_Gradient)\n",
    "    ],\n",
    "    voting='hard',\n",
    "    weights=[1,1,3,1]\n",
    ")\n",
    "\n",
    "# Entrenar el modelo con los datos de entrenamiento\n",
    "voting_clf.fit(X_pca_A_OU, y_resampled_A_OU)\n",
    "\n",
    "# Realizar las predicciones de clase\n",
    "pred_thres_For_opt = voting_clf.predict(X_test_pca_A_OU)\n",
    "\n",
    "# Crear un DataFrame con las predicciones\n",
    "df_accept_Random = pd.DataFrame(pred_thres_For_opt, columns=['Accept'])\n",
    "df_id = df_test['id'].reset_index(drop=True)\n",
    "\n",
    "# Concatenar los resultados en un DataFrame final y guardarlo en un CSV\n",
    "df_final_Random = pd.concat([df_id, df_accept_Random], axis=1)\n",
    "df_final_Random.to_csv('./pesos.csv', index=False)\n"
   ]
  },
  {
   "cell_type": "code",
   "execution_count": null,
   "metadata": {},
   "outputs": [],
   "source": [
    "from sklearn.svm import LinearSVC\n",
    "from sklearn.preprocessing import StandardScaler\n",
    "from sklearn.decomposition import PCA\n",
    "from imblearn.over_sampling import SMOTE\n",
    "from imblearn.under_sampling import RandomUnderSampler\n",
    "import pandas as pd\n",
    "import numpy as np\n",
    "from sklearn.ensemble import VotingClassifier\n",
    "\n",
    "# Preprocesamiento de las variables numéricas\n",
    "prep_A_OU = StandardScaler().fit(X_train_final)\n",
    "X_scaled_A_OU = prep_A_OU.transform(X_train_final)\n",
    "\n",
    "# Realizar undersampling para balancear las clases\n",
    "# Cambiar el valor de sampling_strategy aquí\n",
    "unsamp_A_OU = RandomUnderSampler(sampling_strategy=0.9, random_state=seed)  # probar 0.5, 0.3, 0.8, etc.\n",
    "X_undersampled_A_OU, y_undersampled_A_OU = unsamp_A_OU.fit_resample(X_scaled_A_OU, y_train_final)\n",
    "\n",
    "# Aplicar SMOTE para balancear más las clases\n",
    "# Cambiar el valor de sampling_strategy aquí también\n",
    "\n",
    "# Reducción de dimensionalidad con PCA\n",
    "pca_A_OU = PCA()\n",
    "X_pca_full_A_OU = pca_A_OU.fit_transform(X_undersampled_A_OU)\n",
    "\n",
    "# Seleccionar el número de componentes necesarios para alcanzar el 95% de varianza\n",
    "cumulative_variance_ratio_A_OU = np.cumsum(pca_A_OU.explained_variance_ratio_)\n",
    "n_comp_A_OU = np.argmax(cumulative_variance_ratio_A_OU >= 0.95) + 1\n",
    "\n",
    "# Reducir la dimensionalidad de los datos seleccionados\n",
    "X_pca_A_OU = X_pca_full_A_OU[:, :n_comp_A_OU]\n",
    "\n",
    "# Transformar los datos de prueba\n",
    "X_test_scaled_A_OU = prep_A_OU.transform(X_test_final)\n",
    "X_test_pca_full_A_OU = pca_A_OU.transform(X_test_scaled_A_OU)\n",
    "X_test_pca_A_OU = X_test_pca_full_A_OU[:, :n_comp_A_OU]\n",
    "\n",
    "# Crear y entrenar el modelo LinearSVC\n",
    "\n",
    "from sklearn.ensemble import RandomForestClassifier\n",
    "from sklearn.neural_network import MLPClassifier\n",
    "\n",
    "# Hiperparámetros del Random Forest\n",
    "params_final_Forest = {\n",
    "    'class_weight': 'balanced_subsample',\n",
    "    'max_depth': 25,\n",
    "    'max_features': 4,\n",
    "    'min_samples_leaf': 4,\n",
    "    'min_samples_split': 2,\n",
    "    'n_estimators': 300,\n",
    "    'n_jobs': -1,\n",
    "    'random_state': seed\n",
    "}\n",
    "from sklearn.ensemble import GradientBoostingClassifier\n",
    "model_opt_Gradient = GradientBoostingClassifier(\n",
    "    ccp_alpha=0.0,                         # Poda de árboles\n",
    "    criterion='friedman_mse',               # Criterio de partición\n",
    "    max_depth=3,                            # Profundidad máxima de los árboles\n",
    "    max_features=None,                      # Número de características utilizadas en cada árbol\n",
    "    min_impurity_decrease=0.01,             # Disminución mínima de impurezas para hacer una división\n",
    "    min_samples_leaf=1,                     # Mínimo de muestras en cada hoja\n",
    "    min_samples_split=2,                    # Mínimo de muestras para dividir un nodo\n",
    "    n_estimators=100,                       # Número de árboles en el modelo\n",
    "    n_iter_no_change=None,                  # Número de iteraciones sin mejora antes de detenerse\n",
    "    subsample=0.8,                          # Submuestreo de las muestras para evitar overfitting\n",
    "    validation_fraction=0.2,                # Fracción de datos reservada para validación\n",
    "    random_state=42                         # Semilla para reproducibilidad\n",
    ")\n",
    "\n",
    "# Crear el modelo RandomForest con los hiperparámetros\n",
    "rf_model = RandomForestClassifier(**params_final_Forest)\n",
    "\n",
    "# Hiperparámetros del MLP\n",
    "params_final_Mlp = {\n",
    "    'activation': 'relu', \n",
    "    'alpha': 0.01, \n",
    "    'batch_size': 400,\n",
    "    'hidden_layer_sizes': (128, 64, 32), \n",
    "    'learning_rate': 'constant', \n",
    "    'learning_rate_init': 0.01, \n",
    "    'solver': 'sgd',\n",
    "    'max_iter': 1000, \n",
    "    'early_stopping': True, \n",
    "    'validation_fraction': 0.15, \n",
    "    'random_state': seed\n",
    "}\n",
    "\n",
    "# Crear el modelo MLP con los hiperparámetros\n",
    "mlp_model = MLPClassifier(**params_final_Mlp)\n",
    "\n",
    "model_opt_KNN = KNeighborsClassifier(n_neighbors=15, leaf_size=60, metric= 'minkowski', p= 1, weights='uniform', algorithm='auto')\n",
    "voting_clf = VotingClassifier( \n",
    "    estimators=[\n",
    "        ('rf_model', rf_model),\n",
    "        ('model_opt_KNN', model_opt_KNN),\n",
    "        ('mlp_model', mlp_model),\n",
    "        ('model_opt_Gradient',model_opt_Gradient)\n",
    "    ],\n",
    "    voting='soft',\n",
    "    weights=[1,1,2.5,1]\n",
    ")\n",
    "\n",
    "# Entrenar el modelo con los datos de entrenamiento\n",
    "voting_clf.fit(X_pca_A_OU, y_undersampled_A_OU)\n",
    "\n",
    "best_thres = 0.5\n",
    "# Realizar las predicciones de clase\n",
    "pred_thres_For_opt = voting_clf.predict_proba(X_test_pca_A_OU)[:, 1] \n",
    "pred_thres_For_opt2 = (pred_thres_For_opt >= best_thres).astype(int) \n",
    "\n",
    "# Crear un DataFrame con las predicciones\n",
    "df_accept_Random = pd.DataFrame(pred_thres_For_opt2, columns=['Accept'])\n",
    "df_id = df_test['id'].reset_index(drop=True)\n",
    "\n",
    "# Concatenar los resultados en un DataFrame final y guardarlo en un CSV\n",
    "df_final_Random = pd.concat([df_id, df_accept_Random], axis=1)\n",
    "df_final_Random.to_csv('./pesos.csv', index=False)\n"
   ]
  },
  {
   "cell_type": "code",
   "execution_count": 97,
   "metadata": {},
   "outputs": [
    {
     "data": {
      "text/plain": [
       "Accept\n",
       "0    1660\n",
       "1    1624\n",
       "Name: count, dtype: int64"
      ]
     },
     "execution_count": 97,
     "metadata": {},
     "output_type": "execute_result"
    }
   ],
   "source": [
    "df_final_Random['Accept'].value_counts()"
   ]
  },
  {
   "cell_type": "code",
   "execution_count": null,
   "metadata": {},
   "outputs": [],
   "source": [
    "\n"
   ]
  },
  {
   "cell_type": "code",
   "execution_count": null,
   "metadata": {},
   "outputs": [],
   "source": [
    "prep_final = ColumnTransformer([\n",
    "    ('numericas', StandardScaler(), numeric_vars)\n",
    "], remainder='passthrough').fit(X_train_final) \n",
    "\n",
    "X_scaled_final = prep_final.transform(X_train_final)\n",
    "\n",
    "unsamp_final = RandomUnderSampler(sampling_strategy=0.8, random_state=seed)\n",
    "X_resampled_final, y_resampled_final = unsamp_final.fit_resample(X_scaled_final, y_train_final)\n",
    "\n",
    "pca_final= PCA()\n",
    "X_pca_full_final = pca_final.fit_transform(X_resampled_final)\n",
    "\n",
    "cumulative_variance_ratio_final = np.cumsum(pca_final.explained_variance_ratio_)\n",
    "n_comp_final = np.argmax(cumulative_variance_ratio_final >= 0.95) + 1\n",
    "X_pca_final = X_pca_full_final[:, :n_comp_final]\n",
    "\n",
    "\n",
    "X_test_scaled_final = prep_final.transform(X_test_final)\n",
    "\n",
    "X_test_pca_full_final = pca_final.transform(X_test_scaled_final)\n",
    "X_test_pca_final = X_test_pca_full_final[:, :n_comp_final]\n",
    "model_opt_KNN = KNeighborsClassifier(n_neighbors=11, leaf_size=30, metric= 'minkowski', p= 1, weights='uniform', algorithm='auto')\n",
    "\n",
    "model_opt_KNN.fit(X_pca_final, y_resampled_final)\n",
    "probs_For_opt = model_opt_KNN.predict_proba(X_test_pca_final)[:, 1]  \n",
    "\n",
    "pred_thres_For_opt = (probs_For_opt >= best_thres).astype(int) \n",
    "df_accept_Random = pd.DataFrame(pred_thres_For_opt, columns=['Accept'])\n",
    "df_id = df_test['id'].reset_index(drop=True)\n",
    "df_final_Random = pd.concat([df_id, df_accept_Random], axis=1)\n",
    "df_final_Random.to_csv('./knn.csv', index=False)"
   ]
  },
  {
   "cell_type": "markdown",
   "metadata": {},
   "source": [
    "Hablar de la comparacion con el null accuracy"
   ]
  },
  {
   "cell_type": "code",
   "execution_count": 81,
   "metadata": {},
   "outputs": [
    {
     "name": "stdout",
     "output_type": "stream",
     "text": [
      "[[ 334  416]\n",
      " [ 676 3089]]\n"
     ]
    }
   ],
   "source": [
    "print(metrics.confusion_matrix(expected, predicted))"
   ]
  },
  {
   "cell_type": "code",
   "execution_count": 82,
   "metadata": {},
   "outputs": [
    {
     "name": "stdout",
     "output_type": "stream",
     "text": [
      "              precision    recall  f1-score   support\n",
      "\n",
      "           0       0.33      0.45      0.38       750\n",
      "           1       0.88      0.82      0.85      3765\n",
      "\n",
      "    accuracy                           0.76      4515\n",
      "   macro avg       0.61      0.63      0.61      4515\n",
      "weighted avg       0.79      0.76      0.77      4515\n",
      "\n"
     ]
    }
   ],
   "source": [
    "print(classification_report(expected, predicted))"
   ]
  },
  {
   "cell_type": "code",
   "execution_count": null,
   "metadata": {},
   "outputs": [],
   "source": []
  },
  {
   "cell_type": "code",
   "execution_count": 256,
   "metadata": {},
   "outputs": [
    {
     "data": {
      "image/png": "[encoded data removed]",
      "text/plain": [
       "<Figure size 640x480 with 1 Axes>"
      ]
     },
     "metadata": {},
     "output_type": "display_data"
    }
   ],
   "source": [
    "y_pred_prob = model_opt_KNN.predict_proba(X_test_pca2)[:,1]\n",
    "fpr, tpr, thresholds = roc_curve(y_test, y_pred_prob)\n",
    "plt.plot(fpr, tpr)\n",
    "plt.xlim([0.0, 1.0])\n",
    "plt.ylim([0.0, 1.0])\n",
    "plt.title('ROC curve for Titanic')\n",
    "plt.xlabel('False Positive Rate (1 - Recall)')\n",
    "plt.ylabel('True Positive Rate (Sensitivity)')\n",
    "plt.grid(True)\n",
    "plt.show()"
   ]
  },
  {
   "cell_type": "code",
   "execution_count": 257,
   "metadata": {},
   "outputs": [
    {
     "data": {
      "text/plain": [
       "array([       inf, 1.        , 0.90909091, 0.81818182, 0.72727273,\n",
       "       0.63636364, 0.54545455, 0.45454545, 0.36363636, 0.27272727,\n",
       "       0.18181818, 0.09090909, 0.        ])"
      ]
     },
     "execution_count": 257,
     "metadata": {},
     "output_type": "execute_result"
    }
   ],
   "source": [
    "thresholds"
   ]
  },
  {
   "cell_type": "code",
   "execution_count": 258,
   "metadata": {},
   "outputs": [
    {
     "data": {
      "text/plain": [
       "array([<Axes: title={'center': '0'}>, <Axes: title={'center': '1'}>],\n",
       "      dtype=object)"
      ]
     },
     "execution_count": 258,
     "metadata": {},
     "output_type": "execute_result"
    },
    {
     "data": {
      "image/png": "[encoded data removed]",
      "text/plain": [
       "<Figure size 640x480 with 2 Axes>"
      ]
     },
     "metadata": {},
     "output_type": "display_data"
    }
   ],
   "source": [
    "dprob = pd.DataFrame(data = {'probability':y_pred_prob, 'actual':y_test})\n",
    "dprob.probability.hist(by=dprob.actual, sharex=True, sharey=True)"
   ]
  },
  {
   "cell_type": "code",
   "execution_count": 259,
   "metadata": {},
   "outputs": [],
   "source": [
    "def evaluate_threshold(threshold):\n",
    "    print('Sensitivity:', tpr[thresholds > threshold][-1])\n",
    "    print('Recall:', 1 - fpr[thresholds > threshold][-1])"
   ]
  },
  {
   "cell_type": "code",
   "execution_count": 260,
   "metadata": {},
   "outputs": [
    {
     "name": "stdout",
     "output_type": "stream",
     "text": [
      "Sensitivity: 0.5301460823373174\n",
      "Recall: 0.7773333333333333\n"
     ]
    }
   ],
   "source": [
    "evaluate_threshold(0.74)"
   ]
  },
  {
   "cell_type": "code",
   "execution_count": 261,
   "metadata": {},
   "outputs": [
    {
     "name": "stdout",
     "output_type": "stream",
     "text": [
      "0.6328924302788844\n"
     ]
    }
   ],
   "source": [
    "print(roc_auc_score(expected, predicted))"
   ]
  },
  {
   "cell_type": "markdown",
   "metadata": {},
   "source": [
    "### 3.3.2 Clasificador Y"
   ]
  }
 ],
 "metadata": {
  "kernelspec": {
   "display_name": "base",
   "language": "python",
   "name": "python3"
  },
  "language_info": {
   "codemirror_mode": {
    "name": "ipython",
    "version": 3
   },
   "file_extension": ".py",
   "mimetype": "text/x-python",
   "name": "python",
   "nbconvert_exporter": "python",
   "pygments_lexer": "ipython3",
   "version": "3.12.7"
  }
 },
 "nbformat": 4,
 "nbformat_minor": 4
}
