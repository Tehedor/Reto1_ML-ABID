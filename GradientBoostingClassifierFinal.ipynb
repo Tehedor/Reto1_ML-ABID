{
 "cells": [
  {
   "cell_type": "markdown",
   "metadata": {},
   "source": [
    "<header style=\"width:100%;position:relative\">\n",
    "  <div style=\"width:80%;float:right;\">\n",
    "    <h1>Challenge Loan Approval Prediction in Pennsylvania</h1>\n",
    "    <h3>Entrenamiento y evaluación de los modelos</h3>\n",
    "    <h5>Grupo 2</h5>\n",
    "  </div>\n",
    "        <img style=\"width:15%;\" src=\"./images/logo.jpg\" alt=\"UPM\" />\n",
    "</header>"
   ]
  },
  {
   "cell_type": "markdown",
   "metadata": {
    "jp-MarkdownHeadingCollapsed": true
   },
   "source": [
    "# Índice"
   ]
  },
  {
   "cell_type": "markdown",
   "metadata": {},
   "source": [
    "1. [Importar librerias](#1.-Importar-librerias)\n",
    "2. [Variables globales y funciones auxiliares](#2.-Variables-globales-y-funciones-auxiliares)\n",
    "3. [Carga del dataframe](#3.-Carga-del-dataframe)\n",
    "4. [Selección de las características](#4.-Seleccion-de-las-caracteristicas)\n",
    "5. [Carga de los datos y división en entrenamiento y test](#5.-Carga-de-los-datos-y-division-en-entrenamiento-y-test)\n",
    "6. [Modelos seleccionados](#6.-Modelos-seleccionados)\n",
    "    * 6.1 [Introducción](#6.1-Introduccion)\n",
    "    * 6.2 [Clasificador Random Forest](#6.2-Clasificador-Random-Forest)\n",
    "    * 6.3 [Clasificador MLP](#6.3-Clasificador-MLP)\n",
    "7. [Exportar CSV](#7.-Exportar-CSV)\n",
    "    * 7.1 [Clasificador Random Forest](#7.1-Clasificador-Random-Forest)\n",
    "    * 7.2 [Clasificador MLP](#7.2-Clasificador-MLP)"
   ]
  },
  {
   "cell_type": "markdown",
   "metadata": {
    "jp-MarkdownHeadingCollapsed": true
   },
   "source": [
    "# 1. Importar librerias"
   ]
  },
  {
   "cell_type": "code",
   "execution_count": 695,
   "metadata": {},
   "outputs": [
    {
     "name": "stdout",
     "output_type": "stream",
     "text": [
      "Todas las librerias fueron correctamente importadas.\n"
     ]
    }
   ],
   "source": [
    "# General import and load data\n",
    "import pandas as pd\n",
    "import numpy as np\n",
    "\n",
    "# Resampling\n",
    "from imblearn.under_sampling import RandomUnderSampler\n",
    "from imblearn.over_sampling import SMOTE\n",
    "\n",
    "# Preprocessing\n",
    "from sklearn.compose import ColumnTransformer\n",
    "from sklearn.decomposition import PCA\n",
    "from sklearn.preprocessing import StandardScaler\n",
    "\n",
    "# Splitting\n",
    "from sklearn.model_selection import train_test_split\n",
    "\n",
    "# Estimators\n",
    "from sklearn.ensemble import RandomForestClassifier\n",
    "from sklearn.neural_network import MLPClassifier\n",
    "from sklearn.svm import LinearSVC\n",
    "from sklearn.neighbors import KNeighborsClassifier\n",
    "from sklearn.ensemble import GradientBoostingClassifier\n",
    "# Evaluation\n",
    "from sklearn.metrics import accuracy_score, confusion_matrix, classification_report\n",
    "from sklearn.metrics import make_scorer, f1_score, roc_curve, roc_auc_score\n",
    "\n",
    "# Optimization\n",
    "from sklearn.model_selection import GridSearchCV, PredefinedSplit\n",
    "\n",
    "# Visualization\n",
    "import matplotlib.pyplot as plt\n",
    "\n",
    "# Time optimization\n",
    "import time\n",
    "\n",
    "print(\"Todas las librerias fueron correctamente importadas.\")"
   ]
  },
  {
   "cell_type": "markdown",
   "metadata": {
    "jp-MarkdownHeadingCollapsed": true
   },
   "source": [
    "# 2. Variables globales y funciones auxiliares"
   ]
  },
  {
   "cell_type": "markdown",
   "metadata": {},
   "source": [
    "Se fija un seed para todo el documento para fijar la aleatoriedad y así obtener resultados replicables."
   ]
  },
  {
   "cell_type": "code",
   "execution_count": 696,
   "metadata": {},
   "outputs": [],
   "source": [
    "seed = 42"
   ]
  },
  {
   "cell_type": "markdown",
   "metadata": {},
   "source": [
    "Función utilizado para evaluar los distintos umbrales en la curva de ROC."
   ]
  },
  {
   "cell_type": "code",
   "execution_count": 697,
   "metadata": {},
   "outputs": [],
   "source": [
    "def evaluate_threshold(threshold):\n",
    "    print('Sensitivity:', tpr[thresholds > threshold][-1])\n",
    "    print('Recall:', 1 - fpr[thresholds > threshold][-1])"
   ]
  },
  {
   "cell_type": "markdown",
   "metadata": {},
   "source": [
    "Función utilizada para estandarizar los datos en función del caso de preprocesado escogido."
   ]
  },
  {
   "cell_type": "code",
   "execution_count": 698,
   "metadata": {},
   "outputs": [],
   "source": [
    "def standard_data(case, X):\n",
    "    \n",
    "    if case in {1, 3, 5}:\n",
    "        prep = StandardScaler().fit(X)\n",
    "        X_scaled = prep.transform(X)\n",
    "        \n",
    "    elif case in {2, 4, 6}:\n",
    "        prep = ColumnTransformer([\n",
    "            ('numericas', StandardScaler(), numeric_vars)\n",
    "        ], remainder='passthrough').fit(X) \n",
    "        X_scaled = prep.transform(X) \n",
    "        \n",
    "    else:\n",
    "        raise ValueError(\"El valor de 'case' no es válido. Debe estar entre 1 y 6.\")\n",
    "    \n",
    "    return X_scaled, prep"
   ]
  },
  {
   "cell_type": "markdown",
   "metadata": {},
   "source": [
    "Función utilizada para muestrear los datos en función del caso de preprocesado escogido."
   ]
  },
  {
   "cell_type": "code",
   "execution_count": 699,
   "metadata": {},
   "outputs": [],
   "source": [
    "def resample_data(case, X, y, strategy_under, strategy_over, neighbors=5):\n",
    "    \n",
    "    if case in {1, 2}:\n",
    "        ovsamp = SMOTE(sampling_strategy=strategy_over, k_neighbors=neighbors, random_state=seed)\n",
    "        X_resampled, y_resampled = ovsamp.fit_resample(X, y)\n",
    "        \n",
    "    elif case in {3, 4}:\n",
    "        unsamp = RandomUnderSampler(sampling_strategy=strategy_under, random_state=seed)\n",
    "        X_resampled, y_resampled = unsamp.fit_resample(X, y)\n",
    "        \n",
    "    elif case in {5, 6}:\n",
    "        unsamp = RandomUnderSampler(sampling_strategy=strategy_under, random_state=seed)\n",
    "        X_undersampled, y_undersampled = unsamp.fit_resample(X, y)\n",
    "        ovsamp = SMOTE(sampling_strategy=strategy_over, k_neighbors=neighbors, random_state=seed)\n",
    "        X_resampled, y_resampled = ovsamp.fit_resample(X_undersampled, y_undersampled)\n",
    "        \n",
    "    else:\n",
    "        raise ValueError(\"El valor de 'case' no es válido. Debe estar entre 1 y 6.\")\n",
    "    \n",
    "    return X_resampled, y_resampled"
   ]
  },
  {
   "cell_type": "markdown",
   "metadata": {
    "jp-MarkdownHeadingCollapsed": true
   },
   "source": [
    "# 3. Carga del dataframe"
   ]
  },
  {
   "cell_type": "markdown",
   "metadata": {},
   "source": [
    "Se cargan los datos de la ruta *formated/train_exportado.csv*, los cuales son los datos ya procesados por uno de nuestros compañeros."
   ]
  },
  {
   "cell_type": "code",
   "execution_count": 700,
   "metadata": {},
   "outputs": [
    {
     "name": "stdout",
     "output_type": "stream",
     "text": [
      "Datos cargados correctamente\n",
      "\n"
     ]
    }
   ],
   "source": [
    "url = \"formated/train_exportado.csv\"\n",
    "df = pd.read_csv(url)\n",
    "\n",
    "print(\"Datos cargados correctamente\\n\")"
   ]
  },
  {
   "cell_type": "markdown",
   "metadata": {},
   "source": [
    "También cargamos el test que debemos predecir para Kaggle de la ruta *formated/test_exportado.csv*."
   ]
  },
  {
   "cell_type": "code",
   "execution_count": 701,
   "metadata": {},
   "outputs": [
    {
     "name": "stdout",
     "output_type": "stream",
     "text": [
      "Test cargado correctamente\n",
      "\n"
     ]
    }
   ],
   "source": [
    "url = \"formated/test_exportado.csv\"\n",
    "df_test = pd.read_csv(url)\n",
    "\n",
    "print(\"Test cargado correctamente\\n\")"
   ]
  },
  {
   "cell_type": "markdown",
   "metadata": {
    "jp-MarkdownHeadingCollapsed": true
   },
   "source": [
    "# 4. Seleccion de las caracteristicas"
   ]
  },
  {
   "cell_type": "markdown",
   "metadata": {},
   "source": [
    "Se seleccionan todas las características a excepción de las categoricas sin codificadar, al ya tener la misma információn codificada."
   ]
  },
  {
   "cell_type": "code",
   "execution_count": 702,
   "metadata": {},
   "outputs": [],
   "source": [
    "selected_features = [\n",
    "    # Caracteristicas numericas\n",
    "    'ApprovalFY', 'NoEmp', 'CreateJob', 'RetainedJob', 'DisbursementGross',\n",
    "\n",
    "    # Caracteristicas categoricas binarias\n",
    "    'NewExist_Binary', 'Franchise_Binary', 'UrbanRural_Binary',\n",
    "    'RevLineCr_Binary', 'LowDoc_Binary', 'CreateJob_Binary',\n",
    "    'RetainedJob_Binary',\n",
    "\n",
    "    # Caracteristicas categoricas codificadas\n",
    "    'Bank_Categorized_cod', 'BankState_Categorized_cod',\n",
    "    'ApprovalFY_Grouped_cod', 'NoEmp_Grouped_cod', \n",
    "    'DisbursementGross_Grouped_cod',\n",
    "\n",
    "     # Time-related features\n",
    "    'ApprovalDate_quarter', 'DisbursementDate_quarter',\n",
    "\n",
    "    # Caracteristicas relacionadas con BankState_Categorized tras un One Hot Encoding\n",
    "    'BankState_DE', 'BankState_IL', 'BankState_OH', \n",
    "    'BankState_Otros', 'BankState_RI'\n",
    "]"
   ]
  },
  {
   "cell_type": "markdown",
   "metadata": {},
   "source": [
    "De las cuales, numéricas son las siguientes:"
   ]
  },
  {
   "cell_type": "code",
   "execution_count": 703,
   "metadata": {},
   "outputs": [],
   "source": [
    "numeric_vars = ['ApprovalFY', 'NoEmp', 'CreateJob', 'RetainedJob', 'DisbursementGross']"
   ]
  },
  {
   "cell_type": "markdown",
   "metadata": {
    "jp-MarkdownHeadingCollapsed": true
   },
   "source": [
    "# 5. Carga de los datos y division en entrenamiento y test"
   ]
  },
  {
   "cell_type": "markdown",
   "metadata": {},
   "source": [
    "Cargamos las caracteristicas seleccionadas en la variable X y el objetivo *Accept* en la variable y."
   ]
  },
  {
   "cell_type": "code",
   "execution_count": 704,
   "metadata": {},
   "outputs": [],
   "source": [
    "X = df[selected_features] \n",
    "y = df['Accept'].values"
   ]
  },
  {
   "cell_type": "markdown",
   "metadata": {},
   "source": [
    "Se separa ya en entrenamiento y test para no falsear los datos del test al realizar el balanceo."
   ]
  },
  {
   "cell_type": "code",
   "execution_count": 705,
   "metadata": {},
   "outputs": [],
   "source": [
    "X_train, X_test, y_train, y_test = train_test_split(X, y, test_size=0.2, random_state=seed)"
   ]
  },
  {
   "cell_type": "markdown",
   "metadata": {},
   "source": [
    "A la hora de subir el modelo a Kaggle, ya se nos da dividido el entrenamiento y el test. Por ello, se utilizarán todos los datos tratados como entrenamiento (aunque también se le aplicará el mejor caso de preprocesado para cada modelo)."
   ]
  },
  {
   "cell_type": "code",
   "execution_count": 706,
   "metadata": {},
   "outputs": [],
   "source": [
    "X_train_final = X\n",
    "y_train_final = y\n",
    "\n",
    "X_test_final = df_test[selected_features] "
   ]
  },
  {
   "cell_type": "markdown",
   "metadata": {},
   "source": [
    "# 6. Modelos seleccionados"
   ]
  },
  {
   "cell_type": "markdown",
   "metadata": {
    "jp-MarkdownHeadingCollapsed": true
   },
   "source": [
    "## 6.1 Introduccion"
   ]
  },
  {
   "cell_type": "markdown",
   "metadata": {},
   "source": [
    "En el anterior notebook se evaluaron 10 modelos tanto por F1 score como por ROC-AUC score. Los resultados de mayor a menor de los modelos respecto a la F1-Score fueron los siguientes:\n",
    "* Random Forest: 0.867449\n",
    "* MLP: 0.811513\n",
    "* DecisionTree: 0.790538\n",
    "* KNN: 0.767966\n",
    "* LinearSVC: 0.664541\n",
    "* LogReg: 0.663316\n",
    "* SVC_sigmoid: 0.617281\n",
    "* GaussianNB: 0.568654\n",
    "* SVC_poly: 0.526099\n",
    "* SVC_rbf: 0.411304\n",
    "\n",
    "En cambio, los resultados de mayor a menor de los modelos respecto a la ROC-AUC Score fueron los siguientes:\n",
    "* Random Forest: 0.934825\n",
    "* MLP: 0.884770\n",
    "* KNN: 0.874725\n",
    "* DecisionTree: 0.795805\n",
    "* LinearSVC: 0.715244\n",
    "* LogReg: 0.715162\n",
    "* GaussianNB: 0.705878\n",
    "* SVC_rbf: 0.692410\n",
    "* SVC_poly: 0.658396\n",
    "* SVC_sigmoid: 0.556961"
   ]
  },
  {
   "cell_type": "markdown",
   "metadata": {},
   "source": [
    "Se decidió entrenar y optimizar los hiperparámetros de cuatro modelos. Los modelos escogidos fueron Random Forest, MLP, KNN y LinearSVC, es decir, los cuatro primeros tanto por F1-score como por ROC-AUC score (se ha excluido Decision Tree por ya estar probando un clasificador basado en árbol de decisión, y en un principio mejor)."
   ]
  },
  {
   "cell_type": "markdown",
   "metadata": {
    "jp-MarkdownHeadingCollapsed": true
   },
   "source": [
    "## 6.2 Clasificador GradientBoostingClassifier"
   ]
  },
  {
   "cell_type": "markdown",
   "metadata": {
    "jp-MarkdownHeadingCollapsed": true
   },
   "source": [
    "### 6.2.1 Seleccion del caso de preprocesado"
   ]
  },
  {
   "cell_type": "markdown",
   "metadata": {},
   "source": [
    "Seleccion del caso de preprocesado."
   ]
  },
  {
   "cell_type": "code",
   "execution_count": 707,
   "metadata": {},
   "outputs": [],
   "source": [
    "# case - caso de preprocesado seleccionado, valores posibles: 1, 2, 3, 4, 5, 6\n",
    "case = 6"
   ]
  },
  {
   "cell_type": "markdown",
   "metadata": {},
   "source": [
    "Hiperparametros base para cada caso."
   ]
  },
  {
   "cell_type": "code",
   "execution_count": 708,
   "metadata": {},
   "outputs": [],
   "source": [
    "if case in {1, 2}:\n",
    "    strategy_under = 0\n",
    "    strategy_over = 1\n",
    "    neighbors = 5\n",
    "    \n",
    "elif case in {3, 4}:\n",
    "    strategy_under = 0.8\n",
    "    strategy_over = 0\n",
    "    neighbors = 0\n",
    "    \n",
    "elif case in {5, 6}:\n",
    "    strategy_under = 0.25\n",
    "    strategy_over = 0.5\n",
    "    neighbors = 5"
   ]
  },
  {
   "cell_type": "markdown",
   "metadata": {},
   "source": [
    "Se estandarizan los datos en función del caso."
   ]
  },
  {
   "cell_type": "code",
   "execution_count": 709,
   "metadata": {},
   "outputs": [],
   "source": [
    "X_scaled, prep = standard_data(case, X_train)"
   ]
  },
  {
   "cell_type": "markdown",
   "metadata": {},
   "source": [
    "Se muestrean los datos en función del caso."
   ]
  },
  {
   "cell_type": "code",
   "execution_count": 710,
   "metadata": {},
   "outputs": [],
   "source": [
    "X_resampled, y_resampled = resample_data(case, X_scaled, y_train, strategy_under, strategy_over, neighbors)"
   ]
  },
  {
   "cell_type": "markdown",
   "metadata": {},
   "source": [
    "Se reducen las dimensionalidades mediante un *PCA*."
   ]
  },
  {
   "cell_type": "code",
   "execution_count": 711,
   "metadata": {},
   "outputs": [],
   "source": [
    "pca = PCA()\n",
    "X_pca_full = pca.fit_transform(X_resampled)\n",
    "\n",
    "cumulative_variance_ratio = np.cumsum(pca.explained_variance_ratio_)\n",
    "n_comp = np.argmax(cumulative_variance_ratio >= 0.95) + 1\n",
    "X_pca = X_pca_full[:, :n_comp]"
   ]
  },
  {
   "cell_type": "markdown",
   "metadata": {},
   "source": [
    "Al igual que se ha realizado distintos preprocesados al entrenamiento, hay que realizarlos al conjunto de test para obtener resultados coherentes.\n",
    "\n",
    "No es necesario realizar las tecnicas de muestreo ya que eso son técnicas para balancear nuestro conjunto de entrenamiento. Solamente es necesario realizar la misma estandarización de las características y aplicar la misma reducción de dimensionalidad."
   ]
  },
  {
   "cell_type": "code",
   "execution_count": 712,
   "metadata": {},
   "outputs": [],
   "source": [
    "X_test_scaled = prep.transform(X_test)\n",
    "X_test_pca_full = pca.transform(X_test_scaled)\n",
    "X_test_pca = X_test_pca_full[:, :n_comp]"
   ]
  },
  {
   "cell_type": "markdown",
   "metadata": {
    "jp-MarkdownHeadingCollapsed": true
   },
   "source": [
    "### 6.2.2 Definicion"
   ]
  },
  {
   "cell_type": "markdown",
   "metadata": {},
   "source": [
    "Definimos el modelo básico."
   ]
  },
  {
   "cell_type": "code",
   "execution_count": 713,
   "metadata": {},
   "outputs": [],
   "source": [
    "model_GBC = GradientBoostingClassifier()"
   ]
  },
  {
   "cell_type": "markdown",
   "metadata": {
    "jp-MarkdownHeadingCollapsed": true
   },
   "source": [
    "### 6.2.3 Entrenamiento y evaluacion"
   ]
  },
  {
   "cell_type": "markdown",
   "metadata": {},
   "source": [
    "Entrenamos el modelo y comprobamos su exactitud."
   ]
  },
  {
   "cell_type": "code",
   "execution_count": 714,
   "metadata": {},
   "outputs": [],
   "source": [
    "model_GBC.fit(X_pca, y_resampled)\n",
    "\n",
    "predicted_GBC = model_GBC.predict(X_test_pca)\n",
    "expected_GBC = y_test"
   ]
  },
  {
   "cell_type": "code",
   "execution_count": 715,
   "metadata": {
    "scrolled": true
   },
   "outputs": [
    {
     "data": {
      "text/plain": [
       "0.8002214839424142"
      ]
     },
     "execution_count": 715,
     "metadata": {},
     "output_type": "execute_result"
    }
   ],
   "source": [
    "accuracy_score(expected_GBC, predicted_GBC)"
   ]
  },
  {
   "cell_type": "markdown",
   "metadata": {
    "jp-MarkdownHeadingCollapsed": true
   },
   "source": [
    "### 6.2.4 Null accuracy"
   ]
  },
  {
   "cell_type": "markdown",
   "metadata": {},
   "source": [
    "Ahora se va a evaluar si  el modelo siempre predice la clase más frecuente."
   ]
  },
  {
   "cell_type": "code",
   "execution_count": 716,
   "metadata": {},
   "outputs": [
    {
     "data": {
      "text/plain": [
       "1    3765\n",
       "0     750\n",
       "Name: count, dtype: int64"
      ]
     },
     "execution_count": 716,
     "metadata": {},
     "output_type": "execute_result"
    }
   ],
   "source": [
    "s_y_test = pd.Series(y_test)\n",
    "s_y_test.value_counts()"
   ]
  },
  {
   "cell_type": "code",
   "execution_count": 717,
   "metadata": {},
   "outputs": [
    {
     "data": {
      "text/plain": [
       "0.8338870431893688"
      ]
     },
     "execution_count": 717,
     "metadata": {},
     "output_type": "execute_result"
    }
   ],
   "source": [
    "y_test.mean()"
   ]
  },
  {
   "cell_type": "code",
   "execution_count": 718,
   "metadata": {},
   "outputs": [
    {
     "data": {
      "text/plain": [
       "0.1661129568106312"
      ]
     },
     "execution_count": 718,
     "metadata": {},
     "output_type": "execute_result"
    }
   ],
   "source": [
    "1 - y_test.mean() "
   ]
  },
  {
   "cell_type": "code",
   "execution_count": 719,
   "metadata": {},
   "outputs": [
    {
     "data": {
      "text/plain": [
       "0.8338870431893688"
      ]
     },
     "execution_count": 719,
     "metadata": {},
     "output_type": "execute_result"
    }
   ],
   "source": [
    "max(y_test.mean(), 1 - y_test.mean())"
   ]
  },
  {
   "cell_type": "code",
   "execution_count": 720,
   "metadata": {},
   "outputs": [
    {
     "data": {
      "text/plain": [
       "1    0.833887\n",
       "Name: count, dtype: float64"
      ]
     },
     "execution_count": 720,
     "metadata": {},
     "output_type": "execute_result"
    }
   ],
   "source": [
    "s_y_test.value_counts().head(1) / len(y_test)"
   ]
  },
  {
   "cell_type": "markdown",
   "metadata": {},
   "source": [
    "Nuestra exactitud es de 0.7333, la cual es peor que la *null accuracy*, es decir, ahora mismo no tenemos un buen modelo ya que se predecirían un mayor número de resultados en el caso de siempre predecir la clase mayoritaria."
   ]
  },
  {
   "cell_type": "markdown",
   "metadata": {
    "jp-MarkdownHeadingCollapsed": true
   },
   "source": [
    "### 6.2.5 Matriz de confusion y F-score"
   ]
  },
  {
   "cell_type": "markdown",
   "metadata": {},
   "source": [
    "Se muestra la matriz de confusión y el informe de clasificación."
   ]
  },
  {
   "cell_type": "code",
   "execution_count": 721,
   "metadata": {},
   "outputs": [
    {
     "name": "stdout",
     "output_type": "stream",
     "text": [
      "[[ 307  443]\n",
      " [ 459 3306]]\n"
     ]
    }
   ],
   "source": [
    "print(confusion_matrix(expected_GBC, predicted_GBC))"
   ]
  },
  {
   "cell_type": "code",
   "execution_count": 722,
   "metadata": {},
   "outputs": [
    {
     "name": "stdout",
     "output_type": "stream",
     "text": [
      "              precision    recall  f1-score   support\n",
      "\n",
      "           0       0.40      0.41      0.41       750\n",
      "           1       0.88      0.88      0.88      3765\n",
      "\n",
      "    accuracy                           0.80      4515\n",
      "   macro avg       0.64      0.64      0.64      4515\n",
      "weighted avg       0.80      0.80      0.80      4515\n",
      "\n"
     ]
    }
   ],
   "source": [
    "print(classification_report(expected_GBC, predicted_GBC))"
   ]
  },
  {
   "cell_type": "markdown",
   "metadata": {},
   "source": [
    "Se observa lo que hemos estado comentando durante todo el documento, tenemos un f1-score del 0.78 para los 1s mientras que estamos obteniendo un 0.39 para los 0s"
   ]
  },
  {
   "cell_type": "markdown",
   "metadata": {
    "jp-MarkdownHeadingCollapsed": true
   },
   "source": [
    "### 6.2.6 - ROC y AUC"
   ]
  },
  {
   "cell_type": "markdown",
   "metadata": {},
   "source": [
    "Evaluamos la ROC-AUC score. Para ello representamos primero la curva de ROC."
   ]
  },
  {
   "cell_type": "code",
   "execution_count": 723,
   "metadata": {},
   "outputs": [
    {
     "data": {
      "image/png": "[encoded data removed]",
      "text/plain": [
       "<Figure size 640x480 with 1 Axes>"
      ]
     },
     "metadata": {},
     "output_type": "display_data"
    }
   ],
   "source": [
    "y_pred_prob_GBC = model_GBC.predict_proba(X_test_pca)[:,1]\n",
    "fpr, tpr, thresholds = roc_curve(y_test, y_pred_prob_GBC)\n",
    "plt.plot(fpr, tpr)\n",
    "plt.xlim([0.0, 1.0])\n",
    "plt.ylim([0.0, 1.0])\n",
    "plt.title('Curva ROC')\n",
    "plt.xlabel('Ratio de FP (1 - Recall)')\n",
    "plt.ylabel('Ratio TP (Sensitivity)')\n",
    "plt.grid(True)\n",
    "plt.show()"
   ]
  },
  {
   "cell_type": "markdown",
   "metadata": {},
   "source": [
    "Y mostramos sus thresholds."
   ]
  },
  {
   "cell_type": "code",
   "execution_count": 724,
   "metadata": {},
   "outputs": [
    {
     "data": {
      "text/plain": [
       "array([       inf, 0.96770026, 0.95024672, ..., 0.20021567, 0.19498293,\n",
       "       0.09737302])"
      ]
     },
     "execution_count": 724,
     "metadata": {},
     "output_type": "execute_result"
    }
   ],
   "source": [
    "thresholds"
   ]
  },
  {
   "cell_type": "markdown",
   "metadata": {},
   "source": [
    "La siguiente gráfica muestra las probabilidades de predicción en función de los umbrales."
   ]
  },
  {
   "cell_type": "code",
   "execution_count": 725,
   "metadata": {},
   "outputs": [
    {
     "data": {
      "text/plain": [
       "array([<Axes: title={'center': '0'}>, <Axes: title={'center': '1'}>],\n",
       "      dtype=object)"
      ]
     },
     "execution_count": 725,
     "metadata": {},
     "output_type": "execute_result"
    },
    {
     "data": {
      "image/png": "[encoded data removed]",
      "text/plain": [
       "<Figure size 640x480 with 2 Axes>"
      ]
     },
     "metadata": {},
     "output_type": "display_data"
    }
   ],
   "source": [
    "dprob = pd.DataFrame(data = {'probability':y_pred_prob_GBC, 'actual':y_test})\n",
    "dprob.probability.hist(by=dprob.actual, sharex=True, sharey=True)"
   ]
  },
  {
   "cell_type": "markdown",
   "metadata": {},
   "source": [
    "Se muestra que los mejores resultados para ambas clases se obtiene con el *threshold* igual a 0.4."
   ]
  },
  {
   "cell_type": "code",
   "execution_count": 726,
   "metadata": {},
   "outputs": [
    {
     "name": "stdout",
     "output_type": "stream",
     "text": [
      "Sensitivity: 0.9410358565737051\n",
      "Recall: 0.2586666666666667\n"
     ]
    }
   ],
   "source": [
    "best_thres_GBC = 0.4\n",
    "\n",
    "evaluate_threshold(best_thres_GBC)"
   ]
  },
  {
   "cell_type": "markdown",
   "metadata": {},
   "source": [
    "Con este valor se obtienen los siguientes resultados. Primero se recalculan las predicciones."
   ]
  },
  {
   "cell_type": "code",
   "execution_count": 727,
   "metadata": {},
   "outputs": [],
   "source": [
    "probs_GBC = model_GBC.predict_proba(X_test_pca)[:, 1]  \n",
    "pred_thres_GBC = (probs_GBC >= best_thres_GBC).astype(int) "
   ]
  },
  {
   "cell_type": "markdown",
   "metadata": {},
   "source": [
    "Se evalua la matriz de confusión."
   ]
  },
  {
   "cell_type": "code",
   "execution_count": 728,
   "metadata": {},
   "outputs": [
    {
     "name": "stdout",
     "output_type": "stream",
     "text": [
      "[[ 194  556]\n",
      " [ 222 3543]]\n"
     ]
    }
   ],
   "source": [
    "print(confusion_matrix(expected_GBC, pred_thres_GBC))"
   ]
  },
  {
   "cell_type": "markdown",
   "metadata": {},
   "source": [
    "Y también se analiza el informe de la clasificación."
   ]
  },
  {
   "cell_type": "code",
   "execution_count": 729,
   "metadata": {},
   "outputs": [
    {
     "name": "stdout",
     "output_type": "stream",
     "text": [
      "              precision    recall  f1-score   support\n",
      "\n",
      "           0       0.47      0.26      0.33       750\n",
      "           1       0.86      0.94      0.90      3765\n",
      "\n",
      "    accuracy                           0.83      4515\n",
      "   macro avg       0.67      0.60      0.62      4515\n",
      "weighted avg       0.80      0.83      0.81      4515\n",
      "\n"
     ]
    }
   ],
   "source": [
    "print(classification_report(expected_GBC, pred_thres_GBC))"
   ]
  },
  {
   "cell_type": "markdown",
   "metadata": {},
   "source": [
    "Como se puede observar se obtiene una mejora significante en accuracy y f1-score en 1 a cambio de perder f1-score en 0s"
   ]
  },
  {
   "cell_type": "markdown",
   "metadata": {},
   "source": [
    "Finalmente se calcula el valor de AUC."
   ]
  },
  {
   "cell_type": "code",
   "execution_count": 730,
   "metadata": {},
   "outputs": [
    {
     "name": "stdout",
     "output_type": "stream",
     "text": [
      "0.643710491367862\n"
     ]
    }
   ],
   "source": [
    "print(roc_auc_score(expected_GBC, predicted_GBC))"
   ]
  },
  {
   "cell_type": "markdown",
   "metadata": {},
   "source": [
    "Se ha obtenido un valor entre 0.6 y 0.7, es decir, el modelo se considerá como pobre o *D*."
   ]
  },
  {
   "cell_type": "markdown",
   "metadata": {
    "jp-MarkdownHeadingCollapsed": true
   },
   "source": [
    "### 6.2.7 - Optimizacion"
   ]
  },
  {
   "cell_type": "markdown",
   "metadata": {},
   "source": [
    "Antes de nada, observamos cuales son los parámetros de nuestro modelo."
   ]
  },
  {
   "cell_type": "code",
   "execution_count": 731,
   "metadata": {},
   "outputs": [
    {
     "data": {
      "text/plain": [
       "{'ccp_alpha': 0.0,\n",
       " 'criterion': 'friedman_mse',\n",
       " 'init': None,\n",
       " 'learning_rate': 0.1,\n",
       " 'loss': 'log_loss',\n",
       " 'max_depth': 3,\n",
       " 'max_features': None,\n",
       " 'max_leaf_nodes': None,\n",
       " 'min_impurity_decrease': 0.0,\n",
       " 'min_samples_leaf': 1,\n",
       " 'min_samples_split': 2,\n",
       " 'min_weight_fraction_leaf': 0.0,\n",
       " 'n_estimators': 100,\n",
       " 'n_iter_no_change': None,\n",
       " 'random_state': None,\n",
       " 'subsample': 1.0,\n",
       " 'tol': 0.0001,\n",
       " 'validation_fraction': 0.1,\n",
       " 'verbose': 0,\n",
       " 'warm_start': False}"
      ]
     },
     "execution_count": 731,
     "metadata": {},
     "output_type": "execute_result"
    }
   ],
   "source": [
    "model_GBC.get_params()"
   ]
  },
  {
   "cell_type": "markdown",
   "metadata": {},
   "source": [
    "Ahora seleccionamos los parametros a evaluar mediante un GridSearchCV. Como se evalua mediante un *cross validation*, siempre escogeremos los casos 3 o 4 de preprocesado para falsear menos los datos.\n",
    "\n",
    "Estos son los parámetros más importantes:\n",
    "\n",
    "learning_rate: Controla la contribución de cada árbol para evitar sobreajuste.\n",
    "\n",
    "n_estimators: Número de árboles en el modelo, afectando la capacidad de aprendizaje.\n",
    "\n",
    "max_depth: Profundidad máxima de los árboles, evitando sobreajuste o subajuste.\n",
    "\n",
    "min_samples_split: Mínimo de muestras necesarias para dividir un nodo, regulando la complejidad.\n",
    "\n",
    "min_samples_leaf: Mínimo de muestras en una hoja para evitar divisiones insignificantes.\n",
    "\n",
    "subsample: Proporción de datos usados en cada iteración, reduciendo varianza.\n",
    "\n",
    "loss: Función de pérdida optimizada (ej. log_loss para clasificación)."
   ]
  },
  {
   "cell_type": "raw",
   "metadata": {
    "vscode": {
     "languageId": "raw"
    }
   },
   "source": [
    "#from sklearn.model_selection import GridSearchCV\n",
    "#from sklearn.ensemble import GradientBoostingClassifier\n",
    "#from sklearn.metrics import make_scorer, f1_score, accuracy_score, recall_score\n",
    "#import pandas as pd\n",
    "\n",
    "# Definir los hiperparámetros a probar\n",
    "#param_grid = {\n",
    "    'criterion' : ['friedman_mse', 'squared_error' ],\n",
    "    'n_estimators': [50, 100],  # Número de árboles\n",
    "    'max_depth': [3],  # Profundidad máxima del árbol\n",
    "    'subsample': [0.8, 1.0],  # Submuestreo para reducir overfitting\n",
    "    'min_samples_split': [2],  # Mínimo de muestras para dividir un nodo\n",
    "    'min_samples_leaf': [1],  # Mínimo de muestras en una hoja\n",
    "    'max_features': ['auto', 'sqrt', 'log2', None],  # Diferentes opciones para max_features\n",
    "    'min_impurity_decrease': [0.0, 0.01, 0.1],  # Control de impurezas para divisiones\n",
    "    'ccp_alpha': [0.0, 0.01, 0.1],  # Poda de árboles\n",
    "    'validation_fraction': [0.1, 0.2],  # Fracción para validación en entrenamiento\n",
    "    'n_iter_no_change': [None, 10, 20],  # Iteraciones sin cambio antes de detenerse\n",
    "}\n",
    "\n",
    "## Definir los métodos de evaluación con average='weighted'\n",
    "#scorers = {\n",
    "    'f1': make_scorer(f1_score, average='weighted'),\n",
    "    'accuracy': make_scorer(accuracy_score),\n",
    "    'recall': make_scorer(recall_score, average='weighted', zero_division=0)\n",
    "}\n",
    "\n",
    "# Aplicar GridSearchCV\n",
    "#grid_search_GB = GridSearchCV(\n",
    "    GradientBoostingClassifier(),\n",
    "    param_grid,\n",
    "    cv=5,\n",
    "    n_jobs=-1,\n",
    "    scoring=scorers,\n",
    "    refit='f1',  # Optimiza según F1-score\n",
    "    verbose=1\n",
    ")\n",
    "\n",
    "#grid_search_GB.fit(X_pca, y_resampled)\n",
    "\n",
    "# Mostrar los mejores parámetros encontrados\n",
    "#print(\"Mejores parámetros encontrados:\", grid_search_GB.best_params_)\n",
    "\n",
    "# Convertir los resultados en un DataFrame\n",
    "#results = pd.DataFrame(grid_search_GB.cv_results_)\n",
    "\n",
    "# Ordenar por cada métrica y mostrar los 5 mejores modelos\n",
    "#for metric in ['mean_test_f1', 'mean_test_accuracy', 'mean_test_recall']:\n",
    "    print(f\"\\nTop 5 modelos según {metric}:\")\n",
    "    sorted_results = results.sort_values(by=metric, ascending=False)\n",
    "\n",
    "    #for mean_score, std_score, params in zip(\n",
    "        sorted_results[metric].head(5),\n",
    "        sorted_results[f\"std_test_{metric.split('_')[-1]}\"].head(5),\n",
    "        sorted_results[\"params\"].head(5)\n",
    "    ):\n",
    "        print(f\"{mean_score:.3f} (+/-{std_score * 2:.3f}) para {params}\")\n"
   ]
  },
  {
   "cell_type": "markdown",
   "metadata": {
    "jp-MarkdownHeadingCollapsed": true
   },
   "source": [
    "### 6.2.8 Entramiento y evaluacion con hiperparametros optimizados"
   ]
  },
  {
   "cell_type": "markdown",
   "metadata": {
    "jp-MarkdownHeadingCollapsed": true
   },
   "source": [
    "#### - Definicion"
   ]
  },
  {
   "cell_type": "markdown",
   "metadata": {},
   "source": [
    "Definimos los mejores parámetros (no se define con *grid_search.best_params_* para probar varias opciones de forma sencilla)."
   ]
  },
  {
   "cell_type": "markdown",
   "metadata": {},
   "source": [
    "Definimos el modelo desagregando el diccionario."
   ]
  },
  {
   "cell_type": "code",
   "execution_count": 732,
   "metadata": {},
   "outputs": [],
   "source": [
    "final_GBC = GradientBoostingClassifier(\n",
    "    ccp_alpha=0.0,                        \n",
    "    criterion='friedman_mse',              \n",
    "    max_depth=3,                           \n",
    "    max_features=None,                     \n",
    "    min_impurity_decrease=0.01,          \n",
    "    min_samples_leaf=1,                   \n",
    "    min_samples_split=2,                     \n",
    "    n_estimators=100,                       \n",
    "    n_iter_no_change=None,                 \n",
    "    subsample=0.8,                          \n",
    "    validation_fraction=0.2,                \n",
    "    random_state=42                         \n",
    ")"
   ]
  },
  {
   "cell_type": "markdown",
   "metadata": {
    "jp-MarkdownHeadingCollapsed": true
   },
   "source": [
    "#### - Entrenamiento y evaluacion"
   ]
  },
  {
   "cell_type": "markdown",
   "metadata": {},
   "source": [
    "Entrenamos el modelo y comprobamos su exactitud."
   ]
  },
  {
   "cell_type": "code",
   "execution_count": 733,
   "metadata": {},
   "outputs": [],
   "source": [
    "final_GBC.fit(X_pca, y_resampled)\n",
    "\n",
    "predicted_For_opt = final_GBC.predict(X_test_pca)\n",
    "expected_For_opt = y_test"
   ]
  },
  {
   "cell_type": "code",
   "execution_count": 734,
   "metadata": {},
   "outputs": [
    {
     "data": {
      "text/plain": [
       "0.8028792912513842"
      ]
     },
     "execution_count": 734,
     "metadata": {},
     "output_type": "execute_result"
    }
   ],
   "source": [
    "accuracy_score(expected_For_opt, predicted_For_opt)"
   ]
  },
  {
   "cell_type": "markdown",
   "metadata": {
    "jp-MarkdownHeadingCollapsed": true
   },
   "source": [
    "#### - Matriz de confusion y F-score"
   ]
  },
  {
   "cell_type": "markdown",
   "metadata": {},
   "source": [
    "La matriz de confusión y el informe de clasificación también es muy similar."
   ]
  },
  {
   "cell_type": "code",
   "execution_count": 735,
   "metadata": {},
   "outputs": [
    {
     "name": "stdout",
     "output_type": "stream",
     "text": [
      "[[ 308  442]\n",
      " [ 448 3317]]\n"
     ]
    }
   ],
   "source": [
    "print(confusion_matrix(expected_For_opt, predicted_For_opt))"
   ]
  },
  {
   "cell_type": "code",
   "execution_count": 736,
   "metadata": {},
   "outputs": [
    {
     "name": "stdout",
     "output_type": "stream",
     "text": [
      "              precision    recall  f1-score   support\n",
      "\n",
      "           0       0.41      0.41      0.41       750\n",
      "           1       0.88      0.88      0.88      3765\n",
      "\n",
      "    accuracy                           0.80      4515\n",
      "   macro avg       0.64      0.65      0.65      4515\n",
      "weighted avg       0.80      0.80      0.80      4515\n",
      "\n"
     ]
    }
   ],
   "source": [
    "print(classification_report(expected_For_opt, predicted_For_opt))"
   ]
  },
  {
   "cell_type": "markdown",
   "metadata": {
    "jp-MarkdownHeadingCollapsed": true
   },
   "source": [
    "### 6.2.9 Conclusiones"
   ]
  },
  {
   "cell_type": "markdown",
   "metadata": {},
   "source": [
    "A continuación se muestra los resultados de los modelos optimizados y sin optimizar. Cabe recalcar que se probaron otros cuatro conjuntos de hiperparámetros para la mayoria de los casos de preprocesado, pero se acabó considerando absurdo porque mejoraba o empeoraba 0.01 en diversos valores."
   ]
  },
  {
   "cell_type": "markdown",
   "metadata": {},
   "source": [
    "Caso 1 : \n",
    "\n",
    "              precision    recall  f1-score   support\n",
    "\n",
    "           0       0.31      0.65      0.42       750\n",
    "           1       0.91      0.71      0.80      3765\n",
    "\n",
    "    accuracy                           0.70      4515\n",
    "\n",
    "Caso 2 : \n",
    "\n",
    "              precision    recall  f1-score   support\n",
    "\n",
    "           0       0.32      0.66      0.43       750\n",
    "           1       0.91      0.71      0.80      3765\n",
    "\n",
    "    accuracy                           0.71      4515\n",
    "\n",
    "Caso 3 : \n",
    "\n",
    "              precision    recall  f1-score   support\n",
    "\n",
    "           0       0.34      0.64      0.44       750\n",
    "           1       0.91      0.75      0.82      3765\n",
    "\n",
    "    accuracy                           0.73      4515\n",
    "\n",
    "Caso 4 : \n",
    "\n",
    "              precision    recall  f1-score   support\n",
    "\n",
    "           0       0.34      0.62      0.44       750\n",
    "           1       0.91      0.76      0.83      3765\n",
    "\n",
    "    accuracy                           0.73      4515\n",
    "\n",
    "Caso 5 : \n",
    "\n",
    "              precision    recall  f1-score   support\n",
    "\n",
    "           0       0.39      0.38      0.39       750\n",
    "           1       0.88      0.88      0.88      3765\n",
    "\n",
    "    accuracy                           0.80      4515\n",
    "\n",
    "Caso 6 : \n",
    "\n",
    "              precision    recall  f1-score   support\n",
    "\n",
    "           0       0.41      0.41      0.41       750\n",
    "           1       0.88      0.88      0.88      3765\n",
    "\n",
    "    accuracy                           0.80      4515    "
   ]
  },
  {
   "cell_type": "markdown",
   "metadata": {},
   "source": [
    "En nuestro caso el mejor caso es el 6 o el 4 si nos fijamos en el f1 score de lso 0s."
   ]
  },
  {
   "cell_type": "markdown",
   "metadata": {},
   "source": [
    "# 7. Exportar CSV"
   ]
  },
  {
   "cell_type": "markdown",
   "metadata": {
    "jp-MarkdownHeadingCollapsed": true
   },
   "source": [
    "## 7.1 Clasificador GBC"
   ]
  },
  {
   "cell_type": "markdown",
   "metadata": {
    "jp-MarkdownHeadingCollapsed": true
   },
   "source": [
    "### 7.1.1 Seleccion del caso de preprocesado"
   ]
  },
  {
   "cell_type": "markdown",
   "metadata": {},
   "source": [
    "Seleccion del caso de preprocesado."
   ]
  },
  {
   "cell_type": "code",
   "execution_count": 737,
   "metadata": {},
   "outputs": [],
   "source": [
    "# case - caso de preprocesado seleccionado, valores posibles: 1, 2, 3, 4, 5, 6\n",
    "case = 4"
   ]
  },
  {
   "cell_type": "markdown",
   "metadata": {},
   "source": [
    "Hiperparametros base para cada caso."
   ]
  },
  {
   "cell_type": "code",
   "execution_count": 738,
   "metadata": {},
   "outputs": [],
   "source": [
    "if case in {1, 2}:\n",
    "    strategy_under = 0\n",
    "    strategy_over = 1\n",
    "    neighbors = 5\n",
    "    \n",
    "elif case in {3, 4}:\n",
    "    strategy_under = 0.9\n",
    "    strategy_over = 0\n",
    "    neighbors = 0\n",
    "    \n",
    "elif case in {5, 6}:\n",
    "    strategy_under = 0.25\n",
    "    strategy_over = 0.5\n",
    "    neighbors = 5"
   ]
  },
  {
   "cell_type": "markdown",
   "metadata": {},
   "source": [
    "Se estandarizan los datos en función del caso."
   ]
  },
  {
   "cell_type": "code",
   "execution_count": 739,
   "metadata": {},
   "outputs": [],
   "source": [
    "X_scaled_final, prep_final = standard_data(case, X_train_final)"
   ]
  },
  {
   "cell_type": "markdown",
   "metadata": {},
   "source": [
    "Se muestrean los datos en función del caso."
   ]
  },
  {
   "cell_type": "code",
   "execution_count": 740,
   "metadata": {},
   "outputs": [],
   "source": [
    "X_resampled_final, y_resampled_final = resample_data(case, X_scaled_final, y_train_final, strategy_under, strategy_over, neighbors)"
   ]
  },
  {
   "cell_type": "markdown",
   "metadata": {},
   "source": [
    "Se reducen las dimensionalidades mediante un *PCA*."
   ]
  },
  {
   "cell_type": "code",
   "execution_count": 741,
   "metadata": {},
   "outputs": [],
   "source": [
    "pca_final = PCA()\n",
    "X_pca_full_final = pca_final.fit_transform(X_resampled_final)\n",
    "\n",
    "cumulative_variance_ratio_final = np.cumsum(pca_final.explained_variance_ratio_)\n",
    "n_comp_final = np.argmax(cumulative_variance_ratio_final >= 0.95) + 1\n",
    "X_pca_final = X_pca_full_final[:, :n_comp_final]"
   ]
  },
  {
   "cell_type": "markdown",
   "metadata": {},
   "source": [
    "Se preprocesa el conjunto de test."
   ]
  },
  {
   "cell_type": "code",
   "execution_count": 742,
   "metadata": {},
   "outputs": [],
   "source": [
    "X_test_scaled_final = prep_final.transform(X_test_final)\n",
    "X_test_pca_full_final = pca_final.transform(X_test_scaled_final)\n",
    "X_test_pca_final = X_test_pca_full_final[:, :n_comp_final]"
   ]
  },
  {
   "cell_type": "markdown",
   "metadata": {
    "jp-MarkdownHeadingCollapsed": true
   },
   "source": [
    "### 7.1.2 Entrenamiento y exportacion de las predicciones"
   ]
  },
  {
   "cell_type": "markdown",
   "metadata": {},
   "source": [
    "Se entrena con los nuevos valores de train y test, y se modifica el umbral de probabilidades. En un principio, el valor del umbral era el de la variable *op_thres_Random*, pero se decidió finalmente que el valor del umbral fueran valores numéricos para que fuera más sencillo hacer diversas pruebas en Kaggle."
   ]
  },
  {
   "cell_type": "code",
   "execution_count": null,
   "metadata": {},
   "outputs": [],
   "source": [
    "final_GBC.fit(X_pca_final, y_resampled_final)\n",
    "\n",
    "probs_For_opt = final_GBC.predict_proba(X_test_pca_final)[:, 1]  \n",
    "pred_thres_For_opt = (probs_For_opt >= 0.5).astype(int) "
   ]
  },
  {
   "cell_type": "markdown",
   "metadata": {},
   "source": [
    "Se crea un *dataframe* con las predicciones obtenidas con su correspondiente *id*."
   ]
  },
  {
   "cell_type": "code",
   "execution_count": 744,
   "metadata": {},
   "outputs": [],
   "source": [
    "df_accept_KNN = pd.DataFrame(pred_thres_For_opt, columns=['Accept'])"
   ]
  },
  {
   "cell_type": "code",
   "execution_count": 745,
   "metadata": {},
   "outputs": [],
   "source": [
    "df_id = df_test['id'].reset_index(drop=True)"
   ]
  },
  {
   "cell_type": "code",
   "execution_count": 746,
   "metadata": {},
   "outputs": [],
   "source": [
    "df_final_KNN = pd.concat([df_id, df_accept_KNN], axis=1)"
   ]
  },
  {
   "cell_type": "markdown",
   "metadata": {},
   "source": [
    "Mostramos los resultados obtenidos para tener una idea de la proporción de 1s y 0s de Kaggle."
   ]
  },
  {
   "cell_type": "code",
   "execution_count": 747,
   "metadata": {},
   "outputs": [
    {
     "data": {
      "text/plain": [
       "Accept\n",
       "0    1998\n",
       "1    1286\n",
       "Name: count, dtype: int64"
      ]
     },
     "execution_count": 747,
     "metadata": {},
     "output_type": "execute_result"
    }
   ],
   "source": [
    "df_final_KNN['Accept'].value_counts()"
   ]
  },
  {
   "cell_type": "markdown",
   "metadata": {},
   "source": [
    "Se transforma el *dataframe* a un archivo *CSV*."
   ]
  },
  {
   "cell_type": "code",
   "execution_count": 748,
   "metadata": {},
   "outputs": [],
   "source": [
    "df_final_KNN.to_csv('./gbc.csv', index=False)"
   ]
  }
 ],
 "metadata": {
  "kernelspec": {
   "display_name": "base",
   "language": "python",
   "name": "python3"
  },
  "language_info": {
   "codemirror_mode": {
    "name": "ipython",
    "version": 3
   },
   "file_extension": ".py",
   "mimetype": "text/x-python",
   "name": "python",
   "nbconvert_exporter": "python",
   "pygments_lexer": "ipython3",
   "version": "3.12.7"
  }
 },
 "nbformat": 4,
 "nbformat_minor": 4
}
